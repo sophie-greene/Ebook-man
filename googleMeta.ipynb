{
 "cells": [
  {
   "cell_type": "code",
   "execution_count": 7,
   "metadata": {
    "collapsed": false
   },
   "outputs": [],
   "source": [
    "import json\n",
    "import urllib2\n",
    "import urllib\n",
    "import xmltodict\n",
    "import isbntools\n",
    "import os\n",
    "import string\n",
    "from ebooklib import epub \n",
    "from  comFunc import *\n",
    "from multiprocessing import Pool\n",
    "import time\n",
    "import re\n",
    "import functools"
   ]
  },
  {
   "cell_type": "code",
   "execution_count": 8,
   "metadata": {
    "collapsed": false
   },
   "outputs": [],
   "source": [
    "key=''.join(open(\"key\").read().split('\\n'))"
   ]
  },
  {
   "cell_type": "code",
   "execution_count": 9,
   "metadata": {
    "collapsed": false
   },
   "outputs": [
    {
     "data": {
      "text/plain": [
       "4584"
      ]
     },
     "execution_count": 9,
     "metadata": {},
     "output_type": "execute_result"
    }
   ],
   "source": [
    "d=\"/media/some/sophie-hhd/transmitt/fic/#Calibre Fiction\"\n",
    "files=! find \"$d\" -type f -iname \"*.epub\"\n",
    "len(files)"
   ]
  },
  {
   "cell_type": "code",
   "execution_count": 11,
   "metadata": {
    "collapsed": false
   },
   "outputs": [],
   "source": [
    "#using isbntools\n",
    "def getIMeta(query):\n",
    "    \n",
    "    print query\n",
    "    isbn = app.isbn_from_words(query)    \n",
    "    \n",
    "        \n",
    "    if isbn != None:\n",
    "        meta=isbntools.app.meta(isbn)\n",
    "        author=str(meta['Authors'][0])\n",
    "        title=str(meta['Title'])\n",
    "        fileName = author+\" - \"+title\n",
    "        return [fileName,meta]\n",
    "    else:\n",
    "        return \"Query Failed\"\n",
    "\n",
    "def getFileIMeta(f):\n",
    "    fp,fn=os.path.split(f)\n",
    "    #print(f,fp[fp.rindex('/')+1:])\n",
    "    #qr=''.join(m for m in fp[fp.rindex('/')+1:] if m in string.ascii_letters+\" \")\n",
    "    #qr=' '.join(q for q in qr.split() if len(q)>3)\n",
    "    #tm=qr.split()\n",
    "    #qrr=' '.join(tm[:2]+tm[-2:])\n",
    "    tmp= fn[:-5].split(\" - \")\n",
    "    qr=' '.join(tmp[:-1])+\" by \"+tmp[-1]\n",
    "    print qr\n",
    "    return [fn[:-5],getMeta(qr)]"
   ]
  },
  {
   "cell_type": "code",
   "execution_count": 12,
   "metadata": {
    "collapsed": false
   },
   "outputs": [
    {
     "ename": "NameError",
     "evalue": "name 'getFileMeta' is not defined",
     "output_type": "error",
     "traceback": [
      "\u001b[1;31m---------------------------------------------------------------------------\u001b[0m",
      "\u001b[1;31mNameError\u001b[0m                                 Traceback (most recent call last)",
      "\u001b[1;32m<ipython-input-12-5213a9deeac7>\u001b[0m in \u001b[0;36m<module>\u001b[1;34m()\u001b[0m\n\u001b[1;32m----> 1\u001b[1;33m \u001b[0mgetFileMeta\u001b[0m\u001b[1;33m(\u001b[0m\u001b[0mfiles\u001b[0m\u001b[1;33m[\u001b[0m\u001b[1;33m-\u001b[0m\u001b[1;36m1\u001b[0m\u001b[1;33m]\u001b[0m\u001b[1;33m)\u001b[0m\u001b[1;33m\u001b[0m\u001b[0m\n\u001b[0m",
      "\u001b[1;31mNameError\u001b[0m: name 'getFileMeta' is not defined"
     ]
    }
   ],
   "source": [
    "getFileMeta(files[-1])"
   ]
  },
  {
   "cell_type": "code",
   "execution_count": null,
   "metadata": {
    "collapsed": false,
    "scrolled": true
   },
   "outputs": [],
   "source": [
    "titles={}#load_obj('data/titlesIm')#{}\n",
    "keys=[]#load_obj('data/titleskeysIm')#[]\n",
    "t0 = time.time()\n",
    "p = Pool(10)\n",
    "books=p.map(\n",
    "    functools.partial(getFileMeta,key=key,path=\"/home/some/covers/\"), \n",
    "            list(filter(lambda x: x[:-5] not in keys, files[0:20]))\n",
    ")\n",
    "#p.join()\n",
    "p.terminate()\n",
    "p.close()\n",
    "\n",
    "\n",
    "for book in books:\n",
    "    try:\n",
    "        if book[0] not in keys:\n",
    "            titles[book[0]]=[book[1],book[2]]\n",
    "    except:\n",
    "        print(type(book))\n",
    "\n",
    "save_obj(titles, 'data/tagsIm')\n",
    "keys=keys+list(titles.keys())\n",
    "save_obj(keys,'data/titleskeysIm')\n",
    "t1=time.time()\n",
    "total = t1-t0\n",
    "print('time: ',total)"
   ]
  },
  {
   "cell_type": "code",
   "execution_count": null,
   "metadata": {
    "collapsed": false
   },
   "outputs": [],
   "source": [
    "\n",
    "#urlstring=\"https://www.goodreads.com/book/isbn/\"+isbn+\"?key=\"+key\n",
    "urlstring=\"https://www.goodreads.com/search/index.xml?key=\"+key+\"&q=\"+query.replace(\" \",\"+\")\n",
    "print urlstring\n",
    "url=urllib2.urlopen(urlstring)\n",
    "url"
   ]
  },
  {
   "cell_type": "code",
   "execution_count": 29,
   "metadata": {
    "collapsed": false
   },
   "outputs": [
    {
     "data": {
      "text/plain": [
       "'<?xml version=\"1.0\" encoding=\"UTF-8\"?>\\n<GoodreadsResponse>\\n  <Request>\\n    <authentication>true</authentication>\\n      <key><![CDATA[nXDOLuXC1fR2t3N43Gxng]]></key>\\n    <method><![CDATA[search_index]]></method>\\n  </Request>\\n  <search>\\n  <query><![CDATA[The Sicilian Bought Bride by Carol Marinelli]]></query>\\n    <results-start>1</results-start>\\n    <results-end>2</results-end>\\n    <total-results>2</total-results>\\n    <source>Goodreads</source>\\n    <query-time-seconds>0.15</query-time-seconds>\\n    <results>\\n        <work>\\n  <id type=\"integer\">7459141</id>\\n  <books_count type=\"integer\">17</books_count>\\n  <ratings_count type=\"integer\">68</ratings_count>\\n  <text_reviews_count type=\"integer\">3</text_reviews_count>\\n  <original_publication_year type=\"integer\">2004</original_publication_year>\\n  <original_publication_month type=\"integer\" nil=\"true\"/>\\n  <original_publication_day type=\"integer\" nil=\"true\"/>\\n  <average_rating>3.34</average_rating>\\n  <best_book type=\"Book\">\\n    <id type=\"integer\">7158776</id>\\n    <title>The Sicilian\\'s Bought Bride</title>\\n    <author>\\n      <id type=\"integer\">4990</id>\\n      <name>Carol Marinelli</name>\\n    </author>\\n    <image_url>https://d.gr-assets.com/books/1266525762m/7158776.jpg</image_url>\\n    <small_image_url>https://d.gr-assets.com/books/1266525762s/7158776.jpg</small_image_url>\\n  </best_book>\\n</work>\\n\\n        <work>\\n  <id type=\"integer\">15991009</id>\\n  <books_count type=\"integer\">3</books_count>\\n  <ratings_count type=\"integer\">5</ratings_count>\\n  <text_reviews_count type=\"integer\">1</text_reviews_count>\\n  <original_publication_year type=\"integer\">2010</original_publication_year>\\n  <original_publication_month type=\"integer\">10</original_publication_month>\\n  <original_publication_day type=\"integer\">1</original_publication_day>\\n  <average_rating>3.40</average_rating>\\n  <best_book type=\"Book\">\\n    <id type=\"integer\">21297149</id>\\n    <title>Tall, Dark and Italian (Mills &amp; Boon By Request): In the Italian\\'s Bed / The Sicilian\\'s Bought Bride / The Moretti Marriage</title>\\n    <author>\\n      <id type=\"integer\">654</id>\\n      <name>Anne Mather</name>\\n    </author>\\n    <image_url>https://s.gr-assets.com/assets/nophoto/book/111x148-bcc042a9c91a29c1d680899eff700a03.png</image_url>\\n    <small_image_url>https://s.gr-assets.com/assets/nophoto/book/50x75-a91bf249278a81aabab721ef782c4a74.png</small_image_url>\\n  </best_book>\\n</work>\\n\\n    </results>\\n</search>\\n\\n</GoodreadsResponse>'"
      ]
     },
     "execution_count": 29,
     "metadata": {},
     "output_type": "execute_result"
    }
   ],
   "source": [
    "data=url.read()\n",
    "data"
   ]
  },
  {
   "cell_type": "code",
   "execution_count": 30,
   "metadata": {
    "collapsed": false
   },
   "outputs": [],
   "source": [
    "\n",
    "data1=xmltodict.parse(data)\n"
   ]
  },
  {
   "cell_type": "code",
   "execution_count": 64,
   "metadata": {
    "collapsed": false,
    "scrolled": true
   },
   "outputs": [
    {
     "data": {
      "text/plain": [
       "u'Carol Marinelli'"
      ]
     },
     "execution_count": 64,
     "metadata": {},
     "output_type": "execute_result"
    }
   ],
   "source": [
    "#meta=data1[u'GoodreadsResponse'][u'book']\n",
    "meta=data1[u'GoodreadsResponse'][u'search'][u'results'][u'work'][0][u'best_book']\n",
    "meta[u'author'][u'name']"
   ]
  },
  {
   "cell_type": "code",
   "execution_count": 67,
   "metadata": {
    "collapsed": false
   },
   "outputs": [],
   "source": [
    "img=str(meta[u'image_url'])\n",
    "title=str(meta[u'title'])\n",
    "author=str(meta[u'author'][u'name'])"
   ]
  },
  {
   "cell_type": "code",
   "execution_count": 68,
   "metadata": {
    "collapsed": false
   },
   "outputs": [
    {
     "data": {
      "text/plain": [
       "(\"Carol Marinelli - The Sicilian's Bought Bride.jpg\",\n",
       " <httplib.HTTPMessage instance at 0x7f4b6d2b02d8>)"
      ]
     },
     "execution_count": 68,
     "metadata": {},
     "output_type": "execute_result"
    }
   ],
   "source": [
    "urllib.urlretrieve(img,author+\" - \"+title+\".jpg\")"
   ]
  },
  {
   "cell_type": "code",
   "execution_count": 85,
   "metadata": {
    "collapsed": false
   },
   "outputs": [],
   "source": [
    "#query contains book name and author\n",
    "# key is the goodread API key\n",
    "#path is location where the cover image shall be stored\n",
    "def getMeta(query,key,path):\n",
    "    urlstring=\"https://www.goodreads.com/search/index.xml?key=\"+key+\"&q=\"+query.replace(\" \",\"+\")\n",
    "    print urlstring\n",
    "    try:\n",
    "        url=urllib2.urlopen(urlstring)\n",
    "        data=xmltodict.parse(url.read())\n",
    "        if len(data)>0:\n",
    "            meta=data[u'GoodreadsResponse'][u'search'][u'results'][u'work'][0][u'best_book']\n",
    "            dictt={}\n",
    "            dictt['title']=str(meta[u'title'])\n",
    "            dictt['author']=str(meta[u'author'][u'name'])\n",
    "            fileName=dictt['author']+\" - \"+dictt['title']\n",
    "            dictt['image']=path+dictt['author']+\" - \"+dictt['title']+\".jpg\"\n",
    "            img=str(meta[u'image_url'])\n",
    "            urllib.urlretrieve(img,dictt['image'])\n",
    "            return [fileName,dictt]\n",
    "        else:\n",
    "            return query+\" Not found\"\n",
    "    except:\n",
    "        return query+\" Not found\"\n"
   ]
  },
  {
   "cell_type": "code",
   "execution_count": 86,
   "metadata": {
    "collapsed": false
   },
   "outputs": [
    {
     "name": "stdout",
     "output_type": "stream",
     "text": [
      "https://www.goodreads.com/search/index.xml?key=nXDOLuXC1fR2t3N43Gxng&q=\n"
     ]
    },
    {
     "data": {
      "text/plain": [
       "' Not found'"
      ]
     },
     "execution_count": 86,
     "metadata": {},
     "output_type": "execute_result"
    }
   ],
   "source": [
    "query=\"\"\n",
    "getMeta(query,key,'/home/some/')"
   ]
  },
  {
   "cell_type": "code",
   "execution_count": 126,
   "metadata": {
    "collapsed": false
   },
   "outputs": [
    {
     "data": {
      "text/plain": [
       "6"
      ]
     },
     "execution_count": 126,
     "metadata": {},
     "output_type": "execute_result"
    }
   ],
   "source": [
    "ls =! find /home/some/Downloads/ -type f -iname \"*.html\"\n",
    "len(ls)"
   ]
  },
  {
   "cell_type": "code",
   "execution_count": 127,
   "metadata": {
    "collapsed": false
   },
   "outputs": [
    {
     "data": {
      "text/plain": [
       "'abcdefghijklmnopqrstuvwxyzABCDEFGHIJKLMNOPQRSTUVWXYZ '"
      ]
     },
     "execution_count": 127,
     "metadata": {},
     "output_type": "execute_result"
    }
   ],
   "source": [
    "string.ascii_letters+\" \""
   ]
  },
  {
   "cell_type": "code",
   "execution_count": 87,
   "metadata": {
    "collapsed": false
   },
   "outputs": [],
   "source": [
    "def getFileMeta(f,key,path):\n",
    "\n",
    "    fp,fn=os.path.split(f)\n",
    "    print(f,fp[fp.rindex('/')+1:])\n",
    "    qr=''.join(m for m in fp[fp.rindex('/')+1:] if m in string.ascii_letters+\" \")\n",
    "    qr=' '.join(q for q in qr.split() if len(q)>3)\n",
    "    tm=qr.split()\n",
    "    qrr=' '.join(tm[:2]+tm[-2:])\n",
    "    print qrr\n",
    "    return [fn[:-5],getMeta(qr,key,path)]"
   ]
  },
  {
   "cell_type": "code",
   "execution_count": 88,
   "metadata": {
    "collapsed": false
   },
   "outputs": [
    {
     "name": "stdout",
     "output_type": "stream",
     "text": [
      "('/media/some/sophie-hhd/transmitt/fic/#Calibre Fiction/Jim Butcher/Skin Game_ A Novel of the Dresden F (3482)/Skin Game_ A Novel of the Dresd - Jim Butcher.epub', 'Skin Game_ A Novel of the Dresden F (3482)')\n",
      "Skin Game Novel Dresden\n",
      "https://www.goodreads.com/search/index.xml?key=nXDOLuXC1fR2t3N43Gxng&q=Skin+Game+Novel+Dresden\n"
     ]
    },
    {
     "data": {
      "text/plain": [
       "['Skin Game_ A Novel of the Dresd - Jim Butcher',\n",
       " ['Jim Butcher - Skin Game (The Dresden Files, #15)',\n",
       "  {'author': 'Jim Butcher',\n",
       "   'image': '/home/some/Jim Butcher - Skin Game (The Dresden Files, #15).jpg',\n",
       "   'title': 'Skin Game (The Dresden Files, #15)'}]]"
      ]
     },
     "execution_count": 88,
     "metadata": {},
     "output_type": "execute_result"
    }
   ],
   "source": [
    "f=files[0]\n",
    "getFileMeta(f,key,\"/home/some/\")"
   ]
  },
  {
   "cell_type": "code",
   "execution_count": null,
   "metadata": {
    "collapsed": true
   },
   "outputs": [],
   "source": []
  },
  {
   "cell_type": "code",
   "execution_count": null,
   "metadata": {
    "collapsed": true
   },
   "outputs": [],
   "source": [
    "https://images-na.ssl-images-amazon.com/images/I/41PRV6JH3WL.jpg"
   ]
  }
 ],
 "metadata": {
  "kernelspec": {
   "display_name": "Python 2",
   "language": "python",
   "name": "python2"
  },
  "language_info": {
   "codemirror_mode": {
    "name": "ipython",
    "version": 2
   },
   "file_extension": ".py",
   "mimetype": "text/x-python",
   "name": "python",
   "nbconvert_exporter": "python",
   "pygments_lexer": "ipython2",
   "version": "2.7.11+"
  }
 },
 "nbformat": 4,
 "nbformat_minor": 0
}
