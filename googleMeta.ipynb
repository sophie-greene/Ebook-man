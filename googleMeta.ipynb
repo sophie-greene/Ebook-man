{
 "cells": [
  {
   "cell_type": "code",
   "execution_count": 83,
   "metadata": {
    "collapsed": false
   },
   "outputs": [],
   "source": [
    "import json\n",
    "import urllib2\n",
    "import urllib\n",
    "import xmltodict\n",
    "import isbntools.app as app\n",
    "import os\n",
    "import string"
   ]
  },
  {
   "cell_type": "code",
   "execution_count": 3,
   "metadata": {
    "collapsed": true
   },
   "outputs": [],
   "source": [
    "key=''.join(open(\"key\").read().split('\\n'))"
   ]
  },
  {
   "cell_type": "code",
   "execution_count": 20,
   "metadata": {
    "collapsed": false
   },
   "outputs": [
    {
     "name": "stdout",
     "output_type": "stream",
     "text": [
      "The ISBN of the most `spoken-about` book with this title is 9780263185263\n",
      "\n",
      "... and the book is:\n",
      "\n",
      "{'Publisher': u'Thorndike Press', 'Language': u'en', 'Title': u\"The Sicilian's Bought Bride\", 'Authors': [u'Carol Marinelli'], 'ISBN-13': u'9780263185263', 'Year': u'2005'}\n"
     ]
    }
   ],
   "source": [
    "query=\"The Sicilian Bought Bride by Carol Marinelli\"\n",
    "\n",
    "isbn = app.isbn_from_words(query)\n",
    "\n",
    "print(\"The ISBN of the most `spoken-about` book with this title is %s\" % isbn)\n",
    "print(\"\")\n",
    "print(\"... and the book is:\")\n",
    "print(\"\")\n",
    "print((app.meta(isbn)))\n"
   ]
  },
  {
   "cell_type": "code",
   "execution_count": null,
   "metadata": {
    "collapsed": true
   },
   "outputs": [],
   "source": [
    "user_id=\"56756503\"\n",
    "frmt=\"json\""
   ]
  },
  {
   "cell_type": "code",
   "execution_count": 28,
   "metadata": {
    "collapsed": false
   },
   "outputs": [
    {
     "name": "stdout",
     "output_type": "stream",
     "text": [
      "https://www.goodreads.com/search/index.xml?key=nXDOLuXC1fR2t3N43Gxng&q=The+Sicilian+Bought+Bride+by+Carol+Marinelli\n"
     ]
    },
    {
     "data": {
      "text/plain": [
       "<addinfourl at 139961930527592 whose fp = <socket._fileobject object at 0x7f4b6d288c50>>"
      ]
     },
     "execution_count": 28,
     "metadata": {},
     "output_type": "execute_result"
    }
   ],
   "source": [
    "\n",
    "#urlstring=\"https://www.goodreads.com/book/isbn/\"+isbn+\"?key=\"+key\n",
    "urlstring=\"https://www.goodreads.com/search/index.xml?key=\"+key+\"&q=\"+query.replace(\" \",\"+\")\n",
    "print urlstring\n",
    "url=urllib2.urlopen(urlstring)\n",
    "url"
   ]
  },
  {
   "cell_type": "code",
   "execution_count": 29,
   "metadata": {
    "collapsed": false
   },
   "outputs": [
    {
     "data": {
      "text/plain": [
       "'<?xml version=\"1.0\" encoding=\"UTF-8\"?>\\n<GoodreadsResponse>\\n  <Request>\\n    <authentication>true</authentication>\\n      <key><![CDATA[nXDOLuXC1fR2t3N43Gxng]]></key>\\n    <method><![CDATA[search_index]]></method>\\n  </Request>\\n  <search>\\n  <query><![CDATA[The Sicilian Bought Bride by Carol Marinelli]]></query>\\n    <results-start>1</results-start>\\n    <results-end>2</results-end>\\n    <total-results>2</total-results>\\n    <source>Goodreads</source>\\n    <query-time-seconds>0.15</query-time-seconds>\\n    <results>\\n        <work>\\n  <id type=\"integer\">7459141</id>\\n  <books_count type=\"integer\">17</books_count>\\n  <ratings_count type=\"integer\">68</ratings_count>\\n  <text_reviews_count type=\"integer\">3</text_reviews_count>\\n  <original_publication_year type=\"integer\">2004</original_publication_year>\\n  <original_publication_month type=\"integer\" nil=\"true\"/>\\n  <original_publication_day type=\"integer\" nil=\"true\"/>\\n  <average_rating>3.34</average_rating>\\n  <best_book type=\"Book\">\\n    <id type=\"integer\">7158776</id>\\n    <title>The Sicilian\\'s Bought Bride</title>\\n    <author>\\n      <id type=\"integer\">4990</id>\\n      <name>Carol Marinelli</name>\\n    </author>\\n    <image_url>https://d.gr-assets.com/books/1266525762m/7158776.jpg</image_url>\\n    <small_image_url>https://d.gr-assets.com/books/1266525762s/7158776.jpg</small_image_url>\\n  </best_book>\\n</work>\\n\\n        <work>\\n  <id type=\"integer\">15991009</id>\\n  <books_count type=\"integer\">3</books_count>\\n  <ratings_count type=\"integer\">5</ratings_count>\\n  <text_reviews_count type=\"integer\">1</text_reviews_count>\\n  <original_publication_year type=\"integer\">2010</original_publication_year>\\n  <original_publication_month type=\"integer\">10</original_publication_month>\\n  <original_publication_day type=\"integer\">1</original_publication_day>\\n  <average_rating>3.40</average_rating>\\n  <best_book type=\"Book\">\\n    <id type=\"integer\">21297149</id>\\n    <title>Tall, Dark and Italian (Mills &amp; Boon By Request): In the Italian\\'s Bed / The Sicilian\\'s Bought Bride / The Moretti Marriage</title>\\n    <author>\\n      <id type=\"integer\">654</id>\\n      <name>Anne Mather</name>\\n    </author>\\n    <image_url>https://s.gr-assets.com/assets/nophoto/book/111x148-bcc042a9c91a29c1d680899eff700a03.png</image_url>\\n    <small_image_url>https://s.gr-assets.com/assets/nophoto/book/50x75-a91bf249278a81aabab721ef782c4a74.png</small_image_url>\\n  </best_book>\\n</work>\\n\\n    </results>\\n</search>\\n\\n</GoodreadsResponse>'"
      ]
     },
     "execution_count": 29,
     "metadata": {},
     "output_type": "execute_result"
    }
   ],
   "source": [
    "data=url.read()\n",
    "data"
   ]
  },
  {
   "cell_type": "code",
   "execution_count": 30,
   "metadata": {
    "collapsed": false
   },
   "outputs": [],
   "source": [
    "\n",
    "data1=xmltodict.parse(data)\n"
   ]
  },
  {
   "cell_type": "code",
   "execution_count": 64,
   "metadata": {
    "collapsed": false,
    "scrolled": true
   },
   "outputs": [
    {
     "data": {
      "text/plain": [
       "u'Carol Marinelli'"
      ]
     },
     "execution_count": 64,
     "metadata": {},
     "output_type": "execute_result"
    }
   ],
   "source": [
    "#meta=data1[u'GoodreadsResponse'][u'book']\n",
    "meta=data1[u'GoodreadsResponse'][u'search'][u'results'][u'work'][0][u'best_book']\n",
    "meta[u'author'][u'name']"
   ]
  },
  {
   "cell_type": "code",
   "execution_count": 67,
   "metadata": {
    "collapsed": false
   },
   "outputs": [],
   "source": [
    "img=str(meta[u'image_url'])\n",
    "title=str(meta[u'title'])\n",
    "author=str(meta[u'author'][u'name'])"
   ]
  },
  {
   "cell_type": "code",
   "execution_count": 68,
   "metadata": {
    "collapsed": false
   },
   "outputs": [
    {
     "data": {
      "text/plain": [
       "(\"Carol Marinelli - The Sicilian's Bought Bride.jpg\",\n",
       " <httplib.HTTPMessage instance at 0x7f4b6d2b02d8>)"
      ]
     },
     "execution_count": 68,
     "metadata": {},
     "output_type": "execute_result"
    }
   ],
   "source": [
    "urllib.urlretrieve(img,author+\" - \"+title+\".jpg\")"
   ]
  },
  {
   "cell_type": "code",
   "execution_count": 124,
   "metadata": {
    "collapsed": false
   },
   "outputs": [],
   "source": [
    "#query contains book name and author\n",
    "# key is the goodread API key\n",
    "#path is location where the cover image shall be stored\n",
    "def getMeta(query,key,path):\n",
    "    urlstring=\"https://www.goodreads.com/search/index.xml?key=\"+key+\"&q=\"+query.replace(\" \",\"+\")\n",
    "    print urlstring\n",
    "    try:\n",
    "        url=urllib2.urlopen(urlstring)\n",
    "        data=xmltodict.parse(url.read())\n",
    "        if len(data)>0:\n",
    "            meta=data[u'GoodreadsResponse'][u'search'][u'results'][u'work'][0][u'best_book']\n",
    "            dictt={}\n",
    "            dictt['title']=str(meta[u'title'])\n",
    "            dictt['author']=str(meta[u'author'][u'name'])\n",
    "            dictt['image']=path+dictt['author']+\" - \"+dictt['title']+\".jpg\"\n",
    "            img=str(meta[u'image_url'])\n",
    "            urllib.urlretrieve(img,dictt['image'])\n",
    "            return dictt\n",
    "        else:\n",
    "            return query+\" Not found\"\n",
    "    except:\n",
    "        return query+\" Not found\"\n"
   ]
  },
  {
   "cell_type": "code",
   "execution_count": 125,
   "metadata": {
    "collapsed": false
   },
   "outputs": [
    {
     "name": "stdout",
     "output_type": "stream",
     "text": [
      "https://www.goodreads.com/search/index.xml?key=nXDOLuXC1fR2t3N43Gxng&q=\n"
     ]
    },
    {
     "data": {
      "text/plain": [
       "' Not found'"
      ]
     },
     "execution_count": 125,
     "metadata": {},
     "output_type": "execute_result"
    }
   ],
   "source": [
    "query=\"\"\n",
    "getMeta(query,key,'/home/some/')"
   ]
  },
  {
   "cell_type": "code",
   "execution_count": 126,
   "metadata": {
    "collapsed": false
   },
   "outputs": [
    {
     "data": {
      "text/plain": [
       "6"
      ]
     },
     "execution_count": 126,
     "metadata": {},
     "output_type": "execute_result"
    }
   ],
   "source": [
    "ls =! find /home/some/Downloads/ -type f -iname \"*.html\"\n",
    "len(ls)"
   ]
  },
  {
   "cell_type": "code",
   "execution_count": 127,
   "metadata": {
    "collapsed": false
   },
   "outputs": [
    {
     "data": {
      "text/plain": [
       "'abcdefghijklmnopqrstuvwxyzABCDEFGHIJKLMNOPQRSTUVWXYZ '"
      ]
     },
     "execution_count": 127,
     "metadata": {},
     "output_type": "execute_result"
    }
   ],
   "source": [
    "string.ascii_letters+\" \""
   ]
  },
  {
   "cell_type": "code",
   "execution_count": 130,
   "metadata": {
    "collapsed": false
   },
   "outputs": [],
   "source": [
    "def getFileMeta(f,key,path):\n",
    "\n",
    "    fp,fn=os.path.split(f)\n",
    "    print(f,fp[fp.rindex('/')+1:])\n",
    "    qr=''.join(m for m in fp[fp.rindex('/')+1:] if m in string.ascii_letters+\" \")\n",
    "    qr=' '.join(q for q in qr.split() if len(q)>3)\n",
    "    tm=qr.split()\n",
    "    qrr=' '.join(tm[:2]+tm[-2:])\n",
    "    print qrr\n",
    "    return getMeta(qr,key,path)"
   ]
  },
  {
   "cell_type": "code",
   "execution_count": 131,
   "metadata": {
    "collapsed": false
   },
   "outputs": [
    {
     "name": "stdout",
     "output_type": "stream",
     "text": [
      "('/home/some/Downloads/Carol Marinelli Books/Carol Marinelli - Italian Boss, Ruthless Revenge/italianbossruthlessrevenge.html', 'Carol Marinelli - Italian Boss, Ruthless Revenge')\n",
      "Carol Marinelli Ruthless Revenge\n",
      "https://www.goodreads.com/search/index.xml?key=nXDOLuXC1fR2t3N43Gxng&q=Carol+Marinelli+Italian+Boss+Ruthless+Revenge\n",
      "(\"/home/some/Downloads/Carol Marinelli Books/Carol Marinelli - The Sicilian's Bought Bride/Carol Marinelli - The Sicilian's Bought Bride.HTML\", \"Carol Marinelli - The Sicilian's Bought Bride\")\n",
      "Carol Marinelli Bought Bride\n",
      "https://www.goodreads.com/search/index.xml?key=nXDOLuXC1fR2t3N43Gxng&q=Carol+Marinelli+Sicilians+Bought+Bride\n",
      "(\"/home/some/Downloads/Carol Marinelli Books/Carol Marinelli - The Billionaire's Contract Bride/fsd/Carol Marinelli - [Lusty Billionaires Bundle Bk1] - The Billionaire's Contract Bride.html\", 'fsd')\n",
      "\n",
      "https://www.goodreads.com/search/index.xml?key=nXDOLuXC1fR2t3N43Gxng&q=\n",
      "('/home/some/Downloads/Carol Marinelli Books/Carol Marinelli - English Doctor, Italian Bride/English Doctor, Italian Bride.html', 'Carol Marinelli - English Doctor, Italian Bride')\n",
      "Carol Marinelli Italian Bride\n",
      "https://www.goodreads.com/search/index.xml?key=nXDOLuXC1fR2t3N43Gxng&q=Carol+Marinelli+English+Doctor+Italian+Bride\n",
      "('/home/some/Downloads/Carol Marinelli Books/Carol Marinelli - Wanted Mistress and Mother/Carol Marinelli - WANTED MISTRESS AND MOTHER.html', 'Carol Marinelli - Wanted Mistress and Mother')\n",
      "Carol Marinelli Mistress Mother\n",
      "https://www.goodreads.com/search/index.xml?key=nXDOLuXC1fR2t3N43Gxng&q=Carol+Marinelli+Wanted+Mistress+Mother\n",
      "(\"/home/some/Downloads/Carol Marinelli Books/Carol Marinelli - The Prince's Housekeeper Bride/Carol Marinelli - The Prince's Housekeeper Bride.html\", \"Carol Marinelli - The Prince's Housekeeper Bride\")\n",
      "Carol Marinelli Housekeeper Bride\n",
      "https://www.goodreads.com/search/index.xml?key=nXDOLuXC1fR2t3N43Gxng&q=Carol+Marinelli+Princes+Housekeeper+Bride\n"
     ]
    }
   ],
   "source": [
    "for f in ls:\n",
    "    getFileMeta(f,key,\"/home/some/\")"
   ]
  },
  {
   "cell_type": "code",
   "execution_count": null,
   "metadata": {
    "collapsed": true
   },
   "outputs": [],
   "source": []
  },
  {
   "cell_type": "code",
   "execution_count": null,
   "metadata": {
    "collapsed": true
   },
   "outputs": [],
   "source": [
    "https://images-na.ssl-images-amazon.com/images/I/41PRV6JH3WL.jpg"
   ]
  }
 ],
 "metadata": {
  "kernelspec": {
   "display_name": "Python 2",
   "language": "python",
   "name": "python2"
  },
  "language_info": {
   "codemirror_mode": {
    "name": "ipython",
    "version": 2
   },
   "file_extension": ".py",
   "mimetype": "text/x-python",
   "name": "python",
   "nbconvert_exporter": "python",
   "pygments_lexer": "ipython2",
   "version": "2.7.10"
  }
 },
 "nbformat": 4,
 "nbformat_minor": 0
}
