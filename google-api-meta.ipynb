{
 "cells": [
  {
   "cell_type": "code",
   "execution_count": 1,
   "metadata": {
    "collapsed": false
   },
   "outputs": [],
   "source": [
    "import time\n",
    "from multiprocessing import Pool\n",
    "import functools"
   ]
  },
  {
   "cell_type": "code",
   "execution_count": 6,
   "metadata": {
    "collapsed": false
   },
   "outputs": [],
   "source": [
    "import requests\n",
    "query=\"The+Moving+Finger+Agatha+Christie\"\n",
    "ids=\"9CkX1DBb0P8C\"\n",
    "urlstring='https://www.googleapis.com/books/v1/volumes?q='+query+'&fields=items&maxResults=10&id='+ids\n",
    "#urlstring=\"https://www.googleapis.com/books/v1/volumes?q=carol+marinelli&maxResults=10&id=9CkX1DBb0P8C\"\n",
    "resp = requests.get(urlstring)\n",
    "if resp.status_code != 200:\n",
    "    # This means something went wrong.\n",
    "    print(resp.status_code)"
   ]
  },
  {
   "cell_type": "code",
   "execution_count": 7,
   "metadata": {
    "collapsed": false
   },
   "outputs": [],
   "source": [
    "response=resp.json()"
   ]
  },
  {
   "cell_type": "code",
   "execution_count": 8,
   "metadata": {
    "collapsed": false
   },
   "outputs": [
    {
     "name": "stdout",
     "output_type": "stream",
     "text": [
      "[u'Agatha Christie'] The Moving Finger (Miss Marple) [u'Agatha Christie'] The Moving Finger [u'Agatha Christie'] The Moving Finger [u'Agatha Christie'] The Moving Finger [u'James Zemboy'] The Detective Novels of Agatha Christie [u'Edith Wharton'] The Moving Finger [u'Agatha Christie'] Collins the Moving Finger (ELT Reader) [u'Agatha Christie'] Miss Marple 3-Book Collection 1: The Murder at the Vicarage, The Body in the Library, The Moving Finger [u'Agatha Christie'] The Hollow [u'Agatha Christie'] Miss Marple Omnibus\n"
     ]
    }
   ],
   "source": [
    "for mm in response[u'items']:\n",
    "    dictt=mm[u'volumeInfo']\n",
    "    \n",
    "    print dictt[u'authors'],dictt[u'title']"
   ]
  },
  {
   "cell_type": "code",
   "execution_count": 26,
   "metadata": {
    "collapsed": false
   },
   "outputs": [
    {
     "data": {
      "text/plain": [
       "dict"
      ]
     },
     "execution_count": 26,
     "metadata": {},
     "output_type": "execute_result"
    }
   ],
   "source": [
    "type(response)"
   ]
  },
  {
   "cell_type": "code",
   "execution_count": 19,
   "metadata": {
    "collapsed": false
   },
   "outputs": [
    {
     "data": {
      "text/plain": [
       "('/home/some/img.jpg', <httplib.HTTPMessage instance at 0x7fcc54164830>)"
      ]
     },
     "execution_count": 19,
     "metadata": {},
     "output_type": "execute_result"
    }
   ],
   "source": [
    "##get book cover\n",
    "import urllib\n",
    "imgurl=response[u'items'][0][u'volumeInfo'][u'imageLinks'][u'thumbnail'].encode('ascii','ignore')\n",
    "imgname=\"/home/some/img.jpg\"\n",
    "urllib.urlretrieve(imgurl,imgname)"
   ]
  },
  {
   "cell_type": "code",
   "execution_count": 47,
   "metadata": {
    "collapsed": false
   },
   "outputs": [
    {
     "data": {
      "text/plain": [
       "8837"
      ]
     },
     "execution_count": 47,
     "metadata": {},
     "output_type": "execute_result"
    }
   ],
   "source": [
    "d=\"/media/some/sophie-hhd/transmitt/fic/#Calibre Fiction/\"\n",
    "dd=\"/media/some/sophie-hhd/transmitt/fic/Fictional Literature/\"\n",
    "files=! find \"$d\" \"$dd\" -type f -iname \"*.epub\"\n",
    "len(files)"
   ]
  },
  {
   "cell_type": "code",
   "execution_count": 60,
   "metadata": {
    "collapsed": false
   },
   "outputs": [
    {
     "name": "stdout",
     "output_type": "stream",
     "text": [
      "The+Inferno+Dante+Alighieri\n"
     ]
    }
   ],
   "source": [
    "#test\n",
    "f=files[-4053]\n",
    "#print f\n",
    "s=getFileGoogleMeta(f,0)"
   ]
  },
  {
   "cell_type": "code",
   "execution_count": 54,
   "metadata": {
    "collapsed": true
   },
   "outputs": [],
   "source": [
    "titles={}#load_obj('data/titlesISBN')#{}\n",
    "keys=[]#load_obj('data/titleskeysISBN')#[]"
   ]
  },
  {
   "cell_type": "code",
   "execution_count": 55,
   "metadata": {
    "collapsed": false
   },
   "outputs": [
    {
     "data": {
      "text/plain": [
       "(8837, 0, 8837)"
      ]
     },
     "execution_count": 55,
     "metadata": {},
     "output_type": "execute_result"
    }
   ],
   "source": [
    "flist=list(filter(lambda x: x[x.rindex('/')+1:x.rindex('.')] not in keys, files))\n",
    "len(flist),len(keys),len(files)"
   ]
  },
  {
   "cell_type": "code",
   "execution_count": 57,
   "metadata": {
    "collapsed": false,
    "scrolled": false
   },
   "outputs": [
    {
     "name": "stdout",
     "output_type": "stream",
     "text": [
      "Djinn+in+the+Nightingales+Eye+A+S+Byatt\n",
      "A+S+Byatt+Djinn+in+the+Nightingales+Eye\n",
      "Elementals+A+S+Byatt\n",
      "A+S+Byatt+Elementals\n",
      "Little+Black+Book+of+Stories+A+S+Byatt\n",
      "A+S+Byatt+Little+Black+Book+of+Stories\n",
      "Possession+A+S+Byatt\n",
      "A+S+Byatt+Possession\n",
      "Ragnarok+A+S+Byatt\n",
      "A+S+Byatt+Ragnarok\n",
      "Ragnarok+A+S+Byatt\n",
      "A+S+Byatt+Ragnarok\n",
      "Sugar+and+Other+Stories+A+S+Byatt\n",
      "A+S+Byatt+Sugar+and+Other+Stories\n",
      "The+Biographers+Tale+A+S+Byatt\n",
      "A+S+Byatt+The+Biographers+Tale\n",
      "The+Childrens+Book+A+S+Byatt\n",
      "A+S+Byatt+The+Childrens+Book\n",
      "The+Game+A+S+Byatt\n",
      "A+S+Byatt+The+Game\n",
      "exception count  0\n",
      "8\n",
      "finish parallel\n",
      "('time: ', 195.14910888671875)\n"
     ]
    }
   ],
   "source": [
    "\n",
    "t0 = time.time()\n",
    "books=[]\n",
    "cnt=0\n",
    "p=Pool(10)\n",
    "try:\n",
    "    books=p.map(getFileIsbnMeta, flist[20:30])\n",
    "except:\n",
    "    print \"errror\" \n",
    "    p.terminate()\n",
    "    p.close()\n",
    "#for f in flist[10:20]:\n",
    "#    books.append(getFileGoogleMeta(f))\n",
    "#    time.sleep(10) \n",
    "\n",
    "p.terminate()\n",
    "p.close()\n",
    "for book in books:\n",
    "    try:\n",
    "        if book[0] not in keys and len(book)>2:\n",
    "            titles[book[0]]=book[1:]\n",
    "    except:\n",
    "        cnt+=1\n",
    "print \"exception count \",cnt        \n",
    "print len(list(titles.keys()))\n",
    "save_obj(titles, 'data/titlesISBN')\n",
    "keys=list(titles.keys())\n",
    "save_obj(keys,'data/titleskeysISBN')\n",
    "print 'finish parallel'\n",
    "\n",
    "t1=time.time()\n",
    "total = t1-t0\n",
    "print('time: ',total)"
   ]
  },
  {
   "cell_type": "code",
   "execution_count": 23,
   "metadata": {
    "collapsed": false,
    "scrolled": true
   },
   "outputs": [],
   "source": [
    "f='/media/some/sophie-hhd/transmitt/fic/Fictional Li4terature/True Crime Collection/Portrait of a Killer_ Jack the Ripper Case Closed - Patricia Cornwell/Patricia Cornwell - Portrait of a Killer_ Jack the_sed (v5.0).epub'"
   ]
  },
  {
   "cell_type": "code",
   "execution_count": 59,
   "metadata": {
    "collapsed": false
   },
   "outputs": [
    {
     "name": "stdout",
     "output_type": "stream",
     "text": [
      "The+Game+A+S+Byatt\n"
     ]
    }
   ],
   "source": [
    "m=getFileGoogleMeta(f)"
   ]
  },
  {
   "cell_type": "code",
   "execution_count": 58,
   "metadata": {
    "collapsed": false
   },
   "outputs": [],
   "source": [
    "import os\n",
    "import string\n",
    "import comFuncs\n",
    "from comFuncs import *\n",
    "import requests\n",
    "import os\n",
    "import string\n",
    "import time\n",
    "def getGoogleMeta(title,author):\n",
    "    query=title+\" \"+author\n",
    "    #remove none alphanum characters\n",
    "    query=''.join(q for q in query if q in string.letters+string.digits+\" \"+\"_\")\n",
    "    #remove extra white space\n",
    "    query=' '.join(query.split())\n",
    "    #replace white space with +\n",
    "    query='+'.join(query.split())\n",
    "    #print query\n",
    "    ids=\"9CkX1DBb0P8C\"\n",
    "    urlstring='https://www.googleapis.com/books/v1/volumes?q='+query+'&fields=items&maxResults=10&id='+ids\n",
    "#urlstring=\"https://www.googleapis.com/books/v1/volumes?q=carol+marinelli&maxResults=10&id=9CkX1DBb0P8C\"\n",
    "    cnt=0\n",
    "    while True:\n",
    "        resp = requests.get(urlstring)\n",
    "        if resp.status_code == 200:\n",
    "            break\n",
    "        cnt+=1\n",
    "        time.sleep(1)\n",
    "    data=resp.json()\n",
    "    #print data\n",
    "    if type(data)==dict and u'items' in data.keys():\n",
    "        return data[u'items']\n",
    "    else:\n",
    "        return \"\"\n",
    "        #print \"service unavailable\"\n",
    "def getFileGoogleMeta(f,smscr=1.0):\n",
    "    #print \"start\"\n",
    "    f=f.encode('ascii','ignore')\n",
    "    fp,ff= os.path.split(f)\n",
    "    fn, fext = os.path.splitext(ff)\n",
    "    fn=re.sub(\" \\(v[0-9].[0-9]\\)\",\"\",fn)\n",
    "    #print fn\n",
    "    seri=''\n",
    "    sm=0\n",
    "    mtd=None\n",
    "    sp=fn.split()\n",
    "    if len(sp)>4:\n",
    "        tit=sp[-2:]\n",
    "        auth=sp[:-2]\n",
    "    elif len(sp) >1:\n",
    "        tit=fn.split()[-1:]\n",
    "        auth=fn.split()[:-1]\n",
    "    else:\n",
    "        return \"no meta\"\n",
    "    \n",
    "    if fn.count(' - ')==1:\n",
    "        tit,auth=fn.split(' - ')\n",
    "    elif fn.count(' - ')==2:\n",
    "        seri,tit,auth=fn.split(' - ')\n",
    "        \n",
    "    #print \"title\",tit,\"author\",auth\n",
    "   \n",
    "    if tit.count('_ ')>0:\n",
    "        spp=tit.split('_')[0]\n",
    "        #print spp\n",
    "        if spp.count(' ')>0:\n",
    "            tit=' '.join(spp.split())\n",
    "        else:\n",
    "            tit=spp\n",
    "    if auth.count('_ ')>0:\n",
    "        spp=auth.split('_')[0]\n",
    "        #print spp\n",
    "        if spp.count(' ')>0:\n",
    "            auth=' '.join(spp.split())\n",
    "        else:\n",
    "            auth=spp\n",
    "    if tit.count(' ')>0:\n",
    "        title=''.join(l for l in ' '.join(tit.split()) if l in string.printable)\n",
    "    else:\n",
    "        title=''.join(l for l in tit if l in string.printable)\n",
    "    if auth.count(\" \")>0:    \n",
    "        author=''.join(l for l in ' '.join(auth.split()) if l in string.printable)\n",
    "    else:\n",
    "        author=''.join(l for l in auth if l in string.ascii_letters+\" .\")\n",
    "    #print tit,auth\n",
    "    #print title,'..... ....',author\n",
    "  \n",
    "    metad =getGooleMeta(title,author)\n",
    "    if metad !=\"\" and type(metad)==list: \n",
    "        for mdd in metad:\n",
    "            if u'volumeInfo' in mdd.keys():\n",
    "                md=mdd[u'volumeInfo']\n",
    "                if type(md)==dict and u\"authors\" in md.keys() and u\"title\" in md.keys():\n",
    "                    if len(md[u'authors'])>0:\n",
    "                        authsim=similarity(md[u'authors'][0].encode('ascii','ignore'),str(author))\n",
    "                    else:\n",
    "                        authsim=0\n",
    "                    titsim=similarity(md[u'title'].encode('ascii','ignore'),str(title))\n",
    "                    #print titsim,authsim\n",
    "                    if titsim+authsim >sm:\n",
    "                        sm=titsim+authsim\n",
    "                        mtd=md\n",
    "        if sm >smscr and mtd !=None:\n",
    "            return fn,fp,mtd,sm\n",
    "    #if no data found switch title and author\n",
    "    metad =getGoogleMeta(author,title)\n",
    "    if metad !=\"\" and type(metad)==list: \n",
    "        for mdd in metad:\n",
    "            if u'volumeInfo' in mdd.keys():\n",
    "                md=mdd[u'volumeInfo']\n",
    "                if type(md)==dict and u\"authors\" in md.keys() and u\"title\" in md.keys():\n",
    "                    if len(md[u'authors'])>0:\n",
    "                        authsim=similarity(md[u'authors'][0].encode('ascii','ignore'),str(title))\n",
    "                    else:\n",
    "                        authsim=0\n",
    "                    titsim=similarity(md[u'title'].encode('ascii','ignore'),str(author))\n",
    "                    #print titsim,authsim\n",
    "                    if titsim+authsim >sm:\n",
    "                        sm=titsim+authsim\n",
    "                        mtd=md\n",
    "        if sm >smscr and mtd !=None:\n",
    "            return fn,fp,mtd,sm\n",
    "    # if no data found try seri, auth ,title  combinaton\n",
    "    if seri !='':\n",
    "        metad =getGoogleMeta(title,str(seri))\n",
    "        if metad !=\"\" and type(metad)==list:\n",
    "            \n",
    "            for mdd in metad:\n",
    "                if u'volumeInfo' in mdd.keys():\n",
    "                    md=mdd[u'volumeInfo']\n",
    "                    if type(md)==dict and u\"authors\" in md.keys() and u\"title\" in md.keys():\n",
    "                        if len(md[u'authors'])>0:\n",
    "                            authsim=similarity(md[u'authors'][0].encode('ascii','ignore'),str(seri))\n",
    "                        else:\n",
    "                            authsim=0\n",
    "                        titsim=similarity(md[u'title'].encode('ascii','ignore'),str(title))\n",
    "                        #print titsim,authsim\n",
    "                        if titsim+authsim >sm:\n",
    "                            sm=titsim+authsim\n",
    "                            mtd=md\n",
    "            if sm >smscr and mtd !=None:\n",
    "                return fn,fp,mtd,sm\n",
    "        metad =getGoogleMeta(seri,str(author))\n",
    "        if metad !=\"\" and type(metad)==list: \n",
    "            for mdd in metad:\n",
    "                if u'volumeInfo' in mdd.keys():\n",
    "                    md=mdd[u'volumeInfo']\n",
    "                    if type(md)==dict and u\"authors\" in md.keys() and u\"title\" in md.keys():\n",
    "                        if len(md[u'authors'])>0:\n",
    "                            authsim=similarity(md[u'authors'][0].encode('ascii','ignore'),str(author))\n",
    "                        else:\n",
    "                            authsim=0\n",
    "                        titsim=similarity(md[u'title'].encode('ascii','ignore'),str(seri))\n",
    "                        #print titsim,authsim\n",
    "                        if titsim+authsim >sm:\n",
    "                            sm=titsim+authsim\n",
    "                            mtd=md    \n",
    "            if sm >smscr and mtd !=None:\n",
    "                return fn,fp,mtd,sm\n",
    "        metad =getGoogleMeta(seri,str(title))\n",
    "        if metad !=\"\" and type(metad)==list: \n",
    "            for mdd in metad:\n",
    "                if u'volumeInfo' in mdd.keys():\n",
    "                    md=mdd[u'volumeInfo']\n",
    "                    if type(md)==dict and u\"authors\" in md.keys() and u\"title\" in md.keys():\n",
    "                        if len(md[u'authors'])>0:\n",
    "                            authsim=similarity(md[u'authors'][0].encode('ascii','ignore'),str(title))\n",
    "                        else:\n",
    "                            authsim=0\n",
    "                        titsim=similarity(md[u'title'].encode('ascii','ignore'),str(seri))\n",
    "                        #print titsim,authsim\n",
    "                        if titsim+authsim >sm:\n",
    "                            sm=titsim+authsim\n",
    "                            mtd=md\n",
    "            if sm >smscr and mtd !=None:\n",
    "                return fn,fp,mtd,sm\n",
    "        metad =getGoogleMeta(author,str(seri))\n",
    "        if metad !=\"\" and type(metad)==list: \n",
    "            for mdd in metad:\n",
    "                if u'volumeInfo' in mdd.keys():\n",
    "                    md=mdd[u'volumeInfo']\n",
    "                    if type(md)==dict and u\"authors\" in md.keys() and u\"title\" in md.keys():\n",
    "                        if len(md[u'authors'])>0:\n",
    "                            authsim=similarity(md[u'authors'][0].encode('ascii','ignore'),str(seri))\n",
    "                        else:\n",
    "                            authsim=0\n",
    "                        titsim=similarity(md[u'title'].encode('ascii','ignore'),str(author))\n",
    "                    #print titsim,authsim\n",
    "                        if titsim+authsim >sm:\n",
    "                            sm=titsim+authsim\n",
    "                            mtd=md               \n",
    "        if sm >smscr and mtd !=None:\n",
    "            return fn,fp,mtd,sm\n",
    "    return \"NO meta\"   \n",
    "    "
   ]
  },
  {
   "cell_type": "code",
   "execution_count": 18,
   "metadata": {
    "collapsed": true
   },
   "outputs": [],
   "source": []
  },
  {
   "cell_type": "code",
   "execution_count": null,
   "metadata": {
    "collapsed": true
   },
   "outputs": [],
   "source": []
  }
 ],
 "metadata": {
  "kernelspec": {
   "display_name": "Python 2",
   "language": "python",
   "name": "python2"
  },
  "language_info": {
   "codemirror_mode": {
    "name": "ipython",
    "version": 2
   },
   "file_extension": ".py",
   "mimetype": "text/x-python",
   "name": "python",
   "nbconvert_exporter": "python",
   "pygments_lexer": "ipython2",
   "version": "2.7.11+"
  }
 },
 "nbformat": 4,
 "nbformat_minor": 0
}
