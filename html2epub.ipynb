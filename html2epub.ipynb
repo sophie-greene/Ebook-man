{
 "cells": [
  {
   "cell_type": "code",
   "execution_count": 5,
   "metadata": {
    "collapsed": false
   },
   "outputs": [],
   "source": [
    "from ebooklib import epub\n",
    "import os\n",
    "from multiprocessing import Pool\n",
    "import time\n",
    "from bs4 import BeautifulSoup\n",
    "import urllib2\n",
    "import string"
   ]
  },
  {
   "cell_type": "code",
   "execution_count": 17,
   "metadata": {
    "collapsed": false
   },
   "outputs": [
    {
     "data": {
      "text/plain": [
       "220"
      ]
     },
     "execution_count": 17,
     "metadata": {},
     "output_type": "execute_result"
    }
   ],
   "source": [
    "d=\"/media/some/sophie-hhd/books/thrill\"\n",
    "ls=!find $d -type f -iname \"*.html\" -o -iname \"*.htm\" -o -iname \"*.xhtml\" -o -iname \"*.xhtm\" \n",
    "len(ls)\n"
   ]
  },
  {
   "cell_type": "code",
   "execution_count": 7,
   "metadata": {
    "collapsed": false
   },
   "outputs": [],
   "source": [
    "#remove html tags from string html     \n",
    "def html2txt(html,ff):\n",
    "    \n",
    "    soup = BeautifulSoup(open(html).read(),\"lxml\")\n",
    "    txt = soup.get_text()\n",
    "    #print type(txt)\n",
    "    m,f=os.path.split(html)\n",
    "    open(ff,\"w\").write(\"\".join(str(t) for t in txt if t in string.printable[:-3]))\n",
    "    return ff"
   ]
  },
  {
   "cell_type": "code",
   "execution_count": 8,
   "metadata": {
    "collapsed": true
   },
   "outputs": [],
   "source": [
    "#remove html tags from string html     \n",
    "def txt(inp):\n",
    "    d,f=os.path.split(inp)\n",
    "    ff=\"/tmp/\"+f    \n",
    "    txt=open(inp).read()\n",
    "    open(ff,\"w\").write(\"\".join(str(t) for t in txt if t in string.printable[:-3]))\n",
    "    return ff"
   ]
  },
  {
   "cell_type": "code",
   "execution_count": 9,
   "metadata": {
    "collapsed": false,
    "scrolled": true
   },
   "outputs": [],
   "source": [
    "def mvht(l):\n",
    "    ddir=\"/media/some/sophie-hhd/books/htm2epub/\"\n",
    "    m,f=os.path.split(l)\n",
    "    if f[-1] == 'l':\n",
    "        n=-4\n",
    "    else:\n",
    "        n=-3\n",
    "    ff=ddir+f[:n]+\"epub\"\n",
    "    fh=ddir+f[:n]+\"txt\"\n",
    "    fe=m+\"/\"+f[:n]+\"epub\"\n",
    "    tmp=\"/tmp/\"+f[:n]+\"epub\"\n",
    "    tmpl=\"/tmp/\"+f[:n]+\"txt\"\n",
    "    try:\n",
    "        html2txt(l,tmpl)\n",
    "        #os.remove(l)\n",
    "    except:\n",
    "        print \"file doesnt exist\",l\n",
    "    !mv \"$tmpl\" \"$fh\"\n",
    "    if not os.path.exists(ff) and not os.path.exists(fe):\n",
    "        try:\n",
    "            !ebook-convert \"$tmpl\" \"$tmp\" >/dev/null\n",
    "            if os.path.exists(tmp):\n",
    "                !mv \"$tmp\" \"$ff\"\n",
    "        except:\n",
    "            print \"faulty   \",l\n",
    "            \n",
    "    print fh\n",
    " "
   ]
  },
  {
   "cell_type": "code",
   "execution_count": 10,
   "metadata": {
    "collapsed": false,
    "scrolled": true
   },
   "outputs": [
    {
     "name": "stdout",
     "output_type": "stream",
     "text": [
      "/media/some/sophie-hhd/books/htm2epub/Harlequin - Julie Kenner - A Touch Of Scandal.txt\n"
     ]
    }
   ],
   "source": [
    "mvht(ls[0])"
   ]
  },
  {
   "cell_type": "code",
   "execution_count": 11,
   "metadata": {
    "collapsed": false,
    "scrolled": true
   },
   "outputs": [
    {
     "name": "stdout",
     "output_type": "stream",
     "text": [
      "/media/some/sophie-hhd/books/htm2epub/Harlequin - Julie Kenner - A Touch Of Scandal.txt\n",
      "/media/some/sophie-hhd/books/htm2epub/Maureen Child - Kings - Wedding at King's Convenience.txt\n",
      "/media/some/sophie-hhd/books/htm2epub/Harlequin - Julie Elizabeth Leto - Bound And Determined.txt\n",
      "/media/some/sophie-hhd/books/htm2epub/BJ Daniels - Intimate Secrets.txt\n",
      "/media/some/sophie-hhd/books/htm2epub/BJ Daniels - Day of Reckoning.txt\n",
      "/media/some/sophie-hhd/books/htm2epub/Kate Hoffmann - [Men of Bachelor Creek 2] - Dodging Cupid's Arrow.txt\n",
      "/media/some/sophie-hhd/books/htm2epub/Janice Maynard - The Girl Next Door (html).txt\n",
      "/media/some/sophie-hhd/books/htm2epub/BJ Daniels - High-Caliber Cowboy.txt\n",
      "/media/some/sophie-hhd/books/htm2epub/Miranda Lee - A Man for the Night.txt\n",
      "/media/some/sophie-hhd/books/htm2epub/Stephanie Bond - The Truth about SHoes and Men.txt\n",
      "/media/some/sophie-hhd/books/htm2epub/Cathy_Gillen_Thacker-The_Rancher_Next_Door (2).txt\n",
      "/media/some/sophie-hhd/books/htm2epub/Teresa Hill - Single Mom Seeks.txt\n",
      "/media/some/sophie-hhd/books/htm2epub/BJ Daniels - Mystery Bride.txt\n",
      "/media/some/sophie-hhd/books/htm2epub/BJ Daniels - Secret Weapon Spouse.txt\n",
      "/media/some/sophie-hhd/books/htm2epub/Kate Hoffmann [The Mighty Quinns 14] Teague.txt\n",
      "/media/some/sophie-hhd/books/htm2epub/Darlene Marshell - The Bride and the Buccaneer.txt\n",
      "/media/some/sophie-hhd/books/htm2epub/BJ Daniels - Wanted Woman.txt\n",
      "/media/some/sophie-hhd/books/htm2epub/Cathy_Gillen_Thacker-The_Rancher_Next_Door.txt\n",
      "/media/some/sophie-hhd/books/htm2epub/BJ Daniels - Keeping Christmas.txt\n",
      "/media/some/sophie-hhd/books/htm2epub/Cara Elliott - To Surrender to a Rogue.txt\n",
      "/media/some/sophie-hhd/books/htm2epub/BJ Daniels - The Masked Man.txt\n",
      "/media/some/sophie-hhd/books/htm2epub/BJ Daniels - Cowboy Accomplice.txt\n",
      "/media/some/sophie-hhd/books/htm2epub/BJ Daniels - The Agent's Secret Child.txt\n",
      "/media/some/sophie-hhd/books/htm2epub/Stephanie Bond - Lovestruck.txt\n",
      "/media/some/sophie-hhd/books/htm2epub/Anthology - Montana Mavericks - Laurie Paige, Cathie Linz, .txt\n",
      "/media/some/sophie-hhd/books/htm2epub/Judith James - Libertine's Kiss.txt\n",
      "/media/some/sophie-hhd/books/htm2epub/BJ Daniels - Mountain Sheriff.txt\n",
      "/media/some/sophie-hhd/books/htm2epub/Catherine Berlin - The Doctor Next Door.txt\n",
      "/media/some/sophie-hhd/books/htm2epub/BJ Daniels - The Cowgirl in Question.txt\n",
      "/media/some/sophie-hhd/books/htm2epub/BJ Daniels - Ambushed!.txt\n",
      "/media/some/sophie-hhd/books/htm2epub/Claire Baxter - Best Friend...Future Wife.txt\n",
      "/media/some/sophie-hhd/books/htm2epub/dnd.txt\n",
      "/media/some/sophie-hhd/books/htm2epub/Victoria Dahl - A Little Bit Wild.txt\n",
      "/media/some/sophie-hhd/books/htm2epub/Major_Attraction.txt\n",
      "/media/some/sophie-hhd/books/htm2epub/BJ Damiels - When Twilight Comes.txt\n",
      "/media/some/sophie-hhd/books/htm2epub/BJ Daniels - Premeditated Marriage.txt\n",
      "/media/some/sophie-hhd/books/htm2epub/Stephanie Bond - Dirty Secrets of Daylily Drive.txt\n",
      "/media/some/sophie-hhd/books/htm2epub/BJ Daniels - Big Sky Standoff.txt\n",
      "/media/some/sophie-hhd/books/htm2epub/The O'Banyon Brothers 1 - The Billionaire Next Door.txt\n",
      "/media/some/sophie-hhd/books/htm2epub/Brenda Hiatt - Bridge Over Time.txt\n",
      "/media/some/sophie-hhd/books/htm2epub/BJ Daniels - Shotgun Surrender.txt\n",
      "/media/some/sophie-hhd/books/htm2epub/Deborah Simmons - De Lacis 02 - Maiden Bride.txt\n",
      "/media/some/sophie-hhd/books/htm2epub/Rhonda Nelson - Letters From Home.txt\n",
      "/media/some/sophie-hhd/books/htm2epub/Catherine Mann - The Rich Man's Bride.txt\n",
      "/media/some/sophie-hhd/books/htm2epub/Jessica Bird - The O'Banyon Brothers 1 - The Billionaire Ne.txt\n",
      "/media/some/sophie-hhd/books/htm2epub/Tori Carrington - Shameless.txt\n",
      "/media/some/sophie-hhd/books/htm2epub/Catherine Mann - Millionaire in Command.txt\n",
      "/media/some/sophie-hhd/books/htm2epub/Kate Hoffmann [The Mighty Quinns 15] Callum.txt\n",
      "/media/some/sophie-hhd/books/htm2epub/Tori Carrington - In Too Deep (SS).txt\n",
      "/media/some/sophie-hhd/books/htm2epub/Kate Hoffmann  - [The Mighty Quinns 07] - Sean.txt\n",
      "/media/some/sophie-hhd/books/htm2epub/Sydney Croft - ACRO 02 - Unleashing the Storm.txt\n",
      "/media/some/sophie-hhd/books/htm2epub/Jill Shalvis - Uniformly Hot 08 - Storm Watch.txt\n",
      "/media/some/sophie-hhd/books/htm2epub/Catherine Mann - Wingmen Warriors 0 - Out of Uniform.txt\n",
      "/media/some/sophie-hhd/books/htm2epub/Tori Carrington - Reckless.txt\n",
      "/media/some/sophie-hhd/books/htm2epub/Catherine Mann -  Printable Book List.txt\n",
      "/media/some/sophie-hhd/books/htm2epub/BJ Daniels - A Woman with a Mystery.txt\n",
      "/media/some/sophie-hhd/books/htm2epub/Tori Carrington - Fever (SS).txt\n",
      "/media/some/sophie-hhd/books/htm2epub/Jill Shalvis - Anthology 02 - Mother Please.txt\n",
      "/media/some/sophie-hhd/books/htm2epub/Jill Shalvis - Anthology 09 - Born on the 4th of July.txt\n",
      "/media/some/sophie-hhd/books/htm2epub/Cara Summers - [Tex Appeal SS3] - I Can Still Feel You.txt\n",
      "/media/some/sophie-hhd/books/htm2epub/Tori Carrington - Branded.txt\n",
      "/media/some/sophie-hhd/books/htm2epub/longhardridea.txt\n",
      "/media/some/sophie-hhd/books/htm2epub/Sydney Croft - ACRO 04 - Taming the Fire.txt\n",
      "/media/some/sophie-hhd/books/htm2epub/Alison Kent - [Jingle Bell Rock SS5] - A Blue Christmas (v1.txt\n",
      "/media/some/sophie-hhd/books/htm2epub/Jill Shalvis - American Heroes 03 - The Heat is On.txt\n",
      "/media/some/sophie-hhd/books/htm2epub/Sydney Croft - ACRO 03 - Seduced by the Storm.txt\n",
      "/media/some/sophie-hhd/books/htm2epub/The_Masters_Mistress.txt\n",
      "/media/some/sophie-hhd/books/htm2epub/Tori Carrington - Constant Craving.txt\n",
      "/media/some/sophie-hhd/books/htm2epub/Lori Wilde - One Smitten, Twice Shy (v1.0) (html).txt\n",
      "/media/some/sophie-hhd/books/htm2epub/Tex Appeal - Alison Kent, Kimberly Raye and Cara Summers (2.txt\n",
      "/media/some/sophie-hhd/books/htm2epub/Deborah Simmons - Regency Quartet 02 - The Devil Earl.txt\n",
      "/media/some/sophie-hhd/books/htm2epub/Jill Shalvis - Serving Up Trouble.txt\n",
      "/media/some/sophie-hhd/books/htm2epub/Yvonne Lindsay - Rogue Diamonds - Pretend Mistress, Bona Fide Boss.txt\n",
      "/media/some/sophie-hhd/books/htm2epub/Jill Shalvis - Single Novels  - Get a Clue.txt\n",
      "/media/some/sophie-hhd/books/htm2epub/Carole Mortimer - Bedded for the Spaniard's Pleasure.txt\n",
      "/media/some/sophie-hhd/books/htm2epub/Tori Carrington - A Few Good Men.txt\n",
      "/media/some/sophie-hhd/books/htm2epub/Sydney Croft - ACRO 01 - Riding the Storm.txt\n",
      "/media/some/sophie-hhd/books/htm2epub/Tessa Radley - The Untamed Sheik.txt\n",
      "/media/some/sophie-hhd/books/htm2epub/Deborah Simmons - Regency Quartet 01 - The Vicar's Daughter.txt\n",
      "/media/some/sophie-hhd/books/htm2epub/Jill Shalvis - Duets - 01 A Royal Mess - 02 Her Knight To Remember.txt\n",
      "/media/some/sophie-hhd/books/htm2epub/Tori Carrington - Taken.txt\n",
      "/media/some/sophie-hhd/books/htm2epub/Anne McAllister - Savas' Defiant Mistress.txt\n",
      "/media/some/sophie-hhd/books/htm2epub/Alison Kent - Bound to Happen.txt\n",
      "/media/some/sophie-hhd/books/htm2epub/Melanie Milburne - Androletti's Mistress.txt\n",
      "/media/some/sophie-hhd/books/htm2epub/High-Caliber_Christmas.txt\n",
      "/media/some/sophie-hhd/books/htm2epub/Silent_Night_Stakeout.txt\n",
      "/media/some/sophie-hhd/books/htm2epub/Kimberly Lang - The Secret Mistress Arrangement.txt\n",
      "/media/some/sophie-hhd/books/htm2epub/Tori Carrington - Restless.txt\n",
      "/media/some/sophie-hhd/books/htm2epub/Brenda Jackson - Whispered Promises.txt\n",
      "/media/some/sophie-hhd/books/htm2epub/Katherine Garbera - Moretti's Legacy - The Moretti Seduction.txt\n",
      "/media/some/sophie-hhd/books/htm2epub/Alison Kent - GG6 - Indiscreet (html).txt\n",
      "/media/some/sophie-hhd/books/htm2epub/Savior_in_the_Saddle.txt\n",
      "/media/some/sophie-hhd/books/htm2epub/Colby_Brass.txt\n",
      "/media/some/sophie-hhd/books/htm2epub/ruthlessawakening.txt\n",
      "/media/some/sophie-hhd/books/htm2epub/The Sabbides Secret Baby - Jacqueline Baird.txt\n",
      "/media/some/sophie-hhd/books/htm2epub/Chosen by the Sheikh - Kim Lawrence.txt\n",
      "/media/some/sophie-hhd/books/htm2epub/The_Pediatrician_s_Personal_Pro.txt\n",
      "/media/some/sophie-hhd/books/htm2epub/Lori Wilde - The White Star Continuity 1 -Angels and Outlaw.txt\n",
      "/media/some/sophie-hhd/books/htm2epub/sheikhsforbiddenvirginthe.txt\n",
      "/media/some/sophie-hhd/books/htm2epub/Every Girl's Secret Fantasy - Robyn Grady.txt\n",
      "/media/some/sophie-hhd/books/htm2epub/millionairesmisbehavingmis~9737.txt\n",
      "/media/some/sophie-hhd/books/htm2epub/Castellano's Mistress of Revenge - Melanie Milburne.txt\n",
      "/media/some/sophie-hhd/books/htm2epub/9781426866210.txt\n",
      "/media/some/sophie-hhd/books/htm2epub/mommymysterythe.txt\n",
      "/media/some/sophie-hhd/books/htm2epub/keptforherbaby.txt\n",
      "/media/some/sophie-hhd/books/htm2epub/Untameable_Rogue.txt\n",
      "/media/some/sophie-hhd/books/htm2epub/italianbossproudmissprim.txt\n",
      "/media/some/sophie-hhd/books/htm2epub/Kim Lawrence - Sophie and the Scorching Sicilian.txt\n",
      "/media/some/sophie-hhd/books/htm2epub/Stephanie Bond - Voodoo 2 - Finding Your Mojo.txt\n",
      "/media/some/sophie-hhd/books/htm2epub/Body_Armor.txt\n",
      "/media/some/sophie-hhd/books/htm2epub/A_Cop_in_Her_Stocking.txt\n",
      "/media/some/sophie-hhd/books/htm2epub/keepingwatch.txt\n",
      "/media/some/sophie-hhd/books/htm2epub/constantinesdefiantmistres~0521.txt\n",
      "/media/some/sophie-hhd/books/htm2epub/The Pregnancy Shock - Lynne Graham.txt\n",
      "/media/some/sophie-hhd/books/htm2epub/guardinggrace.txt\n",
      "/media/some/sophie-hhd/books/htm2epub/proudrevengepassionatewedl~8450.txt\n",
      "/media/some/sophie-hhd/books/htm2epub/ranchersbrandofjusticea.txt\n",
      "/media/some/sophie-hhd/books/htm2epub/9781426866227.txt\n",
      "/media/some/sophie-hhd/books/htm2epub/Shameful Secret, Shotgun Wedding - Sharon Kendrick.txt\n",
      "/media/some/sophie-hhd/books/htm2epub/latinloverthe.txt\n",
      "/media/some/sophie-hhd/books/htm2epub/unbreakablebond.txt\n",
      "/media/some/sophie-hhd/books/htm2epub/Stephanie Bond - Body Movers 2 - 2 Bodies for the Price of O.txt\n",
      "/media/some/sophie-hhd/books/htm2epub/Majesty_Mistress_Missing_Heir.txt\n",
      "/media/some/sophie-hhd/books/htm2epub/Carol Marinelli - Innoncent Secretary, Accidentally Pregnant.txt\n",
      "/media/some/sophie-hhd/books/htm2epub/The Twelve Nights of Christmas - Sarah Morgan.txt\n",
      "/media/some/sophie-hhd/books/htm2epub/Falco_ The Dark Guardian - Sandra Marton.txt\n",
      "/media/some/sophie-hhd/books/htm2epub/colbycontrol.txt\n",
      "/media/some/sophie-hhd/books/htm2epub/Kate Hoffmann [The Mighty Quinns 13] Brody.txt\n",
      "/media/some/sophie-hhd/books/htm2epub/Unfinished_B-_with_the_Duke.txt\n",
      "/media/some/sophie-hhd/books/htm2epub/Powerful_Gre-usekeeper_Wife.txt\n",
      "/media/some/sophie-hhd/books/htm2epub/soldierthe.txt\n",
      "/media/some/sophie-hhd/books/htm2epub/Stranded_With_Her_Ex.txt\n",
      "/media/some/sophie-hhd/books/htm2epub/Carol Marinelli - Blackmailed into the Greek Tycoon's Bed.txt\n",
      "/media/some/sophie-hhd/books/htm2epub/Bride in a Gilded Cage.txt\n",
      "/media/some/sophie-hhd/books/htm2epub/Sharon Kendrick - Royal House of Karedes - The Playboy Sheikh's Virgin Stable-Girl.txt\n",
      "/media/some/sophie-hhd/books/htm2epub/Public_Marriage_Private_Secrets.txt\n",
      "/media/some/sophie-hhd/books/htm2epub/My Fake Fiancee - Nancy Warren.txt\n",
      "/media/some/sophie-hhd/books/htm2epub/endlesssummer.txt\n",
      "/media/some/sophie-hhd/books/htm2epub/Deborah Simmons - Regency Quartet 03 - Tempting Kate.txt\n",
      "/media/some/sophie-hhd/books/htm2epub/Natalie Anderson - To Love Honour and Disobey.txt\n",
      "/media/some/sophie-hhd/books/htm2epub/The Tutor - Hope Tarr.txt\n",
      "/media/some/sophie-hhd/books/htm2epub/makemeyours.txt\n",
      "/media/some/sophie-hhd/books/htm2epub/Julia James & Carole Mortimer - An Heir for the Millionaire.txt\n",
      "/media/some/sophie-hhd/books/htm2epub/The Braddock Boys_Brent - Kimberly Raye.txt\n",
      "/media/some/sophie-hhd/books/htm2epub/twinseduction.txt\n",
      "/media/some/sophie-hhd/books/htm2epub/Maggie Cox - Secretary by Day, Mistress by Night.txt\n",
      "/media/some/sophie-hhd/books/htm2epub/Simon Says - Donna Kauffman.txt\n",
      "/media/some/sophie-hhd/books/htm2epub/Susan Stephens - Master of the Desert.txt\n",
      "/media/some/sophie-hhd/books/htm2epub/hardtoresist.txt\n",
      "/media/some/sophie-hhd/books/htm2epub/Ambushed! - Vicki Lewis.txt\n",
      "/media/some/sophie-hhd/books/htm2epub/Anna Cleary - Wedding Night with a Stranger.txt\n",
      "/media/some/sophie-hhd/books/htm2epub/PennyJordan-CaptiveAttheSicilianBillionairesCommand.txt\n",
      "/media/some/sophie-hhd/books/htm2epub/mightyquinnsteaguethe.txt\n",
      "/media/some/sophie-hhd/books/htm2epub/Penny Jordan - The Italian Duke's Virgin Mistress.txt\n",
      "/media/some/sophie-hhd/books/htm2epub/Emilie Rose - Hudsons of Beverly Hills - Bargained Into Her Boss's Bed.txt\n",
      "/media/some/sophie-hhd/books/htm2epub/Lucy Monroe - The Greek's Pregnant Lover.txt\n",
      "/media/some/sophie-hhd/books/htm2epub/The Venadicci Marriage Vengeance.txt\n",
      "/media/some/sophie-hhd/books/htm2epub/Kate Hewitt - Count Toussaint's Pregnant Mistress.txt\n",
      "/media/some/sophie-hhd/books/htm2epub/Jennie Lucas - Bought-The Greek's Baby.txt\n",
      "/media/some/sophie-hhd/books/htm2epub/Abby Green - The French Tycoon's Pregnant Mistress.txt\n",
      "/media/some/sophie-hhd/books/htm2epub/marriageforbusinessorpleasure.txt\n",
      "/media/some/sophie-hhd/books/htm2epub/Wanted! - Vicki Lewis Thompson.txt\n",
      "/media/some/sophie-hhd/books/htm2epub/Will_of_Steel.txt\n",
      "/media/some/sophie-hhd/books/htm2epub/Carole Mortimer - The Infamous Italian's Secret Baby (html).txt\n",
      "/media/some/sophie-hhd/books/htm2epub/The Count of Castelfino.txt\n",
      "/media/some/sophie-hhd/books/htm2epub/The_One_Who_Got_Away.txt\n",
      "/media/some/sophie-hhd/books/htm2epub/Sweet_Surrender_Baby_Surprise.txt\n",
      "/media/some/sophie-hhd/books/htm2epub/proudgreekruthlessrevenge.txt\n",
      "/media/some/sophie-hhd/books/htm2epub/Hired for the Boss's Bedroom.txt\n",
      "/media/some/sophie-hhd/books/htm2epub/Born on the 4th of July - Jill Shalvi_ Ronda Nelson_ Karen Foley.txt\n",
      "/media/some/sophie-hhd/books/htm2epub/Under_the_Millionaire_s_Mistlet.txt\n",
      "/media/some/sophie-hhd/books/htm2epub/executivespregnancyultimatum.txt\n",
      "/media/some/sophie-hhd/books/htm2epub/Scandal_His_Majestys_Love-Child.txt\n",
      "/media/some/sophie-hhd/books/htm2epub/The_Tycoon_s_Paternity_Agenda.txt\n",
      "/media/some/sophie-hhd/books/htm2epub/onetoughmarine.txt\n",
      "/media/some/sophie-hhd/books/htm2epub/Taken Beyond Temptation - Cara Summers.txt\n",
      "/media/some/sophie-hhd/books/htm2epub/Magnates_Mis-tally_Pregnant.txt\n",
      "/media/some/sophie-hhd/books/htm2epub/Scandal His Majesty's Love-Child.txt\n",
      "/media/some/sophie-hhd/books/htm2epub/The Virgin's Secret.txt\n",
      "/media/some/sophie-hhd/books/htm2epub/Melanie Milburne - The Melendez Forgotten Marriage.txt\n",
      "/media/some/sophie-hhd/books/htm2epub/Dana Marton - Defending the Crown 02 - Saved by the Monarch.txt\n",
      "/media/some/sophie-hhd/books/htm2epub/Deborah Simmons - De Burghs 05 - My Lord de Burgh.txt\n",
      "/media/some/sophie-hhd/books/htm2epub/The_Shy_Bride.txt\n",
      "/media/some/sophie-hhd/books/htm2epub/The Shy Bride.txt\n",
      "/media/some/sophie-hhd/books/htm2epub/Julia James - His Penniless Beauty.txt\n",
      "/media/some/sophie-hhd/books/htm2epub/B.J. Daniels - Whitehorse Montana; The Corbetts - Hunting Down the Horseman.txt\n",
      "/media/some/sophie-hhd/books/htm2epub/Deborah Simmons - De Burghs 03 - Robber Bride.txt\n",
      "/media/some/sophie-hhd/books/htm2epub/The_Last_Kolovsky_Playboy.txt\n",
      "/media/some/sophie-hhd/books/htm2epub/Ruling Sheikh, Unruly Mistress.txt\n",
      "/media/some/sophie-hhd/books/htm2epub/Hired_for_the_Boss_s_Bedroom.txt\n",
      "/media/some/sophie-hhd/books/htm2epub/Rita Herron - Kenner County Crime Unit - Collecting Evidence.txt\n",
      "/media/some/sophie-hhd/books/htm2epub/Champagne_with_a_Celebrity.txt\n",
      "/media/some/sophie-hhd/books/htm2epub/Mistress; At What Price.txt\n",
      "/media/some/sophie-hhd/books/htm2epub/Deborah Simmons - The Gentleman Thief.txt\n",
      "/media/some/sophie-hhd/books/htm2epub/The_Man_Behind_the_Mask.txt\n",
      "/media/some/sophie-hhd/books/htm2epub/Carla Cassidy - Recovery Men 02 - Interrogating the Bride.txt\n",
      "/media/some/sophie-hhd/books/htm2epub/Penny Jordan - The Wealthy Greek's Contract Wife.txt\n",
      "/media/some/sophie-hhd/books/htm2epub/RobynDonald-InnocentMistressRoyalWife.txt\n",
      "/media/some/sophie-hhd/books/htm2epub/Deborah Simmons - De Burghs 02 - The De Burgh Bride.txt\n",
      "/media/some/sophie-hhd/books/htm2epub/The_Virgins_Choice.txt\n",
      "/media/some/sophie-hhd/books/htm2epub/The Ranger - Rhonda Nelson.txt\n",
      "/media/some/sophie-hhd/books/htm2epub/Ann Voss Peterson - Diamonds and Daddies - Priceless Newborn Prince.txt\n",
      "/media/some/sophie-hhd/books/htm2epub/Emma Darcy - Ruthless Billionaire, Forbidden Baby.txt\n",
      "/media/some/sophie-hhd/books/htm2epub/Jenna Ryan - Kissing the Key Witness.txt\n",
      "/media/some/sophie-hhd/books/htm2epub/The_Reluctant_Surrender.txt\n",
      "/media/some/sophie-hhd/books/htm2epub/Maggie Cox - Bought; For His Convenience of Pleasure.txt\n",
      "/media/some/sophie-hhd/books/htm2epub/Deborah Simmons - De Lacis 01- The Devil's Lady.txt\n",
      "/media/some/sophie-hhd/books/htm2epub/Trish Morey - Royal & Ruthless - The Ruthless Greeks Virgin Princess.txt\n",
      "/media/some/sophie-hhd/books/htm2epub/KateHardy-PlayboyBossPregnancyofPassion.txt\n",
      "/media/some/sophie-hhd/books/htm2epub/Helen Brooks - Sweet Surrender With the Millionaire'.txt\n",
      "/media/some/sophie-hhd/books/htm2epub/Sabrina Philips - Royal & Ruthless - The Desert King's Bejewelled Bride.txt\n",
      "/media/some/sophie-hhd/books/htm2epub/Indiscretions - Lori Borrill.txt\n",
      "/media/some/sophie-hhd/books/htm2epub/Kynn Raye Harris - Spanish Magnate, Red-Hot Revenge.txt\n",
      "/media/some/sophie-hhd/books/htm2epub/Melanie Milburne - Marcolini Men - The Marcolini Blackmail Marriage.txt\n",
      "/media/some/sophie-hhd/books/htm2epub/Lucy Gordon - Royal & Ruthless - Veretti's Dark Vengeance.txt\n",
      "/media/some/sophie-hhd/books/htm2epub/The Sexy Devil - Kate Hoffmann.txt\n",
      "/media/some/sophie-hhd/books/htm2epub/Secret_Agent_Sheik.txt\n",
      "/media/some/sophie-hhd/books/htm2epub/Special_Ops_Affair.txt\n",
      "/media/some/sophie-hhd/books/htm2epub/Always_a_Hero.txt\n",
      "/media/some/sophie-hhd/books/htm2epub/3 Seductions and a Wedding - Julie Leto.txt\n",
      "('time: ', 299.50527691841125)\n"
     ]
    }
   ],
   "source": [
    "t0 = time.time()\n",
    "p = Pool(10)\n",
    "p.map(mvht, ls)\n",
    "p.terminate()\n",
    "p.close()\n",
    "t1 = time.time()\n",
    "total = t1-t0\n",
    "print('time: ',total)"
   ]
  },
  {
   "cell_type": "code",
   "execution_count": 12,
   "metadata": {
    "collapsed": false
   },
   "outputs": [
    {
     "data": {
      "text/plain": [
       "14636"
      ]
     },
     "execution_count": 12,
     "metadata": {},
     "output_type": "execute_result"
    }
   ],
   "source": [
    "#verify epubs\n",
    "d=\"/media/some/sophie-hhd/books/thrill\"\n",
    "lst=! find \"$d\" -type f -iname \"*.epub\"\n",
    "len(lst)"
   ]
  },
  {
   "cell_type": "code",
   "execution_count": 13,
   "metadata": {
    "collapsed": false
   },
   "outputs": [],
   "source": [
    "def verifye(f):\n",
    "    m,ff=os.path.split(f)\n",
    "    try:\n",
    "        if os.path.exists(f):  \n",
    "            book=epub.read_epub(f)\n",
    "            os.remove(f)\n",
    "            epub.write_epub(f,book)\n",
    "            return (f,\"OK\")\n",
    "        else:\n",
    "            return (f,\"DOESNT EXIST\")\n",
    "            #print \"file  ...\" ,ff,\" ...... verified\"\n",
    "    except:\n",
    "        #print \"file corrupt ...\" ,ff,\" ...... deleting\"\n",
    "        #os.remove(f)\n",
    "        return (f,\"NOT OK\")"
   ]
  },
  {
   "cell_type": "code",
   "execution_count": 14,
   "metadata": {
    "collapsed": false
   },
   "outputs": [
    {
     "name": "stdout",
     "output_type": "stream",
     "text": [
      "('/media/some/sophie-hhd/books/thrill/The Woodlanders - Thomas Hardy.epub', 'OK')\n"
     ]
    }
   ],
   "source": [
    "print verifye(lst[0])\n"
   ]
  },
  {
   "cell_type": "code",
   "execution_count": 16,
   "metadata": {
    "collapsed": false,
    "scrolled": false
   },
   "outputs": [
    {
     "name": "stderr",
     "output_type": "stream",
     "text": [
      "/usr/local/lib/python2.7/dist-packages/ebooklib/epub.py:848: UserWarning: Duplicate name: 'EPUB/Images/cover0001.jpg'\n",
      "  self.out.writestr('%s/%s' % (self.book.FOLDER_NAME, item.file_name), item.get_content())\n",
      "/usr/local/lib/python2.7/dist-packages/ebooklib/epub.py:848: UserWarning: Duplicate name: 'EPUB/Text/Michael Moorcock - The Books of Corum 01 - The Knight of the Swords v3.1 (BD)_split_028.htm'\n",
      "  self.out.writestr('%s/%s' % (self.book.FOLDER_NAME, item.file_name), item.get_content())\n",
      "/usr/local/lib/python2.7/dist-packages/ebooklib/epub.py:848: UserWarning: Duplicate name: 'EPUB/logo.jpg'\n",
      "  self.out.writestr('%s/%s' % (self.book.FOLDER_NAME, item.file_name), item.get_content())\n",
      "/usr/local/lib/python2.7/dist-packages/ebooklib/epub.py:848: UserWarning: Duplicate name: 'EPUB/Text/The Drawing Of The Dark_split_000.html'\n",
      "  self.out.writestr('%s/%s' % (self.book.FOLDER_NAME, item.file_name), item.get_content())\n"
     ]
    },
    {
     "name": "stdout",
     "output_type": "stream",
     "text": [
      "('time: ', 20240.29477095604)\n"
     ]
    }
   ],
   "source": [
    "t0 = time.time()\n",
    "p = Pool(10)\n",
    "m=map(verifye, lst)\n",
    "p.terminate()\n",
    "p.close()\n",
    "t1 = time.time()\n",
    "total = t1-t0\n",
    "print('time: ',total)"
   ]
  },
  {
   "cell_type": "code",
   "execution_count": 134,
   "metadata": {
    "collapsed": false,
    "scrolled": false
   },
   "outputs": [
    {
     "data": {
      "text/plain": [
       "27"
      ]
     },
     "execution_count": 134,
     "metadata": {},
     "output_type": "execute_result"
    }
   ],
   "source": [
    "cnt=0\n",
    "for l in m:\n",
    "    if l != None and l[1] ==\"NOT OK\":\n",
    "        cnt+=1\n",
    "        #print l[0]\n",
    "        #os.remove(l[0])\n",
    "cnt"
   ]
  },
  {
   "cell_type": "code",
   "execution_count": null,
   "metadata": {
    "collapsed": false
   },
   "outputs": [],
   "source": [
    "len(m)"
   ]
  },
  {
   "cell_type": "code",
   "execution_count": null,
   "metadata": {
    "collapsed": false
   },
   "outputs": [],
   "source": [
    "a=set([1,2,3]) \n",
    "b=set([1])\n",
    "a-b"
   ]
  },
  {
   "cell_type": "code",
   "execution_count": null,
   "metadata": {
    "collapsed": false
   },
   "outputs": [],
   "source": [
    "#verify epubs\n",
    "d=\"/media/some/sophie-hhd/books/thrill/\"\n",
    "ls=! find \"$d\" -type f -iname \"*.epub\"\n",
    "len(ls)"
   ]
  },
  {
   "cell_type": "code",
   "execution_count": null,
   "metadata": {
    "collapsed": true
   },
   "outputs": [],
   "source": [
    "#find items in ls and not in lst\n",
    "com=list(set(ls)-set(lst))"
   ]
  },
  {
   "cell_type": "code",
   "execution_count": null,
   "metadata": {
    "collapsed": false
   },
   "outputs": [],
   "source": [
    "len(com),len(ls),len(lst)"
   ]
  },
  {
   "cell_type": "code",
   "execution_count": null,
   "metadata": {
    "collapsed": false
   },
   "outputs": [],
   "source": [
    "comm=list(set(lst)-set(com))\n",
    "len(comm)"
   ]
  },
  {
   "cell_type": "code",
   "execution_count": 136,
   "metadata": {
    "collapsed": false
   },
   "outputs": [],
   "source": [
    "\n",
    "ls=!find \"$d\" -type f -mtime -.2 -iname *.epub"
   ]
  },
  {
   "cell_type": "code",
   "execution_count": 138,
   "metadata": {
    "collapsed": false
   },
   "outputs": [
    {
     "data": {
      "text/plain": [
       "1192"
      ]
     },
     "execution_count": 138,
     "metadata": {},
     "output_type": "execute_result"
    }
   ],
   "source": [
    "len(ls)"
   ]
  },
  {
   "cell_type": "code",
   "execution_count": 139,
   "metadata": {
    "collapsed": false
   },
   "outputs": [
    {
     "data": {
      "text/plain": [
       "532"
      ]
     },
     "execution_count": 139,
     "metadata": {},
     "output_type": "execute_result"
    }
   ],
   "source": [
    "ls.index('/media/some/sophie-hhd/books/thrill/The MaddAddam Trilogy_ Oryx and - Margaret Atwood.epub')"
   ]
  },
  {
   "cell_type": "code",
   "execution_count": null,
   "metadata": {
    "collapsed": true
   },
   "outputs": [],
   "source": []
  }
 ],
 "metadata": {
  "kernelspec": {
   "display_name": "Python 2",
   "language": "python",
   "name": "python2"
  },
  "language_info": {
   "codemirror_mode": {
    "name": "ipython",
    "version": 2
   },
   "file_extension": ".py",
   "mimetype": "text/x-python",
   "name": "python",
   "nbconvert_exporter": "python",
   "pygments_lexer": "ipython2",
   "version": "2.7.11+"
  }
 },
 "nbformat": 4,
 "nbformat_minor": 0
}
