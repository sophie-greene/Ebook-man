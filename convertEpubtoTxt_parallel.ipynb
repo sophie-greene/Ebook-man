{
 "cells": [
  {
   "cell_type": "code",
   "execution_count": null,
   "metadata": {
    "collapsed": false
   },
   "outputs": [],
   "source": [
    "import nltk\n",
    "from ebooklib import epub \n",
    "from  comFunc import *\n",
    "import os \n",
    "import glob\n",
    "from multiprocessing import Pool\n",
    "import time\n",
    "import string\n",
    "\n"
   ]
  },
  {
   "cell_type": "code",
   "execution_count": null,
   "metadata": {
    "collapsed": false
   },
   "outputs": [],
   "source": [
    "d_dir = '/home/some/epubs/'\n",
    "\n",
    "path=!pwd\n",
    "os.chdir(d_dir)\n",
    "files=glob.glob('*.epub')\n",
    "os.chdir(path[0])\n",
    "#files"
   ]
  },
  {
   "cell_type": "code",
   "execution_count": null,
   "metadata": {
    "collapsed": false
   },
   "outputs": [],
   "source": [
    "len(files)"
   ]
  },
  {
   "cell_type": "code",
   "execution_count": null,
   "metadata": {
    "collapsed": true
   },
   "outputs": [],
   "source": [
    "!mkdir /home/some/txts/"
   ]
  },
  {
   "cell_type": "code",
   "execution_count": null,
   "metadata": {
    "collapsed": true
   },
   "outputs": [],
   "source": [
    "d_dir = '/home/some/txts/'\n",
    "\n",
    "path=!pwd\n",
    "os.chdir(d_dir)\n",
    "txtfiles=glob.glob('*.txt')\n",
    "os.chdir(path[0])"
   ]
  },
  {
   "cell_type": "code",
   "execution_count": null,
   "metadata": {
    "collapsed": false
   },
   "outputs": [],
   "source": [
    "#paralllel\n",
    "def convert(f):\n",
    "    d_dir = '/home/some/epubs/'\n",
    "    ff=d_dir+f\n",
    "    ft='/home/some/txts/'+f[:-4]+\"txt\"\n",
    "    #fm='/home/some/mobi/'+f.split(os.sep)[-1][:-4]+\"mobi\"\n",
    "    if not os.path.exists(ft):\n",
    "        #try:\n",
    "            tmp='/tmp/'+str(time.time())+\".txt\"\n",
    "            txt=!epub2txt \"$ff\"\n",
    "            fl=open(tmp,'w')\n",
    "            #fl.write('\\n'.join(txt))\n",
    "            fl.write('\\n'.join(''.join(tt for tt in t if tt in string.printable) for t in txt))\n",
    "            fl.close\n",
    "            !mv \"$tmp\" \"$ft\"\n",
    "        #except:\n",
    "        #    print(' error   >>>>>>>>>>>>>>',f)\n",
    "        #!ebook-convert \"$f\" \"$fm\" >/dev/null\n",
    "    #print (ft+' ......done')\n"
   ]
  },
  {
   "cell_type": "code",
   "execution_count": null,
   "metadata": {
    "collapsed": false
   },
   "outputs": [],
   "source": [
    "convert(files[3])"
   ]
  },
  {
   "cell_type": "code",
   "execution_count": null,
   "metadata": {
    "collapsed": false,
    "scrolled": true
   },
   "outputs": [],
   "source": [
    "t0 = time.time()\n",
    "p = Pool(10)\n",
    "p.map(convert, list(reversed(files)))\n",
    "p.terminate()\n",
    "p.close()\n",
    "t1 = time.time()\n",
    "total = t1-t0\n",
    "print('time: ',total)"
   ]
  },
  {
   "cell_type": "code",
   "execution_count": null,
   "metadata": {
    "collapsed": false
   },
   "outputs": [],
   "source": [
    "import sys\n",
    "\n",
    "try:\n",
    "    p.terminate()\n",
    "except Exception:\n",
    "    #print str(e)\n",
    "    sys.exit()\n",
    "#sys.exit()"
   ]
  },
  {
   "cell_type": "code",
   "execution_count": null,
   "metadata": {
    "collapsed": true
   },
   "outputs": [],
   "source": [
    "p.terminate()\n",
    "p.close()\n"
   ]
  },
  {
   "cell_type": "code",
   "execution_count": null,
   "metadata": {
    "collapsed": false
   },
   "outputs": [],
   "source": [
    "def removeFaultyEpub(f):\n",
    "    ed='/home/some/epubs/'\n",
    "    \n",
    "    book=epub.read_epub(f)\n",
    "    \n",
    "'''        os.remove(ed+f)\n",
    "        ft=\"/home/some/txts/\" + f[:-4]+ \"txt\"\n",
    "        if os.path.exists(ft):\n",
    "            os.remove(ft)\n",
    "        '''"
   ]
  },
  {
   "cell_type": "code",
   "execution_count": null,
   "metadata": {
    "collapsed": false
   },
   "outputs": [],
   "source": [
    "#Dangerous\n",
    "ed='/home/some/epubs/'\n",
    "cwd= !pwd\n",
    "os.chdir(ed)\n",
    "files=glob.glob('*.epub')\n",
    "os.chdir(cwd[0])\n",
    "t0 = time.time()\n",
    "p = Pool(10)\n",
    "p.map(removeFaultyEpub, reversed(files))\n",
    "t1 = time.time()\n",
    "total = t1-t0\n",
    "print('time: ',total)\n"
   ]
  },
  {
   "cell_type": "code",
   "execution_count": null,
   "metadata": {
    "collapsed": false
   },
   "outputs": [],
   "source": [
    "len(files)"
   ]
  },
  {
   "cell_type": "code",
   "execution_count": null,
   "metadata": {
    "collapsed": true
   },
   "outputs": [],
   "source": []
  }
 ],
 "metadata": {
  "kernelspec": {
   "display_name": "Python 3",
   "language": "python",
   "name": "python3"
  },
  "language_info": {
   "codemirror_mode": {
    "name": "ipython",
    "version": 3
   },
   "file_extension": ".py",
   "mimetype": "text/x-python",
   "name": "python",
   "nbconvert_exporter": "python",
   "pygments_lexer": "ipython3",
   "version": "3.5.1+"
  }
 },
 "nbformat": 4,
 "nbformat_minor": 0
}
