{
 "cells": [
  {
   "cell_type": "code",
   "execution_count": 2,
   "metadata": {
    "collapsed": true
   },
   "outputs": [],
   "source": [
    "import os,glob\n",
    "from dateutil import parser\n",
    "import datetime\n",
    "from IPython.display import clear_output\n",
    "from ebooklib import epub\n",
    "import ebooklib"
   ]
  },
  {
   "cell_type": "code",
   "execution_count": 4,
   "metadata": {
    "collapsed": false
   },
   "outputs": [],
   "source": [
    "path=\"/media/some/sophie-hhd/books/epub-cm/\"\n",
    "tp=\"/media/some/sophie-hhd/books/tmpadd/\"\n"
   ]
  },
  {
   "cell_type": "markdown",
   "metadata": {},
   "source": [
    "### reverse the order of author-title  if auther contains any the,of and change metadata"
   ]
  },
  {
   "cell_type": "code",
   "execution_count": 5,
   "metadata": {
    "collapsed": true
   },
   "outputs": [],
   "source": [
    "import pickle\n",
    "def save_obj(obj, name ):\n",
    "    with open( name + '.pkl', 'wb') as f:\n",
    "        pickle.dump(obj, f, pickle.HIGHEST_PROTOCOL)\n",
    "\n",
    "def load_obj(name ):\n",
    "    with open( name + '.pkl', 'rb') as f:\n",
    "        return pickle.load(f)"
   ]
  },
  {
   "cell_type": "code",
   "execution_count": 14,
   "metadata": {
    "collapsed": false
   },
   "outputs": [],
   "source": [
    "path=\"/media/some/sophie-hhd/books/epub-cm/\"\n",
    "tgp='/media/some/sophie-hhd/books/exchanged/'\n",
    "try:\n",
    "    m=load_obj('filelst')\n",
    "except:\n",
    "    os.chdir(path)\n",
    "    m=glob.glob(\"*.epub\")\n",
    "\n",
    "    os.chdir(\"/home/some\")\n",
    "    save_obj(m, 'filelst')\n",
    "try:\n",
    "    metalst=load_obj('metalst')\n",
    "except:\n",
    "    metalst={}\n",
    "    save_obj(metalst, 'metalst')\n",
    "cnt=0"
   ]
  },
  {
   "cell_type": "code",
   "execution_count": null,
   "metadata": {
    "collapsed": false
   },
   "outputs": [
    {
     "name": "stdout",
     "output_type": "stream",
     "text": [
      "100\n",
      "200\n",
      "300\n",
      "400\n"
     ]
    }
   ],
   "source": [
    "metalst=load_obj('metalst')\n",
    "\n",
    "for mm in reversed(sorted(m)):\n",
    "    ff=path+mm\n",
    "    if mm not in metalst.keys():\n",
    "        tm=!ebook-meta $ff\n",
    "        metalst[mm]=tm\n",
    "    \n",
    "    m.pop(m.index(mm))\n",
    "    cnt+=1\n",
    "    if cnt%100==0:\n",
    "        print cnt\n",
    "        save_obj(metalst, 'metalst')"
   ]
  },
  {
   "cell_type": "code",
   "execution_count": null,
   "metadata": {
    "collapsed": false
   },
   "outputs": [],
   "source": [
    "\n",
    "def hasNumbers(inputString):\n",
    "    return any(char.isdigit() for char in inputString)"
   ]
  },
  {
   "cell_type": "code",
   "execution_count": null,
   "metadata": {
    "collapsed": false,
    "scrolled": true
   },
   "outputs": [],
   "source": [
    "metalst=load_obj('metalst')\n",
    "#reverse the order of author-title  if auther contains any the,of and change metadata\n",
    "strlist=[\" the \",' of ', 'billionaire','wife ',' on ','yesterday' ]\n",
    "\n",
    "cnt=0\n",
    "for f in m:\n",
    "    ff=path+f\n",
    "    try:\n",
    "        #get metadata\n",
    "        if f in metalst.keys():\n",
    "            metadataR=metalst[f]\n",
    "            #convert to dictionary\n",
    "            metadata={}\n",
    "            for met in metadataR:\n",
    "                tmp=met.split(\":\")\n",
    "                if len(tmp) >= 2:\n",
    "                    metadata[tmp[0].strip()]=tmp[1].strip()\n",
    "                elif len(tmp)==1:\n",
    "                    metadata[tmp[0].strip()]='Unkown'\n",
    "\n",
    "            if 'Author(s)' in metadata.keys():\n",
    "\n",
    "                if any(x in  metadata['Author(s)'].lower(\n",
    "                    ) for x in strlist) or metadata['Author(s)'].lower(\n",
    "                )[:4]=='the ': #or hasNumbers(metadata['Author(s)']):\n",
    "                    book=epub.read_epub(ff)\n",
    "                    if 'creator' in book.metadata['http://purl.org/dc/elements/1.1/'].keys():\n",
    "                        book.metadata['http://purl.org/dc/elements/1.1/'].pop('creator')\n",
    "                    book.add_author(metadata['Title'])\n",
    "                    if 'title' in book.metadata['http://purl.org/dc/elements/1.1/'].keys():\n",
    "                        book.metadata['http://purl.org/dc/elements/1.1/'].pop('title')\n",
    "                    book.set_title(metadata['Author(s)'])\n",
    "                    tit=''.join(ch for ch in book.get_metadata(\"DC\", \"title\")[0][0] if ch.isalnum())\n",
    "                    auth=''.join(ch for ch in book.get_metadata(\"DC\",\"creator\")[0][0] if ch.isalnum())\n",
    "                    name=auth+\"-\"+tit+\".epub\"\n",
    "                    if not os.path.isfile(path+name):\n",
    "                        name=name.lower()\n",
    "                        print 'saving ..',ff,\" as ..\" ,name\n",
    "                        epub.write_epub(path+name,book,{} )\n",
    "                        tf=tgp+name.lower()\n",
    "                        if not os.path.isfile(tf):\n",
    "                            ! mv $ff $tf\n",
    "                        else:\n",
    "                            os.remove(ff)\n",
    "\n",
    "                if metadata['Author(s)'].count(',') == 1 and metadata['Author(s)'].count('[') == 0:\n",
    "                    book=epub.read_epub(ff)\n",
    "                    if 'creator' in book.metadata['http://purl.org/dc/elements/1.1/'].keys():\n",
    "                        book.metadata['http://purl.org/dc/elements/1.1/'].pop('creator')\n",
    "                    tmp=metadata['Author(s)'].split(',')\n",
    "                    auth=' '.join(t for t in reversed(tmp))\n",
    "                    book.add_author(auth)\n",
    "                    tit=''.join(ch for ch in book.get_metadata(\"DC\", \"title\")[0][0] if ch.isalnum())\n",
    "                    auth=''.join(ch for ch in book.get_metadata(\"DC\",\"creator\")[0][0] if ch.isalnum())\n",
    "                    name=auth+\"-\"+tit+\".epub\"\n",
    "                    if not os.path.isfile(path+name):\n",
    "                        name=name.lower()\n",
    "                        print 'saving ..',ff,\" as ..\" ,name\n",
    "                        epub.write_epub(path+name,book,{} )\n",
    "                        tf=tgp+name.lower()\n",
    "                        if not os.path.isfile(tf):\n",
    "                            ! mv $ff $tf\n",
    "                        else:\n",
    "                            os.remove(ff)\n",
    "\n",
    "    except epub.EpubException:\n",
    "        \n",
    "        print \"failed to read epub removing\"\n",
    "        os.remove(ff)\n",
    "    #tmp=filename[:-5].split('-')\n",
    "    #os.rename(filename, '-'.join(t for t in reversed(tmp))+\".epub\")\n",
    "    cnt+=1\n",
    "    #if cnt>1:\n",
    "     #   break\n"
   ]
  },
  {
   "cell_type": "code",
   "execution_count": null,
   "metadata": {
    "collapsed": false
   },
   "outputs": [],
   "source": [
    "st='yuletideprotector-juliemiller.epub'\n",
    "tmp=st[:-5].split('-')\n",
    "\n",
    "st_r='-'.join(t for t in reversed(tmp))+\".epub\"\n",
    "st_r"
   ]
  },
  {
   "cell_type": "code",
   "execution_count": null,
   "metadata": {
    "collapsed": false
   },
   "outputs": [],
   "source": [
    "#remove files in directory path which atime is between rt and et\n",
    "os.chdir(path)\n",
    "m=glob.glob(\"*.epub\")\n",
    "os.chdir(\"/home/some\")\n",
    "cnt=0\n",
    "for f in m:\n",
    "    ff=path+f\n",
    "    atm=! stat $ff |grep \"Access: 2\"\n",
    "    atime=parser.parse(atm[0].replace(\"Access: \",\"\").replace(' +0100',''))\n",
    "    #if file accessed after 18:00 on 10/05/2016\n",
    "    if atime >= rt and atime <= et:\n",
    "        cnt+=1\n",
    "        print cnt,'-', atime,\" moving .. \",f\n",
    "        \n",
    "        if cnt % 10 == 0:\n",
    "            clear_output()\n",
    "        \n",
    "        os.remove(ff)\n",
    "print cnt       \n"
   ]
  },
  {
   "cell_type": "code",
   "execution_count": null,
   "metadata": {
    "collapsed": false
   },
   "outputs": [],
   "source": []
  },
  {
   "cell_type": "code",
   "execution_count": null,
   "metadata": {
    "collapsed": false
   },
   "outputs": [],
   "source": [
    "tf"
   ]
  },
  {
   "cell_type": "code",
   "execution_count": null,
   "metadata": {
    "collapsed": false
   },
   "outputs": [],
   "source": [
    "os.chdir('/home/')\n",
    "os.path.isfile('/home/some/author.txt')"
   ]
  },
  {
   "cell_type": "code",
   "execution_count": null,
   "metadata": {
    "collapsed": true
   },
   "outputs": [],
   "source": []
  }
 ],
 "metadata": {
  "kernelspec": {
   "display_name": "Python 2",
   "language": "python",
   "name": "python2"
  },
  "language_info": {
   "codemirror_mode": {
    "name": "ipython",
    "version": 2
   },
   "file_extension": ".py",
   "mimetype": "text/x-python",
   "name": "python",
   "nbconvert_exporter": "python",
   "pygments_lexer": "ipython2",
   "version": "2.7.10"
  }
 },
 "nbformat": 4,
 "nbformat_minor": 0
}
