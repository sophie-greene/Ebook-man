{
 "cells": [
  {
   "cell_type": "code",
   "execution_count": null,
   "metadata": {
    "collapsed": false
   },
   "outputs": [],
   "source": [
    "#retrieve file from remote repo\n",
    "#!git fetch\n",
    "#!git checkout origin/master -- \"Access calibre sqlite.ipynb\""
   ]
  },
  {
   "cell_type": "code",
   "execution_count": null,
   "metadata": {
    "collapsed": false
   },
   "outputs": [],
   "source": [
    "#! cat /home/some/.bashrc\n",
    "!pwd"
   ]
  },
  {
   "cell_type": "code",
   "execution_count": null,
   "metadata": {
    "collapsed": false
   },
   "outputs": [],
   "source": [
    "#set identity\n",
    "!git config --global user.email \"eng.s.green@gmail.com\"\n",
    "!git config --global user.name \"Sophie Greene\""
   ]
  },
  {
   "cell_type": "code",
   "execution_count": 2,
   "metadata": {
    "collapsed": false
   },
   "outputs": [
    {
     "name": "stdout",
     "output_type": "stream",
     "text": [
      "On branch master\n",
      "Your branch is up-to-date with 'origin/master'.\n",
      "Changes not staged for commit:\n",
      "\t\u001b[31mmodified:   .gitignore\u001b[m\n",
      "\t\u001b[31mdeleted:    Untitled-Copy1.ipynb\u001b[m\n",
      "\t\u001b[31mdeleted:    Untitled-Copy2.ipynb\u001b[m\n",
      "\t\u001b[31mdeleted:    Untitled2.ipynb\u001b[m\n",
      "\t\u001b[31mdeleted:    bashrc\u001b[m\n",
      "\t\u001b[31mdeleted:    convert epub to txt.ipynb\u001b[m\n",
      "\t\u001b[31mdeleted:    ebook-nltj.ipynb\u001b[m\n",
      "\t\u001b[31mdeleted:    find interesting tags-Copy1.ipynb\u001b[m\n",
      "\n",
      "no changes added to commit\n",
      "Everything up-to-date\n"
     ]
    }
   ],
   "source": [
    "#stage and push changes\n",
    "! git add *.ipynb *.py\n",
    "! git commit -m 'parallel processing'\n",
    "! git push origin master"
   ]
  },
  {
   "cell_type": "code",
   "execution_count": null,
   "metadata": {
    "collapsed": false
   },
   "outputs": [],
   "source": [
    "\n",
    "!git remote show origin"
   ]
  },
  {
   "cell_type": "code",
   "execution_count": null,
   "metadata": {
    "collapsed": true
   },
   "outputs": [],
   "source": [
    "#set git to not require push authentication\n",
    "!git remote set-url origin git+ssh://git@github.com/sophie-greene/repo.git"
   ]
  },
  {
   "cell_type": "code",
   "execution_count": null,
   "metadata": {
    "collapsed": true
   },
   "outputs": [],
   "source": [
    "##create ssh key and use it\n",
    "# Creates a new ssh key, using the provided email as a label\n",
    "!ssh-keygen -t rsa -b 4096 -C \"your_email@example.com\"\n",
    "\n",
    "# start the ssh-agent in the background\n",
    "!eval \"$(ssh-agent -s)\"\n",
    "# start the ssh-agent in the background\n",
    "!eval $(ssh-agent -s)"
   ]
  },
  {
   "cell_type": "markdown",
   "metadata": {},
   "source": [
    "#### Add your SSH key to the ssh-agent. If you used an existing SSH key rather than generating a new SSH key, you'll need to replace id_rsa in the command with the name of your existing private key file.\n"
   ]
  },
  {
   "cell_type": "code",
   "execution_count": null,
   "metadata": {
    "collapsed": true
   },
   "outputs": [],
   "source": [
    "!ssh-add ~/.ssh/id_rsa"
   ]
  },
  {
   "cell_type": "code",
   "execution_count": null,
   "metadata": {
    "collapsed": false
   },
   "outputs": [],
   "source": []
  },
  {
   "cell_type": "code",
   "execution_count": null,
   "metadata": {
    "collapsed": true
   },
   "outputs": [],
   "source": [
    "f=open('/home/some/epublstt.txt')\n",
    "files=list(s.replace('\\n','') for s in f.readlines())\n",
    "f.close()"
   ]
  },
  {
   "cell_type": "code",
   "execution_count": null,
   "metadata": {
    "collapsed": false
   },
   "outputs": [],
   "source": [
    "def convert(f):\n",
    "    ft='/home/some/txt/'+f.split(os.sep)[-1][:-4]+\"txt\"\n",
    "    if not os.path.exists(ft):\n",
    "        !ebook-convert \"$f\" \"$ft\" >/dev/null\n",
    "from ipyparallel import Client\n",
    "c=Client()\n",
    "lbv = c.load_balanced_view()\n",
    "lbv.block = True\n",
    "c[:].execute('import os')\n",
    "lbv.map(lambda x: convert(x),files ) "
   ]
  },
  {
   "cell_type": "code",
   "execution_count": null,
   "metadata": {
    "collapsed": false
   },
   "outputs": [],
   "source": [
    "def convert(f):\n",
    "    ft='/home/some/txt/'+f.split(os.sep)[-1][:-4]+\"txt\"\n",
    "    if not os.path.exists(ft):\n",
    "        !ebook-convert \"$f\" \"$ft\" >/dev/null"
   ]
  },
  {
   "cell_type": "code",
   "execution_count": null,
   "metadata": {
    "collapsed": true
   },
   "outputs": [],
   "source": []
  }
 ],
 "metadata": {
  "kernelspec": {
   "display_name": "Python 3",
   "language": "python",
   "name": "python3"
  },
  "language_info": {
   "codemirror_mode": {
    "name": "ipython",
    "version": 3
   },
   "file_extension": ".py",
   "mimetype": "text/x-python",
   "name": "python",
   "nbconvert_exporter": "python",
   "pygments_lexer": "ipython3",
   "version": "3.5.1+"
  }
 },
 "nbformat": 4,
 "nbformat_minor": 0
}
