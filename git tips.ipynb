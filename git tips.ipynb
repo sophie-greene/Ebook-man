{
 "cells": [
  {
   "cell_type": "code",
   "execution_count": null,
   "metadata": {
    "collapsed": false
   },
   "outputs": [],
   "source": [
    "#retrieve file from remote repo\n",
    "#!git fetch\n",
    "#!git checkout origin/master -- \"Access calibre sqlite.ipynb\""
   ]
  },
  {
   "cell_type": "code",
   "execution_count": null,
   "metadata": {
    "collapsed": false
   },
   "outputs": [],
   "source": [
    "#! cat /home/some/.bashrc\n",
    "!pwd"
   ]
  },
  {
   "cell_type": "code",
   "execution_count": null,
   "metadata": {
    "collapsed": false
   },
   "outputs": [],
   "source": [
    "#set identity\n",
    "!git config --global user.email \"eng.s.green@gmail.com\"\n",
    "!git config --global user.name \"Sophie Greene\""
   ]
  },
  {
   "cell_type": "code",
   "execution_count": 3,
   "metadata": {
    "collapsed": false
   },
   "outputs": [
    {
     "name": "stdout",
     "output_type": "stream",
     "text": [
      "[master e0f0d32] parallel processing\n",
      " 1 file changed, 3 insertions(+), 14 deletions(-)\n",
      "Username for 'https://github.com': ^C\n"
     ]
    }
   ],
   "source": [
    "#stage and push changes\n",
    "! git add *.ipynb *.py\n",
    "! git commit -m 'parallel processing'\n",
    "! git push origin master"
   ]
  },
  {
   "cell_type": "code",
   "execution_count": null,
   "metadata": {
    "collapsed": false
   },
   "outputs": [],
   "source": [
    "\n",
    "!git remote show origin"
   ]
  },
  {
   "cell_type": "code",
   "execution_count": null,
   "metadata": {
    "collapsed": true
   },
   "outputs": [],
   "source": [
    "#set git to not require push authentication\n",
    "!git remote set-url origin git+ssh://git@github.com/sophie-greene/repo.git"
   ]
  },
  {
   "cell_type": "code",
   "execution_count": 1,
   "metadata": {
    "collapsed": false
   },
   "outputs": [
    {
     "name": "stdout",
     "output_type": "stream",
     "text": [
      "Generating public/private rsa key pair.\n",
      "Enter file in which to save the key (/home/some/.ssh/id_rsa): ^C\n",
      "Agent pid 1921\n",
      "Agent pid 1924\n"
     ]
    }
   ],
   "source": [
    "##create ssh key and use it\n",
    "# Creates a new ssh key, using the provided email as a label\n",
    "!ssh-keygen -t rsa -b 4096 -C \"eng.s.green@gmail.com\"\n",
    "\n",
    "# start the ssh-agent in the background\n",
    "!eval \"$(ssh-agent -s)\"\n",
    "# start the ssh-agent in the background\n",
    "!eval $(ssh-agent -s)"
   ]
  },
  {
   "cell_type": "markdown",
   "metadata": {},
   "source": [
    "#### Add your SSH key to the ssh-agent. If you used an existing SSH key rather than generating a new SSH key, you'll need to replace id_rsa in the command with the name of your existing private key file.\n"
   ]
  },
  {
   "cell_type": "code",
   "execution_count": null,
   "metadata": {
    "collapsed": true
   },
   "outputs": [],
   "source": [
    "!ssh-add ~/.ssh/id_rsa"
   ]
  },
  {
   "cell_type": "code",
   "execution_count": null,
   "metadata": {
    "collapsed": false
   },
   "outputs": [],
   "source": []
  },
  {
   "cell_type": "code",
   "execution_count": null,
   "metadata": {
    "collapsed": true
   },
   "outputs": [],
   "source": [
    "f=open('/home/some/epublstt.txt')\n",
    "files=list(s.replace('\\n','') for s in f.readlines())\n",
    "f.close()"
   ]
  },
  {
   "cell_type": "code",
   "execution_count": null,
   "metadata": {
    "collapsed": false
   },
   "outputs": [],
   "source": [
    "def convert(f):\n",
    "    ft='/home/some/txt/'+f.split(os.sep)[-1][:-4]+\"txt\"\n",
    "    if not os.path.exists(ft):\n",
    "        !ebook-convert \"$f\" \"$ft\" >/dev/null\n",
    "from ipyparallel import Client\n",
    "c=Client()\n",
    "lbv = c.load_balanced_view()\n",
    "lbv.block = True\n",
    "c[:].execute('import os')\n",
    "lbv.map(lambda x: convert(x),files ) "
   ]
  },
  {
   "cell_type": "code",
   "execution_count": null,
   "metadata": {
    "collapsed": false
   },
   "outputs": [],
   "source": [
    "def convert(f):\n",
    "    ft='/home/some/txt/'+f.split(os.sep)[-1][:-4]+\"txt\"\n",
    "    if not os.path.exists(ft):\n",
    "        !ebook-convert \"$f\" \"$ft\" >/dev/null"
   ]
  },
  {
   "cell_type": "code",
   "execution_count": null,
   "metadata": {
    "collapsed": true
   },
   "outputs": [],
   "source": []
  }
 ],
 "metadata": {
  "kernelspec": {
   "display_name": "Python 2",
   "language": "python",
   "name": "python2"
  },
  "language_info": {
   "codemirror_mode": {
    "name": "ipython",
    "version": 2
   },
   "file_extension": ".py",
   "mimetype": "text/x-python",
   "name": "python",
   "nbconvert_exporter": "python",
   "pygments_lexer": "ipython2",
   "version": "2.7.10"
  }
 },
 "nbformat": 4,
 "nbformat_minor": 0
}
