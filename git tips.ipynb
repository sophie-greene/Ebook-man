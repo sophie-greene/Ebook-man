{
 "cells": [
  {
   "cell_type": "code",
   "execution_count": 7,
   "metadata": {
    "collapsed": false
   },
   "outputs": [],
   "source": [
    "#retrieve file from remote repo\n",
    "#!git fetch\n",
    "#!git checkout origin/master -- \"Access calibre sqlite.ipynb\""
   ]
  },
  {
   "cell_type": "code",
   "execution_count": 5,
   "metadata": {
    "collapsed": false
   },
   "outputs": [
    {
     "name": "stdout",
     "output_type": "stream",
     "text": [
      "/home/some/repo\r\n"
     ]
    }
   ],
   "source": [
    "#! cat /home/some/.bashrc\n",
    "!pwd"
   ]
  },
  {
   "cell_type": "code",
   "execution_count": 19,
   "metadata": {
    "collapsed": false
   },
   "outputs": [],
   "source": [
    "#set identity\n",
    "!git config --global user.email \"eng.s.green@gmail.com\"\n",
    "!git config --global user.name \"Sophie Greene\""
   ]
  },
  {
   "cell_type": "code",
   "execution_count": 20,
   "metadata": {
    "collapsed": false
   },
   "outputs": [
    {
     "name": "stdout",
     "output_type": "stream",
     "text": [
      "[master e00a33b] integrate stanford-ner\n",
      " 2 files changed, 49 insertions(+), 48 deletions(-)\n",
      "Warning: Permanently added the RSA host key for IP address '192.30.252.122' to the list of known hosts.\n",
      "Counting objects: 4, done.\n",
      "Delta compression using up to 2 threads.\n",
      "Compressing objects: 100% (4/4), done.\n",
      "Writing objects: 100% (4/4), 1.12 KiB | 0 bytes/s, done.\n",
      "Total 4 (delta 3), reused 0 (delta 0)\n",
      "To git+ssh://git@github.com/sophie-greene/repo.git\n",
      "   6b3282c..e00a33b  master -> master\n"
     ]
    }
   ],
   "source": [
    "#stage and push changes\n",
    "! git add *.ipynb\n",
    "! git commit -m 'integrate stanford-ner'\n",
    "! git push origin master"
   ]
  },
  {
   "cell_type": "code",
   "execution_count": 16,
   "metadata": {
    "collapsed": false
   },
   "outputs": [
    {
     "name": "stdout",
     "output_type": "stream",
     "text": [
      "* remote origin\r\n",
      "  Fetch URL: git+ssh://git@github.com/sophie-greene/repo.git\r\n",
      "  Push  URL: git+ssh://git@github.com/sophie-greene/repo.git\r\n",
      "  HEAD branch: master\r\n",
      "  Remote branch:\r\n",
      "    master tracked\r\n",
      "  Local branch configured for 'git pull':\r\n",
      "    master merges with remote master\r\n",
      "  Local ref configured for 'git push':\r\n",
      "    master pushes to master (up to date)\r\n"
     ]
    }
   ],
   "source": [
    "\n",
    "!git remote show origin"
   ]
  },
  {
   "cell_type": "code",
   "execution_count": 14,
   "metadata": {
    "collapsed": true
   },
   "outputs": [],
   "source": [
    "#set git to not require push authentication\n",
    "!git remote set-url origin git+ssh://git@github.com/sophie-greene/repo.git"
   ]
  },
  {
   "cell_type": "code",
   "execution_count": null,
   "metadata": {
    "collapsed": true
   },
   "outputs": [],
   "source": [
    "##create ssh key and use it\n",
    "# Creates a new ssh key, using the provided email as a label\n",
    "!ssh-keygen -t rsa -b 4096 -C \"your_email@example.com\"\n",
    "\n",
    "# start the ssh-agent in the background\n",
    "!eval \"$(ssh-agent -s)\"\n",
    "# start the ssh-agent in the background\n",
    "!eval $(ssh-agent -s)"
   ]
  },
  {
   "cell_type": "markdown",
   "metadata": {},
   "source": [
    "#### Add your SSH key to the ssh-agent. If you used an existing SSH key rather than generating a new SSH key, you'll need to replace id_rsa in the command with the name of your existing private key file.\n"
   ]
  },
  {
   "cell_type": "code",
   "execution_count": null,
   "metadata": {
    "collapsed": true
   },
   "outputs": [],
   "source": [
    "!ssh-add ~/.ssh/id_rsa"
   ]
  }
 ],
 "metadata": {
  "kernelspec": {
   "display_name": "Python 3",
   "language": "python",
   "name": "python3"
  },
  "language_info": {
   "codemirror_mode": {
    "name": "ipython",
    "version": 3
   },
   "file_extension": ".py",
   "mimetype": "text/x-python",
   "name": "python",
   "nbconvert_exporter": "python",
   "pygments_lexer": "ipython3",
   "version": "3.5.1+"
  }
 },
 "nbformat": 4,
 "nbformat_minor": 0
}
