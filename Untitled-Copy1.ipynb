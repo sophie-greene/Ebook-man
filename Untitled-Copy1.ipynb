{
 "cells": [
  {
   "cell_type": "code",
   "execution_count": 1,
   "metadata": {
    "collapsed": false
   },
   "outputs": [
    {
     "name": "stdout",
     "output_type": "stream",
     "text": [
      "5572\n"
     ]
    }
   ],
   "source": [
    "import nltk\n",
    "from ebooklib import epub \n",
    "from  comFunc import *\n",
    "\n",
    "d_dir = '/media/sf_lbuntu/calibre/'\n",
    "txtfiles = find('*.txt', d_dir)\n",
    "\n",
    "print (len(txtfiles))\n",
    "\n",
    "\n",
    "f=open('keywords.txt')\n",
    "keywords=list(s.replace('\\n','') for s in f.readlines())\n",
    "f.close()\n",
    "\n"
   ]
  },
  {
   "cell_type": "code",
   "execution_count": 2,
   "metadata": {
    "collapsed": false,
    "scrolled": true
   },
   "outputs": [
    {
     "name": "stdout",
     "output_type": "stream",
     "text": [
      "30 Highland Champion - Hannah Howell [[' protect', 9], [' blood', 14], [' bleed', 3], [' pain', 54], [' abuse', 3], [' rape', 4]]\n",
      "42 Highland Destiny - Hannah Howell [[' protect', 6], [' blood', 40], [' bleed', 1], [' pain', 42], [' torture', 2]]\n",
      "44 Highland Captive - Hannah Howell [[' protect', 3], [' blood', 25], [' bleed', 2], [' pain', 31], [' abuse', 9], [' rape', 8], [' torture', 3]]\n",
      "79 Highland Bride - Hannah Howell [[' protect', 18], [' blood', 35], [' bleed', 2], [' pain', 11], [' rape', 1], [' torture', 2], [' kidnap', 2]]\n",
      "83 Highland Groom - Hannah Howell [[' protect', 16], [' blood', 17], [' bleed', 1], [' pain', 21], [' rape', 2]]\n",
      "97 Highland Fire - Hannah Howell [[' protect', 7], [' blood', 19], [' pain', 24], [' rape', 1], [' torture', 1], [' kidnap', 3]]\n",
      "99 Highland Conqueror - Hannah Howell [[' protect', 9], [' blood', 29], [' bleed', 1], [' pain', 14], [' abuse', 1], [' torture', 1]]\n"
     ]
    }
   ],
   "source": [
    "from random import shuffle\n",
    "shuffle(txtfiles)\n",
    "try:\n",
    "    booksTags=load_obj('booksTags')\n",
    "except:\n",
    "    booksTags={}\n",
    "    save_obj(booksTags, 'booksTags')\n",
    "cnt=0\n",
    "for f in reversed(txtfiles):\n",
    "    name=f.split('/')[-1][:-4]\n",
    "    if name not in booksTags.keys():\n",
    "        fl= open(f,'r')\n",
    "        txt=fl.read().lower()\n",
    "        fl.close()\n",
    "        hist=nltk.FreqDist(txt.split())\n",
    "        res=[[l,hist[l.strip()]] for l in keywords if l.strip() in hist.keys() ]\n",
    "        tag=', '.join(r[0].strip() for r in res if r[1]>0)\n",
    "        ff=f[:-3]+\"epub\" \n",
    "        if len(tag)>0 :\n",
    "            path=f.replace(f.split(os.sep)[-1],'')\n",
    "            fm=path+\"metadata.opf\"\n",
    "            !ebook-meta \"$ff\" --tag \"$tag\" > /dev/null\n",
    "            !ebook-meta \"$ff\" --to-opf \"$fm\" >/dev/null\n",
    "            booksTags[name]=' '.join(r[0]+\": \"+ str(r[1]) for r in res)\n",
    "            print (cnt,f.split('/')[-1][:-4],res)\n",
    "        cnt+=1\n",
    "        if cnt % 100 == 0:\n",
    "            tmp=booksTags.copy()\n",
    "            tmp.update(load_obj('booksTags'))\n",
    "            booksTags=tmp\n",
    "            save_obj(booksTags, 'booksTags')\n",
    "            #break\n",
    "tmp=booksTags.copy()\n",
    "tmp.update(load_obj('booksTags'))\n",
    "booksTags=tmp\n",
    "save_obj(booksTags, 'booksTags')\n"
   ]
  },
  {
   "cell_type": "code",
   "execution_count": null,
   "metadata": {
    "collapsed": true
   },
   "outputs": [],
   "source": []
  }
 ],
 "metadata": {
  "kernelspec": {
   "display_name": "Python 3",
   "language": "python",
   "name": "python3"
  },
  "language_info": {
   "codemirror_mode": {
    "name": "ipython",
    "version": 3
   },
   "file_extension": ".py",
   "mimetype": "text/x-python",
   "name": "python",
   "nbconvert_exporter": "python",
   "pygments_lexer": "ipython3",
   "version": "3.5.1+"
  }
 },
 "nbformat": 4,
 "nbformat_minor": 0
}
