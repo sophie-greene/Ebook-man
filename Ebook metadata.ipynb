{
 "cells": [
  {
   "cell_type": "code",
   "execution_count": null,
   "metadata": {
    "collapsed": true
   },
   "outputs": [],
   "source": []
  },
  {
   "cell_type": "code",
   "execution_count": null,
   "metadata": {
    "collapsed": true
   },
   "outputs": [],
   "source": [
    "import os,glob\n",
    "from dateutil import parser\n",
    "import datetime\n",
    "from IPython.display import clear_output\n",
    "from ebooklib import epub\n",
    "from IPython import display"
   ]
  },
  {
   "cell_type": "code",
   "execution_count": null,
   "metadata": {
    "collapsed": true
   },
   "outputs": [],
   "source": [
    "path=\"/media/some/sophie-hhd/books/epub-cm/\""
   ]
  },
  {
   "cell_type": "code",
   "execution_count": null,
   "metadata": {
    "collapsed": false
   },
   "outputs": [],
   "source": [
    "#go to directory\n",
    "os.chdir(path)\n",
    "cnt=0\n",
    "#read all epub files\n",
    "for f in glob.glob(\"*.epub\"):\n",
    "    ff=path+f\n",
    "    try:\n",
    "        book=epub.read_epub(ff)\n",
    "        #get title\n",
    "        title=book.get_metadata(\"DC\", \"title\")[0][0]\n",
    "        titlest=''.join(ch for ch in book.get_metadata(\"DC\", \"title\")[0][0] if ch.isalnum())\n",
    "        #get author\n",
    "        authors=book.get_metadata(\"DC\",\"creator\")[0][0] \n",
    "        #print repr(authors)\n",
    "        if type(authors) == list:\n",
    "            author=authors[0]\n",
    "        else:\n",
    "            author=authors\n",
    "        authorst=''.join(ch for ch in book.get_metadata(\"DC\",\"creator\")[0][0] if ch.isalnum())\n",
    "        #print author.replace('\\\\',''),' wrote ..',title.replace('\\\\','')\n",
    "        name=titlest+\"-\"+authorst+\".epub\"\n",
    "       \n",
    "        if ',' in author:\n",
    "            #break\n",
    "            print cnt,'*******'\n",
    "            \n",
    "            tmp=author.split(',')\n",
    "            #remove leading and trailing white space\n",
    "            author=tmp[0].strip()+\" \"+tmp[1].strip()\n",
    "            print tmp, 'becomes ...',author, '\\n file name ',name\n",
    "            m=!ebook-meta $ff | grep \"Author(s)           :\"\n",
    "            if type(m) == list and len(m) > 0:\n",
    "                print m[0].replace('Author(s)           :','')\n",
    "            print '*******'\n",
    "            \n",
    "        \n",
    "        \n",
    "        '''if not os.path.isfile(name):\n",
    "            epub.write_epub(path+name,book,{} )'''\n",
    "    except epub.EpubException:\n",
    "        os.remove(ff)\n",
    "        print \"removing bad \"+ff\n",
    "\n",
    "    cnt+=1\n",
    "    if cnt % 100 == 0:\n",
    "        print 'counting ...',cnt\n",
    "    if cnt>1000: \n",
    "        clear_output()\n",
    "os.chdir(\"/home/some\")"
   ]
  },
  {
   "cell_type": "code",
   "execution_count": null,
   "metadata": {
    "collapsed": true
   },
   "outputs": [],
   "source": []
  },
  {
   "cell_type": "code",
   "execution_count": null,
   "metadata": {
    "collapsed": false
   },
   "outputs": [],
   "source": [
    "ff"
   ]
  },
  {
   "cell_type": "code",
   "execution_count": null,
   "metadata": {
    "collapsed": false
   },
   "outputs": [],
   "source": [
    "m=!ebook-meta $ff | grep \"Author(s)           :\"\n",
    "m[0].replace('Author(s)           :','')"
   ]
  },
  {
   "cell_type": "code",
   "execution_count": null,
   "metadata": {
    "collapsed": true
   },
   "outputs": [],
   "source": [
    "'''if 'identifier' in book.metadata['http://purl.org/dc/elements/1.1/'].keys():\n",
    "            book.metadata['http://purl.org/dc/elements/1.1/'].pop('identifier')\n",
    "            book.set_identifier('0')\n",
    "        if 'publisher' in book.metadata['http://purl.org/dc/elements/1.1/'].keys():\n",
    "            book.metadata['http://purl.org/dc/elements/1.1/'].pop('publisher')\n",
    "        if 'date' in book.metadata['http://purl.org/dc/elements/1.1/'].keys():\n",
    "            book.metadata['http://purl.org/dc/elements/1.1/'].pop('date')\n",
    "        '''\n",
    "'''\n",
    "            if \",\" in author:\n",
    "            tmp=author.split(',')\n",
    "            #remove leading and trailing white space\n",
    "            author=tmp[0].strip()+\" \"+tmp[1].strip()\n",
    "            print tmp, 'becomes ...',author, '\\n file name ',name\n",
    "            '''\n",
    "        \n",
    "        \n",
    "        \n",
    "        '''if not os.path.isfile(name):\n",
    "            epub.write_epub(path+name,book,{} )'''"
   ]
  },
  {
   "cell_type": "code",
   "execution_count": null,
   "metadata": {
    "collapsed": false,
    "scrolled": true
   },
   "outputs": [],
   "source": [
    "#go to directory\n",
    "os.chdir(path)\n",
    "cnt=0\n",
    "#read all epub files\n",
    "for f in glob.glob(\"*.epub\"):\n",
    "    ff=path+f\n",
    "    try:\n",
    "        \n",
    "        metadataR=! ebook-meta $ff\n",
    "        metadata={}\n",
    "        for met in metadataR:\n",
    "            tmp=met.split(\":\")\n",
    "            if len(tmp) >= 2:\n",
    "                metadata[tmp[0].strip()]=tmp[1].strip()\n",
    "        if 'Author(s)' in metadata.keys():\n",
    "            print cnt,\" \",metadata['Author(s)']\n",
    "            \n",
    "    except epub.EpubException:\n",
    "        print \"failed\"\n",
    "\n",
    "    cnt+=1\n",
    "    #if cnt % 10 == 0:\n",
    "     #   print 'counting ...',cnt\n",
    "    if cnt % 100 == 0: \n",
    "        clear_output()\n",
    "os.chdir(\"/home/some\")"
   ]
  },
  {
   "cell_type": "code",
   "execution_count": null,
   "metadata": {
    "collapsed": false
   },
   "outputs": [],
   "source": [
    "import ast\n",
    "metadata=! ebook-meta $ff\n",
    "met\n",
    "print metadata\n",
    "ast.literal_eval(metadata)"
   ]
  },
  {
   "cell_type": "code",
   "execution_count": null,
   "metadata": {
    "collapsed": false
   },
   "outputs": [],
   "source": [
    "dictt={}\n",
    "for met in metadata:\n",
    "    tmp=met.split(\":\")\n",
    "    dictt[tmp[0].strip()]=tmp[1].strip()"
   ]
  },
  {
   "cell_type": "code",
   "execution_count": null,
   "metadata": {
    "collapsed": false
   },
   "outputs": [],
   "source": [
    "dictt['Author(s)']"
   ]
  },
  {
   "cell_type": "code",
   "execution_count": null,
   "metadata": {
    "collapsed": false
   },
   "outputs": [],
   "source": [
    "path=\"/media/some/sophie-hhd/books/epub-m/\"\n",
    "os.chdir(path)\n",
    "dirc=glob.glob(\"*.epub\")\n",
    "os.chdir(\"/home/some\")\n",
    "cnt=0\n",
    "for f in dirc:\n",
    "    ff=path+f\n",
    "    #print  ff,'hello'\n",
    "    metadataR= ! ebook-meta $ff\n",
    "    metadata={}\n",
    "    for met in metadataR:\n",
    "        tmp=met.split(\":\")\n",
    "        if len(tmp) >= 2:\n",
    "            metadata[tmp[0].strip()]=tmp[1].strip()\n",
    "        elif len(tmp) == 1:\n",
    "            metadata[tmp[0].strip()]='Unknown'\n",
    "    print()\n",
    "    if 'Author(s)' in metadata.keys().lower():      \n",
    "        print metadata['Author(s)']\n",
    "        ftt = open(\"/home/some/author.txt\", \"w+\")\n",
    "        ftt.write( str(metadata['Author(s)'])) \n",
    "        ftt.close()\n",
    "    \n",
    "\n",
    "    cnt+=1\n",
    "    #if cnt % 10 == 0:\n",
    "     #   print 'counting ...',cnt\n",
    "    if cnt % 30 == 0: \n",
    "        clear_output()\n",
    "\n"
   ]
  },
  {
   "cell_type": "code",
   "execution_count": null,
   "metadata": {
    "collapsed": false
   },
   "outputs": [],
   "source": []
  },
  {
   "cell_type": "code",
   "execution_count": null,
   "metadata": {
    "collapsed": false
   },
   "outputs": [],
   "source": [
    "path"
   ]
  },
  {
   "cell_type": "code",
   "execution_count": null,
   "metadata": {
    "collapsed": false
   },
   "outputs": [],
   "source": [
    "!pwd"
   ]
  },
  {
   "cell_type": "code",
   "execution_count": null,
   "metadata": {
    "collapsed": false
   },
   "outputs": [],
   "source": []
  },
  {
   "cell_type": "code",
   "execution_count": null,
   "metadata": {
    "collapsed": false
   },
   "outputs": [],
   "source": []
  },
  {
   "cell_type": "code",
   "execution_count": null,
   "metadata": {
    "collapsed": true
   },
   "outputs": [],
   "source": []
  }
 ],
 "metadata": {
  "kernelspec": {
   "display_name": "Python 3",
   "language": "python",
   "name": "python3"
  },
  "language_info": {
   "codemirror_mode": {
    "name": "ipython",
    "version": 3
   },
   "file_extension": ".py",
   "mimetype": "text/x-python",
   "name": "python",
   "nbconvert_exporter": "python",
   "pygments_lexer": "ipython3",
   "version": "3.5.1+"
  }
 },
 "nbformat": 4,
 "nbformat_minor": 0
}
