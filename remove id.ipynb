{
 "cells": [
  {
   "cell_type": "code",
   "execution_count": 1,
   "metadata": {
    "collapsed": true
   },
   "outputs": [],
   "source": [
    "import glob, os\n",
    "import subprocess\n",
    "from ebooklib import epub\n",
    "import ebooklib\n",
    "import string\n",
    "import comFunc"
   ]
  },
  {
   "cell_type": "code",
   "execution_count": 2,
   "metadata": {
    "collapsed": true
   },
   "outputs": [],
   "source": [
    "path=\"/home/some/epub/\"\n",
    "tpath=\"/media/some/sophie-hhd/books/epub-m/\""
   ]
  },
  {
   "cell_type": "code",
   "execution_count": null,
   "metadata": {
    "collapsed": true
   },
   "outputs": [],
   "source": []
  },
  {
   "cell_type": "code",
   "execution_count": 8,
   "metadata": {
    "collapsed": false
   },
   "outputs": [
    {
     "name": "stdout",
     "output_type": "stream",
     "text": [
      "/home/some/Downloads/transmi/Sophie Pembroke - Collection (4 Titles) [AZW3, EPUB, MOBI] {01001001}/The Love Trilogy/01 - Room for Love/Room for Love - Sophie Pembroke.azw3\n",
      "/home/some/Downloads/transmi/Sophie Pembroke - Collection (4 Titles) [AZW3, EPUB, MOBI] {01001001}/The Love Trilogy/02 - An A to Z of Love/A to Z of Love, An - Sophie Pembroke.azw3\n"
     ]
    }
   ],
   "source": [
    "tpath=\"/home/some/Downloads/\"\n",
    "os.chdir(tpath)\n",
    "\n",
    "m=comFunc.find('*.', tpath)\n",
    "#m=m+comFunc.find('*.mobi', tpath)\n",
    "os.chdir(\"/home/some\")\n",
    "cnt=0\n",
    "\n",
    "for ff in m:\n",
    "    print ff\n",
    "    try:\n",
    "        if ff[-4:] !='epub':\n",
    "            p, fi = os.path.split(ff)\n",
    "            fi='/tmp/'+fi[:-4]+'epub'\n",
    "            m=!ebook-convert \"$ff\" \"$fi\"\n",
    "            book=epub.read_epub(fi)\n",
    "            os.remove(fi)\n",
    "        else:\n",
    "            book=epub.read_epub(ff)\n",
    "        title=''.join(ch for ch in book.get_metadata(\"DC\", \"title\")[0][0] if ch.isalnum())\n",
    "        author=''.join(ch for ch in book.get_metadata(\"DC\",\"creator\")[0][0] if ch.isalnum())\n",
    "        '''if len(title)>20:\n",
    "            title=title[:20]\n",
    "        if len(author)>20:\n",
    "            author=author[:20]'''\n",
    "        name=author+\"-\"+title+\".epub\"\n",
    "        if 'identifier' in book.metadata['http://purl.org/dc/elements/1.1/'].keys():\n",
    "            book.metadata['http://purl.org/dc/elements/1.1/'].pop('identifier')\n",
    "            book.set_identifier('0')\n",
    "        if 'publisher' in book.metadata['http://purl.org/dc/elements/1.1/'].keys():\n",
    "            book.metadata['http://purl.org/dc/elements/1.1/'].pop('publisher')\n",
    "        if 'date' in book.metadata['http://purl.org/dc/elements/1.1/'].keys():\n",
    "            book.metadata['http://purl.org/dc/elements/1.1/'].pop('date')\n",
    "        \n",
    "            name=name.lower()\n",
    "        if not os.path.isfile(path+name):\n",
    "            #print name\n",
    "            epub.write_epub(path+name,book,{} )\n",
    "    except :\n",
    "        #os.remove(ff)\n",
    "        print \"removing bad \"+ff\n",
    "    #listazw3.append(meta)\n",
    "    #cnt+=1\n",
    "    #if cnt>5: break\n",
    "#os.chdir(\"/home/some\")"
   ]
  },
  {
   "cell_type": "code",
   "execution_count": null,
   "metadata": {
    "collapsed": false
   },
   "outputs": [],
   "source": [
    "book=epub.read_epub(path+'48-JamesHerbert.epub')"
   ]
  },
  {
   "cell_type": "code",
   "execution_count": null,
   "metadata": {
    "collapsed": false
   },
   "outputs": [],
   "source": [
    "book.metadata"
   ]
  },
  {
   "cell_type": "code",
   "execution_count": null,
   "metadata": {
    "collapsed": false
   },
   "outputs": [],
   "source": [
    "from PIL import Image\n",
    "for image in book.get_items_of_type(ebooklib.ITEM_IMAGE):\n",
    "    cover= image"
   ]
  },
  {
   "cell_type": "code",
   "execution_count": null,
   "metadata": {
    "collapsed": false
   },
   "outputs": [],
   "source": [
    "book.set_cover(cover.file_name,cover.content)"
   ]
  },
  {
   "cell_type": "code",
   "execution_count": null,
   "metadata": {
    "collapsed": true
   },
   "outputs": [],
   "source": [
    "book.reset()"
   ]
  },
  {
   "cell_type": "code",
   "execution_count": null,
   "metadata": {
    "collapsed": false
   },
   "outputs": [],
   "source": [
    "epub.write_epub('s.eb',book,{})"
   ]
  },
  {
   "cell_type": "code",
   "execution_count": null,
   "metadata": {
    "collapsed": false
   },
   "outputs": [],
   "source": [
    "book=epub.read_epub(path+'48-JamesHerbert.epub')\n",
    "m=book.get_metadata('DC','identifier')\n",
    "for i in range(len(m)-1):\n",
    "    m.pop(0)\n",
    "print m\n",
    "book.set_identifier([('', {'id': 'uuid_id', '{http://www.idpf.org/2007/opf}scheme': 'uuid'})]\n",
    ")"
   ]
  },
  {
   "cell_type": "code",
   "execution_count": null,
   "metadata": {
    "collapsed": false
   },
   "outputs": [],
   "source": [
    "book.set_unique_metadata('DC','identifier',other=)"
   ]
  },
  {
   "cell_type": "code",
   "execution_count": null,
   "metadata": {
    "collapsed": false
   },
   "outputs": [],
   "source": [
    "#"
   ]
  },
  {
   "cell_type": "code",
   "execution_count": null,
   "metadata": {
    "collapsed": false
   },
   "outputs": [],
   "source": [
    "book.metadata"
   ]
  },
  {
   "cell_type": "code",
   "execution_count": null,
   "metadata": {
    "collapsed": false
   },
   "outputs": [],
   "source": [
    "m.pop(-1)"
   ]
  },
  {
   "cell_type": "code",
   "execution_count": null,
   "metadata": {
    "collapsed": false
   },
   "outputs": [],
   "source": [
    "m"
   ]
  },
  {
   "cell_type": "code",
   "execution_count": null,
   "metadata": {
    "collapsed": false
   },
   "outputs": [],
   "source": [
    "book.metadata['http://purl.org/dc/elements/1.1/']['publisher']"
   ]
  },
  {
   "cell_type": "code",
   "execution_count": null,
   "metadata": {
    "collapsed": true
   },
   "outputs": [],
   "source": []
  }
 ],
 "metadata": {
  "kernelspec": {
   "display_name": "Python 3",
   "language": "python",
   "name": "python3"
  },
  "language_info": {
   "codemirror_mode": {
    "name": "ipython",
    "version": 3
   },
   "file_extension": ".py",
   "mimetype": "text/x-python",
   "name": "python",
   "nbconvert_exporter": "python",
   "pygments_lexer": "ipython3",
   "version": "3.5.1+"
  }
 },
 "nbformat": 4,
 "nbformat_minor": 0
}
