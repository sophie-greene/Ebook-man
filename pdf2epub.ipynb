{
 "cells": [
  {
   "cell_type": "code",
   "execution_count": 1,
   "metadata": {
    "collapsed": false
   },
   "outputs": [],
   "source": [
    "from ebooklib import utils\n",
    "import os\n",
    "from multiprocessing import Pool\n",
    "import time\n",
    "from bs4 import BeautifulSoup\n",
    "import urllib3\n",
    "import string\n",
    "from pdfrw import PdfReader, PdfWriter"
   ]
  },
  {
   "cell_type": "markdown",
   "metadata": {},
   "source": [
    "## deals with pdf\n"
   ]
  },
  {
   "cell_type": "code",
   "execution_count": 9,
   "metadata": {
    "collapsed": false
   },
   "outputs": [
    {
     "name": "stdout",
     "output_type": "stream",
     "text": [
      "3848\n",
      "3763\n",
      "614 85\n"
     ]
    }
   ],
   "source": [
    "d=\"/media/some/sophie-hhd/books/thrill/\"\n",
    "ls=!find \"$d\" -type f -iname \"*.pdf\" \n",
    "print (len(ls))\n",
    "d1=\"/media/some/sophie-hhd/transmitt/fic/it-ebooks.info/\"\n",
    "lst=!find \"$d1\" -type f -iname \"*.pdf\" \n",
    "print (len(lst))\n",
    "set1=[os.path.basename(f) for f in ls]\n",
    "set2=[os.path.basename(f) for f in lst]\n",
    "com=list(set(set1)-set(set2))\n",
    "print(len(com),len(ls)-len(lst))"
   ]
  },
  {
   "cell_type": "code",
   "execution_count": 10,
   "metadata": {
    "collapsed": false
   },
   "outputs": [
    {
     "data": {
      "text/plain": [
       "50"
      ]
     },
     "execution_count": 10,
     "metadata": {},
     "output_type": "execute_result"
    }
   ],
   "source": [
    "set1.index(com[-1])#,set2.index(com[-1])"
   ]
  },
  {
   "cell_type": "code",
   "execution_count": 3,
   "metadata": {
    "collapsed": false
   },
   "outputs": [
    {
     "data": {
      "text/plain": [
       "3763"
      ]
     },
     "execution_count": 3,
     "metadata": {},
     "output_type": "execute_result"
    }
   ],
   "source": []
  },
  {
   "cell_type": "code",
   "execution_count": 29,
   "metadata": {
    "collapsed": false,
    "scrolled": true
   },
   "outputs": [],
   "source": [
    "def mvht(l):\n",
    "    ddir=\"/media/some/sophie-hhd/books/thrill/\"\n",
    "    m,f=os.path.split(l)\n",
    "    fn, fext = os.path.splitext(f)\n",
    "    \n",
    "    ff=ddir+fn+\".epub\"\n",
    "    fe=m+\"/\"+fn+\".epub\"\n",
    "    tmp=\"/tmp/\"+fn+\".epub\"\n",
    "    if not os.path.exists(ff) and not os.path.exists(fe): \n",
    "        try:\n",
    "            !ebook-convert \"$l\" \"$tmp\" >/dev/null\n",
    "            if os.path.exists(tmp):\n",
    "                !mv \"$tmp\" \"$ff\"\n",
    "        except:\n",
    "            print \"faulty   \",l\n",
    "    if os.path.exists(l):\n",
    "        os.remove(l)\n",
    "    print l"
   ]
  },
  {
   "cell_type": "code",
   "execution_count": 30,
   "metadata": {
    "collapsed": false
   },
   "outputs": [
    {
     "name": "stdout",
     "output_type": "stream",
     "text": [
      "/media/some/sophie-hhd/books/thrill/Francine Mathews - [Merry Folger 03] - Death in A Mood Indigo -v5.mobi\n"
     ]
    }
   ],
   "source": [
    "mvht(ls[0])"
   ]
  },
  {
   "cell_type": "code",
   "execution_count": 36,
   "metadata": {
    "collapsed": false,
    "scrolled": true
   },
   "outputs": [
    {
     "name": "stdout",
     "output_type": "stream",
     "text": [
      "/media/some/sophie-hhd/books/thrill/Wedding Tiers - Trisha Ashley.mobi\n",
      "/media/some/sophie-hhd/books/thrill/Winter's Tale, A - Trisha Ashley.mobi\n",
      "/media/some/sophie-hhd/books/thrill/Wish Upon a Star - Trisha Ashley.mobi\n",
      "/media/some/sophie-hhd/books/thrill/To Cut a Long Story Short (2000 - Jeffrey Archer.mobi\n",
      "/media/some/sophie-hhd/books/thrill/Rising Darkness - Cooke, Cynthia.mobi\n",
      "/media/some/sophie-hhd/books/thrill/The  Magic of Christmas - Trisha Ashley.mobi\n",
      "/media/some/sophie-hhd/books/thrill/A Quiver Full of Arrows - Jeffrey Archer.mobi\n",
      "/media/some/sophie-hhd/books/thrill/A Prisoner of Birth - Jeffrey Archer.mobi\n",
      "/media/some/sophie-hhd/books/thrill/Only Time Will Tell (2011) - Jeffrey Archer.mobi\n",
      "/media/some/sophie-hhd/books/thrill/Twelve Days of Christmas - Trisha Ashley.mobi\n",
      "/media/some/sophie-hhd/books/thrill/Chocolate Wishes - Trisha Ashley.mobi\n",
      "/media/some/sophie-hhd/books/thrill/The Fourth Estate - Jeffrey Archer.mobi\n",
      "/media/some/sophie-hhd/books/thrill/Touch of the Wolf - Whiddon, Karen.mobi\n",
      "/media/some/sophie-hhd/books/thrill/Damned - Childs, Lisa.mobi\n",
      "/media/some/sophie-hhd/books/thrill/Good Husband Material - Trisha Ashley.mobi\n",
      "/media/some/sophie-hhd/books/thrill/Chocolate Shoes and Wedding Blues - Trisha Ashley.mobi\n",
      "/media/some/sophie-hhd/books/thrill/Sowing Secrets - Trisha Ashley.mobi\n",
      "('time: ', 1.2743701934814453)\n"
     ]
    }
   ],
   "source": [
    "t0 = time.time()\n",
    "p = Pool(8)\n",
    "p.map(mvht, ls)\n",
    "p.terminate()\n",
    "p.close()\n",
    "t1 = time.time()\n",
    "total = t1-t0\n",
    "print('time: ',total)"
   ]
  },
  {
   "cell_type": "code",
   "execution_count": 5,
   "metadata": {
    "collapsed": false
   },
   "outputs": [
    {
     "data": {
      "text/plain": [
       "4584"
      ]
     },
     "execution_count": 5,
     "metadata": {},
     "output_type": "execute_result"
    }
   ],
   "source": [
    "#verify epubs\n",
    "d='/media/some/sophie-hhd/books/thrill'\n",
    "l=! find \"$d\" -type f  -iname \"*.pdf\" #-mtime -1\n",
    "len(l)\n"
   ]
  },
  {
   "cell_type": "code",
   "execution_count": 52,
   "metadata": {
    "collapsed": false
   },
   "outputs": [
    {
     "data": {
      "text/plain": [
       "2008"
      ]
     },
     "execution_count": 52,
     "metadata": {},
     "output_type": "execute_result"
    }
   ],
   "source": [
    "len(lst)"
   ]
  },
  {
   "cell_type": "code",
   "execution_count": 6,
   "metadata": {
    "collapsed": true
   },
   "outputs": [],
   "source": [
    "pdf=PdfReader(ls[0])\n"
   ]
  },
  {
   "cell_type": "code",
   "execution_count": 46,
   "metadata": {
    "collapsed": true
   },
   "outputs": [],
   "source": [
    "PdfWriter().write(ls[0],pdf)"
   ]
  },
  {
   "cell_type": "code",
   "execution_count": 51,
   "metadata": {
    "collapsed": false
   },
   "outputs": [
    {
     "data": {
      "text/plain": [
       "'/media/some/sophie-hhd/books/thrill/K. A. Applegate - Animorphs 13 - The Change.pdf'"
      ]
     },
     "execution_count": 51,
     "metadata": {},
     "output_type": "execute_result"
    }
   ],
   "source": [
    "ls[0]"
   ]
  },
  {
   "cell_type": "code",
   "execution_count": 13,
   "metadata": {
    "collapsed": false
   },
   "outputs": [],
   "source": [
    "def verifye(f):\n",
    "    \n",
    "    fn='/media/some/sophie-hhd/books/pdfproc/'+f\n",
    "    f=\"/media/some/sophie-hhd/books/thrill/\"+f\n",
    "    output = PdfWriter()\n",
    "  \n",
    "    if os.path.exists(f):  \n",
    "        try:\n",
    "            pdf=PdfReader(f)\n",
    "        except:\n",
    "            return (f,\"NOT OK\")\n",
    "        if pdf !=None:\n",
    "            for p in PdfReader(f).pages:\n",
    "                if p.Contents is not None:\n",
    "                    output.addpage(p)\n",
    "            os.remove(f)\n",
    "            try:\n",
    "                output.write(fn)\n",
    "            except:\n",
    "                print(\"invalid\",f)\n",
    "            return (f,\"OK\")\n",
    "    else:\n",
    "        return (f,\"DOESNT EXIST\")\n",
    "        #print \"file  ...\" ,ff,\" ...... verified\"\n",
    "\n",
    "    #print \"file corrupt ...\" ,ff,\" ...... deleting\"\n",
    "    #os.remove(f)\n",
    "    "
   ]
  },
  {
   "cell_type": "code",
   "execution_count": 14,
   "metadata": {
    "collapsed": false
   },
   "outputs": [
    {
     "data": {
      "text/plain": [
       "(\"/media/some/sophie-hhd/books/thrill/jMonkeyEngine 3.0 Beginner's Guide.pdf\",\n",
       " 'OK')"
      ]
     },
     "execution_count": 14,
     "metadata": {},
     "output_type": "execute_result"
    }
   ],
   "source": [
    "verifye(st[0])"
   ]
  },
  {
   "cell_type": "code",
   "execution_count": 15,
   "metadata": {
    "collapsed": false
   },
   "outputs": [
    {
     "name": "stdout",
     "output_type": "stream",
     "text": [
      "time:  22374.861515045166\n"
     ]
    }
   ],
   "source": [
    "t0 = time.time()\n",
    "p = Pool(8)\n",
    "m=p.map(verifye, st)\n",
    "p.terminate()\n",
    "p.close()\n",
    "t1 = time.time()\n",
    "total = t1-t0\n",
    "print('time: ',total)"
   ]
  },
  {
   "cell_type": "code",
   "execution_count": 16,
   "metadata": {
    "collapsed": false
   },
   "outputs": [
    {
     "data": {
      "text/plain": [
       "33"
      ]
     },
     "execution_count": 16,
     "metadata": {},
     "output_type": "execute_result"
    }
   ],
   "source": [
    "cnt=0\n",
    "for l in m:\n",
    "    if l != None and l[1] ==\"NOT OK\":\n",
    "        cnt+=1\n",
    "        \n",
    "        #os.remove(l[0])\n",
    "cnt"
   ]
  },
  {
   "cell_type": "code",
   "execution_count": null,
   "metadata": {
    "collapsed": false
   },
   "outputs": [],
   "source": [
    "list(m)"
   ]
  },
  {
   "cell_type": "code",
   "execution_count": 10,
   "metadata": {
    "collapsed": false
   },
   "outputs": [],
   "source": [
    "st=list(set1)"
   ]
  },
  {
   "cell_type": "code",
   "execution_count": 11,
   "metadata": {
    "collapsed": false
   },
   "outputs": [
    {
     "data": {
      "text/plain": [
       "3848"
      ]
     },
     "execution_count": 11,
     "metadata": {},
     "output_type": "execute_result"
    }
   ],
   "source": [
    "len(st)"
   ]
  },
  {
   "cell_type": "code",
   "execution_count": null,
   "metadata": {
    "collapsed": true
   },
   "outputs": [],
   "source": []
  }
 ],
 "metadata": {
  "kernelspec": {
   "display_name": "Python 3",
   "language": "python",
   "name": "python3"
  },
  "language_info": {
   "codemirror_mode": {
    "name": "ipython",
    "version": 3
   },
   "file_extension": ".py",
   "mimetype": "text/x-python",
   "name": "python",
   "nbconvert_exporter": "python",
   "pygments_lexer": "ipython3",
   "version": "3.5.1+"
  }
 },
 "nbformat": 4,
 "nbformat_minor": 0
}
