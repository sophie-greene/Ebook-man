{
 "cells": [
  {
   "cell_type": "code",
   "execution_count": null,
   "metadata": {
    "collapsed": false
   },
   "outputs": [],
   "source": [
    "import nltk\n",
    "from ebooklib import epub \n",
    "from  comFunc import *\n",
    "import os \n",
    "import glob\n",
    "from multiprocessing import Pool\n",
    "import time\n",
    "import re, string\n",
    "import functools"
   ]
  },
  {
   "cell_type": "code",
   "execution_count": null,
   "metadata": {
    "collapsed": false
   },
   "outputs": [],
   "source": [
    "d_dir = '/home/some/txts/'\n",
    "cwd = !pwd\n",
    "cwd = cwd[0]\n",
    "os.chdir(d_dir)\n",
    "txtfiles = glob.glob('*.txt')\n",
    "os.chdir(cwd)\n",
    "print (len(txtfiles))\n",
    "f = open('keywords.txt')\n",
    "keywords = list(s.replace('\\n','') for s in f.readlines())\n",
    "f.close()"
   ]
  },
  {
   "cell_type": "code",
   "execution_count": null,
   "metadata": {
    "collapsed": false,
    "scrolled": true
   },
   "outputs": [],
   "source": [
    "def writeTag(fname,tag):\n",
    "    key='http://purl.org/dc/elements/1.1/'\n",
    "    try:\n",
    "        book=epub.read_epub(fname)\n",
    "        if 'subject' in book.metadata[key].keys():\n",
    "            tgs=[b[0] for b in book.metadata[key]['subject']]\n",
    "        else:\n",
    "            tgs=[]\n",
    "        ch_cnt=0\n",
    "        for t in tag:\n",
    "            if t not in tgs:\n",
    "                if 'subject' in book.metadata[key].keys():\n",
    "                    book.metadata[key]['subject'].append((t,{}))\n",
    "                    ch_cnt+=1\n",
    "                else:\n",
    "                    book.metadata[key]['subject']=[(t,{})]\n",
    "                    ch_cnt+=1\n",
    "        if ch_cnt>0:\n",
    "            tmp=\"/tmp/writeTag\"+str(time.time())+'.epub'\n",
    "            epub.write_epub(tmp,book)\n",
    "            !mv \"$tmp\" \"$fname\"\n",
    "    except :\n",
    "        print('bad file  ',fname)\n",
    "        #os.remove(fname)\n",
    "def generate(f):\n",
    "    tp = '/home/some/txt/'\n",
    "    ep = '/home/some/epub/'\n",
    "    ft = tp + f\n",
    "    fe = ep + f[:-3] + \"epub\"\n",
    "    #try:\n",
    "    fl= open(ft,'r')\n",
    "    txt=fl.read()\n",
    "    fl.close()\n",
    "    txt=''.join(''.join(tt for tt in t if tt in string.printable) for t in txt).lower()\n",
    "    txt=txt.replace('\\n',' ')\n",
    "    txt=re.sub(r'[^a-zA-Z0-9 -]*','',txt)\n",
    "    hist=nltk.FreqDist(txt.split())\n",
    "    res=[[l,hist[l.strip()]] for l in keywords if l.strip() in hist.keys() ]\n",
    "    tag=[r[0].strip() for r in res if r[1]>0]\n",
    "    #tag=', '.join([r[0].strip() for r in res if r[1]>0])\n",
    "    #print (txt)\n",
    "    if len(tag)>0:\n",
    "        #!ebook-meta \"$fe\" --tag \"$tag\" > /dev/null\n",
    "        \n",
    "        writeTag(fe,tag)\n",
    "        return f[:-4],{r[0]:str(r[1]) for r in res},dict(hist)\n",
    "    #except:\n",
    "    #print('invalid   ',f)"
   ]
  },
  {
   "cell_type": "code",
   "execution_count": null,
   "metadata": {
    "collapsed": true
   },
   "outputs": [],
   "source": []
  },
  {
   "cell_type": "code",
   "execution_count": null,
   "metadata": {
    "collapsed": false
   },
   "outputs": [],
   "source": [
    "try:\n",
    "    keys=load_obj('tagskeys')\n",
    "except:\n",
    "    keys=[]\n",
    "len(keys)"
   ]
  },
  {
   "cell_type": "code",
   "execution_count": null,
   "metadata": {
    "collapsed": false
   },
   "outputs": [],
   "source": [
    "t0 = time.time()\n",
    "p = Pool(10)\n",
    "books=p.map(generate, list(filter(lambda x: x[:-4] not in keys, txtfiles))[0:1000])\n",
    "tags={}\n",
    "for book in books:\n",
    "    try:\n",
    "        if book[0] not in keys:\n",
    "            tags[book[0]]=[book[1],book[2]]\n",
    "    except:\n",
    "        x=1\n",
    "save_obj(tags, 'tags9')\n",
    "keys=keys+list(tags.keys())\n",
    "save_obj(keys,'tagskeys')\n",
    "t1=time.time()\n",
    "total = t1-t0\n",
    "print('time: ',total)"
   ]
  },
  {
   "cell_type": "code",
   "execution_count": null,
   "metadata": {
    "collapsed": false
   },
   "outputs": [],
   "source": [
    "t0 = time.time()\n",
    "g=generate(txtfiles[0])\n",
    "print(type(g),len(g))\n",
    "t1 = time.time()\n",
    "total = t1-t0\n",
    "print('time: ',total)"
   ]
  },
  {
   "cell_type": "code",
   "execution_count": null,
   "metadata": {
    "collapsed": false
   },
   "outputs": [],
   "source": [
    "len(list(filter(lambda x: x[:-4] not in bookTags.keys(), txtfiles))),len(txtfiles)"
   ]
  },
  {
   "cell_type": "code",
   "execution_count": null,
   "metadata": {
    "collapsed": false
   },
   "outputs": [],
   "source": [
    "def sliceDict(dct,st,en):\n",
    "    keys=list(dct.keys())\n",
    "    return {k:dct[k] for k in keys[st:en]}\n",
    "d3=sliceDict(bookTags,4000,len(bookTags))\n",
    "d4=sliceDict(bookTags,3000,4000)\n",
    "d5=sliceDict(bookTags,2000,3000)\n",
    "save_obj(d3,'tags3')\n",
    "save_obj(d4,'tags4')\n",
    "save_obj(d5,'tags5')"
   ]
  },
  {
   "cell_type": "code",
   "execution_count": null,
   "metadata": {
    "collapsed": true
   },
   "outputs": [],
   "source": [
    "save_obj(keys,'tagskeys')"
   ]
  },
  {
   "cell_type": "code",
   "execution_count": null,
   "metadata": {
    "collapsed": false
   },
   "outputs": [],
   "source": [
    "len(keys)"
   ]
  },
  {
   "cell_type": "markdown",
   "metadata": {},
   "source": [
    "### loading ready tags"
   ]
  },
  {
   "cell_type": "code",
   "execution_count": null,
   "metadata": {
    "collapsed": true
   },
   "outputs": [],
   "source": [
    "books=load_obj('tags7')\n"
   ]
  },
  {
   "cell_type": "code",
   "execution_count": null,
   "metadata": {
    "collapsed": false
   },
   "outputs": [],
   "source": [
    "bookl=[]\n",
    "for b in books:\n",
    "    bookl.append([b,books[b][0]])\n",
    "len(books)"
   ]
  },
  {
   "cell_type": "code",
   "execution_count": null,
   "metadata": {
    "collapsed": false,
    "scrolled": true
   },
   "outputs": [],
   "source": [
    "def wt(bb):\n",
    "    #print(bb[0])\n",
    "    tag=[t for t in bb[1].keys()]\n",
    "    #print(bb[0],tag)\n",
    "    if len(tag)>0:\n",
    "        writeTag('/home/some/epub/'+bb[0]+\".epub\",tag)\n",
    "p = Pool(10)\n",
    "\n",
    "#map(functools.partial(generate, y=books[x]), a)\n",
    "o=p.map(wt, bookl)\n",
    "\n",
    "p.close()"
   ]
  },
  {
   "cell_type": "code",
   "execution_count": null,
   "metadata": {
    "collapsed": false
   },
   "outputs": [],
   "source": [
    "f=!find /home/some/epub/ -iname \"Batt*\"\n",
    "f"
   ]
  },
  {
   "cell_type": "code",
   "execution_count": null,
   "metadata": {
    "collapsed": false
   },
   "outputs": [],
   "source": [
    "f"
   ]
  },
  {
   "cell_type": "code",
   "execution_count": null,
   "metadata": {
    "collapsed": false
   },
   "outputs": [],
   "source": [
    "key='http://purl.org/dc/elements/1.1/'\n",
    "book=epub.read_epub(f[2])\n",
    "if 'subject' in book.metadata[key].keys():\n",
    "    tgs=[b[0] for b in book.metadata[key]['subject']]\n",
    "else:\n",
    "    tgs=[]\n"
   ]
  },
  {
   "cell_type": "code",
   "execution_count": null,
   "metadata": {
    "collapsed": false
   },
   "outputs": [],
   "source": []
  },
  {
   "cell_type": "code",
   "execution_count": null,
   "metadata": {
    "collapsed": false
   },
   "outputs": [],
   "source": [
    "    ch_cnt=0\n",
    "    for t in tag:\n",
    "        if t not in tgs:\n",
    "            if 'subject' in book.metadata[key].keys():\n",
    "                book.metadata[key]['subject'].append('t,{}')\n",
    "                ch_cnt+=1\n",
    "            else:\n",
    "                book.metadata[key]['subject']=['t,{}']\n",
    "                ch_cnt+=1\n",
    "    if ch_cnt>0:\n",
    "        tmp=\"/tmp/writeTag\"+str(time.time())+'.epub'\n",
    "        epub.write_epub(tmp,book)\n",
    "        !mv \"$tmp\" \"$fname\"\n",
    "\n",
    "    print('bad file  ',fname)    ch_cnt=0\n",
    "    for t in tag:\n",
    "        if t not in tgs:\n",
    "            if 'subject' in book.metadata[key].keys():\n",
    "                book.metadata[key]['subject'].append((t,{}))\n",
    "                ch_cnt+=1\n",
    "            else:\n",
    "                book.metadata[key]['subject']=[(t,{})]\n",
    "                ch_cnt+=1\n",
    "    if ch_cnt>0:\n",
    "        tmp=\"/tmp/writeTag\"+str(time.time())+'.epub'\n",
    "        epub.write_epub(tmp,book)\n",
    "        !mv \"$tmp\" \"$fname\"\n",
    "\n",
    "    print('bad file  ',fname)"
   ]
  },
  {
   "cell_type": "code",
   "execution_count": null,
   "metadata": {
    "collapsed": true
   },
   "outputs": [],
   "source": []
  }
 ],
 "metadata": {
  "kernelspec": {
   "display_name": "Python 3",
   "language": "python",
   "name": "python3"
  },
  "language_info": {
   "codemirror_mode": {
    "name": "ipython",
    "version": 3
   },
   "file_extension": ".py",
   "mimetype": "text/x-python",
   "name": "python",
   "nbconvert_exporter": "python",
   "pygments_lexer": "ipython3",
   "version": "3.5.1+"
  }
 },
 "nbformat": 4,
 "nbformat_minor": 0
}
