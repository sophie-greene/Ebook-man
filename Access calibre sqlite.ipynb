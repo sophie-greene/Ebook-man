{
 "cells": [
  {
   "cell_type": "code",
   "execution_count": 1,
   "metadata": {
    "collapsed": true
   },
   "outputs": [],
   "source": [
    "import glob, os\n",
    "import subprocess\n",
    "from ebooklib import epub\n",
    "import ebooklib\n",
    "import string\n",
    "import comFunc\n",
    "import sqlite3\n",
    "import numpy as np\n",
    "import nltk\n",
    "from nltk import pos_tag"
   ]
  },
  {
   "cell_type": "code",
   "execution_count": null,
   "metadata": {
    "collapsed": true
   },
   "outputs": [],
   "source": []
  },
  {
   "cell_type": "code",
   "execution_count": 2,
   "metadata": {
    "collapsed": false
   },
   "outputs": [
    {
     "data": {
      "text/plain": [
       "'SELECT DISTINCT author_sort FROM books GROUP BY author_sort'"
      ]
     },
     "execution_count": 2,
     "metadata": {},
     "output_type": "execute_result"
    }
   ],
   "source": [
    "q='select * from books where INSTR(\" \",author_sort) == 0'\n",
    "a='SELECT DISTINCT * FROM books NATURAL JOIN (SELECT '\n",
    "b='title FROM books GROUP BY '\n",
    "c='title HAVING   COUNT(*) > 1) AS t'\n",
    "#q=a+b+c\n",
    "q='SELECT DISTINCT * FROM books WHERE author_sort LIKE \"% the %\" GROUP BY author_sort'\n",
    "#q='SELECT DISTINCT * FROM books WHERE title LIKE \"The%\" GROUP BY title'\n",
    "#q='SELECT DISTINCT * FROM books WHERE LENGTH(author_sort)>8 AND author_sort LIKE \"% % % %\" AND author_sort NOT LIKE \"%&%\" AND author_sort NOT LIKE \"%. %\" GROUP BY author_sort'\n",
    "q='SELECT DISTINCT * FROM books WHERE LENGTH(author_sort)>8 AND author_sort LIKE \"% with %\" GROUP BY author_sort'\n",
    "q='SELECT DISTINCT author_sort FROM books GROUP BY author_sort'\n",
    "\n",
    "db = '/media/some/sophie-hhd/calibre/metadata.db'\n",
    "!cp $db ./metadata.db\n",
    "connection = sqlite3.connect('metadata.db')\n",
    "cursor = connection.execute(q) \n",
    "m=cursor.fetchall()\n",
    "q"
   ]
  },
  {
   "cell_type": "code",
   "execution_count": null,
   "metadata": {
    "collapsed": false
   },
   "outputs": [],
   "source": [
    "type(nltk_tags)"
   ]
  },
  {
   "cell_type": "code",
   "execution_count": null,
   "metadata": {
    "collapsed": false
   },
   "outputs": [],
   "source": [
    "#nltk_tags=nltk.help.upenn_tagset('\\w.*').\n",
    "from nltk.data import load\n",
    "tagdict = load('help/tagsets/upenn_tagset.pickle')\n",
    "\n",
    "nltk_tags=[ str(t) for t in tagdict.keys() if t[0].lower()=='n']\n",
    "print tagdict['VBD']\n",
    "', '.join( t for t in nltk_tags)"
   ]
  },
  {
   "cell_type": "code",
   "execution_count": null,
   "metadata": {
    "collapsed": false
   },
   "outputs": [],
   "source": [
    "nany(x in tag for x in nltk_tags)"
   ]
  },
  {
   "cell_type": "code",
   "execution_count": 3,
   "metadata": {
    "collapsed": false,
    "scrolled": false
   },
   "outputs": [
    {
     "ename": "NameError",
     "evalue": "name 'imperative_pos_tag' is not defined",
     "output_type": "error",
     "traceback": [
      "\u001b[1;31m---------------------------------------------------------------------------\u001b[0m",
      "\u001b[1;31mNameError\u001b[0m                                 Traceback (most recent call last)",
      "\u001b[1;32m<ipython-input-3-879120494f20>\u001b[0m in \u001b[0;36m<module>\u001b[1;34m()\u001b[0m\n\u001b[0;32m      5\u001b[0m \u001b[1;33m\u001b[0m\u001b[0m\n\u001b[0;32m      6\u001b[0m     \u001b[0mcnt\u001b[0m\u001b[1;33m+=\u001b[0m\u001b[1;36m1\u001b[0m\u001b[1;33m\u001b[0m\u001b[0m\n\u001b[1;32m----> 7\u001b[1;33m     \u001b[0mtag\u001b[0m\u001b[1;33m=\u001b[0m\u001b[0mimperative_pos_tag\u001b[0m\u001b[1;33m(\u001b[0m\u001b[0mmm\u001b[0m\u001b[1;33m[\u001b[0m\u001b[1;36m0\u001b[0m\u001b[1;33m]\u001b[0m\u001b[1;33m.\u001b[0m\u001b[0msplit\u001b[0m\u001b[1;33m(\u001b[0m\u001b[1;34m\", \"\u001b[0m\u001b[1;33m)\u001b[0m\u001b[1;33m)\u001b[0m\u001b[1;33m\u001b[0m\u001b[0m\n\u001b[0m\u001b[0;32m      8\u001b[0m     \u001b[1;31m#print tag,nm\u001b[0m\u001b[1;33m\u001b[0m\u001b[1;33m\u001b[0m\u001b[0m\n\u001b[0;32m      9\u001b[0m     \u001b[1;32mif\u001b[0m \u001b[0many\u001b[0m\u001b[1;33m(\u001b[0m\u001b[0mx\u001b[0m \u001b[1;32min\u001b[0m \u001b[0mtag\u001b[0m \u001b[1;32mfor\u001b[0m \u001b[0mx\u001b[0m \u001b[1;32min\u001b[0m \u001b[0mnltk_tags\u001b[0m\u001b[1;33m)\u001b[0m\u001b[1;33m:\u001b[0m\u001b[1;33m\u001b[0m\u001b[0m\n",
      "\u001b[1;31mNameError\u001b[0m: name 'imperative_pos_tag' is not defined"
     ]
    }
   ],
   "source": [
    "cnt=1\n",
    "\n",
    "for mm in m:\n",
    "    nm=' '.join(mmm.strip() for mmm in reversed(mm[0].split(',')))\n",
    "    \n",
    "    cnt+=1\n",
    "    tag=imperative_pos_tag(mm[0].split(\", \"))\n",
    "    #print tag,nm\n",
    "    if any(x in tag for x in nltk_tags):\n",
    "        \n",
    "        print cnt,mm[0],'-------->',nm,'-------tagg  ',' '.join(str(t) for t in tag )\n",
    "\n",
    "#print' or '.join('authors:\"'+' '.join(mmm.strip() for mmm in reversed(mm[6].split(',')))+'\"' for mm in m)\n",
    "#print' or '.join('title:\"='+mm[1]+'\"' for mm in m)"
   ]
  },
  {
   "cell_type": "code",
   "execution_count": null,
   "metadata": {
    "collapsed": false
   },
   "outputs": [],
   "source": [
    "nltk.download()"
   ]
  },
  {
   "cell_type": "code",
   "execution_count": null,
   "metadata": {
    "collapsed": false
   },
   "outputs": [],
   "source": [
    "import nltk\n",
    "from nltk.tag import StanfordNERTagger\n",
    "st = StanfordNERTagger('english.all.3class.distsim.crf.ser.gz') \n",
    "st.tag('Rami Eid is studying at Stony Brook University in NY'.split()) \n"
   ]
  },
  {
   "cell_type": "code",
   "execution_count": null,
   "metadata": {
    "collapsed": false
   },
   "outputs": [],
   "source": [
    "names = list(map(lambda x: x[0], cursor.description))\n",
    "names"
   ]
  },
  {
   "cell_type": "code",
   "execution_count": null,
   "metadata": {
    "collapsed": false
   },
   "outputs": [],
   "source": [
    "curs"
   ]
  },
  {
   "cell_type": "code",
   "execution_count": null,
   "metadata": {
    "collapsed": false
   },
   "outputs": [],
   "source": [
    "books = cursor.fetchall()"
   ]
  },
  {
   "cell_type": "code",
   "execution_count": null,
   "metadata": {
    "collapsed": false
   },
   "outputs": [],
   "source": [
    "books"
   ]
  },
  {
   "cell_type": "code",
   "execution_count": null,
   "metadata": {
    "collapsed": false
   },
   "outputs": [],
   "source": [
    "from nltk import pos_tag\n",
    "sent1 = 'get me now'.split()\n",
    "sent2 = 'run fast'.split()\n",
    "def imperative_pos_tag(sent):\n",
    "    return pos_tag(['He']+sent)[1:]\n",
    "m1=imperative_pos_tag(sent1)\n",
    "m2=imperative_pos_tag(sent2)\n",
    "#[('get', 'VBD'), ('me', 'PRP'), ('now', 'RB')]\n",
    "#[('run', 'VBP'), ('fast', 'RB')]\n",
    "m1"
   ]
  },
  {
   "cell_type": "code",
   "execution_count": null,
   "metadata": {
    "collapsed": false
   },
   "outputs": [],
   "source": [
    "\n",
    "mm1=np.asarray(m1,dtype=np.str)"
   ]
  },
  {
   "cell_type": "code",
   "execution_count": null,
   "metadata": {
    "collapsed": false
   },
   "outputs": [],
   "source": [
    "any(mm1[:,1]=='V')"
   ]
  },
  {
   "cell_type": "code",
   "execution_count": null,
   "metadata": {
    "collapsed": true
   },
   "outputs": [],
   "source": []
  }
 ],
 "metadata": {
  "kernelspec": {
   "display_name": "Python 2",
   "language": "python",
   "name": "python2"
  },
  "language_info": {
   "codemirror_mode": {
    "name": "ipython",
    "version": 2
   },
   "file_extension": ".py",
   "mimetype": "text/x-python",
   "name": "python",
   "nbconvert_exporter": "python",
   "pygments_lexer": "ipython2",
   "version": "2.7.10"
  }
 },
 "nbformat": 4,
 "nbformat_minor": 0
}
