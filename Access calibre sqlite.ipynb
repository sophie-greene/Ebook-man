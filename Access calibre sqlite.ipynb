{
 "cells": [
  {
   "cell_type": "code",
   "execution_count": 286,
   "metadata": {
    "collapsed": false
   },
   "outputs": [
    {
     "data": {
      "text/plain": [
       "'SELECT DISTINCT * FROM books WHERE LENGTH(author_sort)>8 AND author_sort LIKE \"% with %\" GROUP BY author_sort'"
      ]
     },
     "execution_count": 286,
     "metadata": {},
     "output_type": "execute_result"
    }
   ],
   "source": [
    "q='select * from books where INSTR(\" \",author_sort) == 0'\n",
    "a='SELECT DISTINCT * FROM books NATURAL JOIN (SELECT '\n",
    "b='title FROM books GROUP BY '\n",
    "c='title HAVING   COUNT(*) > 1) AS t'\n",
    "#q=a+b+c\n",
    "q='SELECT DISTINCT * FROM books WHERE author_sort LIKE \"% the %\" GROUP BY author_sort'\n",
    "#q='SELECT DISTINCT * FROM books WHERE title LIKE \"The%\" GROUP BY title'\n",
    "#q='SELECT DISTINCT * FROM books WHERE LENGTH(author_sort)>8 AND author_sort LIKE \"% % % %\" AND author_sort NOT LIKE \"%&%\" AND author_sort NOT LIKE \"%. %\" GROUP BY author_sort'\n",
    "q='SELECT DISTINCT * FROM books WHERE LENGTH(author_sort)>8 AND author_sort LIKE \"% with %\" GROUP BY author_sort'\n",
    "\n",
    "#!/bin/python\n",
    "import sys, os, time, string, re\n",
    "import sqlite3\n",
    "db = '/media/some/sophie-hhd/calibre/metadata.db'\n",
    "!cp $db ./metadata.db\n",
    "connection = sqlite3.connect('metadata.db')\n",
    "cursor = connection.execute(q) \n",
    "m=cursor.fetchall()\n",
    "q"
   ]
  },
  {
   "cell_type": "code",
   "execution_count": 287,
   "metadata": {
    "collapsed": false,
    "scrolled": false
   },
   "outputs": [
    {
     "name": "stdout",
     "output_type": "stream",
     "text": [
      "1 Eyes, With Private  contains  2  spaces .................... Eileen Wilks \n",
      "authors:\"With Private Eyes\"\n"
     ]
    }
   ],
   "source": [
    "cnt=1\n",
    "\n",
    "for mm in m:\n",
    "    print cnt,mm[6],' contains ',mm[6].count(' '),' spaces ....................',mm[1],''\n",
    "    cnt+=1\n",
    "    #if cnt>10:break\n",
    "print' or '.join('authors:\"'+' '.join(mmm.strip() for mmm in reversed(mm[6].split(',')))+'\"' for mm in m)\n",
    "#print' or '.join('title:\"='+mm[1]+'\"' for mm in m)"
   ]
  },
  {
   "cell_type": "code",
   "execution_count": 160,
   "metadata": {
    "collapsed": false
   },
   "outputs": [
    {
     "data": {
      "text/plain": [
       "8032"
      ]
     },
     "execution_count": 160,
     "metadata": {},
     "output_type": "execute_result"
    }
   ],
   "source": [
    "len(m)"
   ]
  },
  {
   "cell_type": "code",
   "execution_count": 146,
   "metadata": {
    "collapsed": false
   },
   "outputs": [
    {
     "data": {
      "text/plain": [
       "['id',\n",
       " 'title',\n",
       " 'sort',\n",
       " 'timestamp',\n",
       " 'pubdate',\n",
       " 'series_index',\n",
       " 'author_sort',\n",
       " 'isbn',\n",
       " 'lccn',\n",
       " 'path',\n",
       " 'flags',\n",
       " 'uuid',\n",
       " 'has_cover',\n",
       " 'last_modified']"
      ]
     },
     "execution_count": 146,
     "metadata": {},
     "output_type": "execute_result"
    }
   ],
   "source": [
    "names = list(map(lambda x: x[0], cursor.description))\n",
    "names"
   ]
  },
  {
   "cell_type": "code",
   "execution_count": 11,
   "metadata": {
    "collapsed": false
   },
   "outputs": [
    {
     "data": {
      "text/plain": [
       "['id',\n",
       " 'title',\n",
       " 'sort',\n",
       " 'timestamp',\n",
       " 'pubdate',\n",
       " 'series_index',\n",
       " 'author_sort',\n",
       " 'isbn',\n",
       " 'lccn',\n",
       " 'path',\n",
       " 'flags',\n",
       " 'uuid',\n",
       " 'has_cover',\n",
       " 'last_modified']"
      ]
     },
     "execution_count": 11,
     "metadata": {},
     "output_type": "execute_result"
    }
   ],
   "source": [
    "curs"
   ]
  },
  {
   "cell_type": "code",
   "execution_count": 18,
   "metadata": {
    "collapsed": false
   },
   "outputs": [
    {
     "ename": "ProgrammingError",
     "evalue": "Cannot operate on a closed cursor.",
     "output_type": "error",
     "traceback": [
      "\u001b[1;31m---------------------------------------------------------------------------\u001b[0m",
      "\u001b[1;31mProgrammingError\u001b[0m                          Traceback (most recent call last)",
      "\u001b[1;32m<ipython-input-18-c8543bebb629>\u001b[0m in \u001b[0;36m<module>\u001b[1;34m()\u001b[0m\n\u001b[1;32m----> 1\u001b[1;33m \u001b[0mbooks\u001b[0m \u001b[1;33m=\u001b[0m \u001b[0mcursor\u001b[0m\u001b[1;33m.\u001b[0m\u001b[0mfetchall\u001b[0m\u001b[1;33m(\u001b[0m\u001b[1;33m)\u001b[0m\u001b[1;33m\u001b[0m\u001b[0m\n\u001b[0m",
      "\u001b[1;31mProgrammingError\u001b[0m: Cannot operate on a closed cursor."
     ]
    }
   ],
   "source": [
    "books = cursor.fetchall()"
   ]
  },
  {
   "cell_type": "code",
   "execution_count": 15,
   "metadata": {
    "collapsed": false
   },
   "outputs": [
    {
     "data": {
      "text/plain": [
       "[]"
      ]
     },
     "execution_count": 15,
     "metadata": {},
     "output_type": "execute_result"
    }
   ],
   "source": [
    "books"
   ]
  },
  {
   "cell_type": "code",
   "execution_count": null,
   "metadata": {
    "collapsed": true
   },
   "outputs": [],
   "source": []
  }
 ],
 "metadata": {
  "kernelspec": {
   "display_name": "Python 2",
   "language": "python",
   "name": "python2"
  },
  "language_info": {
   "codemirror_mode": {
    "name": "ipython",
    "version": 2
   },
   "file_extension": ".py",
   "mimetype": "text/x-python",
   "name": "python",
   "nbconvert_exporter": "python",
   "pygments_lexer": "ipython2",
   "version": "2.7.10"
  }
 },
 "nbformat": 4,
 "nbformat_minor": 0
}
