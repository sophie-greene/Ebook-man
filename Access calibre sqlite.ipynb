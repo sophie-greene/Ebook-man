{
 "cells": [
  {
   "cell_type": "code",
   "execution_count": null,
   "metadata": {
    "collapsed": false,
    "scrolled": true
   },
   "outputs": [],
   "source": [
    "import glob, os\n",
    "import subprocess\n",
    "from ebooklib import epub\n",
    "import ebooklib\n",
    "import string\n",
    "import comFunc\n",
    "import sqlite3\n",
    "import numpy as np\n",
    "import nltk\n",
    "from nltk import pos_tag"
   ]
  },
  {
   "cell_type": "code",
   "execution_count": null,
   "metadata": {
    "collapsed": false
   },
   "outputs": [],
   "source": [
    "q='select * from books where INSTR(\" \",author_sort) == 0'\n",
    "a='SELECT DISTINCT * FROM books NATURAL JOIN (SELECT '\n",
    "b='title FROM books GROUP BY '\n",
    "c='title HAVING   COUNT(*) > 1) AS t'\n",
    "#q=a+b+c\n",
    "q='SELECT DISTINCT * FROM books WHERE author_sort LIKE \"% the %\" GROUP BY author_sort'\n",
    "#q='SELECT DISTINCT * FROM books WHERE title LIKE \"The%\" GROUP BY title'\n",
    "#q='SELECT DISTINCT * FROM books WHERE LENGTH(author_sort)>8 AND author_sort LIKE \"% % % %\" AND author_sort NOT LIKE \"%&%\" AND author_sort NOT LIKE \"%. %\" GROUP BY author_sort'\n",
    "q='SELECT DISTINCT * FROM books WHERE LENGTH(author_sort)>8 AND author_sort LIKE \"% with %\" GROUP BY author_sort'\n",
    "q='SELECT DISTINCT author_sort FROM books GROUP BY author_sort'\n",
    "\n",
    "db = '/media/some/sophie-hhd/calibre/metadata.db'\n",
    "!cp $db ./metadata.db\n",
    "connection = sqlite3.connect('metadata.db')\n",
    "cursor = connection.execute(q) \n",
    "m=cursor.fetchall()\n",
    "q"
   ]
  },
  {
   "cell_type": "code",
   "execution_count": null,
   "metadata": {
    "collapsed": true
   },
   "outputs": [],
   "source": [
    "from nltk.tag.stanford import StanfordNERTagger\n",
    "st = StanfordNERTagger('/media/some/SOPH/stanford/stanford-ner-2015-12-09/classifiers/english.all.3class.distsim.crf.ser.gz',\n",
    "               '/media/some/SOPH/stanford/stanford-ner-2015-12-09/stanford-ner.jar') "
   ]
  },
  {
   "cell_type": "code",
   "execution_count": null,
   "metadata": {
    "collapsed": false,
    "scrolled": true
   },
   "outputs": [],
   "source": [
    "def isName(lst):\n",
    "    cnt=0\n",
    "    for m in lst:\n",
    "        if m[1]=='PERSON':\n",
    "            cnt+=1\n",
    "    if cnt > len(lst)/2:   \n",
    "        return True\n",
    "    else:\n",
    "        return False\n",
    "cnt=1\n",
    "\n",
    "for mm in m:\n",
    "    authors= mm[0].split('&')\n",
    "    for a in authors:\n",
    "        nm=' '.join(mmm.strip() for mmm in reversed(a.split(',')))\n",
    "        r=st.tag(a.split(','))\n",
    "        if isName(r):\n",
    "            print (cnt,mm,nm, r)\n",
    "        cnt+=1\n",
    "    \n",
    "   \n",
    "    #print (cnt,nm, r)\n",
    "    \n",
    "#print' or '.join('authors:\"'+' '.join(mmm.strip() for mmm in reversed(mm[6].split(',')))+'\"' for mm in m)\n",
    "#print' or '.join('title:\"='+mm[1]+'\"' for mm in m)"
   ]
  },
  {
   "cell_type": "code",
   "execution_count": null,
   "metadata": {
    "collapsed": false
   },
   "outputs": [],
   "source": [
    "names = list(map(lambda x: x[0], cursor.description))\n",
    "names"
   ]
  },
  {
   "cell_type": "code",
   "execution_count": null,
   "metadata": {
    "collapsed": true
   },
   "outputs": [],
   "source": []
  }
 ],
 "metadata": {
  "kernelspec": {
   "display_name": "Python 3",
   "language": "python",
   "name": "python3"
  },
  "language_info": {
   "codemirror_mode": {
    "name": "ipython",
    "version": 3
   },
   "file_extension": ".py",
   "mimetype": "text/x-python",
   "name": "python",
   "nbconvert_exporter": "python",
   "pygments_lexer": "ipython3",
   "version": "3.5.1+"
  }
 },
 "nbformat": 4,
 "nbformat_minor": 0
}
