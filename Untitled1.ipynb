{
 "cells": [
  {
   "cell_type": "code",
   "execution_count": null,
   "metadata": {
    "collapsed": true
   },
   "outputs": [],
   "source": [
    "import pyPdf\n",
    "import os\n",
    "import time\n",
    "from multiprocessing import Pool"
   ]
  },
  {
   "cell_type": "code",
   "execution_count": null,
   "metadata": {
    "collapsed": false
   },
   "outputs": [],
   "source": [
    "d=\"/media/some/sophie-hhd/books/thrill\"\n",
    "ls=!find $d -type f -iname \"*.pdf\" \n",
    "len(ls)\n"
   ]
  },
  {
   "cell_type": "code",
   "execution_count": null,
   "metadata": {
    "collapsed": false
   },
   "outputs": [],
   "source": [
    "ls[0]"
   ]
  },
  {
   "cell_type": "code",
   "execution_count": null,
   "metadata": {
    "collapsed": false
   },
   "outputs": [],
   "source": [
    "def verifye(filename):\n",
    "    try:\n",
    "        pdf = pyPdf.PdfFileReader(open(filename, \"rb\"))\n",
    "    except:\n",
    "        return (filename,\"DOESNT EXIST\")\n",
    "    output=pyPdf.PdfFileWriter()\n",
    "    \n",
    "    try:\n",
    "        for page in pdf.pages:\n",
    "            print page,\"\\n\\n\"\n",
    "            txt=page.extractText()\n",
    "            img=page['/Resources']['XObject']\n",
    "            if txt!=None and len(txt)>0:\n",
    "                output.addpage(page)\n",
    "            \n",
    "        if output.getNumPages()>0:\n",
    "            try:\n",
    "                #os.remove(filename)\n",
    "                #output.write(filename)\n",
    "                \n",
    "                return (filename,\"OK\")\n",
    "            except:\n",
    "                return (filename,\"NOT OK\")\n",
    "        else:\n",
    "            return (filename,\"BLANK\")\n",
    "    except:\n",
    "        return (filename,\"NOT OK\")"
   ]
  },
  {
   "cell_type": "code",
   "execution_count": null,
   "metadata": {
    "collapsed": false
   },
   "outputs": [],
   "source": [
    "verifye(\"/media/some/sophie-hhd/books/thrill/Software_Architecture.pdf\")"
   ]
  },
  {
   "cell_type": "code",
   "execution_count": null,
   "metadata": {
    "collapsed": false,
    "scrolled": false
   },
   "outputs": [],
   "source": [
    "def conv(f):\n",
    "    fo=\"/tmp/\"+os.path.basename(f)[:-3]+\"ps\"\n",
    "    try:\n",
    "        !pdf2ps -dEmbedAllFonts=true \"$f\" \"$fo\"\n",
    "        !rm \"$f\"\n",
    "    except:\n",
    "        print(\"error\",f)\n",
    "        return f\n",
    "    \n",
    "    try:\n",
    "        !ps2pdf -dPDFSETTINGS=/prepress \"$fo\" \"$f\"\n",
    "        !rm \"$fo\"\n",
    "        return \"OK\"\n",
    "    except:\n",
    "        print(\"error\",f)\n",
    "        return f"
   ]
  },
  {
   "cell_type": "code",
   "execution_count": null,
   "metadata": {
    "collapsed": false
   },
   "outputs": [],
   "source": [
    "ls[11]\n"
   ]
  },
  {
   "cell_type": "code",
   "execution_count": null,
   "metadata": {
    "collapsed": false
   },
   "outputs": [],
   "source": [
    "def convert(f):\n",
    "    fo=\"/tmp/\"+os.path.basename(f)\n",
    "    try:\n",
    "        !gs -sDEVICE=pdfwrite -dCompatibilityLevel=1.4 -dEmbedAllFonts=true  -dPDFSETTINGS=/prepress -dNOPAUSE -dQUIET -dBATCH -sOutputFile=\"$fo\" \"$f\" >/dev/null\n",
    "        !rm \"$f\"\n",
    "        !mv \"$fo\" \"$f\"\n",
    "    except:\n",
    "        return f"
   ]
  },
  {
   "cell_type": "code",
   "execution_count": null,
   "metadata": {
    "collapsed": false,
    "scrolled": true
   },
   "outputs": [],
   "source": [
    "t0 = time.time()\n",
    "p = Pool(10)\n",
    "m=map(convert, ls[200:])\n",
    "p.terminate()\n",
    "p.close()\n",
    "t1 = time.time()\n",
    "total = t1-t0\n",
    "print('time: ',total)"
   ]
  },
  {
   "cell_type": "code",
   "execution_count": null,
   "metadata": {
    "collapsed": false
   },
   "outputs": [],
   "source": [
    "cnt=0\n",
    "for l in m:\n",
    "    if l != None :\n",
    "        cnt+=1\n",
    "        \n",
    "        #os.remove(l[0])\n",
    "cnt"
   ]
  },
  {
   "cell_type": "code",
   "execution_count": null,
   "metadata": {
    "collapsed": false
   },
   "outputs": [],
   "source": [
    "m"
   ]
  },
  {
   "cell_type": "code",
   "execution_count": null,
   "metadata": {
    "collapsed": true
   },
   "outputs": [],
   "source": []
  }
 ],
 "metadata": {
  "kernelspec": {
   "display_name": "Python 2",
   "language": "python",
   "name": "python2"
  },
  "language_info": {
   "codemirror_mode": {
    "name": "ipython",
    "version": 2
   },
   "file_extension": ".py",
   "mimetype": "text/x-python",
   "name": "python",
   "nbconvert_exporter": "python",
   "pygments_lexer": "ipython2",
   "version": "2.7.11+"
  }
 },
 "nbformat": 4,
 "nbformat_minor": 0
}
