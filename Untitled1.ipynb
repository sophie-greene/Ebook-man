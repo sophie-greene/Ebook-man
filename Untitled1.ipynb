{
 "cells": [
  {
   "cell_type": "code",
   "execution_count": null,
   "metadata": {
    "collapsed": true
   },
   "outputs": [],
   "source": [
    "import nltk\n",
    "from ebooklib import epub \n",
    "from  comFunc import *\n",
    "import os \n",
    "import glob\n",
    "from multiprocessing import Pool\n",
    "import time\n",
    "import re, string"
   ]
  },
  {
   "cell_type": "code",
   "execution_count": null,
   "metadata": {
    "collapsed": true
   },
   "outputs": [],
   "source": [
    "key='http://purl.org/dc/elements/1.1/'"
   ]
  },
  {
   "cell_type": "code",
   "execution_count": null,
   "metadata": {
    "collapsed": true
   },
   "outputs": [],
   "source": [
    "def writeTag(fname,tag):\n",
    "    book=epub.read_epub(fname)\n",
    "    tgs=[b[0] for b in book.metadata[key]['subject']]\n",
    "    ch_cnt=0\n",
    "    for t in tag:\n",
    "        if t not in tgs:\n",
    "            book.metadata[key]['subject'].append((t,{}))\n",
    "            ch_cnt+=1\n",
    "    if ch_cnt>0:\n",
    "        epub.write_epub(fname,book)"
   ]
  },
  {
   "cell_type": "code",
   "execution_count": null,
   "metadata": {
    "collapsed": false
   },
   "outputs": [],
   "source": [
    "files=glob.glob('/home/some/epub/*.epub')"
   ]
  },
  {
   "cell_type": "code",
   "execution_count": null,
   "metadata": {
    "collapsed": false
   },
   "outputs": [],
   "source": [
    "t0=time.time()\n",
    "writeTag(files[0],['romance','love'])\n",
    "t1=time.time()\n",
    "print('time writeTag: ',t1-t0)\n",
    "f=files[0]\n",
    "t0=time.time()\n",
    "!ebook-meta \"$f\" --tag 'romance,love'\n",
    "t1=time.time()\n",
    "print('time ebookmeta: ',t1-t0)"
   ]
  },
  {
   "cell_type": "code",
   "execution_count": null,
   "metadata": {
    "collapsed": false
   },
   "outputs": [],
   "source": [
    "book.metadata[key]['subject'].append(('romance',{}))"
   ]
  },
  {
   "cell_type": "code",
   "execution_count": null,
   "metadata": {
    "collapsed": false
   },
   "outputs": [],
   "source": [
    "tags=[b[0] for b in book.metadata[key]['subject']]"
   ]
  },
  {
   "cell_type": "code",
   "execution_count": null,
   "metadata": {
    "collapsed": false
   },
   "outputs": [],
   "source": [
    "epub.write_epub(files[0],book)"
   ]
  },
  {
   "cell_type": "code",
   "execution_count": null,
   "metadata": {
    "collapsed": false
   },
   "outputs": [],
   "source": [
    "f=files[0]\n",
    "!ebook-meta \"$f\""
   ]
  },
  {
   "cell_type": "code",
   "execution_count": null,
   "metadata": {
    "collapsed": true
   },
   "outputs": [],
   "source": []
  }
 ],
 "metadata": {
  "kernelspec": {
   "display_name": "Python 3",
   "language": "python",
   "name": "python3"
  },
  "language_info": {
   "codemirror_mode": {
    "name": "ipython",
    "version": 3
   },
   "file_extension": ".py",
   "mimetype": "text/x-python",
   "name": "python",
   "nbconvert_exporter": "python",
   "pygments_lexer": "ipython3",
   "version": "3.5.1+"
  }
 },
 "nbformat": 4,
 "nbformat_minor": 0
}
