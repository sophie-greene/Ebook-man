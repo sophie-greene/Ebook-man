{
 "cells": [
  {
   "cell_type": "code",
   "execution_count": 1,
   "metadata": {
    "collapsed": true
   },
   "outputs": [],
   "source": [
    "import os\n",
    "import comFuncs\n",
    "from comFuncs import *\n",
    "import string"
   ]
  },
  {
   "cell_type": "code",
   "execution_count": 2,
   "metadata": {
    "collapsed": false
   },
   "outputs": [
    {
     "data": {
      "text/plain": [
       "529077"
      ]
     },
     "execution_count": 2,
     "metadata": {},
     "output_type": "execute_result"
    }
   ],
   "source": [
    "try:\n",
    "    ind=load_obj('datas/indexdd')\n",
    "except:\n",
    "    names=!find /media/some/sam/download-ep/all -type f -iname \"index*\"\n",
    "    lst=[list(reversed(os.path.split(f))) for f in names]\n",
    "    result = {}\n",
    "    for item in lst:\n",
    "        if not item[0] in result.keys():\n",
    "            result[item[0]]=[]  \n",
    "        result[item[0]]=result[item[0]]+ [item[1]]\n",
    "        \n",
    "    ind=[]\n",
    "    for k in result.keys():\n",
    "        ind=ind+open(result[k][0]+\"/\"+k).readlines()\n",
    "    save_obj(ind, 'datas/indexdd')  \n",
    "len(ind)"
   ]
  },
  {
   "cell_type": "code",
   "execution_count": 3,
   "metadata": {
    "collapsed": false
   },
   "outputs": [],
   "source": [
    "def search(key,ind):\n",
    "    search=key.split()\n",
    "    res=[]\n",
    "    for it in ind:\n",
    "        if all(it.lower().count(se.lower()+\" \")>0 for se in search if len(se)>1 ):\n",
    "            res=res+[it]\n",
    "            return res\n",
    "\n",
    "    return res"
   ]
  },
  {
   "cell_type": "code",
   "execution_count": 4,
   "metadata": {
    "collapsed": false
   },
   "outputs": [
    {
     "data": {
      "text/plain": [
       "90841"
      ]
     },
     "execution_count": 4,
     "metadata": {},
     "output_type": "execute_result"
    }
   ],
   "source": [
    "foo=\"/media/some/sam/lbuntu/\"\n",
    "try:\n",
    "    flst=load_obj('datas/lalst')\n",
    "except:\n",
    "    flst=!find \"$foo\" -type f -iname \"*.*\"\n",
    "    save_obj(flst, 'datas/lalst')\n",
    "len(flst)"
   ]
  },
  {
   "cell_type": "code",
   "execution_count": null,
   "metadata": {
    "collapsed": false
   },
   "outputs": [],
   "source": [
    "for fl in list(reversed(flst)):\n",
    "#fl=flst[0]\n",
    "    if os.path.exists(fl):\n",
    "        #flc=fl.replace(foo,'')\n",
    "        fp,fn=os.path.split(fl)\n",
    "        flc=fn\n",
    "\n",
    "        flc=''.join(s   if s in string.printable[10:62]+\" \" else \" \" for s in flc )\n",
    "        relst=[\"mobi\",\"pdf\",\"retail\",\"epub\",\"lit\",\"azw3\",' doc',' docx','rtf','done',\"txt\",' the ',' by ','htm','lrf','novel','volume',\"book\",'flac']\n",
    "        for w in relst:\n",
    "            flc=flc.replace(w,\" \")\n",
    "\n",
    "        found=search(flc,ind)\n",
    "        #print \"search=\",flc,\" found=\",found\n",
    "        if len(found)>0:\n",
    "            if os.path.exists(fl):\n",
    "                os.remove(fl)"
   ]
  },
  {
   "cell_type": "code",
   "execution_count": 10,
   "metadata": {
    "collapsed": false
   },
   "outputs": [
    {
     "data": {
      "text/plain": [
       "['07-31-2011\\\\Debora Geary - [Modern Witch 01] - A Modern Witch (epub).rar\\r\\n',\n",
       " '07-31-2011\\\\Debora Geary - [Modern Witch 01] - A Modern Witch (html).rar\\r\\n',\n",
       " '07-31-2011\\\\Debora Geary - [Modern Witch 01] - A Modern Witch (mobi).rar\\r\\n',\n",
       " '07-31-2011\\\\Debora Geary - [Modern Witch 02] - A Hidden Witch (epub).rar\\r\\n',\n",
       " '07-31-2011\\\\Debora Geary - [Modern Witch 02] - A Hidden Witch (html).rar\\r\\n',\n",
       " '07-31-2011\\\\Debora Geary - [Modern Witch 02] - A Hidden Witch (mobi).rar\\r\\n',\n",
       " '07-31-2011\\\\Debora Geary - [Modern Witch ss] - To Love a Witch (epub).rar\\r\\n',\n",
       " '07-31-2011\\\\Debora Geary - [Modern Witch ss] - To Love a Witch (html).rar\\r\\n',\n",
       " '07-31-2011\\\\Debora Geary - [Modern Witch ss] - To Love a Witch (mobi).rar\\r\\n',\n",
       " '10-31-2011\\\\Debora Geary - [Modern Witch - Witches on Parole 01] - Witches on Parole- Unlocked (mobi).rar\\r\\n',\n",
       " '12-03-2011 Part 1\\\\Debora Geary - [Modern Witch 03] - A Reckless Witch (v5.0) (html).rar\\r\\n',\n",
       " '12-03-2011 Part 1\\\\Debora Geary - [Modern Witch 03] - A Reckless Witch (v5.0) (mobi).rar\\r\\n',\n",
       " '03-19-2013\\\\Debora Geary - [Modern Witch 06] - A Celtic Witch (epub).rar\\r\\n',\n",
       " '03-19-2013\\\\Debora Geary - [Modern Witch 06] - A Celtic Witch (mobi).rar\\r\\n',\n",
       " '04-24-2013\\\\Debora Geary - [Modern Witch 06.5] - Swordfights and Lullabies (epub).rar\\r\\n',\n",
       " '04-24-2013\\\\Debora Geary - [Modern Witch 06.5] - Swordfights and Lullabies (mobi).rar\\r\\n',\n",
       " '06-22-2013\\\\Debora Geary - [Modern Witch 07] - A Lost Witch (epub).rar\\r\\n',\n",
       " '06-22-2013\\\\Debora Geary - [Modern Witch 07] - A Lost Witch (mobi).rar\\r\\n',\n",
       " '09-20-2013\\\\Debora Geary - [Witch Central - Imperfect 01] - An Imperfect Witch (epub).rar\\r\\n',\n",
       " '09-20-2013\\\\Debora Geary - [Witch Central - Imperfect 01] - An Imperfect Witch (mobi).rar\\r\\n',\n",
       " '12-24-2013 Part 1-2\\\\Debora Geary - [Witch Central - Imperfect 02] - An Unlikely Witch (epub).rar\\r\\n',\n",
       " '12-24-2013 Part 1-2\\\\Debora Geary - [Witch Central - Imperfect 02] - An Unlikely Witch (mobi).rar\\r\\n',\n",
       " '01-04-2014 Part 1-2\\\\Debora Geary - Matchmakers 2.0 [Novel Nibbles] (epub).rar\\r\\n',\n",
       " '01-16-2014\\\\Debora Geary (ed) - Pink Snowbunnies in Hell- A Flash Fiction Anthology (epub).rar\\r\\n',\n",
       " '09-19-2014\\\\Debora Geary - [Witch Central - Imperfect 03] - A Dangerous Witch (epub).rar\\r\\n',\n",
       " '09-27-2014 Part 1-2\\\\Debora Geary - [Witch Central 02.5] - Feathers (epub).rar\\r\\n',\n",
       " '09-27-2014 Part 1-2\\\\Debora Geary - [Witch Central 02.5] - Feathers (mobi).rar\\r\\n',\n",
       " '02-15-2012\\\\Debora Geary - [Modern Witch 02.5 - WitchLight 02] - Witches Under Way (epub).rar\\r\\n',\n",
       " '02-15-2012\\\\Debora Geary - [Modern Witch 02.5 - WitchLight 02] - Witches Under Way (html).rar\\r\\n',\n",
       " '02-15-2012\\\\Debora Geary - [Modern Witch 02.5 - WitchLight 02] - Witches Under Way (mobi).rar\\r\\n',\n",
       " '03-30-2012 Part 1\\\\Debora Geary - [Modern Witch 02.5 - WitchLight 03] - Witches in Flight (epub).rar\\r\\n',\n",
       " '03-30-2012 Part 1\\\\Debora Geary - [Modern Witch 02.5 - WitchLight 03] - Witches in Flight (html).rar\\r\\n',\n",
       " '03-30-2012 Part 1\\\\Debora Geary - [Modern Witch 02.5 - WitchLight 03] - Witches in Flight (mobi).rar\\r\\n',\n",
       " '06-25-2012 Part 1\\\\Debora Geary - [Modern Witch 04] - A Nomadic Witch (epub).rar\\r\\n',\n",
       " '06-25-2012 Part 1\\\\Debora Geary - [Modern Witch 04] - A Nomadic Witch (html).rar\\r\\n',\n",
       " '06-25-2012 Part 1\\\\Debora Geary - [Modern Witch 04] - A Nomadic Witch (mobi).rar\\r\\n',\n",
       " '09-17-2012 Part 1\\\\Debora Geary - [Modern Witch 03.5] - A Witch Central Wedding (epub).rar\\r\\n',\n",
       " '09-17-2012 Part 1\\\\Debora Geary - [Modern Witch 03.5] - A Witch Central Wedding (html).rar\\r\\n',\n",
       " '09-17-2012 Part 1\\\\Debora Geary - [Modern Witch 03.5] - A Witch Central Wedding (mobi).rar\\r\\n',\n",
       " '09-21-2012\\\\Debora Geary - [Modern Witch 05] - To Have and To Code (epub).rar\\r\\n',\n",
       " '09-21-2012\\\\Debora Geary - [Modern Witch 05] - To Have and To Code (html).rar\\r\\n',\n",
       " '09-21-2012\\\\Debora Geary - [Modern Witch 05] - To Have and To Code (mobi).rar\\r\\n',\n",
       " '12-24-2012\\\\Debora Geary - [Modern Witch 05] - A Different Witch (epub).rar\\r\\n',\n",
       " '12-24-2012\\\\Debora Geary - [Modern Witch 05] - A Different Witch (mobi).rar\\r\\n']"
      ]
     },
     "execution_count": 10,
     "metadata": {},
     "output_type": "execute_result"
    }
   ],
   "source": [
    "search(\"debora geary\",ind)"
   ]
  },
  {
   "cell_type": "code",
   "execution_count": 37,
   "metadata": {
    "collapsed": false
   },
   "outputs": [
    {
     "data": {
      "text/plain": [
       "15042"
      ]
     },
     "execution_count": 37,
     "metadata": {},
     "output_type": "execute_result"
    }
   ],
   "source": []
  },
  {
   "cell_type": "code",
   "execution_count": 41,
   "metadata": {
    "collapsed": false
   },
   "outputs": [
    {
     "data": {
      "text/plain": [
       "['powerone']"
      ]
     },
     "execution_count": 41,
     "metadata": {},
     "output_type": "execute_result"
    }
   ],
   "source": [
    "\"powerone\".split()"
   ]
  },
  {
   "cell_type": "code",
   "execution_count": null,
   "metadata": {
    "collapsed": true
   },
   "outputs": [],
   "source": []
  }
 ],
 "metadata": {
  "kernelspec": {
   "display_name": "Python 2",
   "language": "python",
   "name": "python2"
  },
  "language_info": {
   "codemirror_mode": {
    "name": "ipython",
    "version": 2
   },
   "file_extension": ".py",
   "mimetype": "text/x-python",
   "name": "python",
   "nbconvert_exporter": "python",
   "pygments_lexer": "ipython2",
   "version": "2.7.12"
  }
 },
 "nbformat": 4,
 "nbformat_minor": 0
}
