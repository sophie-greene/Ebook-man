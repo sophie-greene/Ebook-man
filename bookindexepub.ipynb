{
 "cells": [
  {
   "cell_type": "code",
   "execution_count": 1,
   "metadata": {
    "collapsed": true
   },
   "outputs": [],
   "source": [
    "import os\n",
    "import comFuncs\n",
    "from comFuncs import *\n",
    "import string"
   ]
  },
  {
   "cell_type": "code",
   "execution_count": 2,
   "metadata": {
    "collapsed": false
   },
   "outputs": [
    {
     "data": {
      "text/plain": [
       "529077"
      ]
     },
     "execution_count": 2,
     "metadata": {},
     "output_type": "execute_result"
    }
   ],
   "source": [
    "try:\n",
    "    ind=load_obj('datas/indexdd')\n",
    "except:\n",
    "    names=!find /media/some/sam/download-ep/all -type f -iname \"index*\"\n",
    "    lst=[list(reversed(os.path.split(f))) for f in names]\n",
    "    result = {}\n",
    "    for item in lst:\n",
    "        if not item[0] in result.keys():\n",
    "            result[item[0]]=[]  \n",
    "        result[item[0]]=result[item[0]]+ [item[1]]\n",
    "        \n",
    "    ind=[]\n",
    "    for k in result.keys():\n",
    "        ind=ind+open(result[k][0]+\"/\"+k).readlines()\n",
    "    save_obj(ind, 'datas/indexdd')  \n",
    "len(ind)"
   ]
  },
  {
   "cell_type": "code",
   "execution_count": 3,
   "metadata": {
    "collapsed": false
   },
   "outputs": [],
   "source": [
    "def search(key,ind):\n",
    "    search=key.split()\n",
    "    res=[]\n",
    "    for it in ind:\n",
    "        if all(it.lower().count(se.lower()+\"\")>0 for se in search if len(se)>1):\n",
    "            res=res+[it]\n",
    "            return res\n",
    "\n",
    "    return  res"
   ]
  },
  {
   "cell_type": "code",
   "execution_count": 4,
   "metadata": {
    "collapsed": false
   },
   "outputs": [
    {
     "data": {
      "text/plain": [
       "96241"
      ]
     },
     "execution_count": 4,
     "metadata": {},
     "output_type": "execute_result"
    }
   ],
   "source": [
    "foo=\"/media/some/sam/download-ep\"\n",
    "try:\n",
    "    flst=load_obj('datas/alst')\n",
    "except:\n",
    "    flst=!find \"$foo\" -type f -iname \"*.*\"\n",
    "    save_obj(flst, 'datas/alst')\n",
    "len(flst)"
   ]
  },
  {
   "cell_type": "code",
   "execution_count": null,
   "metadata": {
    "collapsed": false
   },
   "outputs": [],
   "source": [
    "for fl in list(reversed(flst)):\n",
    "#fl=flst[0]\n",
    "    if os.path.exists(fl):\n",
    "        #flc=fl.replace(foo,'')\n",
    "        fp,fn=os.path.split(fl)\n",
    "        flc=fn\n",
    "\n",
    "        flc=''.join(s   if s in string.printable[10:62]+\" \" else \" \" for s in flc )\n",
    "        relst=[\"mobi\",\"pdf\",\"retail\",\"epub\",\"lit\",\"azw3\",' doc',' docx','rtf','done',\"txt\",' the ',' by ','htm','lrf','novel','volume',\"book\",'flac']\n",
    "        for w in relst:\n",
    "            flc=flc.replace(w,\" \")\n",
    "\n",
    "        found=search(flc,ind)\n",
    "        #print \"search=\",flc,\" found=\",found\n",
    "        if len(found)>0:\n",
    "            if os.path.exists(fl):\n",
    "                os.remove(fl)"
   ]
  },
  {
   "cell_type": "code",
   "execution_count": 13,
   "metadata": {
    "collapsed": false
   },
   "outputs": [
    {
     "ename": "NameError",
     "evalue": "name 'flc' is not defined",
     "output_type": "error",
     "traceback": [
      "\u001b[1;31m---------------------------------------------------------------------------\u001b[0m",
      "\u001b[1;31mNameError\u001b[0m                                 Traceback (most recent call last)",
      "\u001b[1;32m<ipython-input-13-91655c53c2c0>\u001b[0m in \u001b[0;36m<module>\u001b[1;34m()\u001b[0m\n\u001b[1;32m----> 1\u001b[1;33m \u001b[0mflc\u001b[0m\u001b[1;33m\u001b[0m\u001b[0m\n\u001b[0m",
      "\u001b[1;31mNameError\u001b[0m: name 'flc' is not defined"
     ]
    }
   ],
   "source": [
    "flc"
   ]
  },
  {
   "cell_type": "code",
   "execution_count": null,
   "metadata": {
    "collapsed": true
   },
   "outputs": [],
   "source": []
  }
 ],
 "metadata": {
  "kernelspec": {
   "display_name": "Python 2",
   "language": "python",
   "name": "python2"
  },
  "language_info": {
   "codemirror_mode": {
    "name": "ipython",
    "version": 2
   },
   "file_extension": ".py",
   "mimetype": "text/x-python",
   "name": "python",
   "nbconvert_exporter": "python",
   "pygments_lexer": "ipython2",
   "version": "2.7.12"
  }
 },
 "nbformat": 4,
 "nbformat_minor": 0
}
