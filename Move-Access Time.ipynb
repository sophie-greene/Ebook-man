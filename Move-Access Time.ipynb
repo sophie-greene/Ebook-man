{
 "cells": [
  {
   "cell_type": "code",
   "execution_count": 1,
   "metadata": {
    "collapsed": true
   },
   "outputs": [],
   "source": [
    "import os,glob\n",
    "from dateutil import parser\n",
    "import datetime\n",
    "from IPython.display import clear_output\n",
    "from ebooklib import epub\n",
    "import ebooklib"
   ]
  },
  {
   "cell_type": "code",
   "execution_count": 2,
   "metadata": {
    "collapsed": false
   },
   "outputs": [],
   "source": [
    "path=\"/media/some/sophie-hhd/books/epub-cm/\"\n",
    "tp=\"/media/some/sophie-hhd/books/tmpadd/\"\n",
    "rt=datetime.datetime(2016, 5, 10, 0, 0, 0, 0)\n",
    "et=datetime.datetime(2016, 5, 11, 0, 0, 0, 0)"
   ]
  },
  {
   "cell_type": "code",
   "execution_count": null,
   "metadata": {
    "collapsed": false,
    "scrolled": false
   },
   "outputs": [],
   "source": [
    "#move files last accessed time betweeen rt and et above\n",
    "def movFile(rt,et):\n",
    "    os.chdir(path)\n",
    "    lst=glob.glob(\"*.epub\")\n",
    "    os.chdir(\"/home/some\")\n",
    "    cnt=0\n",
    "    for f in lst:\n",
    "        ff=path+f\n",
    "        atm=! stat $ff |grep \"Access: 2\"\n",
    "        atime=parser.parse(atm[0].replace(\"Access: \",\"\").replace(' +0100',''))\n",
    "        #if file accessed after 18:00 on 10/05/2016\n",
    "        if atime >= rt and atime <= et:\n",
    "            cnt+=1\n",
    "            print cnt,'-', atime,\" moving .. \",f\n",
    "\n",
    "            if cnt % 10 == 0:\n",
    "                clear_output()\n",
    "            tf=tp+f\n",
    "            ! rm $ff\n",
    "    print cnt       "
   ]
  },
  {
   "cell_type": "code",
   "execution_count": null,
   "metadata": {
    "collapsed": false
   },
   "outputs": [],
   "source": [
    "parser.parse(atm[0].replace('Access: ',''))"
   ]
  },
  {
   "cell_type": "code",
   "execution_count": null,
   "metadata": {
    "collapsed": false
   },
   "outputs": [],
   "source": [
    "atm"
   ]
  },
  {
   "cell_type": "code",
   "execution_count": null,
   "metadata": {
    "collapsed": false
   },
   "outputs": [],
   "source": [
    "#change all files in directory to lowercase\n",
    "path=\"/media/some/sophie-hhd/books/epub-m/\"\n",
    "os.chdir(path)\n",
    "for filename in glob.glob(\"*.epub\"):\n",
    "    os.rename(filename, filename.lower())\n",
    "os.chdir(\"/home/some\")"
   ]
  },
  {
   "cell_type": "code",
   "execution_count": null,
   "metadata": {
    "collapsed": false
   },
   "outputs": [],
   "source": [
    "#reverse the order of author-title to title-author and vice versa\n",
    "path=\"/media/some/sophie-hhd/books/epub-cm/\"\n",
    "os.chdir(path)\n",
    "for filename in glob.glob(\"*.epub\"):\n",
    "    tmp=filename[:-5].split('-')\n",
    "    os.rename(filename, '-'.join(t for t in reversed(tmp))+\".epub\")\n",
    "os.chdir(\"/home/some\")"
   ]
  },
  {
   "cell_type": "markdown",
   "metadata": {},
   "source": [
    "### reverse the order of author-title  if auther contains any the,of and change metadata"
   ]
  },
  {
   "cell_type": "code",
   "execution_count": 4,
   "metadata": {
    "collapsed": true
   },
   "outputs": [],
   "source": [
    "import pickle\n",
    "def save_obj(obj, name ):\n",
    "    with open( name + '.pkl', 'wb') as f:\n",
    "        pickle.dump(obj, f, pickle.HIGHEST_PROTOCOL)\n",
    "\n",
    "def load_obj(name ):\n",
    "    with open( name + '.pkl', 'rb') as f:\n",
    "        return pickle.load(f)"
   ]
  },
  {
   "cell_type": "code",
   "execution_count": 5,
   "metadata": {
    "collapsed": false
   },
   "outputs": [],
   "source": [
    "path=\"/media/some/sophie-hhd/books/epub-cm/\"\n",
    "tgp='/media/some/sophie-hhd/books/exchanged/'\n",
    "\n",
    "os.chdir(path)\n",
    "m=glob.glob(\"*.epub\")\n",
    "os.chdir(\"/home/some\")\n",
    "try:\n",
    "    metalst=load_obj('metalst')\n",
    "except:\n",
    "    metalst={}\n",
    "    save_obj(metalst, 'metalst')\n"
   ]
  },
  {
   "cell_type": "code",
   "execution_count": null,
   "metadata": {
    "collapsed": false
   },
   "outputs": [],
   "source": [
    "#in file move2\n",
    "'''metalst=load_obj('metalst')\n",
    "\n",
    "for mm in m:\n",
    "    ff=path+mm\n",
    "    if mm not in metalst.keys():\n",
    "        tm=!ebook-meta $ff\n",
    "        metalst[mm]=tm\n",
    "    \n",
    "    m.pop(m.index(mm))\n",
    "    cnt+=1\n",
    "    if cnt%100==0:\n",
    "        print cnt\n",
    "        break\n",
    "save_obj(metalst, 'metalst')'''"
   ]
  },
  {
   "cell_type": "code",
   "execution_count": 6,
   "metadata": {
    "collapsed": false
   },
   "outputs": [],
   "source": [
    "\n",
    "def hasNumbers(inputString):\n",
    "    return any(char.isdigit() for char in inputString)"
   ]
  },
  {
   "cell_type": "code",
   "execution_count": 106,
   "metadata": {
    "collapsed": false,
    "scrolled": true
   },
   "outputs": [],
   "source": [
    "metalst=load_obj('metalst')\n",
    "#reverse the order of author-title  if auther contains any the,of and change metadata\n",
    "strlist=['wedding', 'billionaire','wife ','yesterday',' marrying','bedded','millionaire',\n",
    "         'seal ','winning','mistress','husband','tycoon',' boss',\n",
    "         'greek','italian','cooking','marriage',' bride',\n",
    "        'secretary',' nany ','sicilian','manhunt','highland','cowboy','texas','convenient','spaniard'\n",
    "        ' virgin','forever','bought','claimed','hunted','wedded','death','ruthless']\n",
    "\n",
    "cnt=0\n",
    "for f in metalst.keys():\n",
    "    ff=path+f\n",
    "    try:\n",
    "        #get metadata\n",
    "\n",
    "        metadataR=metalst[f]\n",
    "        #convert to dictionary\n",
    "        metadata={}\n",
    "        for met in metadataR:\n",
    "            tmp=met.split(\":\")\n",
    "            if len(tmp) >= 2:\n",
    "                metadata[tmp[0].strip()]=tmp[1].strip()\n",
    "            elif len(tmp)==1:\n",
    "                metadata[tmp[0].strip()]='Unkown'\n",
    "\n",
    "        if 'Author(s)' in metadata.keys():\n",
    "\n",
    "            if any(x in  metadata['Author(s)'].lower(\n",
    "                ) for x in strlist) or metadata['Author(s)'].lower(\n",
    "            )[:4]=='the ': #or hasNumbers(metadata['Author(s)']):\n",
    "                book=epub.read_epub(ff)\n",
    "                if 'creator' in book.metadata['http://purl.org/dc/elements/1.1/'].keys():\n",
    "                    book.metadata['http://purl.org/dc/elements/1.1/'].pop('creator')\n",
    "                book.add_author(metadata['Title'])\n",
    "                if 'title' in book.metadata['http://purl.org/dc/elements/1.1/'].keys():\n",
    "                    book.metadata['http://purl.org/dc/elements/1.1/'].pop('title')\n",
    "                book.set_title(metadata['Author(s)'])\n",
    "                tit=''.join(ch for ch in book.get_metadata(\"DC\", \"title\")[0][0] if ch.isalnum())\n",
    "                auth=''.join(ch for ch in book.get_metadata(\"DC\",\"creator\")[0][0] if ch.isalnum())\n",
    "                name=auth+\"-\"+tit+\".epub\"\n",
    "                if not os.path.isfile(path+name) and not name == f :\n",
    "                    name=name.lower()\n",
    "    \n",
    "                    print 'saving ..',ff,\" as ..\" ,name\n",
    "                    epub.write_epub(path+name,book,{} )\n",
    "                    tf=tgp+name.lower()\n",
    "                    if not os.path.isfile(tf):\n",
    "                        ! mv $ff $tf\n",
    "                    else:\n",
    "                        os.remove(ff)\n",
    "\n",
    "            if metadata['Author(s)'].count(',') == 1 and metadata['Author(s)'].count('[') == 0:\n",
    "                book=epub.read_epub(ff)\n",
    "                if 'creator' in book.metadata['http://purl.org/dc/elements/1.1/'].keys():\n",
    "                    book.metadata['http://purl.org/dc/elements/1.1/'].pop('creator')\n",
    "                tmp=metadata['Author(s)'].split(',')\n",
    "                auth=' '.join(t for t in reversed(tmp))\n",
    "                book.add_author(auth)\n",
    "                tit=''.join(ch for ch in book.get_metadata(\"DC\", \"title\")[0][0] if ch.isalnum())\n",
    "                auth=''.join(ch for ch in book.get_metadata(\"DC\",\"creator\")[0][0] if ch.isalnum())\n",
    "                name=auth+\"-\"+tit+\".epub\"\n",
    "                if not os.path.isfile(path+name) and not name == f:\n",
    "                    name=name.lower()\n",
    "                    print 'saving ..',ff,\" as ..\" ,name\n",
    "                    epub.write_epub(path+name,book,{} )\n",
    "                    tf=tgp+name.lower()\n",
    "                    if not os.path.isfile(tf):\n",
    "                        ! mv $ff $tf\n",
    "                    else:\n",
    "                        os.remove(ff)\n",
    "                #metalst.pop(f, None)\n",
    "\n",
    "    except:\n",
    "        \n",
    "        #print cnt,\" failed to read epub removing from dict\",f\n",
    "        metalst.pop(f, None)\n",
    "        \n",
    "        #os.remove(ff)\n",
    "    #tmp=filename[:-5].split('-')\n",
    "    #os.rename(filename, '-'.join(t for t in reversed(tmp))+\".epub\")\n",
    "    cnt+=1\n",
    "    #if cnt>1:\n",
    "     #   break\n",
    "save_obj(metalst, 'metalst')"
   ]
  },
  {
   "cell_type": "code",
   "execution_count": 107,
   "metadata": {
    "collapsed": false
   },
   "outputs": [
    {
     "data": {
      "text/plain": [
       "4557"
      ]
     },
     "execution_count": 107,
     "metadata": {},
     "output_type": "execute_result"
    }
   ],
   "source": [
    "len(metalst)\n"
   ]
  },
  {
   "cell_type": "code",
   "execution_count": null,
   "metadata": {
    "collapsed": false
   },
   "outputs": [],
   "source": [
    "st='yuletideprotector-juliemiller.epub'\n",
    "tmp=st[:-5].split('-')\n",
    "\n",
    "st_r='-'.join(t for t in reversed(tmp))+\".epub\"\n",
    "st_r"
   ]
  },
  {
   "cell_type": "code",
   "execution_count": null,
   "metadata": {
    "collapsed": false
   },
   "outputs": [],
   "source": [
    "#remove files in directory path which atime is between rt and et\n",
    "os.chdir(path)\n",
    "m=glob.glob(\"*.epub\")\n",
    "os.chdir(\"/home/some\")\n",
    "cnt=0\n",
    "for f in m:\n",
    "    ff=path+f\n",
    "    atm=! stat $ff |grep \"Access: 2\"\n",
    "    atime=parser.parse(atm[0].replace(\"Access: \",\"\").replace(' +0100',''))\n",
    "    #if file accessed after 18:00 on 10/05/2016\n",
    "    if atime >= rt and atime <= et:\n",
    "        cnt+=1\n",
    "        print cnt,'-', atime,\" moving .. \",f\n",
    "        \n",
    "        if cnt % 10 == 0:\n",
    "            clear_output()\n",
    "        \n",
    "        os.remove(ff)\n",
    "print cnt       \n"
   ]
  },
  {
   "cell_type": "code",
   "execution_count": null,
   "metadata": {
    "collapsed": false
   },
   "outputs": [],
   "source": []
  },
  {
   "cell_type": "code",
   "execution_count": null,
   "metadata": {
    "collapsed": false
   },
   "outputs": [],
   "source": [
    "tf"
   ]
  },
  {
   "cell_type": "code",
   "execution_count": null,
   "metadata": {
    "collapsed": false
   },
   "outputs": [],
   "source": [
    "os.chdir('/home/')\n",
    "os.path.isfile('/home/some/author.txt')"
   ]
  },
  {
   "cell_type": "code",
   "execution_count": null,
   "metadata": {
    "collapsed": true
   },
   "outputs": [],
   "source": []
  }
 ],
 "metadata": {
  "kernelspec": {
   "display_name": "Python 2",
   "language": "python",
   "name": "python2"
  },
  "language_info": {
   "codemirror_mode": {
    "name": "ipython",
    "version": 2
   },
   "file_extension": ".py",
   "mimetype": "text/x-python",
   "name": "python",
   "nbconvert_exporter": "python",
   "pygments_lexer": "ipython2",
   "version": "2.7.10"
  }
 },
 "nbformat": 4,
 "nbformat_minor": 0
}
