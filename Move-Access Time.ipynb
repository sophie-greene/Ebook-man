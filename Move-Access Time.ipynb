{
 "cells": [
  {
   "cell_type": "code",
   "execution_count": null,
   "metadata": {
    "collapsed": true,
    "scrolled": true
   },
   "outputs": [],
   "source": [
    "import os,glob\n",
    "from dateutil import parser\n",
    "import datetime\n",
    "from IPython.display import clear_output\n",
    "from ebooklib import epub\n",
    "import ebooklib"
   ]
  },
  {
   "cell_type": "code",
   "execution_count": null,
   "metadata": {
    "collapsed": false,
    "scrolled": true
   },
   "outputs": [],
   "source": [
    "path=\"/media/some/sophie-hhd/books/epub-cm/\"\n",
    "tp=\"/media/some/sophie-hhd/books/tmpadd/\"\n",
    "rt=datetime.datetime(2016, 5, 10, 0, 0, 0, 0)\n",
    "et=datetime.datetime(2016, 5, 11, 0, 0, 0, 0)"
   ]
  },
  {
   "cell_type": "code",
   "execution_count": null,
   "metadata": {
    "collapsed": false,
    "scrolled": true
   },
   "outputs": [],
   "source": [
    "#move files last accessed time betweeen rt and et above\n",
    "def movFile(rt,et):\n",
    "    os.chdir(path)\n",
    "    lst=glob.glob(\"*.epub\")\n",
    "    os.chdir(\"/home/some\")\n",
    "    cnt=0\n",
    "    for f in lst:\n",
    "        ff=path+f\n",
    "        atm=! stat $ff |grep \"Access: 2\"\n",
    "        atime=parser.parse(atm[0].replace(\"Access: \",\"\").replace(' +0100',''))\n",
    "        #if file accessed after 18:00 on 10/05/2016\n",
    "        if atime >= rt and atime <= et:\n",
    "            cnt+=1\n",
    "            print cnt,'-', atime,\" moving .. \",f\n",
    "\n",
    "            if cnt % 10 == 0:\n",
    "                clear_output()\n",
    "            tf=tp+f\n",
    "            ! rm $ff\n",
    "    print cnt       "
   ]
  },
  {
   "cell_type": "code",
   "execution_count": null,
   "metadata": {
    "collapsed": false,
    "scrolled": true
   },
   "outputs": [],
   "source": [
    "parser.parse(atm[0].replace('Access: ',''))"
   ]
  },
  {
   "cell_type": "code",
   "execution_count": null,
   "metadata": {
    "collapsed": false,
    "scrolled": true
   },
   "outputs": [],
   "source": [
    "atm"
   ]
  },
  {
   "cell_type": "code",
   "execution_count": null,
   "metadata": {
    "collapsed": false,
    "scrolled": true
   },
   "outputs": [],
   "source": [
    "#change all files in directory to lowercase\n",
    "path=\"/media/some/sophie-hhd/books/epub-m/\"\n",
    "os.chdir(path)\n",
    "for filename in glob.glob(\"*.epub\"):\n",
    "    os.rename(filename, filename.lower())\n",
    "os.chdir(\"/home/some\")"
   ]
  },
  {
   "cell_type": "code",
   "execution_count": null,
   "metadata": {
    "collapsed": false,
    "scrolled": true
   },
   "outputs": [],
   "source": [
    "#reverse the order of author-title to title-author and vice versa\n",
    "path=\"/media/some/sophie-hhd/books/epub-cm/\"\n",
    "os.chdir(path)\n",
    "for filename in glob.glob(\"*.epub\"):\n",
    "    tmp=filename[:-5].split('-')\n",
    "    os.rename(filename, '-'.join(t for t in reversed(tmp))+\".epub\")\n",
    "os.chdir(\"/home/some\")"
   ]
  },
  {
   "cell_type": "markdown",
   "metadata": {},
   "source": [
    "### reverse the order of author-title  if auther contains any the,of and change metadata"
   ]
  },
  {
   "cell_type": "code",
   "execution_count": null,
   "metadata": {
    "collapsed": true,
    "scrolled": true
   },
   "outputs": [],
   "source": [
    "import pickle\n",
    "def save_obj(obj, name ):\n",
    "    with open( name + '.pkl', 'wb') as f:\n",
    "        pickle.dump(obj, f, pickle.HIGHEST_PROTOCOL)\n",
    "\n",
    "def load_obj(name ):\n",
    "    with open( name + '.pkl', 'rb') as f:\n",
    "        return pickle.load(f)"
   ]
  },
  {
   "cell_type": "code",
   "execution_count": 157,
   "metadata": {
    "collapsed": false,
    "scrolled": true
   },
   "outputs": [],
   "source": [
    "path=\"/media/some/sophie-hhd/books/epub-cm/\"\n",
    "tgp='/media/some/sophie-hhd/books/exchanged/'\n",
    "\n",
    "os.chdir(path)\n",
    "m=glob.glob(\"*.epub\")\n",
    "os.chdir(\"/home/some\")\n",
    "try:\n",
    "    metalst=load_obj('metalst')\n",
    "except:\n",
    "    metalst={}\n",
    "    save_obj(metalst, 'metalst')\n"
   ]
  },
  {
   "cell_type": "code",
   "execution_count": null,
   "metadata": {
    "collapsed": false,
    "scrolled": true
   },
   "outputs": [],
   "source": [
    "#in file move2\n",
    "'''metalst=load_obj('metalst')\n",
    "\n",
    "for mm in m:\n",
    "    ff=path+mm\n",
    "    if mm not in metalst.keys():\n",
    "        tm=!ebook-meta $ff\n",
    "        metalst[mm]=tm\n",
    "    \n",
    "    m.pop(m.index(mm))\n",
    "    cnt+=1\n",
    "    if cnt%100==0:\n",
    "        print cnt\n",
    "        break\n",
    "save_obj(metalst, 'metalst')'''"
   ]
  },
  {
   "cell_type": "code",
   "execution_count": null,
   "metadata": {
    "collapsed": false,
    "scrolled": true
   },
   "outputs": [],
   "source": [
    "\n",
    "def hasNumbers(inputString):\n",
    "    return any(char.isdigit() for char in inputString)"
   ]
  },
  {
   "cell_type": "code",
   "execution_count": 155,
   "metadata": {
    "collapsed": false,
    "scrolled": true
   },
   "outputs": [
    {
     "name": "stdout",
     "output_type": "stream",
     "text": [
      "saving .. /media/some/sophie-hhd/books/epub-cm/morethanamistress-morethanamistressbysandramarton.epub  as .. morethanamistressbysandramarton-morethanamistress.epub\n",
      "saving .. /media/some/sophie-hhd/books/epub-cm/hisbidforabride-hisbidforabridebycarolemortimertxt.epub  as .. hisbidforabridebycarolemortimertxt-hisbidforabride.epub\n",
      "saving .. /media/some/sophie-hhd/books/epub-cm/kenyonsherrilyndarkhunter08-adarkhunterchristmas.epub  as .. sherrilyndarkhunter08kenyon-adarkhunterchristmas.epub\n",
      "saving .. /media/some/sophie-hhd/books/epub-cm/temptingthehighlander-janetchapmanpinecreekhighlander04.epub  as .. janetchapmanpinecreekhighlander04-temptingthehighlander.epub\n",
      "saving .. /media/some/sophie-hhd/books/epub-cm/harlequinruthlangantexashearttxt-texasheart.epub  as .. texasheart-harlequinruthlangantexashearttxt.epub\n",
      "saving .. /media/some/sophie-hhd/books/epub-cm/asicilianseduction-michellereidasicilianseduction.epub  as .. michellereidasicilianseduction-asicilianseduction.epub\n",
      "saving .. /media/some/sophie-hhd/books/epub-cm/helenbrookssweetsurrenderthemillionaire-sweetsurrenderthemillionaire.epub  as .. sweetsurrenderthemillionaire-helenbrookssweetsurrenderthemillionaire.epub\n",
      "saving .. /media/some/sophie-hhd/books/epub-cm/juliajamescarolemortimeranheirforthemillionaire-anheirforthemillionaire.epub  as .. anheirforthemillionaire-juliajamescarolemortimeranheirforthemillionaire.epub\n",
      "saving .. /media/some/sophie-hhd/books/epub-cm/thegreekspregnantlover-lucymonroethegreekspregnantlover.epub  as .. lucymonroethegreekspregnantlover-thegreekspregnantlover.epub\n",
      "saving .. /media/some/sophie-hhd/books/epub-cm/joannerockmanhuntingmasquerade-manhuntingmasquerade.epub  as .. manhuntingmasquerade-joannerockmanhuntingmasquerade.epub\n",
      "saving .. /media/some/sophie-hhd/books/epub-cm/italianprincewedlockedwife-wedlockedwifeitalianprinceitalianprincewedlockedwife.epub  as .. wedlockedwifeitalianprinceitalianprincewedlockedwife-italianprincewedlockedwife.epub\n",
      "saving .. /media/some/sophie-hhd/books/epub-cm/harlequindarcymaguiretheweddingexperttxt-theweddingexpert.epub  as .. theweddingexpert-harlequindarcymaguiretheweddingexperttxt.epub\n",
      "saving .. /media/some/sophie-hhd/books/epub-cm/vampiresareforever-lynsaysandsargeneau08vampiresareforeverdoc.epub  as .. lynsaysandsargeneau08vampiresareforeverdoc-vampiresareforever.epub\n",
      "saving .. /media/some/sophie-hhd/books/epub-cm/theeditorsofquiverbooksbookstheeditorsofquiver-thecompletephotoguidetogreatsex.epub  as .. thecompletephotoguidetogreatsex-theeditorsofquiverbooksbookstheeditorsofquiver.epub\n",
      "saving .. /media/some/sophie-hhd/books/epub-cm/mistressbynightsecretarybydaysecretarybydaymistressbynight-maggiecoxsecretarybydaymistressbynight.epub  as .. maggiecoxsecretarybydaymistressbynight-mistressbynightsecretarybydaysecretarybydaymistressbynight.epub\n",
      "saving .. /media/some/sophie-hhd/books/epub-cm/thesecretmistressarrangement-thesecretmistressarrangementarrangementthesecretmistress.epub  as .. thesecretmistressarrangementarrangementthesecretmistress-thesecretmistressarrangement.epub\n",
      "saving .. /media/some/sophie-hhd/books/epub-cm/carolemortimeryesterdaysscars-yesterdaysscars.epub  as .. yesterdaysscars-carolemortimeryesterdaysscars.epub\n",
      "saving .. /media/some/sophie-hhd/books/epub-cm/secretlovechildanniewestforgottenmistressanniewestforgottenmistresssecretlovechild-forgottenmistresssecretlovechild.epub  as .. forgottenmistresssecretlovechild-secretlovechildanniewestforgottenmistressanniewestforgottenmistresssecretlovechild.epub\n",
      "saving .. /media/some/sophie-hhd/books/epub-cm/christinefeehansisters02twilightbeforechristmas-twilightbeforechristmas.epub  as .. twilightbeforechristmas-christinefeehansisters02twilightbeforechristmas.epub\n",
      "saving .. /media/some/sophie-hhd/books/epub-cm/janetchapmanpinecreekhighlander02-lovingthehighlander.epub  as .. lovingthehighlander-janetchapmanpinecreekhighlander02.epub\n",
      "saving .. /media/some/sophie-hhd/books/epub-cm/roguesmistress-jogoodmanroguesmistresstxt.epub  as .. jogoodmanroguesmistresstxt-roguesmistress.epub\n",
      "saving .. /media/some/sophie-hhd/books/epub-cm/foreverinyourembracekathleenewoodiwiss-foreverinyourembrace.epub  as .. foreverinyourembrace-foreverinyourembracekathleenewoodiwiss.epub\n",
      "saving .. /media/some/sophie-hhd/books/epub-cm/thesheikhsransomedbride-anniewestthesheikhsransomedbride.epub  as .. anniewestthesheikhsransomedbride-thesheikhsransomedbride.epub\n",
      "saving .. /media/some/sophie-hhd/books/epub-cm/janetchapmanpinecreekhighlander01-charmingthehighlanderhighlandercharmingthe.epub  as .. charmingthehighlanderhighlandercharmingthe-janetchapmanpinecreekhighlander01.epub\n",
      "saving .. /media/some/sophie-hhd/books/epub-cm/anniewestthegreektycoonsunexpectedwife-thegreektycoonsunexpectedwife.epub  as .. thegreektycoonsunexpectedwife-anniewestthegreektycoonsunexpectedwife.epub\n",
      "saving .. /media/some/sophie-hhd/books/epub-cm/janetchapmanpinecreekhighlander05-onlyahighlander.epub  as .. onlyahighlander-janetchapmanpinecreekhighlander05.epub\n",
      "saving .. /media/some/sophie-hhd/books/epub-cm/cathywilliamsatthegreektycoonsbidding-atthegreektycoonsbidding.epub  as .. atthegreektycoonsbidding-cathywilliamsatthegreektycoonsbidding.epub\n",
      "saving .. /media/some/sophie-hhd/books/epub-cm/weddingthehighlander-janetchapmanpinecreekhighlander03.epub  as .. janetchapmanpinecreekhighlander03-weddingthehighlander.epub\n"
     ]
    }
   ],
   "source": [
    "metalst=load_obj('metalst')\n",
    "#reverse the order of author-title  if auther contains any the,of and change metadata\n",
    "strlist=['wedding', 'billionaire','wife ','yesterday',' marrying','bedded','millionaire',\n",
    "         'seal ','winning','mistress','husband','tycoon',' boss',\n",
    "         'greek','italian','cooking','marriage',' bride',\n",
    "        'secretary',' nany ','sicilian','manhunt','highland','cowboy','texas','convenient','spaniard'\n",
    "        ' virgin ','forever','bought','claimed','hunted','wedded','death','ruthless','abduction','christmas']\n",
    "notallowed=['(Siren Publishing Ménage Everlasting)']\n",
    "cnt=0\n",
    "for f in metalst.keys():\n",
    "    ff=path+f\n",
    "    try:\n",
    "        #get metadata\n",
    "\n",
    "        metadataR=metalst[f]\n",
    "        #convert to dictionary\n",
    "        metadata={}\n",
    "        for met in metadataR:\n",
    "            tmp=met.split(\":\")\n",
    "            if len(tmp) >= 2:\n",
    "                metadata[tmp[0].strip()]=tmp[1].strip()\n",
    "            elif len(tmp)==1:\n",
    "                metadata[tmp[0].strip()]='Unkown'\n",
    "\n",
    "        if 'Author(s)' in metadata.keys():\n",
    "\n",
    "            if any(x in  metadata['Author(s)'].lower(\n",
    "                ) for x in strlist) or metadata['Author(s)'].lower(\n",
    "            )[:4]=='the ': #or hasNumbers(metadata['Author(s)']):\n",
    "                book=epub.read_epub(ff)\n",
    "                if 'creator' in book.metadata['http://purl.org/dc/elements/1.1/'].keys():\n",
    "                    book.metadata['http://purl.org/dc/elements/1.1/'].pop('creator')\n",
    "                book.add_author(metadata['Title'])\n",
    "                if 'title' in book.metadata['http://purl.org/dc/elements/1.1/'].keys():\n",
    "                    book.metadata['http://purl.org/dc/elements/1.1/'].pop('title')\n",
    "                book.set_title(metadata['Author(s)'])\n",
    "                tit=''.join(ch for ch in book.get_metadata(\"DC\", \"title\")[0][0] if ch.isalnum())\n",
    "                auth=''.join(ch for ch in book.get_metadata(\"DC\",\"creator\")[0][0] if ch.isalnum())\n",
    "                name=auth+\"-\"+tit+\".epub\"\n",
    "                if not os.path.isfile(path+name) and not name == f :\n",
    "                    name=name.lower()\n",
    "    \n",
    "                    print 'saving ..',ff,\" as ..\" ,name\n",
    "                    epub.write_epub(path+name,book,{} )\n",
    "                    tf=tgp+name.lower()\n",
    "                    if not os.path.isfile(tf):\n",
    "                        ! mv $ff $tf\n",
    "                    else:\n",
    "                        os.remove(ff)\n",
    "                    \n",
    "            '''\n",
    "            if metadata['Title'].count('-')>0:\n",
    "                title=' '.join(strt.strip() for strt in metadata['Title'].split('-'))\n",
    "                print title\n",
    "                book=epub.read_epub(ff)\n",
    "                \n",
    "                book.metadata['http://purl.org/dc/elements/1.1/'].pop('title')\n",
    "                book.set_title(title)\n",
    "                print 'changing title saving ..',f\n",
    "                epub.write_epub(path+f,book,{} )\n",
    "            '''\n",
    "            if metadata['Author(s)'].count(',') == 1 and metadata['Author(s)'].count('[') == 0:\n",
    "                book=epub.read_epub(ff)\n",
    "                if 'creator' in book.metadata['http://purl.org/dc/elements/1.1/'].keys():\n",
    "                    book.metadata['http://purl.org/dc/elements/1.1/'].pop('creator')\n",
    "                tmp=metadata['Author(s)'].split(',')\n",
    "                auth=' '.join(t for t in reversed(tmp))\n",
    "                book.add_author(auth)\n",
    "                tit=''.join(ch for ch in book.get_metadata(\"DC\", \"title\")[0][0] if ch.isalnum())\n",
    "                auth=''.join(ch for ch in book.get_metadata(\"DC\",\"creator\")[0][0] if ch.isalnum())\n",
    "                name=auth+\"-\"+tit+\".epub\"\n",
    "                if not os.path.isfile(path+name) and not name == f:\n",
    "                    name=name.lower()\n",
    "                    print 'saving ..',ff,\" as ..\" ,name\n",
    "                    epub.write_epub(path+name,book,{} )\n",
    "                    tf=tgp+name.lower()\n",
    "                    if not os.path.isfile(tf):\n",
    "                        ! mv $ff $tf\n",
    "                    else:\n",
    "                        os.remove(ff)\n",
    "        metalst.pop(f)\n",
    "\n",
    "    except:\n",
    "        #clear_output()\n",
    "        True\n",
    "        metalst.pop(f, None)\n",
    "        \n",
    "    #tmp=filename[:-5].split('-')\n",
    "    #os.rename(filename, '-'.join(t for t in reversed(tmp))+\".epub\")\n",
    "    cnt+=1\n",
    "    #if cnt%1000==0:\n",
    "    #clear_output()\n",
    "save_obj(metalst, 'metalst')\n"
   ]
  },
  {
   "cell_type": "code",
   "execution_count": 156,
   "metadata": {
    "collapsed": false,
    "scrolled": true
   },
   "outputs": [
    {
     "data": {
      "text/plain": [
       "0"
      ]
     },
     "execution_count": 156,
     "metadata": {},
     "output_type": "execute_result"
    }
   ],
   "source": [
    "len(metalst)"
   ]
  },
  {
   "cell_type": "code",
   "execution_count": null,
   "metadata": {
    "collapsed": false,
    "scrolled": true
   },
   "outputs": [],
   "source": [
    "st='yuletideprotector-juliemiller.epub'\n",
    "tmp=st[:-5].split('-')\n",
    "\n",
    "st_r='-'.join(t for t in reversed(tmp))+\".epub\"\n",
    "st_r"
   ]
  },
  {
   "cell_type": "code",
   "execution_count": null,
   "metadata": {
    "collapsed": false,
    "scrolled": true
   },
   "outputs": [],
   "source": [
    "#remove files in directory path which atime is between rt and et\n",
    "os.chdir(path)\n",
    "m=glob.glob(\"*.epub\")\n",
    "os.chdir(\"/home/some\")\n",
    "cnt=0\n",
    "for f in m:\n",
    "    ff=path+f\n",
    "    atm=! stat $ff |grep \"Access: 2\"\n",
    "    atime=parser.parse(atm[0].replace(\"Access: \",\"\").replace(' +0100',''))\n",
    "    #if file accessed after 18:00 on 10/05/2016\n",
    "    if atime >= rt and atime <= et:\n",
    "        cnt+=1\n",
    "        print cnt,'-', atime,\" moving .. \",f\n",
    "        \n",
    "        if cnt % 10 == 0:\n",
    "            clear_output()\n",
    "        \n",
    "        os.remove(ff)\n",
    "print cnt       \n"
   ]
  },
  {
   "cell_type": "code",
   "execution_count": null,
   "metadata": {
    "collapsed": false,
    "scrolled": true
   },
   "outputs": [],
   "source": []
  },
  {
   "cell_type": "code",
   "execution_count": null,
   "metadata": {
    "collapsed": false,
    "scrolled": true
   },
   "outputs": [],
   "source": [
    "tf"
   ]
  },
  {
   "cell_type": "code",
   "execution_count": null,
   "metadata": {
    "collapsed": false,
    "scrolled": true
   },
   "outputs": [],
   "source": [
    "os.chdir('/home/')\n",
    "os.path.isfile('/home/some/author.txt')"
   ]
  },
  {
   "cell_type": "code",
   "execution_count": null,
   "metadata": {
    "collapsed": true,
    "scrolled": true
   },
   "outputs": [],
   "source": []
  }
 ],
 "metadata": {
  "kernelspec": {
   "display_name": "Python 2",
   "language": "python",
   "name": "python2"
  },
  "language_info": {
   "codemirror_mode": {
    "name": "ipython",
    "version": 2
   },
   "file_extension": ".py",
   "mimetype": "text/x-python",
   "name": "python",
   "nbconvert_exporter": "python",
   "pygments_lexer": "ipython2",
   "version": "2.7.10"
  }
 },
 "nbformat": 4,
 "nbformat_minor": 0
}
