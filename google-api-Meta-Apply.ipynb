{
 "cells": [
  {
   "cell_type": "code",
   "execution_count": 1,
   "metadata": {
    "collapsed": false
   },
   "outputs": [],
   "source": [
    "import json\n",
    "import urllib2\n",
    "import urllib\n",
    "import xmltodict\n",
    "import os\n",
    "import string\n",
    "from ebooklib import epub \n",
    "from  comFunc import *\n",
    "from multiprocessing import Pool\n",
    "import time\n",
    "import re\n",
    "import functools\n"
   ]
  },
  {
   "cell_type": "code",
   "execution_count": null,
   "metadata": {
    "collapsed": true
   },
   "outputs": [],
   "source": []
  },
  {
   "cell_type": "code",
   "execution_count": 112,
   "metadata": {
    "collapsed": false,
    "scrolled": true
   },
   "outputs": [],
   "source": [
    "\n",
    "def movet(titles):\n",
    "    #print titles\n",
    "    series=\"\"\n",
    "    index=-1\n",
    "    metakey='http://purl.org/dc/elements/1.1/'\n",
    "    f=titles[1][0]+\"/\"+titles[0]+\".epub\"\n",
    "    ti=' '.join(titles[1][1][u'title'].encode('ascii','ignore').replace(\"&\",\" and \").split())\n",
    "    seri=\"\"\n",
    "    if ti.count('(')>0:\n",
    "        \n",
    "        #print seri\n",
    "        seri=ti[ti.index('(')+1:ti.index(\")\")].split()\n",
    "        ti=ti[:ti.index('(')]+ti[ti.index(\")\")+1:]\n",
    "        try:\n",
    "            index=int(''.join(s for s in seri[-1] if s in string.digits))\n",
    "        except:\n",
    "            index=-1\n",
    "        series=' '.join(s for s in seri[:-1] if s.lower()!=\"book\").strip()\n",
    "        \n",
    "        if index<0:\n",
    "            series=' '.join(s for s in seri if s.lower()!=\"book\").strip()\n",
    "\n",
    "    series=''.join(s for s in series if s in string.letters+\" \")\n",
    "    if len(titles[1][1][u'authors'])>0:\n",
    "        auth=' '.join(titles[1][1][u'authors'][0].encode('ascii','ignore').split())\n",
    "    else:\n",
    "        auth='Unknown'\n",
    "    \n",
    "    #remove extras\n",
    "    auth=''.join(i for i in auth if i in string.letters+\" .-\")\n",
    "    ti=''.join(i for i in ti if i in string.letters+string.digits+\" .-_,#\")\n",
    "    if u'industryIdentifiers' in titles[1][1].keys() and len(titles[1][1][u'industryIdentifiers'])>0:\n",
    "        isbn=titles[1][1][u'industryIdentifiers'][0][u'identifier']\n",
    "        for idf in titles[1][1][u'industryIdentifiers']:\n",
    "            if idf[u'type']==u\"ISBN_13\":\n",
    "                isbn=idf[u'identifier'].encode('ascii','ignore')\n",
    "    else:\n",
    "        isbn=\"UN\"\n",
    "    if len(ti.split())>6:\n",
    "        ti=' '.join(ti.split()[:4])\n",
    "    \n",
    "    name=auth+\" - \"+ti\n",
    "    if len(series)>1 and index >0:\n",
    "        if len(series.split())>4:\n",
    "            ss=' '.join(series.split()[:3])\n",
    "        else:\n",
    "            ss=series\n",
    "        name=name+\" - \"+ss+\" #\"+str(index)\n",
    "    tmp=\"/tmp/\"+name.strip()+\".epub\"\n",
    "    tt=\"/media/sf_lbuntu/books/\"+name.strip()+\".epub\"\n",
    "    if not os.path.exists(f):\n",
    "        return \"NE\",f,tt\n",
    "    if os.path.exists(tt):\n",
    "            return \"E\",f,tt\n",
    "    else:\n",
    "        try:\n",
    "            book=epub.read_epub(f)\n",
    "\n",
    "        except:\n",
    "            return \"R\",f,tt\n",
    "        book.metadata={}\n",
    "\n",
    "    #if 'creator' in book.metadata[metakey].keys():\n",
    "    #book.set_unique_metadata( namespace, name, value, others=None)\n",
    "    #add_metadata(self, namespace, name, value, others=None):\n",
    "        if u'title' in titles[1][1].keys():\n",
    "            book.set_title(titles[1][1][u'title'])\n",
    "        if u'authors' in titles[1][1].keys():\n",
    "            #book.metadata[metakey].pop('creator')\n",
    "            for ar in titles[1][1][u'authors']:\n",
    "                book.add_author(ar.encode('ascii','ignore'))\n",
    "\n",
    "    #if 'identifier' in book.metadata[metakey].keys():\n",
    "        #book.metadata[metakey].pop('identifier')\n",
    "        if isbn!=\"UN\":\n",
    "            book.set_identifier(isbn)\n",
    "        for md in titles[1][1].keys():\n",
    "            if md not in [u'authors',u'title']:\n",
    "                if type(titles[1][1][md])==unicode:\n",
    "                    #book.add_metadata( \"DC\", md.encode('ascii','ignore'), titles[1][1][md].encode('ascii','ignore'), others=None)\n",
    "                    book.add_metadata( \"DC\", \"calibre:\"+md.encode('ascii','ignore'), titles[1][1][md].encode('ascii','ignore'), others=None)\n",
    "                elif type(titles[1][1][md])==list:\n",
    "                    for mddd in titles[1][1][md]:\n",
    "                        mdd=mddd\n",
    "                        if type(mdd)==unicode:\n",
    "                            #book.add_metadata( \"DC\", mdd.encode('ascii','ignore'), mdd.encode('ascii','ignore'), others=None)\n",
    "                            book.add_metadata( \"DC\", \"calibre:\"+md.encode('ascii','ignore'), mdd.encode('ascii','ignore'), others=None)\n",
    "        #print book.metadata[metakey].keys(\n",
    "\n",
    "\n",
    "        #print titles[1][1].keys()\n",
    "        #book.metadata[metakey]=titles[1][1]\n",
    "\n",
    "        try:\n",
    "            epub.write_epub(tmp,book,{} )\n",
    "        except:\n",
    "            return \"W\",f,tt\n",
    "            \n",
    "\n",
    "        if os.path.exists(tmp):\n",
    "            \n",
    "            if len(series)>0 and \"series\" not in book.metadata[metakey].keys(): \n",
    "                #print series,seri,index,ti\n",
    "                if index<0:\n",
    "                    index=1\n",
    "                !ebook-meta \"$tmp\" --series \"$series\" --index \"$index\" >>/dev/null 2>>/dev/null\n",
    "            s=!mv \"$tmp\" \"$tt\"\n",
    "            #!ebook-meta \"$tmp\" --title \"$ti\" --authors \"$auth\" --language \"eng\" >>/dev/null 2>>/dev/null\n",
    "            #print s\n",
    "            #if index>0 and len(series)>0: \n",
    "             #   !ebook-meta \"$tmp\" --series \"$series\" --index \"$index\" >>/dev/null 2>>/dev/null\n",
    "            if len(s)==0:\n",
    "                return \"S\",f,tt\n",
    "            else:\n",
    "                return \"M\",f,tt\n",
    "        else:\n",
    "            return \"F\",f,tt\n",
    "\n",
    "#E=Exists, F=failed, S=success, W=Writing error, R=reading error, A=Author problem"
   ]
  },
  {
   "cell_type": "code",
   "execution_count": 113,
   "metadata": {
    "collapsed": false
   },
   "outputs": [
    {
     "data": {
      "text/plain": [
       "(495, 495, 0)"
      ]
     },
     "execution_count": 113,
     "metadata": {},
     "output_type": "execute_result"
    }
   ],
   "source": [
    "#save_obj(titles,'data/titlesGA')\n",
    "titles=load_obj('data/titlesGA')#{}\n",
    "#unpacktitles\n",
    "uptit=[[k,titles[k]] for k in titles.keys()]\n",
    "prockeys=[]#load_obj('data/prockeysIm')\n",
    "flist=list(filter(lambda x: x[0] not in prockeys and type(x[1][1])==dict, uptit))\n",
    "\n",
    "len(flist),len(titles.keys()),len(prockeys)"
   ]
  },
  {
   "cell_type": "code",
   "execution_count": 108,
   "metadata": {
    "collapsed": false,
    "scrolled": true
   },
   "outputs": [
    {
     "data": {
      "text/plain": [
       "('E',\n",
       " '/media/some/sophie-hhd/transmitt/fic/Fictional Literature/New York Times Bestsellers-February 25 2013(Epub, Mobi)/17 Tenth of December - George Saunders/George Saunders - Tenth of December_ Stories.epub',\n",
       " '/media/sf_lbuntu/books/George Saunders - Tenth of December.epub')"
      ]
     },
     "execution_count": 108,
     "metadata": {},
     "output_type": "execute_result"
    }
   ],
   "source": [
    "movet(flist[0])"
   ]
  },
  {
   "cell_type": "code",
   "execution_count": 114,
   "metadata": {
    "collapsed": false,
    "scrolled": true
   },
   "outputs": [
    {
     "name": "stdout",
     "output_type": "stream",
     "text": [
      "('time: ', 0.36464500427246094)\n"
     ]
    }
   ],
   "source": [
    "pbooks=[]#load_obj('data/procbooksIm')\n",
    "t0 = time.time()\n",
    "\n",
    "p = Pool(10)\n",
    "books=p.map(movet, flist)\n",
    "#p.join()\n",
    "p.terminate()\n",
    "p.close()\n",
    "\n",
    "save_obj(prockeys,'data/prockeysIm')\n",
    "save_obj(pbooks,'data/procbooksIm')\n",
    "\n",
    "t1=time.time()\n",
    "total = t1-t0\n",
    "#\n",
    "#\n",
    "print('time: ',total)"
   ]
  },
  {
   "cell_type": "code",
   "execution_count": 110,
   "metadata": {
    "collapsed": false,
    "scrolled": false
   },
   "outputs": [
    {
     "name": "stdout",
     "output_type": "stream",
     "text": [
      "495 0\n"
     ]
    }
   ],
   "source": [
    "print len(books),len(prockeys)"
   ]
  },
  {
   "cell_type": "code",
   "execution_count": 116,
   "metadata": {
    "collapsed": false,
    "scrolled": true
   },
   "outputs": [
    {
     "name": "stdout",
     "output_type": "stream",
     "text": [
      " R:  0\n",
      " W:  0\n",
      " S:  0\n",
      " F:  0\n",
      " E:  0\n",
      " A:  0\n",
      "NE:  495\n",
      " M:  0\n"
     ]
    }
   ],
   "source": [
    "print \" R: \",len(list (filter(lambda x:x[0]  ==\"R\",books)))\n",
    "print \" W: \",len(list (filter(lambda x:x[0]  ==\"W\",books)))\n",
    "print \" S: \",len(list (filter(lambda x:x[0]  ==\"S\",books)))\n",
    "print \" F: \",len(list (filter(lambda x:x[0]  ==\"F\",books)))\n",
    "print \" E: \",len(list (filter(lambda x:x[0]  ==\"E\",books)))\n",
    "print \" A: \",len(list (filter(lambda x:x[0]  ==\"A\",books)))\n",
    "print \"NE: \",len(list (filter(lambda x:x[0]  ==\"NE\",books)))\n",
    "print \" M: \",len(list (filter(lambda x:x[0]  ==\"M\",books)))"
   ]
  },
  {
   "cell_type": "code",
   "execution_count": 78,
   "metadata": {
    "collapsed": false
   },
   "outputs": [],
   "source": [
    "res={}\n",
    "res[\"R\"] = [x[1:] for x in list (filter(lambda x:x[0]  ==\"R\",books))]\n",
    "res[\"W\"] = [x[1:] for x in list (filter(lambda x:x[0]  ==\"W\",books))]\n",
    "res[\"S\"] = [x[1:] for x in list (filter(lambda x:x[0]  ==\"S\",books))]\n",
    "res[\"F\"] = [x[1:] for x in list (filter(lambda x:x[0]  ==\"F\",books))]\n",
    "res[\"E\"] = [x[1:] for x in list (filter(lambda x:x[0]  ==\"E\",books))]\n",
    "res[\"A\"] = [x[1:] for x in list (filter(lambda x:x[0]  ==\"A\",books))]\n",
    "res[\"M\"] = [x[1:] for x in list (filter(lambda x:x[0]  ==\"M\",books))]"
   ]
  },
  {
   "cell_type": "code",
   "execution_count": 105,
   "metadata": {
    "collapsed": false,
    "scrolled": true
   },
   "outputs": [],
   "source": [
    "procN=[]\n",
    "for r in sorted(res['E']):\n",
    "    org=r[0][r[0].rindex('/')+1:r[0].rindex('.')]\n",
    "    org=\" - \".join(reversed(org.split(' - ')))\n",
    "    nw=r[1][r[1].rindex('/')+1:r[1].rindex('.')]\n",
    "    sm=similarity(org,nw)\n",
    "    if sm>.6:\n",
    "        f=r[0]\n",
    "        if os.path.exists(f):\n",
    "            print f\n",
    "    #\n",
    "    #print '{0:60s} {1:50s} {2:.1f}'.format(org,nw,sm)"
   ]
  },
  {
   "cell_type": "code",
   "execution_count": 105,
   "metadata": {
    "collapsed": false,
    "scrolled": true
   },
   "outputs": [],
   "source": [
    "def fconv(f):\n",
    "    #f=re.sub(\" \\(v[0-9].[0-9]\\)\",\"\",f)\n",
    "    \n",
    "    f=f.encode('ascii','ignore')\n",
    "    \n",
    "    namer=f[f.rindex(\"/\")+1:f.rindex('.')]\n",
    "    name=''.join(s for s in namer if s in string.letters)\n",
    "    t=\"/tmp/conv\"+name+\".txt\"\n",
    "    im=\"/tmp/conv\"+name+\".jpg\"\n",
    "    tmp=\"/tmp/conv\"+name+\".epub\"\n",
    "    ff= f[:f.rindex('(')-1]+\" (v5.0) (epub).epub\"\n",
    "    !ebook-meta \"$ff\" --get-cover \"$im\" >>/dev/null 2>>/dev/null\n",
    "    !ebook-convert \"$ff\" \"$t\" >>/dev/null 2>>/dev/null\n",
    "    !ebook-convert \"$t\" \"$tmp\" --cover \"$im\" 2>>/dev/null >>/dev/null \n",
    "\n",
    "    v=movet([\"conv\"+name,\n",
    "           (\"/tmp\",titles[namer][1],titles[namer][2])])\n",
    "    !rm \"$t\" \"$tmp\" \"$im\" 2>>/dev/null >>/dev/null \n",
    "    \n",
    "    \n",
    "    return v"
   ]
  },
  {
   "cell_type": "code",
   "execution_count": null,
   "metadata": {
    "collapsed": false
   },
   "outputs": [],
   "source": []
  },
  {
   "cell_type": "code",
   "execution_count": 72,
   "metadata": {
    "collapsed": false
   },
   "outputs": [
    {
     "data": {
      "text/plain": [
       "'/media/some/sophie-hhd/transmitt/fic/Fictional Literature/True Crime Collection/Boardwalk Empire_ The Birth, High Times, and Corruption of Atlantic City - Nelson Johnson'"
      ]
     },
     "execution_count": 72,
     "metadata": {},
     "output_type": "execute_result"
    }
   ],
   "source": [
    "titles['Nelson Johnson - Boardwalk Empire_ The Birth, H_ity'][0]"
   ]
  },
  {
   "cell_type": "code",
   "execution_count": 73,
   "metadata": {
    "collapsed": false
   },
   "outputs": [
    {
     "name": "stdout",
     "output_type": "stream",
     "text": [
      "('time: ', 8.06489896774292)\n"
     ]
    }
   ],
   "source": [
    "t0 = time.time()\n",
    "p=Pool(10)\n",
    "booksR=p.map(fconv,res['R'])\n",
    "p.terminate()\n",
    "p.close\n",
    "t1=time.time()\n",
    "total = t1-t0\n",
    "print('time: ',total)"
   ]
  },
  {
   "cell_type": "code",
   "execution_count": 67,
   "metadata": {
    "collapsed": false
   },
   "outputs": [
    {
     "name": "stdout",
     "output_type": "stream",
     "text": [
      "R:  6\n",
      "W:  0\n",
      "S:  7\n",
      "F:  0\n",
      "E:  0\n",
      "A:  0\n",
      "M:  0\n"
     ]
    }
   ],
   "source": [
    "print \"R: \",len(list (filter(lambda x:x[0]  ==\"R\",booksR)))\n",
    "print \"W: \",len(list (filter(lambda x:x[0]  ==\"W\",booksR)))\n",
    "print \"S: \",len(list (filter(lambda x:x[0]  ==\"S\",booksR)))\n",
    "print \"F: \",len(list (filter(lambda x:x[0]  ==\"F\",booksR)))\n",
    "print \"E: \",len(list (filter(lambda x:x[0]  ==\"E\",booksR)))\n",
    "print \"A: \",len(list (filter(lambda x:x[0]  ==\"A\",booksR)))\n",
    "\n",
    "print \"M: \",len(list (filter(lambda x:x[0]  ==\"M\",booksR)))"
   ]
  },
  {
   "cell_type": "code",
   "execution_count": 68,
   "metadata": {
    "collapsed": false
   },
   "outputs": [],
   "source": [
    "resr={}\n",
    "resr[\"R\"] = [x[1] for x in list (filter(lambda x:x[0]  ==\"R\",booksR))]\n",
    "resr[\"W\"] = [x[1] for x in list (filter(lambda x:x[0]  ==\"W\",booksR))]\n",
    "resr[\"S\"] = [x[1] for x in list (filter(lambda x:x[0]  ==\"S\",booksR))]\n",
    "resr[\"F\"] = [x[1] for x in list (filter(lambda x:x[0]  ==\"F\",booksR))]\n",
    "resr[\"E\"] = [x[1] for x in list (filter(lambda x:x[0]  ==\"E\",booksR))]\n",
    "resr[\"A\"] = [x[1] for x in list (filter(lambda x:x[0]  ==\"A\",booksR))]\n",
    "resr[\"M\"] = [x[1] for x in list (filter(lambda x:x[0]  ==\"M\",booksR))]"
   ]
  },
  {
   "cell_type": "code",
   "execution_count": null,
   "metadata": {
    "collapsed": false
   },
   "outputs": [],
   "source": [
    "t"
   ]
  },
  {
   "cell_type": "code",
   "execution_count": null,
   "metadata": {
    "collapsed": false
   },
   "outputs": [],
   "source": [
    "cnt=0\n",
    "for f in flist:\n",
    "    print cnt,f[0]\n",
    "    cnt+=1"
   ]
  },
  {
   "cell_type": "code",
   "execution_count": null,
   "metadata": {
    "collapsed": true
   },
   "outputs": [],
   "source": []
  }
 ],
 "metadata": {
  "kernelspec": {
   "display_name": "Python 2",
   "language": "python",
   "name": "python2"
  },
  "language_info": {
   "codemirror_mode": {
    "name": "ipython",
    "version": 2
   },
   "file_extension": ".py",
   "mimetype": "text/x-python",
   "name": "python",
   "nbconvert_exporter": "python",
   "pygments_lexer": "ipython2",
   "version": "2.7.11+"
  }
 },
 "nbformat": 4,
 "nbformat_minor": 0
}
