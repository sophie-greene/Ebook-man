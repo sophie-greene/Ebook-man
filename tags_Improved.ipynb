{
 "cells": [
  {
   "cell_type": "code",
   "execution_count": null,
   "metadata": {
    "collapsed": false
   },
   "outputs": [],
   "source": [
    "import nltk\n",
    "from ebooklib import epub \n",
    "from  comFunc import *\n",
    "\n",
    "d_dir = '/media/sf_lbuntu/calibre/'\n",
    "txtfiles = find('*.txt', d_dir)\n",
    "\n",
    "print (len(txtfiles))\n",
    "\n",
    "\n",
    "f=open('keywords.txt')\n",
    "keywords=list(s.replace('\\n','') for s in f.readlines())\n",
    "f.close()\n",
    "\n"
   ]
  },
  {
   "cell_type": "code",
   "execution_count": null,
   "metadata": {
    "collapsed": false,
    "scrolled": true
   },
   "outputs": [],
   "source": [
    "from random import shuffle\n",
    "shuffle(txtfiles)\n",
    "try:\n",
    "    booksTagsI=load_obj('booksTagsI')\n",
    "except:\n",
    "    booksTagsI={}\n",
    "    save_obj(booksTagsI, 'booksTagsI')\n",
    "cnt=0\n",
    "for f in reversed(txtfiles):\n",
    "    name=f.split('/')[-1][:-4]\n",
    "    if name not in booksTagsI.keys():\n",
    "        fl= open(f,'r')\n",
    "        txt=fl.read().lower()\n",
    "        fl.close()\n",
    "        hist=nltk.FreqDist(txt.split())\n",
    "        res=[[l,hist[l.strip()]] for l in keywords if l.strip() in hist.keys() ]\n",
    "        tag=', '.join(r[0].strip() for r in res if r[1]>0)\n",
    "        ff=f[:-3]+\"epub\" \n",
    "        if len(tag)>0 :\n",
    "            path=f.replace(f.split(os.sep)[-1],'')\n",
    "            fm=path+\"metadata.opf\"\n",
    "            !ebook-meta \"$ff\" --tag \"$tag\" > /dev/null\n",
    "            !ebook-meta \"$ff\" --to-opf \"$fm\" >/dev/null\n",
    "            booksTagsI[name]=[' '.join(r[0]+\": \"+ str(r[1]) for r in res),txt,hist]\n",
    "            print (cnt,f.split('/')[-1][:-4],res)\n",
    "        cnt+=1\n",
    "        if cnt % 50 == 0:\n",
    "            tmp=booksTagsI.copy()\n",
    "            tmp.update(load_obj('booksTagsI'))\n",
    "            booksTagsI=tmp\n",
    "            save_obj(booksTagsI, 'booksTagsI')\n",
    "            #break\n",
    "tmp=booksTagsI.copy()\n",
    "tmp.update(load_obj('booksTagsI'))\n",
    "booksTagsI=tmp\n",
    "save_obj(booksTagsI, 'booksTagsI')\n"
   ]
  },
  {
   "cell_type": "code",
   "execution_count": null,
   "metadata": {
    "collapsed": true
   },
   "outputs": [],
   "source": []
  }
 ],
 "metadata": {
  "kernelspec": {
   "display_name": "Python 3",
   "language": "python",
   "name": "python3"
  },
  "language_info": {
   "codemirror_mode": {
    "name": "ipython",
    "version": 3
   },
   "file_extension": ".py",
   "mimetype": "text/x-python",
   "name": "python",
   "nbconvert_exporter": "python",
   "pygments_lexer": "ipython3",
   "version": "3.5.1+"
  }
 },
 "nbformat": 4,
 "nbformat_minor": 0
}
