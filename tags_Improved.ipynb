{
 "cells": [
  {
   "cell_type": "code",
   "execution_count": null,
   "metadata": {
    "collapsed": false
   },
   "outputs": [
    {
     "name": "stdout",
     "output_type": "stream",
     "text": [
      "5631\n"
     ]
    }
   ],
   "source": [
    "import nltk\n",
    "from ebooklib import epub \n",
    "from  comFunc import *\n",
    "\n",
    "d_dir = '/media/sf_lbuntu/calibre/'\n",
    "txtfiles = find('*.txt', d_dir)\n",
    "\n",
    "print (len(txtfiles))\n",
    "\n",
    "\n",
    "f=open('keywords.txt')\n",
    "keywords=list(s.replace('\\n','') for s in f.readlines())\n",
    "f.close()\n",
    "\n"
   ]
  },
  {
   "cell_type": "code",
   "execution_count": null,
   "metadata": {
    "collapsed": false,
    "scrolled": true
   },
   "outputs": [
    {
     "name": "stdout",
     "output_type": "stream",
     "text": [
      "0 Ruthlessly Bedded, Forcibly Wedded - Abby Green [[' millionaire', 1], [' billionaire', 2], [' protect', 9], [' blood', 13], [' pain', 37], [' abuse', 1], [' rape', 2], [' torture', 1]]\n",
      "1 Beautiful Child - Torey Hayden [[' protect', 1], [' blood', 5], [' pain', 1], [' abuse', 11], [' torture', 1]]\n",
      "2 Raising Steam - Terry Pratchett [[' blood', 6], [' pain', 1], [' torture', 2]]\n",
      "3 Cautious Lover - Stephanie James [[' protect', 4], [' blood', 4], [' pain', 3], [' boss', 1]]\n",
      "4 The Big Sleep _ Farewell My Lovely - Raymond Chandler [[' stalk', 1], [' protect', 7], [' blood', 19], [' bleed', 2], [' pain', 4], [' boss', 3], [' fbi ', 2]]\n",
      "5 Love Bites - Catherine Coulter [[' protect', 1], [' blood', 127], [' bleed', 1], [' pain', 23], [' rape', 1], [' boss', 2], [' kidnap', 5]]\n",
      "6 Finding Jake - Bryan Reardon [[' protect', 10], [' blood', 15], [' pain', 9], [' boss', 1], [' torture', 1]]\n",
      "7 Jumper_ Griffin's Story - Steven Gould [[' protect', 2], [' sodomy', 1], [' blood', 22], [' pain', 6], [' boss', 1], [' fbi ', 4]]\n",
      "8 Rachel Lindsay Man Out of Reach - Rachel Lindsay [[' millionaire', 1], [' protect', 1], [' blood', 9], [' pain', 6], [' tycoon', 1], [' boss', 1]]\n",
      "9 Blind Willow, Sleeping Woman - Haruki Murakami [[' protect', 8], [' anus', 1], [' blood', 9], [' pain', 4], [' boss', 3]]\n",
      "10 Wilson - A. Scott Berg [[' millionaire', 1], [' protect', 28], [' blood', 26], [' pain', 12], [' abuse', 1], [' rape', 1], [' tycoon', 2], [' boss', 24], [' torture', 1]]\n",
      "11 Stone Cold - C. J. Box [[' protect', 4], [' blood', 15], [' pain', 2], [' rape', 1], [' boss', 1], [' fbi ', 19]]\n",
      "12 Within Reach - Sarah Mayberry [[' protect', 3], [' blood', 4], [' pain', 12], [' abuse', 1], [' asshole', 3]]\n",
      "13 Together Again - Peggy Bird [[' protect', 6], [' blood', 2], [' pain', 5], [' boss', 4], [' torture', 1], [' fbi ', 3], [' asshole', 2]]\n",
      "14 Abe Lincoln at Last! Magic Tree House #47 - Mary Pope Osborne [[' blood', 2], [' boss', 1]]\n",
      "15 Private Bodyguard - Tyler Anne Snell [[' millionaire', 5], [' protect', 15], [' blood', 21], [' pain', 21], [' ceo', 1], [' boss', 20], [' torture', 1]]\n",
      "16 Heart of Ash - Sabrina York [[' billionaire', 1], [' blood', 3], [' pain', 7], [' rape', 1], [' ceo', 1], [' torture', 1], [' fbi ', 1], [' asshole', 1]]\n",
      "17 Rachel Lindsay - Alien Corn - Rachel Lindsay [[' protect', 4], [' blood', 4], [' pain', 3], [' boss', 1]]\n",
      "18 Understood - Maya Banks [[' protect', 1], [' blood', 2], [' pain', 3], [' boss', 1], [' torture', 1], [' asshole', 1]]\n",
      "19 Bound - Dean Murray [[' protect', 19], [' blood', 23], [' bleed', 9], [' pain', 12], [' abuse', 2], [' boss', 2], [' torture', 1]]\n",
      "20 The Big Four - Agatha Christie [[' millionaire', 1], [' blood', 5], [' pain', 3], [' torture', 1]]\n",
      "21 A Bad Enemy - Sara Craven [[' protect', 1], [' blood', 6], [' pain', 4], [' boss', 1]]\n",
      "22 Jonesin' for Action - Samantha Cayto [[' protect', 1], [' blood', 2], [' pain', 3], [' torture', 1], [' asshole', 1]]\n",
      "23 Rachael Ray's 30-Minute Get Real Meals - Rachael Ray [[' blood', 1]]\n",
      "24 Windwalker Book 3 - Elaine Cunningham [[' protect', 7], [' blood', 28], [' bleed', 1], [' pain', 19], [' abuse', 1], [' torture', 3], [' kidnap', 1]]\n",
      "25 The Ruins of Dantooine - Voronica Whitney-Robinson [[' protect', 2], [' blood', 11], [' pain', 10], [' boss', 1]]\n",
      "26 Midnight Investigation - Sheryl Lynn [[' protect', 5], [' blood', 5], [' pain', 13]]\n",
      "27 Down to You - M. Leighton [[' protect', 1], [' blood', 10], [' pain', 4], [' rape', 1], [' boss', 1], [' torture', 1], [' asshole', 4]]\n",
      "28 The Black Box - Michael Connelly [[' protect', 4], [' blood', 10], [' pain', 2], [' rape', 2], [' ceo', 1], [' boss', 7], [' fbi ', 1]]\n",
      "29 An Unfortunate Woman_ A Journey - Richard Brautigan [[' blood', 1], [' pain', 1]]\n",
      "30 The Valley of Amazement - Amy Tan [[' protect', 14], [' anus', 1], [' blood', 18], [' pain', 39], [' rape', 1], [' torture', 1], [' rosebud', 2]]\n",
      "31 Now Is the Time to Open Your Heart_ A Nove - Alice Walker [[' protect', 6], [' blood', 7], [' pain', 4], [' rape', 3], [' torture', 1]]\n",
      "32 Indebted Epilogue - Pepper Winters [[' stalk', 1], [' protect', 1], [' blood', 5], [' pain', 7], [' torture', 2]]\n",
      "33 George Washington's Secret Six - Brian Kilmeade [[' protect', 9], [' blood', 1], [' abuse', 1], [' kidnap', 2]]\n",
      "34 A Tramp Abroad - Mark Twain [[' protect', 7], [' blood', 12], [' pain', 8], [' abuse', 2], [' boss', 2], [' torture', 2], [' rosebud', 1]]\n",
      "35 The Jump - Martina Cole [[' millionaire', 1], [' protect', 5], [' blood', 23], [' pain', 15], [' abuse', 4], [' rape', 4], [' boss', 3], [' torture', 7]]\n",
      "36 The Playboy of Argentina - Bella Frances [[' stalk', 1], [' protect', 2], [' blood', 4], [' pain', 8], [' boss', 2]]\n",
      "37 Second Nature - Nora Roberts [[' stalk', 2], [' protect', 1], [' blood', 5], [' pain', 3]]\n",
      "38 The Sleeping Beauty - Mercedes Lackey [[' protect', 9], [' blood', 25], [' pain', 8], [' abuse', 2], [' abduct', 1]]\n",
      "39 Seven Years to Sin - Sylvia Day [[' protect', 6], [' blood', 13], [' bleed', 1], [' pain', 15], [' abuse', 2], [' boss', 1], [' torture', 2]]\n",
      "40 Shopaholic to the Rescue - Sophie Kinsella [[' protect', 1], [' blood', 4], [' pain', 3], [' boss', 2]]\n",
      "41 The Wanton Governess - Barbara Monajem [[' protect', 3], [' pain', 2]]\n",
      "42 Lyrics the Shadow Lover - Mercedes Lackey [[' stalk', 1], [' protect', 1], [' blood', 1], [' pain', 3]]\n",
      "43 Death Star - Michael Reaves [[' protect', 2], [' blood', 8], [' bleed', 1], [' pain', 9], [' boss', 4], [' torture', 3]]\n",
      "44 The Shadow Queen - Bertrice Small [[' protect', 19], [' blood', 25], [' pain', 18], [' rape', 1], [' torture', 2]]\n",
      "45 The Bridesmaid and the Billionaire - Shirley Jump [[' billionaire', 2], [' ceo', 1]]\n",
      "46 Secrets of a Bollywood Marriage - Susanna Carr [[' protect', 14], [' blood', 5], [' pain', 8]]\n",
      "47 Blue Ridge Ricochet - Paula Graves [[' protect', 4], [' blood', 18], [' pain', 8], [' boss', 14], [' fbi ', 34]]\n",
      "48 Valdemar Collegium Chronicles 4 Redoubt - Mercedes Lackey [[' protect', 8], [' blood', 8], [' pain', 17], [' boss', 1]]\n",
      "49 When Darkness Comes - Alexandra Ivy [[' stalk', 2], [' protect', 14], [' blood', 45], [' pain', 23], [' rape', 1]]\n",
      "50 A Cruel and Shocking Act - Philip Shenon [[' protect', 20], [' blood', 8], [' bleed', 1], [' pain', 2], [' boss', 6], [' torture', 1], [' fbi ', 593], [' kidnap', 1]]\n",
      "52 Now a Bride - Mary Balogh [[' protect', 1], [' blood', 1]]\n"
     ]
    }
   ],
   "source": [
    "from random import shuffle\n",
    "shuffle(txtfiles)\n",
    "try:\n",
    "    booksTagsI=load_obj('booksTagsI')\n",
    "except:\n",
    "    booksTagsI={}\n",
    "    save_obj(booksTagsI, 'booksTagsI')\n",
    "cnt=0\n",
    "for f in reversed(txtfiles):\n",
    "    name=f.split('/')[-1][:-4]\n",
    "    if name not in booksTagsI.keys():\n",
    "        fl= open(f,'r')\n",
    "        txt=fl.read().lower()\n",
    "        fl.close()\n",
    "        hist=nltk.FreqDist(txt.split())\n",
    "        res=[[l,hist[l.strip()]] for l in keywords if l.strip() in hist.keys() ]\n",
    "        tag=', '.join(r[0].strip() for r in res if r[1]>0)\n",
    "        ff=f[:-3]+\"epub\" \n",
    "        if len(tag)>0 :\n",
    "            path=f.replace(f.split(os.sep)[-1],'')\n",
    "            fm=path+\"metadata.opf\"\n",
    "            !ebook-meta \"$ff\" --tag \"$tag\" > /dev/null\n",
    "            !ebook-meta \"$ff\" --to-opf \"$fm\" >/dev/null\n",
    "            booksTagsI[name]=[' '.join(r[0]+\": \"+ str(r[1]) for r in res),txt,hist]\n",
    "            print (cnt,f.split('/')[-1][:-4],res)\n",
    "        cnt+=1\n",
    "        if cnt % 50 == 0:\n",
    "            tmp=booksTagsI.copy()\n",
    "            tmp.update(load_obj('booksTagsI'))\n",
    "            booksTagsI=tmp\n",
    "            save_obj(booksTagsI, 'booksTagsI')\n",
    "            #break\n",
    "tmp=booksTagsI.copy()\n",
    "tmp.update(load_obj('booksTagsI'))\n",
    "booksTagsI=tmp\n",
    "save_obj(booksTagsI, 'booksTagsI')\n"
   ]
  },
  {
   "cell_type": "code",
   "execution_count": null,
   "metadata": {
    "collapsed": true
   },
   "outputs": [],
   "source": []
  }
 ],
 "metadata": {
  "kernelspec": {
   "display_name": "Python 3",
   "language": "python",
   "name": "python3"
  },
  "language_info": {
   "codemirror_mode": {
    "name": "ipython",
    "version": 3
   },
   "file_extension": ".py",
   "mimetype": "text/x-python",
   "name": "python",
   "nbconvert_exporter": "python",
   "pygments_lexer": "ipython3",
   "version": "3.5.1+"
  }
 },
 "nbformat": 4,
 "nbformat_minor": 0
}
