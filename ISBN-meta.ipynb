{
 "cells": [
  {
   "cell_type": "code",
   "execution_count": 1,
   "metadata": {
    "collapsed": false
   },
   "outputs": [],
   "source": [
    "import time\n",
    "from multiprocessing import Pool\n",
    "import functools"
   ]
  },
  {
   "cell_type": "code",
   "execution_count": 23,
   "metadata": {
    "collapsed": false
   },
   "outputs": [
    {
     "name": "stdout",
     "output_type": "stream",
     "text": [
      "items\n"
     ]
    }
   ],
   "source": [
    "import requests\n",
    "query=\"The+Moving+Finger+Agatha+Christie\"\n",
    "ids=\"9CkX1DBb0P8C\"\n",
    "urlstring='https://www.googleapis.com/books/v1/volumes?q='+query+'&fields=items&maxResults=10&id='+ids\n",
    "#urlstring=\"https://www.googleapis.com/books/v1/volumes?q=carol+marinelli&maxResults=10&id=9CkX1DBb0P8C\"\n",
    "resp = requests.get(urlstring)\n",
    "if resp.status_code != 200:\n",
    "    # This means something went wrong.\n",
    "    print(resp.status_code)\n",
    "else:\n",
    "    for todo_item in resp.json():\n",
    "        print(todo_item)"
   ]
  },
  {
   "cell_type": "code",
   "execution_count": 24,
   "metadata": {
    "collapsed": false
   },
   "outputs": [],
   "source": [
    "m=resp.json()"
   ]
  },
  {
   "cell_type": "code",
   "execution_count": 28,
   "metadata": {
    "collapsed": false
   },
   "outputs": [
    {
     "name": "stdout",
     "output_type": "stream",
     "text": [
      " [u'Agatha Christie'] The Moving Finger (Miss Marple)\n",
      "[u'Agatha Christie'] The Moving Finger\n",
      "[u'Agatha Christie'] The Moving Finger\n",
      "[u'Agatha Christie'] The Moving Finger\n",
      "[u'James Zemboy'] The Detective Novels of Agatha Christie\n",
      "[u'Edith Wharton'] The Moving Finger\n",
      "[u'Agatha Christie'] Collins the Moving Finger (ELT Reader)\n",
      "[u'Agatha Christie'] Miss Marple 3-Book Collection 1: The Murder at the Vicarage, The Body in the Library, The Moving Finger\n",
      "[u'Agatha Christie'] The Hollow\n",
      "[u'Agatha Christie'] Miss Marple Omnibus\n"
     ]
    }
   ],
   "source": [
    "for mm in m[u'items']:\n",
    "    dictt=mm[u'volumeInfo']\n",
    "    print dictt[u'authors'],dictt[u'title']"
   ]
  },
  {
   "cell_type": "code",
   "execution_count": null,
   "metadata": {
    "collapsed": true
   },
   "outputs": [],
   "source": []
  },
  {
   "cell_type": "code",
   "execution_count": 2,
   "metadata": {
    "collapsed": false
   },
   "outputs": [
    {
     "data": {
      "text/plain": [
       "8837"
      ]
     },
     "execution_count": 2,
     "metadata": {},
     "output_type": "execute_result"
    }
   ],
   "source": [
    "d=\"/media/some/sophie-hhd/transmitt/fic/#Calibre Fiction/\"\n",
    "dd=\"/media/some/sophie-hhd/transmitt/fic/Fictional Literature/\"\n",
    "files=! find \"$d\" \"$dd\" -type f -iname \"*.epub\"\n",
    "len(files)"
   ]
  },
  {
   "cell_type": "code",
   "execution_count": null,
   "metadata": {
    "collapsed": false
   },
   "outputs": [],
   "source": [
    "#test\n",
    "f=files[-4053]\n",
    "#print f\n",
    "getFileIsbnMeta(f,.2)"
   ]
  },
  {
   "cell_type": "code",
   "execution_count": 11,
   "metadata": {
    "collapsed": true
   },
   "outputs": [],
   "source": [
    "titles=load_obj('data/titlesISBN')#{}\n",
    "keys=load_obj('data/titleskeysISBN')#[]"
   ]
  },
  {
   "cell_type": "code",
   "execution_count": 16,
   "metadata": {
    "collapsed": false
   },
   "outputs": [
    {
     "data": {
      "text/plain": [
       "(8834, 8, 8837)"
      ]
     },
     "execution_count": 16,
     "metadata": {},
     "output_type": "execute_result"
    }
   ],
   "source": [
    "flist=list(filter(lambda x: x[x.rindex('/')+1:x.rindex('.')] not in keys, files))\n",
    "len(flist),len(keys),len(files)"
   ]
  },
  {
   "cell_type": "code",
   "execution_count": 17,
   "metadata": {
    "collapsed": false,
    "scrolled": false
   },
   "outputs": [
    {
     "name": "stdout",
     "output_type": "stream",
     "text": [
      "exception count  0\n",
      "52\n",
      "finish parallel\n",
      "('time: ', 2066.2928919792175)\n"
     ]
    }
   ],
   "source": [
    "\n",
    "t0 = time.time()\n",
    "books=[]\n",
    "cnt=0\n",
    "\n",
    "#books=list(map(getFileIsbnMeta, flist[-10:]))\n",
    "for f in flist[10:100]:\n",
    "    books.append(getFileIsbnMeta(f))\n",
    "    time.sleep(10) \n",
    "#print \"errror\" \n",
    "##p.terminate()\n",
    "#p.close()\n",
    "#p.terminate()\n",
    "#p.close()\n",
    "for book in books:\n",
    "    try:\n",
    "        if book[0] not in keys and len(book)>2:\n",
    "            titles[book[0]]=book[1:]\n",
    "    except:\n",
    "        cnt+=1\n",
    "print \"exception count \",cnt        \n",
    "print len(list(titles.keys()))\n",
    "save_obj(titles, 'data/titlesISBN')\n",
    "keys=list(titles.keys())\n",
    "save_obj(keys,'data/titleskeysISBN')\n",
    "print 'finish parallel'\n",
    "\n",
    "t1=time.time()\n",
    "total = t1-t0\n",
    "print('time: ',total)"
   ]
  },
  {
   "cell_type": "code",
   "execution_count": 4,
   "metadata": {
    "collapsed": false,
    "scrolled": true
   },
   "outputs": [],
   "source": [
    "f='/media/some/sophie-hhd/transmitt/fic/Fictional Literature/True Crime Collection/Portrait of a Killer_ Jack the Ripper Case Closed - Patricia Cornwell/Patricia Cornwell - Portrait of a Killer_ Jack the_sed (v5.0).epub'"
   ]
  },
  {
   "cell_type": "code",
   "execution_count": 8,
   "metadata": {
    "collapsed": false
   },
   "outputs": [
    {
     "data": {
      "text/plain": [
       "'NO meta'"
      ]
     },
     "execution_count": 8,
     "metadata": {},
     "output_type": "execute_result"
    }
   ],
   "source": [
    "getFileIsbnMeta(f)"
   ]
  },
  {
   "cell_type": "code",
   "execution_count": 14,
   "metadata": {
    "collapsed": false
   },
   "outputs": [
    {
     "name": "stdout",
     "output_type": "stream",
     "text": [
      "api initialised\n"
     ]
    }
   ],
   "source": [
    "import os\n",
    "import isbnlib\n",
    "import string\n",
    "import comFuncs\n",
    "from comFuncs import *\n",
    "from isbnlib.config import add_apikey\n",
    "\n",
    "import os\n",
    "import string\n",
    "\n",
    "print \"api initialised\"\n",
    "def getISBNmeta(title,author):\n",
    "    APIKEY=\"2E7FE5A4\"\n",
    "    SERVICE = 'isbndb'\n",
    "    #register your key\n",
    "    add_apikey(SERVICE, APIKEY)\n",
    "    #print(author, title)\n",
    "    #isbn=isbnlib.isbn_from_words(title+\" by \" +author)\n",
    "    if author.count(' ')>0:\n",
    "        author=' '.join(author.split())\n",
    "    if title.count(' ')>0:\n",
    "        title=' '.join(title.split())  \n",
    "    cnt=0\n",
    "    while cnt<5:\n",
    "        try:\n",
    "            m=isbnlib.goom(title+\" \" +author)\n",
    "            return m\n",
    "        except:\n",
    "                cnt+=1\n",
    "                time.sleep(10)\n",
    "                pass\n",
    "        return \"\"\n",
    "        #print \"service unavailable\"\n",
    "def getFileIsbnMeta(f,smscr=1.0):\n",
    "    #print \"start\"\n",
    "    f=f.encode('ascii','ignore')\n",
    "    fp,ff= os.path.split(f)\n",
    "    fn, fext = os.path.splitext(ff)\n",
    "    fn=re.sub(\" \\(v[0-9].[0-9]\\)\",\"\",fn)\n",
    "    #print fn\n",
    "    seri=''\n",
    "    sm=0\n",
    "    mtd=None\n",
    "    sp=fn.split()\n",
    "    if len(sp)>4:\n",
    "        tit=sp[-2:]\n",
    "        auth=sp[:-2]\n",
    "    elif len(sp) >1:\n",
    "        tit=fn.split()[-1:]\n",
    "        auth=fn.split()[:-1]\n",
    "    else:\n",
    "        return \"no meta\"\n",
    "    \n",
    "    if fn.count(' - ')==1:\n",
    "        tit,auth=fn.split(' - ')\n",
    "    elif fn.count(' - ')==2:\n",
    "        seri,tit,auth=fn.split(' - ')\n",
    "        \n",
    "    #print \"title\",tit,\"author\",auth\n",
    "   \n",
    "    if tit.count('_ ')>0:\n",
    "        spp=tit.split('_')[0]\n",
    "        #print spp\n",
    "        if spp.count(' ')>0:\n",
    "            tit=' '.join(spp.split())\n",
    "        else:\n",
    "            tit=spp\n",
    "    if auth.count('_ ')>0:\n",
    "        spp=auth.split('_')[0]\n",
    "        #print spp\n",
    "        if spp.count(' ')>0:\n",
    "            auth=' '.join(spp.split())\n",
    "        else:\n",
    "            auth=spp\n",
    "    if tit.count(' ')>0:\n",
    "        title=''.join(l for l in ' '.join(tit.split()) if l in string.printable)\n",
    "    else:\n",
    "        title=''.join(l for l in tit if l in string.printable)\n",
    "    if auth.count(\" \")>0:    \n",
    "        author=''.join(l for l in ' '.join(auth.split()) if l in string.printable)\n",
    "    else:\n",
    "        author=''.join(l for l in auth if l in string.ascii_letters+\" .\")\n",
    "    #print tit,auth\n",
    "    #print title,'..... ....',author\n",
    "  \n",
    "    metad =getISBNmeta(title,author)\n",
    "    if metad !=\"\" and type(metad)==list: \n",
    "        for md in metad:\n",
    "            if type(md)==dict and \"Authors\" in md.keys() and \"Title\" in md.keys():\n",
    "                if len(md['Authors'])>0:\n",
    "                    authsim=similarity(md['Authors'][0].encode('ascii','ignore'),str(author))\n",
    "                else:\n",
    "                    authsim=0\n",
    "                titsim=similarity(md['Title'].encode('ascii','ignore'),str(title))\n",
    "                #print titsim,authsim\n",
    "                if titsim+authsim >sm:\n",
    "                    sm=titsim+authsim\n",
    "                    mtd=md\n",
    "    if sm >smscr and mtd !=None:\n",
    "        return fn,fp,mtd,sm\n",
    "    #if no data found switch title and author\n",
    "    metad =getISBNmeta(author,str(title))\n",
    "    if metad !=\"\" and type(metad)==list: \n",
    "        for md in metad:\n",
    "            if type(md)==dict and \"Authors\" in md.keys() and \"Title\" in md.keys():\n",
    "                if len(md['Authors'])>0:\n",
    "                    authsim=similarity(md['Authors'][0].encode('ascii','ignore'),str(title))\n",
    "                else:\n",
    "                    authsim=0\n",
    "                titsim=similarity(md['Title'].encode('ascii','ignore'),str(author))\n",
    "                #print titsim,authsim\n",
    "                if titsim+authsim >sm:\n",
    "                    sm=titsim+authsim\n",
    "                    mtd=md\n",
    "    if sm >smscr and mtd !=None:\n",
    "        return fn,fp,mtd,sm\n",
    "    # if no data found try seri, auth ,title  combinaton\n",
    "    if seri !='':\n",
    "        metad =getISBNmeta(title,str(seri))\n",
    "        if metad !=\"\" and type(metad)==list:\n",
    "            \n",
    "            for md in metad:\n",
    "                if type(md)==dict and \"Authors\" in md.keys() and \"Title\" in md.keys():\n",
    "                    if len(md['Authors'])>0:\n",
    "                        authsim=similarity(md['Authors'][0].encode('ascii','ignore'),str(seri))\n",
    "                    else:\n",
    "                        authsim=0\n",
    "                    titsim=similarity(md['Title'].encode('ascii','ignore'),str(title))\n",
    "                    #print titsim,authsim\n",
    "                    if titsim+authsim >sm:\n",
    "                        sm=titsim+authsim\n",
    "                        mtd=md\n",
    "        if sm >smscr and mtd !=None:\n",
    "            return fn,fp,mtd,sm\n",
    "        metad =getISBNmeta(seri,str(author))\n",
    "        if metad !=\"\" and type(metad)==list: \n",
    "            for md in metad:\n",
    "                if type(md)==dict and \"Authors\" in md.keys() and \"Title\" in md.keys():\n",
    "                    if len(md['Authors'])>0:\n",
    "                        authsim=similarity(md['Authors'][0].encode('ascii','ignore'),str(author))\n",
    "                    else:\n",
    "                        authsim=0\n",
    "                    titsim=similarity(md['Title'].encode('ascii','ignore'),str(seri))\n",
    "                    #print titsim,authsim\n",
    "                    if titsim+authsim >sm:\n",
    "                        sm=titsim+authsim\n",
    "                        mtd=md    \n",
    "        if sm >smscr and mtd !=None:\n",
    "            return fn,fp,mtd,sm\n",
    "        metad =getISBNmeta(seri,str(title))\n",
    "        if metad !=\"\" and type(metad)==list: \n",
    "            for md in metad:\n",
    "                if type(md)==dict and \"Authors\" in md.keys() and \"Title\" in md.keys():\n",
    "                    if len(md['Authors'])>0:\n",
    "                        authsim=similarity(md['Authors'][0].encode('ascii','ignore'),str(title))\n",
    "                    else:\n",
    "                        authsim=0\n",
    "                    titsim=similarity(md['Title'].encode('ascii','ignore'),str(seri))\n",
    "                    #print titsim,authsim\n",
    "                    if titsim+authsim >sm:\n",
    "                        sm=titsim+authsim\n",
    "                        mtd=md\n",
    "        if sm >smscr and mtd !=None:\n",
    "            return fn,fp,mtd,sm\n",
    "        metad =getISBNmeta(author,str(seri))\n",
    "        if metad !=\"\" and type(metad)==list: \n",
    "            for md in metad:\n",
    "                if type(md)==dict and \"Authors\" in md.keys() and \"Title\" in md.keys():\n",
    "                    if len(md['Authors'])>0:\n",
    "                        authsim=similarity(md['Authors'][0].encode('ascii','ignore'),str(seri))\n",
    "                    else:\n",
    "                        authsim=0\n",
    "                    titsim=similarity(md['Title'].encode('ascii','ignore'),str(author))\n",
    "                    #print titsim,authsim\n",
    "                    if titsim+authsim >sm:\n",
    "                        sm=titsim+authsim\n",
    "                        mtd=md               \n",
    "    if sm >smscr and mtd !=None:\n",
    "        return fn,fp,mtd,sm\n",
    "    return \"NO meta\"   \n",
    "    "
   ]
  },
  {
   "cell_type": "code",
   "execution_count": 18,
   "metadata": {
    "collapsed": true
   },
   "outputs": [],
   "source": []
  },
  {
   "cell_type": "code",
   "execution_count": null,
   "metadata": {
    "collapsed": true
   },
   "outputs": [],
   "source": []
  }
 ],
 "metadata": {
  "kernelspec": {
   "display_name": "Python 2",
   "language": "python",
   "name": "python2"
  },
  "language_info": {
   "codemirror_mode": {
    "name": "ipython",
    "version": 2
   },
   "file_extension": ".py",
   "mimetype": "text/x-python",
   "name": "python",
   "nbconvert_exporter": "python",
   "pygments_lexer": "ipython2",
   "version": "2.7.11+"
  }
 },
 "nbformat": 4,
 "nbformat_minor": 0
}
