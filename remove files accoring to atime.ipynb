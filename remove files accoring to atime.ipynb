{
 "cells": [
  {
   "cell_type": "code",
   "execution_count": null,
   "metadata": {
    "collapsed": true
   },
   "outputs": [],
   "source": [
    "import os,glob\n",
    "from dateutil import parser\n",
    "import datetime\n",
    "from IPython.display import clear_output\n",
    "from ebooklib import epub\n",
    "import ebooklib"
   ]
  },
  {
   "cell_type": "code",
   "execution_count": null,
   "metadata": {
    "collapsed": true
   },
   "outputs": [],
   "source": [
    "path=\"/media/some/sophie-hhd/books/epub-cm/\"\n",
    "tp=\"/media/some/sophie-hhd/books/tmpadd/\"\n",
    "rt=datetime.datetime(2016, 5, 10, 0, 0, 0, 0)\n",
    "et=datetime.datetime(2016, 5, 11, 0, 0, 0, 0)"
   ]
  },
  {
   "cell_type": "code",
   "execution_count": null,
   "metadata": {
    "collapsed": false
   },
   "outputs": [],
   "source": [
    "#remove files last accessed time betweeen rt and et above\n",
    "os.chdir(path)\n",
    "lst=glob.glob(\"*.epub\")\n",
    "os.chdir(\"/home/some\")\n",
    "cnt=0\n",
    "for f in lst:\n",
    "    ff=path+f\n",
    "    atm=! stat $ff |grep \"Access: 2\"\n",
    "    atime=parser.parse(atm[0].replace(\"Access: \",\"\").replace(' +0100',''))\n",
    "    #if file accessed after 18:00 on 10/05/2016\n",
    "    if atime >= rt and atime <= et:\n",
    "        cnt+=1\n",
    "        print cnt,'-', atime,\" moving .. \",f\n",
    "        \n",
    "        if cnt % 10 == 0:\n",
    "            clear_output()\n",
    "        tf=tp+f\n",
    "        os.remove(ff)\n",
    "print cnt       \n"
   ]
  },
  {
   "cell_type": "code",
   "execution_count": null,
   "metadata": {
    "collapsed": true
   },
   "outputs": [],
   "source": []
  }
 ],
 "metadata": {
  "kernelspec": {
   "display_name": "Python 3",
   "language": "python",
   "name": "python3"
  },
  "language_info": {
   "codemirror_mode": {
    "name": "ipython",
    "version": 3
   },
   "file_extension": ".py",
   "mimetype": "text/x-python",
   "name": "python",
   "nbconvert_exporter": "python",
   "pygments_lexer": "ipython3",
   "version": "3.5.1+"
  }
 },
 "nbformat": 4,
 "nbformat_minor": 0
}
