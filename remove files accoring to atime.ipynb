{
 "cells": [
  {
   "cell_type": "code",
   "execution_count": 1,
   "metadata": {
    "collapsed": true
   },
   "outputs": [],
   "source": [
    "import os,glob\n",
    "from dateutil import parser\n",
    "import datetime\n",
    "from IPython.display import clear_output\n",
    "from ebooklib import epub\n",
    "import ebooklib"
   ]
  },
  {
   "cell_type": "code",
   "execution_count": 2,
   "metadata": {
    "collapsed": true
   },
   "outputs": [],
   "source": [
    "path=\"/media/some/sophie-hhd/books/epub-cm/\"\n",
    "tp=\"/media/some/sophie-hhd/books/tmpadd/\"\n",
    "rt=datetime.datetime(2016, 5, 10, 0, 0, 0, 0)\n",
    "et=datetime.datetime(2016, 5, 11, 0, 0, 0, 0)"
   ]
  },
  {
   "cell_type": "code",
   "execution_count": 4,
   "metadata": {
    "collapsed": false
   },
   "outputs": [
    {
     "name": "stdout",
     "output_type": "stream",
     "text": [
      "0\n"
     ]
    }
   ],
   "source": [
    "#remove files last accessed time betweeen rt and et above\n",
    "os.chdir(path)\n",
    "lst=glob.glob(\"*.epub\")\n",
    "os.chdir(\"/home/some\")\n",
    "cnt=0\n",
    "for f in lst:\n",
    "    ff=path+f\n",
    "    atm=! stat $ff |grep \"Access: 2\"\n",
    "    atime=parser.parse(atm[0].replace(\"Access: \",\"\").replace(' +0100',''))\n",
    "    #if file accessed after 18:00 on 10/05/2016\n",
    "    if atime >= rt and atime <= et:\n",
    "        cnt+=1\n",
    "        print cnt,'-', atime,\" moving .. \",f\n",
    "        \n",
    "        if cnt % 10 == 0:\n",
    "            clear_output()\n",
    "        tf=tp+f\n",
    "        os.remove(ff)\n",
    "print cnt       \n"
   ]
  },
  {
   "cell_type": "code",
   "execution_count": null,
   "metadata": {
    "collapsed": true
   },
   "outputs": [],
   "source": []
  }
 ],
 "metadata": {
  "kernelspec": {
   "display_name": "Python 2",
   "language": "python",
   "name": "python2"
  },
  "language_info": {
   "codemirror_mode": {
    "name": "ipython",
    "version": 2
   },
   "file_extension": ".py",
   "mimetype": "text/x-python",
   "name": "python",
   "nbconvert_exporter": "python",
   "pygments_lexer": "ipython2",
   "version": "2.7.10"
  }
 },
 "nbformat": 4,
 "nbformat_minor": 0
}
