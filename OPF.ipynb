{
 "cells": [
  {
   "cell_type": "code",
   "execution_count": null,
   "metadata": {
    "collapsed": false
   },
   "outputs": [],
   "source": [
    "import os,glob\n",
    "from dateutil import parser\n",
    "import datetime\n",
    "from IPython.display import clear_output\n",
    "from ebooklib import epub\n",
    "import ebooklib\n",
    "import comFunc"
   ]
  },
  {
   "cell_type": "code",
   "execution_count": null,
   "metadata": {
    "collapsed": false
   },
   "outputs": [],
   "source": [
    "f=\"/media/some/sophie-hhd/calibre/Judith McNaught/Someone to Watch Over Me (5529)/Someone to Watch Over Me - Judith McNaught.epub\"\n",
    "!ebook-convert '$f' 't.mobi'"
   ]
  },
  {
   "cell_type": "code",
   "execution_count": null,
   "metadata": {
    "collapsed": false
   },
   "outputs": [],
   "source": [
    "path='/media/some/sophie-hhd/calibre/'\n",
    "\n",
    "os.chdir(path)\n",
    "m=comFunc.find('*.opf', path)\n",
    "os.chdir(\"/home/some\")\n",
    "#m[0:5]"
   ]
  },
  {
   "cell_type": "code",
   "execution_count": null,
   "metadata": {
    "collapsed": false
   },
   "outputs": [],
   "source": [
    "import re \n",
    "x = \"This is a sentence. (once a day) [twice a day]\"\n",
    "re.sub(\"\\(.+\", \" \", x)"
   ]
  },
  {
   "cell_type": "code",
   "execution_count": null,
   "metadata": {
    "collapsed": false
   },
   "outputs": [],
   "source": [
    "import init_calibre\n",
    "import calibre\n",
    "\n",
    "print calibre.__version__\n"
   ]
  },
  {
   "cell_type": "code",
   "execution_count": null,
   "metadata": {
    "collapsed": false
   },
   "outputs": [],
   "source": [
    "f='/media/some/sophie-hhd/calibre/Mary Jo Putney/Dancing On The Wind (3683)/Dancing On The Wind - Mary Jo Putney.epub'\n",
    "f1='/media/some/sophie-hhd/calibre/01- Dark Seduction/Joyce, Brenda - Masters of Time (1579)/Joyce, Brenda - Masters of Time - 01- Dark Seduction.epub'\n",
    "book=epub.read_epub(f)\n",
    "book1=epub.read_epub(f1)"
   ]
  },
  {
   "cell_type": "code",
   "execution_count": null,
   "metadata": {
    "collapsed": false
   },
   "outputs": [],
   "source": [
    "print book.metadata.keys()\n",
    "print book.metadata['http://www.idpf.org/2007/opf'],'\\n\\n'\n",
    "print book1.metadata['http://www.idpf.org/2007/opf']\n",
    "getepub(m[1])"
   ]
  },
  {
   "cell_type": "code",
   "execution_count": null,
   "metadata": {
    "collapsed": false
   },
   "outputs": [],
   "source": [
    "! ebook-meta \"$f\""
   ]
  },
  {
   "cell_type": "code",
   "execution_count": null,
   "metadata": {
    "collapsed": true
   },
   "outputs": [],
   "source": [
    "def getepub(opf):\n",
    "    p, fi = os.path.split(opf)\n",
    "    return p+'/'+p.split('/')[-1]+'.epub'"
   ]
  },
  {
   "cell_type": "code",
   "execution_count": null,
   "metadata": {
    "collapsed": true
   },
   "outputs": [],
   "source": [
    "try:\n",
    "    metalst=load_obj('metalst')\n",
    "except:\n",
    "    metalst={}\n",
    "    save_obj(metalst, 'metalst')\n"
   ]
  },
  {
   "cell_type": "code",
   "execution_count": null,
   "metadata": {
    "collapsed": true
   },
   "outputs": [],
   "source": []
  },
  {
   "cell_type": "code",
   "execution_count": null,
   "metadata": {
    "collapsed": true
   },
   "outputs": [],
   "source": []
  }
 ],
 "metadata": {
  "kernelspec": {
   "display_name": "Python 3",
   "language": "python",
   "name": "python3"
  },
  "language_info": {
   "codemirror_mode": {
    "name": "ipython",
    "version": 3
   },
   "file_extension": ".py",
   "mimetype": "text/x-python",
   "name": "python",
   "nbconvert_exporter": "python",
   "pygments_lexer": "ipython3",
   "version": "3.5.1+"
  }
 },
 "nbformat": 4,
 "nbformat_minor": 0
}
