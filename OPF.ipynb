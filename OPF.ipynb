{
 "cells": [
  {
   "cell_type": "code",
   "execution_count": 1,
   "metadata": {
    "collapsed": false
   },
   "outputs": [],
   "source": [
    "import os,glob\n",
    "from dateutil import parser\n",
    "import datetime\n",
    "from IPython.display import clear_output\n",
    "from ebooklib import epub\n",
    "import ebooklib\n",
    "import comFunc"
   ]
  },
  {
   "cell_type": "code",
   "execution_count": null,
   "metadata": {
    "collapsed": true
   },
   "outputs": [],
   "source": [
    "#path=\"/media/some/sophie-hhd/books/epub-cm/\""
   ]
  },
  {
   "cell_type": "code",
   "execution_count": 41,
   "metadata": {
    "collapsed": false
   },
   "outputs": [],
   "source": [
    "path='/media/some/sophie-hhd/calibre/'\n",
    "\n",
    "os.chdir(path)\n",
    "m=comFunc.find('*.opf', path)\n",
    "os.chdir(\"/home/some\")\n",
    "#m[0:5]"
   ]
  },
  {
   "cell_type": "code",
   "execution_count": 58,
   "metadata": {
    "collapsed": false
   },
   "outputs": [
    {
     "data": {
      "text/plain": [
       "'This is a sentence.  '"
      ]
     },
     "execution_count": 58,
     "metadata": {},
     "output_type": "execute_result"
    }
   ],
   "source": [
    "import re \n",
    "x = \"This is a sentence. (once a day) [twice a day]\"\n",
    "re.sub(\"\\(.+\", \" \", x)"
   ]
  },
  {
   "cell_type": "code",
   "execution_count": 61,
   "metadata": {
    "collapsed": false
   },
   "outputs": [
    {
     "ename": "ImportError",
     "evalue": "No module named init_calibre",
     "output_type": "error",
     "traceback": [
      "\u001b[1;31m---------------------------------------------------------------------------\u001b[0m",
      "\u001b[1;31mImportError\u001b[0m                               Traceback (most recent call last)",
      "\u001b[1;32m<ipython-input-61-d826eb1e7e22>\u001b[0m in \u001b[0;36m<module>\u001b[1;34m()\u001b[0m\n\u001b[1;32m----> 1\u001b[1;33m \u001b[1;32mimport\u001b[0m \u001b[0minit_calibre\u001b[0m\u001b[1;33m\u001b[0m\u001b[0m\n\u001b[0m\u001b[0;32m      2\u001b[0m \u001b[1;32mimport\u001b[0m \u001b[0mcalibre\u001b[0m\u001b[1;33m\u001b[0m\u001b[0m\n\u001b[0;32m      3\u001b[0m \u001b[1;33m\u001b[0m\u001b[0m\n\u001b[0;32m      4\u001b[0m \u001b[1;32mprint\u001b[0m \u001b[0mcalibre\u001b[0m\u001b[1;33m.\u001b[0m\u001b[0m__version__\u001b[0m\u001b[1;33m\u001b[0m\u001b[0m\n",
      "\u001b[1;31mImportError\u001b[0m: No module named init_calibre"
     ]
    }
   ],
   "source": [
    "import init_calibre\n",
    "import calibre\n",
    "\n",
    "print calibre.__version__\n"
   ]
  },
  {
   "cell_type": "code",
   "execution_count": 10,
   "metadata": {
    "collapsed": false
   },
   "outputs": [],
   "source": [
    "f='/media/some/sophie-hhd/calibre/Mary Jo Putney/Dancing On The Wind (3683)/Dancing On The Wind - Mary Jo Putney.epub'\n",
    "f1='/media/some/sophie-hhd/calibre/01- Dark Seduction/Joyce, Brenda - Masters of Time (1579)/Joyce, Brenda - Masters of Time - 01- Dark Seduction.epub'\n",
    "book=epub.read_epub(f)\n",
    "book1=epub.read_epub(f1)"
   ]
  },
  {
   "cell_type": "code",
   "execution_count": 28,
   "metadata": {
    "collapsed": false
   },
   "outputs": [
    {
     "name": "stdout",
     "output_type": "stream",
     "text": [
      "['http://www.idpf.org/2007/opf', 'http://purl.org/dc/elements/1.1/', 'http://calibre.kovidgoyal.net/2009/metadata', 'calibre']\n",
      "{'cover': [(None, {'content': 'cover', 'name': 'cover'})], None: [('2016-05-12T14:56:11Z', {'property': 'dcterms:modified'}), ('2016-05-12T14:53:17Z', {'property': 'dcterms:modified'}), ('2016-05-12T14:50:21Z', {'property': 'dcterms:modified'}), ('2016-05-12T14:47:29Z', {'property': 'dcterms:modified'}), ('2016-05-12T14:44:50Z', {'property': 'dcterms:modified'}), ('2016-05-12T14:39:05Z', {'property': 'dcterms:modified'}), ('2016-05-12T14:34:06Z', {'property': 'dcterms:modified'}), ('2016-05-12T08:14:07Z', {'property': 'dcterms:modified'})]} \n",
      "\n",
      "\n",
      "{'cover': [(None, {'content': 'cover', 'name': 'cover'})], None: [('2016-05-11T08:01:48Z', {'property': 'dcterms:modified'})]}\n",
      "/bin/sh: 1: Syntax error: \"(\" unexpected\r\n"
     ]
    }
   ],
   "source": [
    "print book.metadata.keys()\n",
    "print book.metadata['http://www.idpf.org/2007/opf'],'\\n\\n'\n",
    "print book1.metadata['http://www.idpf.org/2007/opf']\n",
    "getepub(m[1])"
   ]
  },
  {
   "cell_type": "code",
   "execution_count": 31,
   "metadata": {
    "collapsed": false
   },
   "outputs": [
    {
     "name": "stdout",
     "output_type": "stream",
     "text": [
      "Title               : Dancing On The Wind\r\n",
      "Title sort          : Dancing On The Wind\r\n",
      "Author(s)           : Mary Jo Putney [Putney, Mary Jo]\r\n",
      "Book Producer       : calibre (2.33.0) [http://calibre-ebook.com]\r\n",
      "Series              : Fallen Angel #3\r\n",
      "Languages           : eng\r\n",
      "Published           : 0101-01-01T00:00:00+00:00\r\n"
     ]
    }
   ],
   "source": [
    "! ebook-meta \"$f\""
   ]
  },
  {
   "cell_type": "code",
   "execution_count": 24,
   "metadata": {
    "collapsed": true
   },
   "outputs": [],
   "source": [
    "def getepub(opf):\n",
    "    p, fi = os.path.split(opf)\n",
    "    return p+'/'+p.split('/')[-1]+'.epub'"
   ]
  },
  {
   "cell_type": "code",
   "execution_count": null,
   "metadata": {
    "collapsed": true
   },
   "outputs": [],
   "source": [
    "try:\n",
    "    metalst=load_obj('metalst')\n",
    "except:\n",
    "    metalst={}\n",
    "    save_obj(metalst, 'metalst')\n"
   ]
  },
  {
   "cell_type": "code",
   "execution_count": null,
   "metadata": {
    "collapsed": true
   },
   "outputs": [],
   "source": []
  },
  {
   "cell_type": "code",
   "execution_count": null,
   "metadata": {
    "collapsed": true
   },
   "outputs": [],
   "source": []
  }
 ],
 "metadata": {
  "kernelspec": {
   "display_name": "Python 2",
   "language": "python",
   "name": "python2"
  },
  "language_info": {
   "codemirror_mode": {
    "name": "ipython",
    "version": 2
   },
   "file_extension": ".py",
   "mimetype": "text/x-python",
   "name": "python",
   "nbconvert_exporter": "python",
   "pygments_lexer": "ipython2",
   "version": "2.7.10"
  }
 },
 "nbformat": 4,
 "nbformat_minor": 0
}
