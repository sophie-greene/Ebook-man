{
 "cells": [
  {
   "cell_type": "code",
   "execution_count": null,
   "metadata": {
    "collapsed": true
   },
   "outputs": [],
   "source": [
    "import zipfile\n",
    "from lxml import etree\n",
    "\n",
    "def get_epub_info(fname):\n",
    "    ns = {\n",
    "        'n':'urn:oasis:names:tc:opendocument:xmlns:container',\n",
    "        'pkg':'http://www.idpf.org/2007/opf',\n",
    "        'dc':'http://purl.org/dc/elements/1.1/'\n",
    "    }\n",
    "\n",
    "    # prepare to read from the .epub file\n",
    "    zip = zipfile.ZipFile(fname)\n",
    "\n",
    "    # find the contents metafile\n",
    "    txt = zip.read('META-INF/container.xml')\n",
    "    tree = etree.fromstring(txt)\n",
    "    cfname = tree.xpath('n:rootfiles/n:rootfile/@full-path',namespaces=ns)[0]\n",
    "\n",
    "    # grab the metadata block from the contents metafile\n",
    "    cf = zip.read(cfname)\n",
    "    tree = etree.fromstring(cf)\n",
    "    p = tree.xpath('/pkg:package/pkg:metadata',namespaces=ns)[0]\n",
    "\n",
    "    # repackage the data\n",
    "    res = {}\n",
    "    for s in ['title','language','creator','date','identifier']:\n",
    "        res[s] = p.xpath('dc:%s/text()'%(s),namespaces=ns)[0]\n",
    "\n",
    "    return res"
   ]
  },
  {
   "cell_type": "code",
   "execution_count": null,
   "metadata": {
    "collapsed": true
   },
   "outputs": [],
   "source": [
    "import glob, os\n",
    "import subprocess\n",
    "from ebooklib import epub"
   ]
  },
  {
   "cell_type": "code",
   "execution_count": null,
   "metadata": {
    "collapsed": true
   },
   "outputs": [],
   "source": [
    "path=\"/media/some/sophie-hhd/books/mobi-m/\"\n",
    "tpath=\"/media/some/sophie-hhd/books/epub-m/\""
   ]
  },
  {
   "cell_type": "code",
   "execution_count": null,
   "metadata": {
    "collapsed": false
   },
   "outputs": [],
   "source": [
    "\n",
    "\n",
    "os.chdir(path)\n",
    "cnt=0\n",
    "listazw3=[]\n",
    "for f in glob.glob(\"*.mobi\"):\n",
    "    ff=path+f\n",
    "    tf=tpath+f.lower()[:-4]+\"epub\"\n",
    "    if not os.path.isfile(tf):\n",
    "        \n",
    "        m=!ebook-convert \"$ff\" \"$tf\"\n",
    "    #book=epub.read_epub(tf)\n",
    "    #print book.get_metadata(\"DC\", \"title\")\n",
    "    #listazw3.append(meta)\n",
    "    #cnt+=1\n",
    "    #if cnt>5: break\n",
    "os.chdir(\"/home/some\")"
   ]
  },
  {
   "cell_type": "code",
   "execution_count": null,
   "metadata": {
    "collapsed": false
   },
   "outputs": [],
   "source": [
    "9\n"
   ]
  },
  {
   "cell_type": "code",
   "execution_count": null,
   "metadata": {
    "collapsed": true
   },
   "outputs": [],
   "source": []
  },
  {
   "cell_type": "code",
   "execution_count": null,
   "metadata": {
    "collapsed": true
   },
   "outputs": [],
   "source": [
    "\n",
    "m"
   ]
  },
  {
   "cell_type": "code",
   "execution_count": null,
   "metadata": {
    "collapsed": false
   },
   "outputs": [],
   "source": [
    "book=epub.read_epub(tpath+\"#3 Brie's Russian Fantasy - Red Phoenix.epub\")\n",
    "print book.get_metadata(\"DC\", \"identifier\")\n",
    "#book.set_unique_metadata('DC', 'identifier', book.uid, {'id': book.IDENTIFIER_ID})\n",
    "book.set_identifier('sample123456')\n",
    "book.uid"
   ]
  },
  {
   "cell_type": "code",
   "execution_count": null,
   "metadata": {
    "collapsed": false
   },
   "outputs": [],
   "source": [
    "not os.path.isfile(tpath+\"#3 Brie's Russian Fantasy - Red Phoenix.epub\") "
   ]
  },
  {
   "cell_type": "code",
   "execution_count": null,
   "metadata": {
    "collapsed": false
   },
   "outputs": [],
   "source": [
    "import ebooklib"
   ]
  },
  {
   "cell_type": "code",
   "execution_count": null,
   "metadata": {
    "collapsed": false
   },
   "outputs": [],
   "source": []
  },
  {
   "cell_type": "code",
   "execution_count": null,
   "metadata": {
    "collapsed": false
   },
   "outputs": [],
   "source": [
    "mm=\"01 Jack's Dee-Light - Thorn, Lacey.mobi\" \n"
   ]
  },
  {
   "cell_type": "code",
   "execution_count": null,
   "metadata": {
    "collapsed": false
   },
   "outputs": [],
   "source": [
    "bashCommand = \"ebook-meta '\"+mm+\"' >ff.txt\"\n",
    "print bashCommand\n",
    "os.system(bashCommand)\n"
   ]
  },
  {
   "cell_type": "code",
   "execution_count": null,
   "metadata": {
    "collapsed": false
   },
   "outputs": [],
   "source": [
    "\n",
    "s=!ebook-meta \"$listazw3[0]\""
   ]
  },
  {
   "cell_type": "code",
   "execution_count": null,
   "metadata": {
    "collapsed": false
   },
   "outputs": [],
   "source": [
    "\n",
    "!for i in $(find /media/some/sophie-hhd/books/mobi -type f -iname *.mobi) ;do m=\"$i\" ;done"
   ]
  },
  {
   "cell_type": "code",
   "execution_count": null,
   "metadata": {
    "collapsed": false
   },
   "outputs": [],
   "source": [
    "lst=!ls /media/some/sophie-hhd/books/mobi"
   ]
  },
  {
   "cell_type": "code",
   "execution_count": null,
   "metadata": {
    "collapsed": false
   },
   "outputs": [],
   "source": [
    "!for i in $(ls /media/some/sophie-hhd/books/mobi); do ebook-meta \"'$i'\";done"
   ]
  },
  {
   "cell_type": "code",
   "execution_count": null,
   "metadata": {
    "collapsed": false
   },
   "outputs": [],
   "source": [
    "res"
   ]
  },
  {
   "cell_type": "code",
   "execution_count": null,
   "metadata": {
    "collapsed": false
   },
   "outputs": [],
   "source": [
    "#!/bin/sh\n",
    "\n",
    "# ebook-rename\n",
    "# by Miriam  2013-06-27,28,29\n",
    "#\n",
    "# uses calibre's ebook-meta to read out the data\n",
    "# then sed to extract the author and title\n",
    "# and renames the original file\n",
    "\n",
    "\n",
    "# test to see if started from CLI or icon\n",
    "#tstcli=`tty | head -c3`\n",
    "#if [ \"$tstcli\" = \"not\" ]; then\n",
    "#   #xmessage \"`tty`\"\n",
    "#   xmessage \"EEEK!! Don't click here!\"\n",
    "#   exit\n",
    "#fi\n",
    "\n",
    "# change dir to path of file\n",
    "!cd media/some/sophie-hdd/books/mobi\n",
    "\n",
    "!function show_options {\n",
    "!   echo -e \"\\e[34musage: \\e[35mebook-rename \\e[34m\"\n",
    "!   echo -e \"  Renames an ebook file to 'author - title'\"\n",
    "!   echo -e \"  by extracting info from the ebook's metadata.\\e[30m\"\n",
    "!}\n",
    "\n",
    "!if [ \"$1\" = \"\" -o \"$1\" = \"-h\" ]; then\n",
    "!   show_options\n",
    "!else\n",
    "\n",
    "   # I had previously over-complicated the reading of meta-data\n",
    "   # by using the switch --from-opf not realising that I don't need any switches\n",
    "   # in order to read meta-data. I know in retrospect this seems obvious, but\n",
    "   # in my defense this doesn't seem to be mentioned in the docs at all.\n",
    "!  ebook-meta \"$1\" >/tmp/ebook-meta-output\n",
    "\n",
    "   # get author\n",
    "   # ----------\n",
    "   # send the metadata via cat\n",
    "   # sed extracts the author line\n",
    "   # sed extracts the author's name from that line\n",
    "   # sed re-arranges the name if it has surname first\n",
    "   # sed turns dots into spaces (they interfere with easy use of rox for various operations)\n",
    "   # sed turns multiple spaces into one\n",
    "   # sed gets rid of any leading spaces, just in case\n",
    "!author=`cat /tmp/ebook-meta-output | sed -n '/^Author/p' | sed 's/.*: \\(.*\\)/\\1/' | sed 's/^\\(.*\\).\\[.*/\\1/' | sed 's/\\(.*\\), \\(.*\\)/\\2 \\1/' | sed 's/\\./ /g' | sed 's/  */ /g' | sed 's/^ *//'`\n",
    "\n",
    "   # get title\n",
    "   # ---------\n",
    "   # send the metadata via cat\n",
    "   # sed extracts the title line\n",
    "   # sed extracts the title from that line\n",
    "!title=`cat /tmp/ebook-meta-output | sed -n '/^Title   /p' | sed 's/[^:]*: \\(.*\\)/\\1/' | sed 's|/|-|g'`\n",
    "\n",
    "   # get filename without path\n",
    "!fname=\"${1##*/}\"\n",
    "   # get filename without extension\n",
    "!bname=\"${fname%.*}\"\n",
    "   # get extension\n",
    "!ename=\"${fname##*.}\"\n",
    "\n",
    "   # rename it\n",
    "!  images=`sed 's/.*-\\(images\\)/ (+\\1)/' <<<\"$bname\"`\n",
    "!   if [ \"$images\" = \"$bname\" ] ; then images=\"\" ; fi\n",
    "!   if [ -e \"${author} - ${title}${images}.${ename}\" ] ; then\n",
    "!      echo \"Can't rename -- \\\"${author} - ${title}${images}.${ename}\\\" already exists\"\n",
    "!   else\n",
    "!      mv \"$1\" \"${author} - ${title}${images}.${ename}\"\n",
    "!   fi\n",
    "\n",
    "!fi"
   ]
  },
  {
   "cell_type": "code",
   "execution_count": null,
   "metadata": {
    "collapsed": false
   },
   "outputs": [],
   "source": []
  },
  {
   "cell_type": "code",
   "execution_count": null,
   "metadata": {
    "collapsed": false
   },
   "outputs": [],
   "source": [
    "tpath=\"/media/some/sophie-hhd/books/epub-m/\"\n",
    "os.chdir(tpath)\n",
    "cnt=0\n",
    "listazw3=[]\n",
    "for f in glob.glob(\"*.epub\"):\n",
    "    ff=tpath+f\n",
    "    try:\n",
    "        book=epub.read_epub(ff)\n",
    "        title=''.join(ch for ch in book.get_metadata(\"DC\", \"title\")[0][0] if ch.isalnum())\n",
    "        author=''.join(ch for ch in book.get_metadata(\"DC\",\"creator\")[0][0] if ch.isalnum())\n",
    "        '''if len(title)>20:\n",
    "            title=title[:20]\n",
    "        if len(author)>20:\n",
    "            author=author[:20]'''\n",
    "        name=title+\"-\"+author+\".epub\"\n",
    "        if 'identifier' in book.metadata['http://purl.org/dc/elements/1.1/'].keys():\n",
    "            book.metadata['http://purl.org/dc/elements/1.1/'].pop('identifier')\n",
    "            book.set_identifier('0')\n",
    "        if 'publisher' in book.metadata['http://purl.org/dc/elements/1.1/'].keys():\n",
    "            book.metadata['http://purl.org/dc/elements/1.1/'].pop('publisher')\n",
    "        if 'date' in book.metadata['http://purl.org/dc/elements/1.1/'].keys():\n",
    "            book.metadata['http://purl.org/dc/elements/1.1/'].pop('date')\n",
    "        \n",
    "\n",
    "        if not os.path.isfile(name):\n",
    "            name=name.lower()\n",
    "            #print name\n",
    "            epub.write_epub(path+name,book,{} )\n",
    "    except epub.EpubException:\n",
    "        os.remove(ff)\n",
    "        print \"removing bad \"+ff\n",
    "    #listazw3.append(meta)\n",
    "    #cnt+=1\n",
    "    #if cnt>5: break\n",
    "os.chdir(\"/home/some\")"
   ]
  },
  {
   "cell_type": "code",
   "execution_count": null,
   "metadata": {
    "collapsed": true
   },
   "outputs": [],
   "source": []
  }
 ],
 "metadata": {
  "kernelspec": {
   "display_name": "Python 3",
   "language": "python",
   "name": "python3"
  },
  "language_info": {
   "codemirror_mode": {
    "name": "ipython",
    "version": 3
   },
   "file_extension": ".py",
   "mimetype": "text/x-python",
   "name": "python",
   "nbconvert_exporter": "python",
   "pygments_lexer": "ipython3",
   "version": "3.5.1+"
  }
 },
 "nbformat": 4,
 "nbformat_minor": 0
}
