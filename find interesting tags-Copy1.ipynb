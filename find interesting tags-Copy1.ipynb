{
 "cells": [
  {
   "cell_type": "code",
   "execution_count": 3,
   "metadata": {
    "collapsed": false
   },
   "outputs": [],
   "source": [
    "import nltk\n",
    "from ebooklib import epub \n",
    "from  comFunc import *"
   ]
  },
  {
   "cell_type": "code",
   "execution_count": 5,
   "metadata": {
    "collapsed": false
   },
   "outputs": [],
   "source": [
    "f=open('keywords.txt')\n",
    "keywords=list(s.replace('\\n','') for s in f.readlines())\n",
    "f.close()\n",
    "#keywords"
   ]
  },
  {
   "cell_type": "code",
   "execution_count": 20,
   "metadata": {
    "collapsed": false
   },
   "outputs": [
    {
     "data": {
      "text/plain": [
       "5565"
      ]
     },
     "execution_count": 20,
     "metadata": {},
     "output_type": "execute_result"
    }
   ],
   "source": []
  },
  {
   "cell_type": "code",
   "execution_count": 14,
   "metadata": {
    "collapsed": false,
    "scrolled": true
   },
   "outputs": [
    {
     "name": "stdout",
     "output_type": "stream",
     "text": [
      "Fruiting Bodies - Brian Lumley  pain: 1\n",
      "Puzzle for the Secret Seven - Enid Blyton  pain: 1\n",
      "Coventry - Robert A. Heinlein  pain: 2\n",
      "Taken by Two - April Andrews  pain: 1\n",
      "Five on a Secret Trail - Enid Blyton  pain: 1\n",
      "The O'Sullivan Twins - Enid Blyton  pain: 1\n",
      "Numb - Dean Murray  pain: 1\n",
      "Teach Me to Love - Tressie Lockwood  pain: 2\n",
      "The Valley of Adventure - Enid Blyton  pain: 2\n",
      "His to Command #2_ The Capture - Opal Carew  pain: 7\n",
      "Summer Term at Malory Towers - Enid Blyton  pain: 1\n",
      "Innsmouth Clay - August Derleth  pain: 3\n",
      "The Mystery of the Strange Messages - Enid Blyton  pain: 1\n",
      "The Hand of Fate - Brendon Wahlberg  pain: 4\n",
      "Courted by a Cowboy - Vanessa Devereaux  boss: 1\n",
      "Gangway! - Brian Garfield  boss: 4\n",
      "Destination Moon - Robert A. Heinlein  boss: 1\n",
      "A Girl's Best Friend_ An Erotic Shapeshift - Cara B. Connor  pain: 2\n",
      "In the Fifth at Malory Towers - Enid Blyton  pain: 1\n",
      "Every You, Every Me - David Levithan  pain: 2\n",
      "Dark Star of the Empire - Michael Mikaelian  pain: 3\n",
      "The Green Hills of Earth - Robert A. Heinlein  pain: 1\n",
      "An a to Z of Love - Sophie Pembroke  boss: 3\n",
      "MeltMe - Calista Fox  fbi : 1\n",
      "First Contact - Timothy Zahn  boss: 3\n",
      "Boss's Favorite - Susan Meier  pain: 1\n",
      "Never Again - Linda Winstead Jones  fbi : 1\n",
      "Diary of a Grace - Sarra Manning  boss: 1\n",
      "A Dog's Tale - Mark Twain  pain: 4\n",
      "Novella to Dye For - Mercedes Lackey  pain: 1\n",
      "All You Zombies - Robert A. Heinlein  boss: 1\n",
      "Five Have a Wonderful Time - Enid Blyton  pain: 1\n",
      "Duty and Pleasure - W. Lynn Chantale  pain: 2\n",
      "The Wreck of the Golden Mary - Charles Dickens  pain: 1\n",
      "Space Jockey - Robert A. Heinlein  boss: 1\n",
      "The Hawkline Monster_ A Gothic Western - Richard Brautigan  pain: 1\n",
      "Owned by One - April Andrews  pain: 5\n",
      "Poor Daddy - Robert A. Heinlein  boss: 1\n",
      "Pulp Fiction _ the Vanishing Act Affair - Robert Hart Davis  pain: 2\n",
      "Undisclosed Desires - Patricia Mason  pain: 2\n",
      "Let There Be Light - Robert A. Heinlein  boss: 1\n",
      "Doctor Marigold - Charles Dickens  pain: 1\n",
      "Fruiting Bodies and Other Fungi - Brian Lumley  pain: 1\n",
      "On Picket Duty, and Other Tales - Louisa May Alcott  pain: 6\n",
      "The Bikini Switch - Wendy Etherington  boss: 2\n",
      "Its Great to Be Back - Robert A. Heinlein  pain: 1\n"
     ]
    }
   ],
   "source": [
    "booksTags=load_obj('booksTags')\n",
    "for k in booksTags.keys():\n",
    "    if len(booksTags[k])<9:\n",
    "        print(k,booksTags[k])"
   ]
  },
  {
   "cell_type": "code",
   "execution_count": 9,
   "metadata": {
    "collapsed": false
   },
   "outputs": [
    {
     "data": {
      "text/plain": [
       "3824"
      ]
     },
     "execution_count": 9,
     "metadata": {},
     "output_type": "execute_result"
    }
   ],
   "source": [
    "\n",
    "d_dir = '/media/sf_lbuntu/calibre/'\n",
    "txtfiles = find('*.txt', d_dir)\n",
    "len(txtfiles)"
   ]
  },
  {
   "cell_type": "code",
   "execution_count": 22,
   "metadata": {
    "collapsed": false,
    "scrolled": true
   },
   "outputs": [],
   "source": [
    "from random import shuffle\n",
    "shuffle(txtfiles)\n",
    "try:\n",
    "    booksTags=load_obj('booksTags')\n",
    "except:\n",
    "    booksTags={}\n",
    "    save_obj(booksTags, 'booksTags')\n",
    "cnt=0\n",
    "for f in reversed(txtfiles):\n",
    "    name=f.split('/')[-1][:-4]\n",
    "    if name not in booksTags.keys():\n",
    "        fl= open(f,'r')\n",
    "        txt=fl.read().lower()\n",
    "        hist=nltk.FreqDist(txt.split())\n",
    "        res=[[l,hist[l.strip()]] for l in keywords if l.strip() in hist.keys() ]\n",
    "        tag=', '.join(r[0].strip() for r in res if r[1]>0)\n",
    "        ff=f[:-3]+\"epub\" \n",
    "        \n",
    "        if len(tag)>0 :\n",
    "            path=f.replace(f.split(os.sep)[-1],'')\n",
    "            fm=path+\"metadata.opf\"\n",
    "            !ebook-meta \"$ff\" --tag \"$tag\" > /dev/null\n",
    "            !ebook-meta \"$ff\" --to-opf \"$fm\" >/dev/null\n",
    "            booksTags[name]=' '.join(r[0]+\": \"+ str(r[1]) for r in res)\n",
    "            print (cnt,f.split('/')[-1][:-4],res)\n",
    "        cnt+=1\n",
    "        if cnt % 90 == 0:\n",
    "            tmp=booksTags.copy()\n",
    "            tmp.update(load_obj('booksTags'))\n",
    "            booksTags=tmp\n",
    "            save_obj(booksTags, 'booksTags')\n",
    "            #break\n",
    "#tmp=booksTags.copy()\n",
    "#tmp.update(load_obj('booksTags'))\n",
    "#booksTags=tmp\n",
    "#save_obj(booksTags, 'booksTags')"
   ]
  },
  {
   "cell_type": "code",
   "execution_count": null,
   "metadata": {
    "collapsed": false
   },
   "outputs": [],
   "source": [
    "#ff=f[:-3]+\"epub\"\n",
    "#!ebook-meta \"$ff\"\n",
    "ff=txtfiles[-2][:-3]+\"epub\"\n",
    "meta=!ebook-meta \"$ff\" | grep 'Tags'\n",
    "meta[0].split(':')[1]\n",
    "#tag='rich, protect,love'\n",
    "#!ebook-meta \"$ff\" --tag \"$tag\""
   ]
  },
  {
   "cell_type": "code",
   "execution_count": null,
   "metadata": {
    "collapsed": false
   },
   "outputs": [],
   "source": [
    "keywords=['millionaire','billionaire','rich','stalker','protect']\n",
    "f= open('output.txt','r')\n",
    "txt=f.read()\n",
    "hist=nltk.FreqDist(txt.split())\n",
    "res=[[l,hist[l]] for l in keywords if l in hist.keys() ]"
   ]
  },
  {
   "cell_type": "code",
   "execution_count": null,
   "metadata": {
    "collapsed": false
   },
   "outputs": [],
   "source": [
    "meta=!ebook-meta \"$f\" | grep 'Title'\n",
    "meta[0].split(':')[1]"
   ]
  },
  {
   "cell_type": "code",
   "execution_count": null,
   "metadata": {
    "collapsed": false
   },
   "outputs": [],
   "source": [
    "import string\n",
    "nop='\\t\\n\\r\\x0b\\x0c'\n",
    "def stripnp(s):\n",
    "    return ''.join(x for x in s if x in string.printable[:-5]+string.printable[-4])"
   ]
  },
  {
   "cell_type": "code",
   "execution_count": null,
   "metadata": {
    "collapsed": false
   },
   "outputs": [],
   "source": [
    "s=(html2txt((lst[-5][1])))\n",
    "txt=stripnp(s)\n",
    "txt=\" \".join(txt.replace('\\n',' ').split()) \n",
    "dict=list(nltk.FreqDist(txt.split()).keys())\n"
   ]
  },
  {
   "cell_type": "code",
   "execution_count": null,
   "metadata": {
    "collapsed": false
   },
   "outputs": [],
   "source": [
    "keyword_candidates"
   ]
  },
  {
   "cell_type": "code",
   "execution_count": null,
   "metadata": {
    "collapsed": false
   },
   "outputs": [],
   "source": [
    "import RAKE \n",
    "stop = RAKE.RAKE.load_stop_words('SmartStoplist.txt')\n",
    "rake_obj=RAKE.RAKE.Rake('SmartStoplist.txt')\n",
    "#rake_obj.run('find the key ro m billionaire')\n",
    "\n",
    "word_lst=RAKE.RAKE.separate_words(txt,6)\n",
    "keyword_candidates = RAKE.RAKE.generate_candidate_keywords(word_lst,\"^.+ing\")"
   ]
  },
  {
   "cell_type": "code",
   "execution_count": null,
   "metadata": {
    "collapsed": false
   },
   "outputs": [],
   "source": [
    "from bs4 import BeautifulSoup"
   ]
  },
  {
   "cell_type": "code",
   "execution_count": null,
   "metadata": {
    "collapsed": false
   },
   "outputs": [],
   "source": [
    "import string\n",
    "def stripnp(s):\n",
    "    return ''.join(x for x in s if x in string.printable[:-5]+string.printable[-4])\n",
    "def html2txt(html):\n",
    "    #print (html[:40])\n",
    "    soup = BeautifulSoup(html,\"lxml\")\n",
    "    s=soup.get_text()\n",
    "    txt=stripnp(s)\n",
    "    return\" \".join(txt.replace('\\n',' ').split()) "
   ]
  },
  {
   "cell_type": "code",
   "execution_count": null,
   "metadata": {
    "collapsed": false
   },
   "outputs": [],
   "source": [
    "book=epub.read_epub(files[100])\n",
    "lst=[]\n",
    "for b in book.get_items_of_type(9):\n",
    "    lst.append (b.get_content())\n",
    "s=' '.join(html2txt(l) for l in lst)\n",
    "txt=stripnp(s)\n",
    "txt=\" \".join(txt.replace('\\n',' ').split()) \n",
    "txt"
   ]
  },
  {
   "cell_type": "code",
   "execution_count": null,
   "metadata": {
    "collapsed": false
   },
   "outputs": [],
   "source": [
    "ch_loc=txt.lower().find('chapter')\n",
    "ch_loc,len(txt)"
   ]
  },
  {
   "cell_type": "code",
   "execution_count": null,
   "metadata": {
    "collapsed": false
   },
   "outputs": [],
   "source": [
    "txt=txt[ch_loc:]"
   ]
  },
  {
   "cell_type": "code",
   "execution_count": null,
   "metadata": {
    "collapsed": false
   },
   "outputs": [],
   "source": [
    "txt"
   ]
  },
  {
   "cell_type": "code",
   "execution_count": null,
   "metadata": {
    "collapsed": false
   },
   "outputs": [],
   "source": [
    "! echo 'bleed\\n' >> keywords.txt\n",
    "#!cat keywords.txt"
   ]
  },
  {
   "cell_type": "code",
   "execution_count": null,
   "metadata": {
    "collapsed": false
   },
   "outputs": [],
   "source": [
    "ff.replace(ff.split(os.sep)[-1],'')"
   ]
  },
  {
   "cell_type": "code",
   "execution_count": null,
   "metadata": {
    "collapsed": true
   },
   "outputs": [],
   "source": [
    "import nltk\n",
    "from ebooklib import epub \n",
    "from  comFunc import *\n",
    "\n",
    "d_dir = '/media/sf_lbuntu/calibre/'\n",
    "txtfiles = find('*.txt', d_dir)\n",
    "\n",
    "print (len(txtfiles))\n",
    "\n",
    "\n",
    "f=open('keywords.txt')\n",
    "keywords=list(s.replace('\\n','') for s in f.readlines())\n",
    "f.close()\n",
    "\n",
    "try:\n",
    "    booksTags=load_obj('booksTags')\n",
    "except:\n",
    "    booksTags={}\n",
    "    save_obj(booksTags, 'booksTags')\n",
    "\n",
    "cnt=0\n",
    "for f in reversed(txtfiles):\n",
    "    fl= open(f,'r')\n",
    "    txt=fl.read().lower()\n",
    "    fl.close()\n",
    "    hist=nltk.FreqDist(txt.split())\n",
    "    res=[[l,hist[l.strip()]] for l in keywords if l.strip() in hist.keys() ]\n",
    "    tag=', '.join(r[0].strip() for r in res if r[1]>0)\n",
    "    ff=f[:-3]+\"epub\" \n",
    "    name=f.split('/')[-1][:-4]\n",
    "    if len(tag)>0 and name not in booksTags.keys():\n",
    "        path=f.replace(f.split(os.sep)[-1],'')\n",
    "        fm=path+\"metadata.opf\"\n",
    "        get_ipython().system('ebook-meta \"$ff\" --tag \"$tag\" > /dev/null')\n",
    "        get_ipython().system('ebook-meta \"$ff\" --to-opf \"$fm\" >/dev/null')\n",
    "        booksTags[name]=' '.join(r[0]+\": \"+ str(r[1]) for r in res)\n",
    "    print (f.split('/')[-1][:-4],res,tag)\n",
    "    cnt+=1\n",
    "    if cnt % 201 == 0:\n",
    "        save_obj(booksTags, 'booksTags')\n",
    "            \n",
    "save_obj(booksTags, 'booksTags')\n"
   ]
  },
  {
   "cell_type": "code",
   "execution_count": null,
   "metadata": {
    "collapsed": true
   },
   "outputs": [],
   "source": []
  }
 ],
 "metadata": {
  "celltoolbar": "Raw Cell Format",
  "kernelspec": {
   "display_name": "Python 3",
   "language": "python",
   "name": "python3"
  },
  "language_info": {
   "codemirror_mode": {
    "name": "ipython",
    "version": 3
   },
   "file_extension": ".py",
   "mimetype": "text/x-python",
   "name": "python",
   "nbconvert_exporter": "python",
   "pygments_lexer": "ipython3",
   "version": "3.5.1+"
  }
 },
 "nbformat": 4,
 "nbformat_minor": 0
}
