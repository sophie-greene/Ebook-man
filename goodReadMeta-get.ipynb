{
 "cells": [
  {
   "cell_type": "code",
   "execution_count": 1,
   "metadata": {
    "collapsed": false
   },
   "outputs": [],
   "source": [
    "import json\n",
    "import urllib2\n",
    "import urllib\n",
    "import xmltodict\n",
    "import os\n",
    "import string\n",
    "from ebooklib import epub \n",
    "from  comFunc import *\n",
    "from multiprocessing import Pool\n",
    "import time\n",
    "import re\n",
    "import functools"
   ]
  },
  {
   "cell_type": "code",
   "execution_count": 2,
   "metadata": {
    "collapsed": false
   },
   "outputs": [],
   "source": [
    "key=''.join(open(\"key\").read().split('\\n'))"
   ]
  },
  {
   "cell_type": "code",
   "execution_count": 3,
   "metadata": {
    "collapsed": false
   },
   "outputs": [
    {
     "data": {
      "text/plain": [
       "8837"
      ]
     },
     "execution_count": 3,
     "metadata": {},
     "output_type": "execute_result"
    }
   ],
   "source": [
    "d=\"/media/some/sophie-hhd/transmitt/fic/#Calibre Fiction/\"\n",
    "dd=\"/media/some/sophie-hhd/transmitt/fic/Fictional Literature/\"\n",
    "files=! find \"$d\" \"$dd\" -type f -iname \"*.epub\"\n",
    "len(files)"
   ]
  },
  {
   "cell_type": "code",
   "execution_count": 4,
   "metadata": {
    "collapsed": false
   },
   "outputs": [],
   "source": [
    "#query contains book name and author\n",
    "# key is the goodread API key\n",
    "#path is location where the cover image shall be stored\n",
    "def getMeta(query,key,path):\n",
    "    urlstring=\"https://www.goodreads.com/search/index.xml?key=\"+key+\"&q=\"+query.replace(\" \",\"+\")\n",
    "    #print urlstring\n",
    "    try:\n",
    "        url=urllib2.urlopen(urlstring)\n",
    "        data=xmltodict.parse(url.read())\n",
    "        if len(data)>0:\n",
    "            meta=data[u'GoodreadsResponse'][u'search'][u'results'][u'work'][0][u'best_book']\n",
    "            dictt={}\n",
    "            \n",
    "            dictt['title']=str(meta[u'title'])\n",
    "            dictt['author']=str(meta[u'author'][u'name'])\n",
    "            fileName=dictt['author']+\" - \"+dictt['title']\n",
    "            dictt['imageL']=path+dictt['author']+\" - \"+dictt['title']+\".jpg\"\n",
    "            img=str(meta[u'image_url'])\n",
    "            dictt['imageR']=img\n",
    "            #urllib.urlretrieve(img,dictt['imageR'])\n",
    "            return fileName,dictt\n",
    "        else:\n",
    "            return \n",
    "    except:\n",
    "        return \n",
    "def getFileMeta(f,key,path):\n",
    "\n",
    "    fp,fn=os.path.split(f)\n",
    "    #print fn, fp\n",
    "    #print(f,fp[fp.rindex('/')+1:])\n",
    "    tmp=fp.replace(\"/media/some/sophie-hhd/transmitt/fic/#Calibre Fiction/\",\"\")\n",
    "    author=tmp[:tmp.index(\"/\")]\n",
    "    ttmp=tmp.replace(author+\"/\",\"\")\n",
    "    meta=None\n",
    "    if ttmp.count('(')>0:\n",
    "        title=ttmp[:ttmp.rindex(\"(\")]\n",
    "        #r=''.join(m for m in fp[fp.rindex('/')+1:] if m in string.ascii_letters+\" \")\n",
    "        #r=' '.join(q for q in qr.split() if len(q)>3)\n",
    "        #m=qr.split()\n",
    "        qr=title +\" \"+author\n",
    "        #print \"title: \",title,\"author: \",author\n",
    "        meta=getMeta(qr,key,path)\n",
    "\n",
    "    if meta!=None:\n",
    "        m=[fn[:fn.rindex('.')],fp]\n",
    "        s=[mm for mm in meta]\n",
    "        return m+s\n",
    "    else:\n",
    "\n",
    "        qrr=''.join(m for m in fn if m in string.ascii_letters+\".\"+\" \")\n",
    "        #print \"qrr >>>>>>>\",qrr\n",
    "        qr=qrr[:qrr.rindex('.')]\n",
    "        qr=' '.join(q.strip() for q in qr.split() if q.count('.')==0 and len(q)>1)\n",
    "        #print \"qr >>>\",qr\n",
    "            #print \"title: \",title,\"author: \",author\n",
    "        meta=getMeta(qr,key,path)\n",
    "        if meta!=None:\n",
    "            m=[fn[:fn.rindex('.')],fp]\n",
    "            s=[mm for mm in meta]\n",
    "            return m+s\n",
    "        else:\n",
    "            return"
   ]
  },
  {
   "cell_type": "code",
   "execution_count": 5,
   "metadata": {
    "collapsed": false
   },
   "outputs": [
    {
     "name": "stdout",
     "output_type": "stream",
     "text": [
      "/media/some/sophie-hhd/transmitt/fic/Fictional Literature/EPub Collection/Alistair MacLean/Athabasca - Alistair MacLean.epub\n",
      "['Athabasca - Alistair MacLean', '/media/some/sophie-hhd/transmitt/fic/Fictional Literature/EPub Collection/Alistair MacLean', 'Alistair MacLean - Athabasca', {'imageR': 'https://d.gr-assets.com/books/1318441615m/1039347.jpg', 'author': 'Alistair MacLean', 'imageL': '/home/some/Alistair MacLean - Athabasca.jpg', 'title': 'Athabasca'}]\n"
     ]
    }
   ],
   "source": [
    "f=files[-2000]\n",
    "print f\n",
    "m=getFileMeta(f,key,\"/home/some/\")\n",
    "print m\n"
   ]
  },
  {
   "cell_type": "code",
   "execution_count": 16,
   "metadata": {
    "collapsed": false
   },
   "outputs": [],
   "source": [
    "titles={}#load_obj('data/titlesImNN')#{}\n",
    "keys=[]#load_obj('data/titleskeysImNN')#[]"
   ]
  },
  {
   "cell_type": "code",
   "execution_count": 17,
   "metadata": {
    "collapsed": false
   },
   "outputs": [
    {
     "data": {
      "text/plain": [
       "(8837, 0, 8837)"
      ]
     },
     "execution_count": 17,
     "metadata": {},
     "output_type": "execute_result"
    }
   ],
   "source": [
    "flist=list(filter(lambda x: x[x.rindex('/')+1:x.rindex('.')] not in keys, files))\n",
    "len(flist),len(keys),len(files)"
   ]
  },
  {
   "cell_type": "code",
   "execution_count": 19,
   "metadata": {
    "collapsed": false,
    "scrolled": true
   },
   "outputs": [
    {
     "name": "stdout",
     "output_type": "stream",
     "text": [
      "exception count  1\n",
      "4484\n",
      "('time: ', 279.8155508041382)\n"
     ]
    }
   ],
   "source": [
    "#titles={}\n",
    "t0 = time.time()\n",
    "p = Pool(4)\n",
    "books=p.map(\n",
    "    functools.partial(getFileMeta,key=key,path=\"/home/some/covers/\"), flist[:1000])\n",
    "#p.join()\n",
    "p.terminate()\n",
    "p.close()\n",
    "\n",
    "\n",
    "for book in books:\n",
    "    cnt=0\n",
    "    try:\n",
    "        if book[0] not in keys and len(book)>1:\n",
    "            titles[book[0]]=book[1:]\n",
    "    except:\n",
    "        cnt+=1\n",
    "print \"exception count \",cnt        \n",
    "print len(list(titles.keys()))\n",
    "save_obj(titles, 'data/titlesImNNN')\n",
    "keys=list(titles.keys())\n",
    "save_obj(keys,'data/titleskeysImNNN')\n",
    "t1=time.time()\n",
    "total = t1-t0\n",
    "print('time: ',total)"
   ]
  },
  {
   "cell_type": "code",
   "execution_count": null,
   "metadata": {
    "collapsed": false,
    "scrolled": true
   },
   "outputs": [],
   "source": []
  },
  {
   "cell_type": "code",
   "execution_count": null,
   "metadata": {
    "collapsed": true
   },
   "outputs": [],
   "source": []
  }
 ],
 "metadata": {
  "kernelspec": {
   "display_name": "Python 2",
   "language": "python",
   "name": "python2"
  },
  "language_info": {
   "codemirror_mode": {
    "name": "ipython",
    "version": 2
   },
   "file_extension": ".py",
   "mimetype": "text/x-python",
   "name": "python",
   "nbconvert_exporter": "python",
   "pygments_lexer": "ipython2",
   "version": "2.7.11+"
  }
 },
 "nbformat": 4,
 "nbformat_minor": 0
}
