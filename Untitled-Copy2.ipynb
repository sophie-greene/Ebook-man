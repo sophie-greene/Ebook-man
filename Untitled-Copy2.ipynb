{
 "cells": [
  {
   "cell_type": "code",
   "execution_count": 17,
   "metadata": {
    "collapsed": false
   },
   "outputs": [
    {
     "name": "stdout",
     "output_type": "stream",
     "text": [
      "5576\n"
     ]
    }
   ],
   "source": [
    "import nltk\n",
    "from ebooklib import epub \n",
    "from  comFunc import *\n",
    "\n",
    "d_dir = '/media/sf_lbuntu/calibre/'\n",
    "txtfiles = find('*.txt', d_dir)\n",
    "\n",
    "print (len(txtfiles))\n",
    "\n",
    "\n",
    "f=open('keywords.txt')\n",
    "keywords=list(s.replace('\\n','') for s in f.readlines())\n",
    "f.close()\n",
    "\n"
   ]
  },
  {
   "cell_type": "code",
   "execution_count": null,
   "metadata": {
    "collapsed": true
   },
   "outputs": [],
   "source": []
  },
  {
   "cell_type": "code",
   "execution_count": 16,
   "metadata": {
    "collapsed": false,
    "scrolled": true
   },
   "outputs": [],
   "source": [
    "from random import shuffle\n",
    "shuffle(txtfiles)\n",
    "try:\n",
    "    booksTags=load_obj('booksTags')\n",
    "except:\n",
    "    booksTags={}\n",
    "    save_obj(booksTags, 'booksTags')\n",
    "cnt=0\n",
    "for f in txtfiles:\n",
    "    name=f.split('/')[-1][:-4]\n",
    "    if name not in booksTags.keys():\n",
    "        fl= open(f,'r')\n",
    "        txt=fl.read().lower()\n",
    "        fl.close()\n",
    "        hist=nltk.FreqDist(txt.split())\n",
    "        res=[[l,hist[l.strip()]] for l in keywords if l.strip() in hist.keys() ]\n",
    "        tag=', '.join(r[0].strip() for r in res if r[1]>0)\n",
    "        ff=f[:-3]+\"epub\" \n",
    "        \n",
    "        if len(tag)>0 :\n",
    "            path=f.replace(f.split(os.sep)[-1],'')\n",
    "            fm=path+\"metadata.opf\"\n",
    "            !ebook-meta \"$ff\" --tag \"$tag\" > /dev/null\n",
    "            !ebook-meta \"$ff\" --to-opf \"$fm\" >/dev/null\n",
    "            booksTags[name]=' '.join(r[0]+\": \"+ str(r[1]) for r in res)\n",
    "            print (cnt,f.split('/')[-1][:-4],res)\n",
    "        cnt+=1\n",
    "        if cnt % 80 == 0:\n",
    "            tmp=booksTags.copy()\n",
    "            tmp.update(load_obj('booksTags'))\n",
    "            booksTags=tmp\n",
    "            save_obj(booksTags, 'booksTags')\n",
    "            #break\n",
    "tmp=booksTags.copy()\n",
    "tmp.update(load_obj('booksTags'))\n",
    "booksTags=tmp\n",
    "save_obj(booksTags, 'booksTags')\n"
   ]
  },
  {
   "cell_type": "code",
   "execution_count": null,
   "metadata": {
    "collapsed": true
   },
   "outputs": [],
   "source": []
  }
 ],
 "metadata": {
  "kernelspec": {
   "display_name": "Python 3",
   "language": "python",
   "name": "python3"
  },
  "language_info": {
   "codemirror_mode": {
    "name": "ipython",
    "version": 3
   },
   "file_extension": ".py",
   "mimetype": "text/x-python",
   "name": "python",
   "nbconvert_exporter": "python",
   "pygments_lexer": "ipython3",
   "version": "3.5.1+"
  }
 },
 "nbformat": 4,
 "nbformat_minor": 0
}
