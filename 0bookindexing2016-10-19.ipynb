{
 "cells": [
  {
   "cell_type": "code",
   "execution_count": 1,
   "metadata": {
    "collapsed": false
   },
   "outputs": [],
   "source": [
    "import nltk\n",
    "from nltk.stem.wordnet import WordNetLemmatizer\n",
    "import os\n",
    "import findFiles\n",
    "from findFiles import *\n",
    "import comFuncs\n",
    "import comFuncs3\n",
    "import string\n",
    "import rarfile\n",
    "import re\n",
    "from multiprocessing import Pool\n",
    "import time\n",
    "import resource\n",
    "import functools\n",
    "import more_itertools"
   ]
  },
  {
   "cell_type": "code",
   "execution_count": 2,
   "metadata": {
    "collapsed": false
   },
   "outputs": [
    {
     "name": "stdout",
     "output_type": "stream",
     "text": [
      "time:  00:00:26 26.4569690228\n"
     ]
    },
    {
     "data": {
      "text/plain": [
       "(573313,\n",
       " ['04-01-2016 Part 1-2',\n",
       "  'Adele Abbott - [The Witch PI 09] - Witch is When My Heart Broke (retail) (azw3).rar'])"
      ]
     },
     "execution_count": 2,
     "metadata": {},
     "output_type": "execute_result"
    }
   ],
   "source": [
    "t0=time.time()\n",
    "try:\n",
    "    res=comFuncs.load_obj(\"datas/indexR\")\n",
    "except:\n",
    "    res=[]\n",
    "    path='/media/some/sam/dall/'\n",
    "    pattern='index*2016*.txt'\n",
    "    names=findFiles(path,pattern)\n",
    "    names=names+[\"/media/some/sam/dall/New ebook packs for August 2016/New ebook packs INDEX 2003-2015.txt\"]\n",
    "    res= [l.strip().split(\"\\\\\")  for n in names for l in open(n).readlines() if l.count(\"\\\\\")>0 ]\n",
    "    comFuncs.save_obj(res,\"datas/indexR\")\n",
    "print \"time: \",time.strftime('%H:%M:%S', time.gmtime(time.time()-t0)),time.time()-t0\n",
    "len(res),res[0]"
   ]
  },
  {
   "cell_type": "code",
   "execution_count": 3,
   "metadata": {
    "collapsed": false
   },
   "outputs": [],
   "source": [
    "def clean(indata):\n",
    "    \n",
    "    indata=re.sub(\"(\\s*\\(\\s*[a-zA-Z0-9 ]*\\)\\s*)*.rar\",\" \",indata).strip()\n",
    "    indata=re.sub(\"\\([vV][0-9]\\..+\",\" \",indata).strip()\n",
    "    indata=re.sub(\"\\s*\\[(\\,*\\s*[A-Z]+-[0-9]+\\,*\\s*)+\\]*\\s*\",\" \",indata).strip()\n",
    "    \n",
    "    indata=indata.replace(\"'\",\"\")\n",
    "    indata=re.sub('\\W',' ',indata)\n",
    "    indata=re.sub(\"\\s+\",\" \",indata).strip()\n",
    "    words=indata.lower().split()\n",
    "    st=[WordNetLemmatizer().lemmatize(w) for w in words]\n",
    "    stmw=list(more_itertools.unique_everseen(st))\n",
    "    return stmw"
   ]
  },
  {
   "cell_type": "code",
   "execution_count": 4,
   "metadata": {
    "collapsed": false
   },
   "outputs": [],
   "source": [
    "def similarity(a,b):\n",
    "    return comFuncs3.get_cosine(comFuncs3.text_to_vector(a.lower()),comFuncs3.text_to_vector(b.lower()))"
   ]
  },
  {
   "cell_type": "code",
   "execution_count": 5,
   "metadata": {
    "collapsed": false
   },
   "outputs": [],
   "source": [
    "def func(x):\n",
    "    return [x[0],' '.join((clean(x[1]))),x[1]]"
   ]
  },
  {
   "cell_type": "code",
   "execution_count": 6,
   "metadata": {
    "collapsed": false
   },
   "outputs": [
    {
     "name": "stdout",
     "output_type": "stream",
     "text": [
      "00:00:31 31.7563860416\n"
     ]
    }
   ],
   "source": [
    "\n",
    "t0=time.time()\n",
    "try:\n",
    "    indd=comFuncs.load_obj(\"datas/inddBss\")\n",
    "except:\n",
    "    p = Pool(10)\n",
    "    indd=p.map(func,res[:10])\n",
    "    p.terminate()\n",
    "    p.close()\n",
    "    comFuncs.save_obj(indd,\"datas/inddBss\")\n",
    "print time.strftime('%H:%M:%S', time.gmtime(time.time()-t0)),time.time()-t0"
   ]
  },
  {
   "cell_type": "code",
   "execution_count": 7,
   "metadata": {
    "collapsed": false
   },
   "outputs": [],
   "source": [
    "from itertools import izip, chain\n",
    "\n",
    "def grouper(n, iterable):\n",
    "    return zip(*[chain(iterable)]*n)"
   ]
  },
  {
   "cell_type": "code",
   "execution_count": 8,
   "metadata": {
    "collapsed": false
   },
   "outputs": [],
   "source": [
    "from multiprocessing import Process\n",
    "import numpy\n",
    "\n",
    "def do_work(data):\n",
    "\n",
    "    return map(func,data)\n"
   ]
  },
  {
   "cell_type": "code",
   "execution_count": 9,
   "metadata": {
    "collapsed": false
   },
   "outputs": [
    {
     "name": "stdout",
     "output_type": "stream",
     "text": [
      "time:  00:00:43 43.1650598049\n",
      "number of rec:  573312\n",
      "first rec:  ['04-01-2016 Part 1-2', 'adele abbott the witch pi 09 is when my heart broke', 'Adele Abbott - [The Witch PI 09] - Witch is When My Heart Broke (retail) (azw3).rar']\n"
     ]
    }
   ],
   "source": [
    "t0=time.time()\n",
    "try:\n",
    "    indd=comFuncs.load_obj(\"datas/inddB\")\n",
    "except:\n",
    "    indata=res\n",
    "    num=8\n",
    "    indt=list(grouper(num,indata))\n",
    "    #indt[-1]=list(filter(None,indt[-1]))\n",
    "    p = Pool(num)\n",
    "    ress=p.map(do_work,indt)\n",
    "    p.terminate()\n",
    "    p.close()\n",
    "    indd=list(chain(*ress))\n",
    "    comFuncs.save_obj(indd,\"datas/inddB\")\n",
    "print \"time: \",time.strftime('%H:%M:%S', time.gmtime(time.time()-t0)),time.time()-t0\n",
    "print \"number of rec: \",len(indd)\n",
    "print \"first rec: \",indd[0]"
   ]
  },
  {
   "cell_type": "code",
   "execution_count": 10,
   "metadata": {
    "collapsed": false
   },
   "outputs": [
    {
     "data": {
      "text/plain": [
       "[['New Books 06-20-2009',\n",
       "  'jane green second chance',\n",
       "  'Jane Green - Second Chance (v5.0) (v5.0) (pdf).rar'],\n",
       " ['01-22-2011',\n",
       "  u'john updike my father tear and other story',\n",
       "  \"John Updike - My Father's Tears and Other Stories (v5.0) (epub) (v5.0) (epub).rar\"],\n",
       " ['01-27-2011',\n",
       "  u'michael scott the secret of immortal nicholas flamel 01 alchemyst',\n",
       "  'Michael Scott - [The Secrets of the Immortal Nicholas Flamel 01] - The Alchemyst (v5.0) (epub) (v5.0) (epub).rar'],\n",
       " ['03-04-2011',\n",
       "  'charles cumming the trinity six 2011',\n",
       "  'Charles Cumming - The Trinity Six (2011) (v5.0a) (epub) (v5.0) (epub).rar'],\n",
       " ['06-21-2014',\n",
       "  'magazine clarkesworld 093 v5 0',\n",
       "  'Magazine - Clarkesworld - 093 [v5.0] (v5.0) (epub).rar']]"
      ]
     },
     "execution_count": 10,
     "metadata": {},
     "output_type": "execute_result"
    }
   ],
   "source": [
    "filter(lambda x:x[2].count(\"v5.0\")>1 ,indd)"
   ]
  },
  {
   "cell_type": "code",
   "execution_count": 11,
   "metadata": {
    "collapsed": false
   },
   "outputs": [
    {
     "data": {
      "text/plain": [
       "4632"
      ]
     },
     "execution_count": 11,
     "metadata": {},
     "output_type": "execute_result"
    }
   ],
   "source": [
    "#find files epub\n",
    "dr='/media/some/sam/download-ep/'\n",
    "try:\n",
    "    lst=comFuncs.load_obj(\"datas/lsepubdown\")\n",
    "except:\n",
    "    lst=findFiles(dr,\"*.epub\")\n",
    "\n",
    "    comFuncs.save_obj(lst,\"datas/lsepubdown\")\n",
    "len(lst)"
   ]
  },
  {
   "cell_type": "code",
   "execution_count": 12,
   "metadata": {
    "collapsed": true
   },
   "outputs": [],
   "source": [
    "def searchindd(seTerm):\n",
    "    \n",
    "    if len(seTerm)>=1 and len(seTerm)<10:\n",
    "        print \"Search Term: \",' '.join(seTerm)\n",
    "        allres=[ list\n",
    "                (filter\n",
    "                 (lambda x: \n",
    "                  x[1].count(se.strip().lower()) > 0, indd)) for se in seTerm if len(se)>2]\n",
    "        #find common items in multiple lists\n",
    "        return reduce(lambda sx, sy: filter(lambda x: x in sx,sy), ((i) for i in allres))\n",
    "    else:\n",
    "        return []"
   ]
  },
  {
   "cell_type": "code",
   "execution_count": 13,
   "metadata": {
    "collapsed": false
   },
   "outputs": [],
   "source": [
    "def findFile(f):\n",
    "    fp,fn=os.path.split(f)\n",
    "    ext=re.findall('.+(\\..+)',fn)[0]\n",
    "    se=clean(fn.replace(ext,\"\"))\n",
    "    try:\n",
    "        return f,zip(*searchindd(se))[1]\n",
    "    except:\n",
    "        return f,[]"
   ]
  },
  {
   "cell_type": "code",
   "execution_count": 37,
   "metadata": {
    "collapsed": false,
    "scrolled": true
   },
   "outputs": [
    {
     "name": "stdout",
     "output_type": "stream",
     "text": [
      "Enter Search term: hunger games\n",
      "Search Term:  hunger game\n",
      "time:  1.4015891552\n",
      "search:  ['hunger', u'game']\n",
      "num of rec:  47\n",
      "items:\n",
      "1- suzanne collins the hunger game\n",
      "2- suzanne collins hunger game 02 catching fire\n",
      "3- suzanne collins hunger game 02 catching fire\n",
      "4- suzanne collins hunger game 02 catching fire\n",
      "5- suzanne collins the hunger game v2 html\n",
      "6- collins suzanne hunger game 02 catching fire\n",
      "7- suzanne collins hunger game 01 the\n",
      "8- suzanne collins hunger game 01 the\n",
      "9- suzanne collins hunger game 01 the\n",
      "10- suzanne collins hunger game 01 the\n",
      "11- suzanne collins hunger game 01 the v2 0\n",
      "12- suzanne collins hunger game 01 the v2 0\n",
      "13- collins suzanne hunger game 03 mockingjay\n",
      "14- collins suzanne hunger game 03 mockingjay\n",
      "15- collins suzanne hunger game 03 mockingjay\n",
      "16- collins suzanne hunger game 03 mockingjay\n",
      "17- collins suzanne hunger game 03 mockingjay\n",
      "18- collins suzanne hunger game 03 mockingjay\n",
      "19- suzanne collins the hunger game 03 mockingjay html jpeg zip\n",
      "20- suzanne collins hunger game 03 mockingjay\n",
      "21- suzanne collins hunger game 03 mockingjay\n",
      "22- suzanne collins hunger game 03 mockingjay\n",
      "23- suzanne collins hunger game 01 the epub\n",
      "24- suzanne collins hunger game 02 catching fire\n",
      "25- suzanne collins hunger game 03 mockingjay\n",
      "26- leah wilson the girl who wa on fire your favorite author suzanne collins hunger game trilogy\n",
      "27- leah wilson the girl who wa on fire your favorite author suzanne collins hunger game trilogy\n",
      "28- leah wilson the girl who wa on fire your favorite author suzanne collins hunger game trilogy\n",
      "29- suzanne collins hunger game 01 the\n",
      "30- suzanne collins hunger game 03 mockingjay\n",
      "31- bratniss everclean the hunger but mainly death game a parody\n",
      "32- bratniss everclean the hunger but mainly death game a parody\n",
      "33- bratniss everclean the hunger but mainly death game a parody\n",
      "34- suzanne collins hunger game 01 the\n",
      "35- suzanne collins hunger game 02 catching fire\n",
      "36- suzanne collins hunger game 02 catching fire\n",
      "37- suzanne collins hunger game 03 mockingjay\n",
      "38- suzanne collins hunger game 01 03 the trilogy catching fire mockingjay\n",
      "39- kate egan the hunger game official illustrated movie companion\n",
      "40- kate egan the hunger game official illustrated movie companion\n",
      "41- kate egan the hunger game official illustrated movie companion\n",
      "42- suzanne collins hunger game 01 the\n",
      "43- suzanne collins hunger game 01 the\n",
      "44- lois h gresh the unofficial hunger game companion\n",
      "45- suzanne collins the world of hunger game\n",
      "46- emily seife the hunger game tribute guide\n",
      "47- suzanne collins hunger game 01 03 the trilogy catching fire mockingjay\n"
     ]
    }
   ],
   "source": [
    "searchItem=raw_input(\"Enter Search term: \")\n",
    "t0=time.time()\n",
    "f=clean(searchItem)\n",
    "sor=searchindd(f)\n",
    "print \"time: \",time.time()-t0\n",
    "print \"search: \",f\n",
    "print \"num of rec: \",len(sor)\n",
    "if len(sor)>0:\n",
    "    print \"items:\\n\",'\\n'.join(str(r)+\"- \"+zip(*sor)[1][r-1] for r in range(1,len(zip(*sor)[2])+1))"
   ]
  },
  {
   "cell_type": "code",
   "execution_count": 15,
   "metadata": {
    "collapsed": false
   },
   "outputs": [
    {
     "name": "stdout",
     "output_type": "stream",
     "text": [
      "Sherrilyn Kenyon - [Dark Hunter 02] - Night Embrace (V2.0-R2.rar\n",
      "['sherrilyn', 'kenyon', 'dark', 'hunter', '02', 'night', 'embrace']\n"
     ]
    }
   ],
   "source": [
    "ll=list(filter(lambda x:x[2].lower().count(\"kenyon\")>0 and x[2].lower().count(\"dark\")>0 and \\\n",
    "               x[2].lower().count(\"v2.0\")>0,indd))\n",
    "if len(ll)>0:\n",
    "    l=ll[0]\n",
    "    print l[2]\n",
    "    print clean(l[2])"
   ]
  },
  {
   "cell_type": "code",
   "execution_count": 16,
   "metadata": {
    "collapsed": false
   },
   "outputs": [
    {
     "data": {
      "text/plain": [
       "573312"
      ]
     },
     "execution_count": 16,
     "metadata": {},
     "output_type": "execute_result"
    }
   ],
   "source": [
    "len(indd)"
   ]
  },
  {
   "cell_type": "code",
   "execution_count": 21,
   "metadata": {
    "collapsed": true
   },
   "outputs": [],
   "source": [
    "def findr(name, path):\n",
    "    #print name,path\n",
    "    res=!find $path -type f -iname $name\n",
    "    return res"
   ]
  },
  {
   "cell_type": "code",
   "execution_count": 38,
   "metadata": {
    "collapsed": false,
    "scrolled": true
   },
   "outputs": [
    {
     "name": "stdout",
     "output_type": "stream",
     "text": [
      "1 -  New Books 10-01-2009\\Suzanne Collins - [Hunger Games 02] - Catching Fire (epub).rar suzanne collins hunger game 02 catching fire\n",
      "2 -  New Books 08-07-2010\\Suzanne Collins - [Hunger Games 01] - The Hunger Games (v2.0) (epub).rar suzanne collins hunger game 01 the\n",
      "3 -  New Books 08-07-2010\\Suzanne Collins - [Hunger Games 01] - The Hunger Games (v2.0) (lit).rar suzanne collins hunger game 01 the\n",
      "4 -  New Books 08-07-2010\\Suzanne Collins - [Hunger Games 01] - The Hunger Games (v2.0) (mobi).rar suzanne collins hunger game 01 the\n",
      "5 -  New Books 08-07-2010\\Suzanne Collins [Hunger Games 01] The Hunger Games v2.0 (ePub).rar suzanne collins hunger game 01 the\n",
      "6 -  New Books 08-21-2010\\Collins, Suzanne - Hunger Games 03 - Mockingjay (epub).rar collins suzanne hunger game 03 mockingjay\n",
      "7 -  05-28-2011\\Leah Wilson - The Girl Who Was on Fire- Your Favorite Authors on Suzanne Collins' Hunger Games Trilogy (epub).rar leah wilson the girl who wa on fire your favorite author suzanne collins hunger game trilogy\n",
      "8 -  05-28-2011\\Leah Wilson - The Girl Who Was on Fire- Your Favorite Authors on Suzanne Collins' Hunger Games Trilogy (html).rar leah wilson the girl who wa on fire your favorite author suzanne collins hunger game trilogy\n",
      "9 -  05-28-2011\\Leah Wilson - The Girl Who Was on Fire- Your Favorite Authors on Suzanne Collins' Hunger Games Trilogy (mobi).rar leah wilson the girl who wa on fire your favorite author suzanne collins hunger game trilogy\n",
      "10 -  01-18-2012 Part 1\\Bratniss Everclean - The Hunger But Mainly Death Games, A Parody (epub).rar bratniss everclean the hunger but mainly death game a parody\n",
      "11 -  02-11-2012 Part 3\\Suzanne Collins - [Hunger Games 01-03] - The Hunger Games Trilogy (The Hunger Games; Catching Fire, Mockingjay) (v5.0) (epub).rar suzanne collins hunger game 01 03 the trilogy catching fire mockingjay\n",
      "12 -  03-01-2012\\Kate Egan - The Hunger Games- The Official Illustrated Movie Companion (epub).rar kate egan the hunger game official illustrated movie companion\n",
      "13 -  04-03-2012\\Lois H Gresh - The Unofficial Hunger Games Companion (v5.0) (epub).rar lois h gresh the unofficial hunger game companion\n",
      "14 -  08-17-2013\\Emily Seife - The Hunger Games Tribute Guide (epub).rar emily seife the hunger game tribute guide\n"
     ]
    }
   ],
   "source": [
    "foo=\"/home/some/hunger/\"\n",
    "!mkdir \"$foo\"\n",
    "cnt=0\n",
    "sorr=list(filter(lambda x: x[2].lower().count('epub') > 0, sor))+\\\n",
    "list(filter(lambda x: x[2].lower().count('epub') == 0, sor))\n",
    "\n",
    "books=[]\n",
    "for r in sorr:\n",
    " \n",
    "        found=''.join(rr for rr in r[0] if rr in string.digits+\"- \")\n",
    "        baseName=r[1]\n",
    "        if any(similarity(baseName,b.lower())>.75 for b in books):\n",
    "            continue\n",
    "        found=found.replace(\"  \",\" \").replace(\" \",\"*\").replace(\"_\",\"*\")+\"*.rar\"\n",
    "        fls=findr(found,'/media/some/sam/dall/')\n",
    "        #print found\n",
    "        if len(fls)>0:\n",
    "            for flss in fls:\n",
    "                if re.match(\".+.part\\d+.rar\",flss):\n",
    "                    flss= re.sub(r\".part\\d+.rar\", \".part1.rar\", flss)\n",
    "                    fls=filter(lambda x: x.count(flss.split(\".part\")[0])==0,fls)\n",
    "                rf = rarfile.RarFile(flss)\n",
    "                booFound=False\n",
    "                for f in rf.infolist():\n",
    "                    #print f.filename, f.file_size\n",
    "                    if f.filename.count(\"\\\\\")>0 and similarity(f.filename.split(\"\\\\\")[1].replace(\".rar\",\"\"),r[2])>0.9:\n",
    "                        cnt+=1\n",
    "                        booFound=True\n",
    "                        print cnt,\"- \",f.filename,baseName\n",
    "                        try:\n",
    "                            rf.extract(f,foo)\n",
    "                            books.append(baseName)\n",
    "                        except:\n",
    "                            print \"reading problem\",r[1],\"\"\n",
    "                        ft=foo+f.filename.split('\\\\')[1]\n",
    "                        fo=foo+f.filename.split('\\\\')[0]\n",
    "                        fn=fo+\"/\"+f.filename.split('\\\\')[1]\n",
    "                        os.rename(fn,ft) \n",
    "                        os.rmdir(fo)\n",
    "                \n",
    "                if booFound:\n",
    "                    break\n",
    "                                \n",
    "            if not booFound:\n",
    "                print r[2], \"  not found\"\n",
    "                    \n",
    "    \n",
    "        else:\n",
    "            print \"couldnt find file  \",found\n",
    "    "
   ]
  },
  {
   "cell_type": "code",
   "execution_count": 33,
   "metadata": {
    "collapsed": false
   },
   "outputs": [
    {
     "data": {
      "text/plain": [
       "'Nora Roberts - [Stanislaski 05] - Waiting for Nick'"
      ]
     },
     "execution_count": 33,
     "metadata": {},
     "output_type": "execute_result"
    }
   ],
   "source": [
    "x=\"Nora Roberts - [Stanislaski 01] - Taming Natasha [ST-01] (v5.0) (epub).rar\"\n",
    "y=\"Nora Roberts - [Stanislaski 05] - Waiting for Nick [SSE-1088, MSE-1096,MSE-1096,DDD-2] (ve5.d0)(epub).rar\"\n",
    "re.sub(\"\\s*\\[[A-Z]+-[0-9]+(\\,*\\s*[A-Z]*-*[0-9]*)*\\]\\s*.+\\(*[a-zA-Z]+[0-9]+\\.*[0-9]*\\)\",\" \",y)\n",
    "re.sub(\"\\s*\\[(\\,*\\s*[A-Z]+-[0-9]+\\,*\\s*)+\\]\\s*(\\(\\s*.+\\)\\s*)*.rar\",\" \",y).strip()"
   ]
  },
  {
   "cell_type": "code",
   "execution_count": 161,
   "metadata": {
    "collapsed": true
   },
   "outputs": [],
   "source": []
  },
  {
   "cell_type": "code",
   "execution_count": null,
   "metadata": {
    "collapsed": false
   },
   "outputs": [],
   "source": []
  },
  {
   "cell_type": "code",
   "execution_count": null,
   "metadata": {
    "collapsed": false,
    "scrolled": true
   },
   "outputs": [],
   "source": [
    "t0=time.time()\n",
    "\n",
    "p = Pool(10)\n",
    "flsss=p.map(findFile,lst[0:10])\n",
    "p.terminate()\n",
    "p.close()\n",
    "print time.strftime('%H:%M:%S', time.gmtime(time.time()-t0)),time.time()-t0"
   ]
  },
  {
   "cell_type": "code",
   "execution_count": null,
   "metadata": {
    "collapsed": false
   },
   "outputs": [],
   "source": [
    "result=list(filter (lambda x: len(x[1])>0,flsss))\n",
    "len(result)"
   ]
  },
  {
   "cell_type": "code",
   "execution_count": null,
   "metadata": {
    "collapsed": false
   },
   "outputs": [],
   "source": [
    "zip(*flsss)[0],zip(*flsss)[1]"
   ]
  },
  {
   "cell_type": "code",
   "execution_count": null,
   "metadata": {
    "collapsed": true
   },
   "outputs": [],
   "source": []
  },
  {
   "cell_type": "code",
   "execution_count": null,
   "metadata": {
    "collapsed": true
   },
   "outputs": [],
   "source": []
  }
 ],
 "metadata": {
  "kernelspec": {
   "display_name": "Python 2",
   "language": "python",
   "name": "python2"
  },
  "language_info": {
   "codemirror_mode": {
    "name": "ipython",
    "version": 2
   },
   "file_extension": ".py",
   "mimetype": "text/x-python",
   "name": "python",
   "nbconvert_exporter": "python",
   "pygments_lexer": "ipython2",
   "version": "2.7.12"
  }
 },
 "nbformat": 4,
 "nbformat_minor": 1
}
