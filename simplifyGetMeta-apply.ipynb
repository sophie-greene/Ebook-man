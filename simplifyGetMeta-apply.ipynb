{
 "cells": [
  {
   "cell_type": "code",
   "execution_count": null,
   "metadata": {
    "collapsed": false
   },
   "outputs": [],
   "source": [
    "import os \n",
    "import string,re\n",
    "import time\n",
    "from multiprocessing import Pool\n",
    "import comFuncs3\n",
    "from comFuncs3 import *\n",
    "import ebooklib.epub as epub\n",
    "from random import shuffle\n",
    "import requests\n",
    "import lxml\n",
    "from lxml import objectify\n",
    "import datetime\n",
    "import collections\n",
    "import numpy as np\n",
    "import json"
   ]
  },
  {
   "cell_type": "code",
   "execution_count": 2,
   "metadata": {
    "collapsed": true
   },
   "outputs": [],
   "source": [
    "files=load_obj(\"data/fileslistN\")"
   ]
  },
  {
   "cell_type": "code",
   "execution_count": 3,
   "metadata": {
    "collapsed": true
   },
   "outputs": [],
   "source": [
    "fl=[[f[f.rindex('/')+1:f.rindex('.')],f] for f in files]"
   ]
  },
  {
   "cell_type": "code",
   "execution_count": 4,
   "metadata": {
    "collapsed": false
   },
   "outputs": [],
   "source": [
    "#tmp=set(tuple(element) for element in fl)"
   ]
  },
  {
   "cell_type": "code",
   "execution_count": 5,
   "metadata": {
    "collapsed": false
   },
   "outputs": [
    {
     "name": "stdout",
     "output_type": "stream",
     "text": [
      "('time: ', 0.5171859264373779)\n"
     ]
    }
   ],
   "source": [
    "t0 = time.time()\n",
    "fd ={k:[] for k,v in fl}\n",
    "for k,v in fl:\n",
    "    fd[k].append(v)\n",
    "print('time: ',time.time()-t0)"
   ]
  },
  {
   "cell_type": "code",
   "execution_count": 6,
   "metadata": {
    "collapsed": false
   },
   "outputs": [
    {
     "data": {
      "text/plain": [
       "59684"
      ]
     },
     "execution_count": 6,
     "metadata": {},
     "output_type": "execute_result"
    }
   ],
   "source": [
    "len(fd.keys())"
   ]
  },
  {
   "cell_type": "code",
   "execution_count": 44,
   "metadata": {
    "collapsed": false
   },
   "outputs": [
    {
     "name": "stdout",
     "output_type": "stream",
     "text": [
      "87.4542310238\n"
     ]
    },
    {
     "data": {
      "text/plain": [
       "37811"
      ]
     },
     "execution_count": 44,
     "metadata": {},
     "output_type": "execute_result"
    }
   ],
   "source": [
    "t0=time.time()\n",
    "dbMeta=load_obj(\"data/dbMeta\")\n",
    "print time.time()-t0\n",
    "len(dbMeta.keys())"
   ]
  },
  {
   "cell_type": "code",
   "execution_count": 45,
   "metadata": {
    "collapsed": false
   },
   "outputs": [
    {
     "data": {
      "text/plain": [
       "33455"
      ]
     },
     "execution_count": 45,
     "metadata": {},
     "output_type": "execute_result"
    }
   ],
   "source": [
    "comm=list(set(dbMeta.keys())&set(fd.keys()))\n",
    "len(comm)"
   ]
  },
  {
   "cell_type": "code",
   "execution_count": 46,
   "metadata": {
    "collapsed": false
   },
   "outputs": [
    {
     "data": {
      "text/plain": [
       "['g', 'f']"
      ]
     },
     "execution_count": 46,
     "metadata": {},
     "output_type": "execute_result"
    }
   ],
   "source": [
    "a=[\"f\",\"g\",\"h\"]\n",
    "b=[\"f\",\"g\"]\n",
    "list(set(a)&set(b))"
   ]
  },
  {
   "cell_type": "code",
   "execution_count": 47,
   "metadata": {
    "collapsed": false
   },
   "outputs": [
    {
     "name": "stdout",
     "output_type": "stream",
     "text": [
      "0.340711116791\n"
     ]
    },
    {
     "data": {
      "text/plain": [
       "33455"
      ]
     },
     "execution_count": 47,
     "metadata": {},
     "output_type": "execute_result"
    }
   ],
   "source": [
    "t0=time.time()\n",
    "dbup=[[k,dbMeta[k],fd[k]] for k in comm]\n",
    "print time.time()-t0\n",
    "len(dbup)"
   ]
  },
  {
   "cell_type": "code",
   "execution_count": null,
   "metadata": {
    "collapsed": true
   },
   "outputs": [],
   "source": [
    "def cleanN(fnn):\n",
    "    #print fnn\n",
    "    fn=re.sub(\" \\(.*\\)\",\"\",fnn)\n",
    "    fn=re.sub(\"\\[.*\\]\",\"\",fn)\n",
    "    \n",
    "    return ' '.join(fn.split())"
   ]
  },
  {
   "cell_type": "code",
   "execution_count": null,
   "metadata": {
    "collapsed": false
   },
   "outputs": [],
   "source": []
  },
  {
   "cell_type": "code",
   "execution_count": null,
   "metadata": {
    "collapsed": false
   },
   "outputs": [],
   "source": []
  },
  {
   "cell_type": "code",
   "execution_count": null,
   "metadata": {
    "collapsed": false
   },
   "outputs": [],
   "source": [
    "def procM(item):\n",
    "    keys=['country_code', 'language_code', 'isbn',\n",
    "        'small_image_url', 'average_rating',\n",
    "        'description', 'publisher',\n",
    "        'num_pages', 'isbn13', 'url', 'image_url', 'ratings_count']\n",
    "    res=item[1][1]\n",
    "    f=item[1][0]\n",
    "    files=item[-1]\n",
    "    if f in files:\n",
    "        files.pop(files.index(f))\n",
    "    #return res\n",
    "    if 'series_works' in res.keys() and type(res['series_works'])==dict:\n",
    "        series=' '.join(res['series_works']['series_work']['series']['title'].split())\n",
    "        index=res['series_works']['series_work']['user_position']\n",
    "    else:\n",
    "        series=\"\"\n",
    "        index=-1\n",
    "    author=res['authors']['author']['name']\n",
    "    title=res['title']\n",
    "    title,author,index,series\n",
    "    t=author+\" - \"+cleanN(title)+\" - \"+series+\" #\"+str(index)\n",
    "    ext=f[f.rindex('.'):]\n",
    "    t=author+\" - \"+cleanN(title)+\" - \"+series+\" #\"+str(index)+f[f.rindex('.'):]\n",
    "    date=str(datetime.datetime(res['publication_year'], res['publication_month'],res['publication_day'], 0, 0, 0, 0))\n",
    "    metakey='http://purl.org/dc/elements/1.1/'\n",
    "    book=None\n",
    "    while True:\n",
    "        try:\n",
    "            book=epub.read_epub(f)\n",
    "            break\n",
    "        except:\n",
    "            f=files.pop(0)\n",
    "        if len(files)<1:\n",
    "            break\n",
    "    if book !=None:\n",
    "        oldmeta=book.metadata[metakey]\n",
    "        book.metadata[metakey]={}\n",
    "        return oldmeta\n",
    "    return files,f"
   ]
  },
  {
   "cell_type": "code",
   "execution_count": null,
   "metadata": {
    "collapsed": false
   },
   "outputs": [],
   "source": [
    "res=procM(dbup[7])"
   ]
  },
  {
   "cell_type": "code",
   "execution_count": null,
   "metadata": {
    "collapsed": false
   },
   "outputs": [],
   "source": [
    "res=dbup[7][1][1]\n",
    "\n",
    "for k in keys+[\"authors\"]:\n",
    "    print k,\":\",res[k]"
   ]
  },
  {
   "cell_type": "code",
   "execution_count": null,
   "metadata": {
    "collapsed": false
   },
   "outputs": [],
   "source": [
    "\n",
    "for k in res.keys():\n",
    "    print k,\":\",res[k][0][0],\":\",' '.join(res[k][0][1].keys()),\":\",' '.join(res[k][0][1][kk] for kk in res[k][0][1].keys())"
   ]
  },
  {
   "cell_type": "code",
   "execution_count": null,
   "metadata": {
    "collapsed": false
   },
   "outputs": [],
   "source": [
    "t=author+\" - \"+cleanN(title)+\" - \"+series+\" #\"+str(index)+f[f.rindex('.'):]"
   ]
  },
  {
   "cell_type": "code",
   "execution_count": null,
   "metadata": {
    "collapsed": false
   },
   "outputs": [],
   "source": [
    "fd[item[0]],f,t"
   ]
  },
  {
   "cell_type": "code",
   "execution_count": null,
   "metadata": {
    "collapsed": false
   },
   "outputs": [],
   "source": [
    "files=!find \"$dr\" -type f -iname \"$se\""
   ]
  },
  {
   "cell_type": "code",
   "execution_count": null,
   "metadata": {
    "collapsed": false
   },
   "outputs": [],
   "source": [
    "\n",
    "keys=['country_code', 'language_code', 'isbn',\n",
    "        'small_image_url', 'average_rating',\n",
    "        'description', 'publisher',\n",
    "        'num_pages', 'isbn13', 'publication_day', 'publication_month', \n",
    "        'publication_year', 'url', 'image_url', 'ratings_count']"
   ]
  },
  {
   "cell_type": "code",
   "execution_count": null,
   "metadata": {
    "collapsed": false
   },
   "outputs": [],
   "source": [
    "book=epub.read_epub(f)"
   ]
  },
  {
   "cell_type": "code",
   "execution_count": null,
   "metadata": {
    "collapsed": false
   },
   "outputs": [],
   "source": [
    "metakey='http://purl.org/dc/elements/1.1/'\n",
    "book.metadata[metakey]['date'][0]=(\n",
    "    str(datetime.datetime(res['publication_year'], res['publication_month'],res['publication_day'], 0, 0, 0, 0)),{})"
   ]
  },
  {
   "cell_type": "code",
   "execution_count": null,
   "metadata": {
    "collapsed": false
   },
   "outputs": [],
   "source": [
    "res['publication_day'], res['publication_month'], res['publication_year']"
   ]
  },
  {
   "cell_type": "code",
   "execution_count": null,
   "metadata": {
    "collapsed": false
   },
   "outputs": [],
   "source": [
    "book.metadata[metakey]['date'][0]"
   ]
  },
  {
   "cell_type": "code",
   "execution_count": null,
   "metadata": {
    "collapsed": true
   },
   "outputs": [],
   "source": []
  }
 ],
 "metadata": {
  "kernelspec": {
   "display_name": "Python 2",
   "language": "python",
   "name": "python2"
  },
  "language_info": {
   "codemirror_mode": {
    "name": "ipython",
    "version": 2
   },
   "file_extension": ".py",
   "mimetype": "text/x-python",
   "name": "python",
   "nbconvert_exporter": "python",
   "pygments_lexer": "ipython2",
   "version": "2.7.11+"
  }
 },
 "nbformat": 4,
 "nbformat_minor": 0
}
