{
 "cells": [
  {
   "cell_type": "code",
   "execution_count": 4,
   "metadata": {
    "collapsed": true
   },
   "outputs": [],
   "source": [
    "import os \n",
    "import string,re\n",
    "import time\n",
    "from multiprocessing import Pool\n",
    "import comFuncs\n",
    "from comFuncs import *\n",
    "import ebooklib.epub as epub"
   ]
  },
  {
   "cell_type": "code",
   "execution_count": 5,
   "metadata": {
    "collapsed": true
   },
   "outputs": [],
   "source": [
    "f=\"/media/some/sophie-hhd/books/thrill/Rom-The_Aristocrat_and_the_Single_Mom_-_Michelle_Douglas.epub\""
   ]
  },
  {
   "cell_type": "code",
   "execution_count": 6,
   "metadata": {
    "collapsed": true
   },
   "outputs": [],
   "source": [
    "def getMeta(f):\n",
    "    m=!exiftool \"$f\"\n",
    "    meta={}\n",
    "    for mm in m:\n",
    "        tmp=mm.split(\" : \")\n",
    "        if len(tmp)==2:\n",
    "            meta[tmp[0].strip()] = tmp[1].strip()\n",
    "    fp,fn=os.path.split(f)\n",
    "    n, ext = os.path.splitext(fn)\n",
    "    return [n,meta]"
   ]
  },
  {
   "cell_type": "code",
   "execution_count": 19,
   "metadata": {
    "collapsed": false
   },
   "outputs": [
    {
     "data": {
      "text/plain": [
       "'The Aristocrat and the Single Mom - Michelle Douglas'"
      ]
     },
     "execution_count": 19,
     "metadata": {},
     "output_type": "execute_result"
    }
   ],
   "source": [
    "fp,fn=os.path.split(f)\n",
    "n, ext = os.path.splitext(fn)\n",
    "n=n.replace(\"_\",\" \")\n",
    "re.sub(\"^[A-Z][a-z][a-z][a-z]?-\",\"\",n)"
   ]
  },
  {
   "cell_type": "code",
   "execution_count": 20,
   "metadata": {
    "collapsed": true
   },
   "outputs": [],
   "source": [
    "def getAT(f):\n",
    "    #f=f.encode('ascii','ignore')\n",
    "    fp,ff= os.path.split(f)\n",
    "    fnn, fext = os.path.splitext(ff)\n",
    "    fn=re.sub(\" \\(v[0-9].[0-9]\\)\",\"\",fnn)\n",
    "    fn=re.sub(\"\\(([e|m|l][p|o|i][u|b|t][b|i]?).*\\)\",\"\",fn)\n",
    "    fn=re.sub(\"\\[([H|S][P|D]).*\\]\",\"\",fn)\n",
    "    fn=re.sub(\"^[A-Z][a-z][a-z][a-z]?-\",\"\",fn)\n",
    "    fn=fn.replace(\"_\",\" \")\n",
    "    #print fn\n",
    "    seri=''\n",
    "    sm=0\n",
    "    mtd=None\n",
    "    sp=fn.split()\n",
    "    if len(sp)>4:\n",
    "        tit=sp[-2:]\n",
    "        auth=sp[:-2]\n",
    "    elif len(sp) >1:\n",
    "        tit=fn.split()[-1:]\n",
    "        auth=fn.split()[:-1]\n",
    "    else:\n",
    "        return \"no meta\"\n",
    "    \n",
    "    if fn.count('-')==1:\n",
    "        tit,auth=fn.split('-')\n",
    "    elif fn.count('-')==2:\n",
    "        seri,tit,auth=fn.split('-')\n",
    "        if tit.count(\"[\")>0:\n",
    "            tm=seri\n",
    "            seri=tit.replace('[',\"\").replace(\"]\",\"\")\n",
    "            tit=tm\n",
    "        \n",
    "    ##print \"title\",tit,\"author\",auth\n",
    "   \n",
    "    ''' if tit.count('_ ')>0:\n",
    "        spp=tit.split('_')[0]\n",
    "        ##print spp\n",
    "        if spp.count(' ')>0:\n",
    "            tit=' '.join(spp.split())\n",
    "        else:\n",
    "            tit=spp'''\n",
    "    '''if auth.count('_ ')>0:\n",
    "        spp=auth.split('_')[0]\n",
    "        ##print spp\n",
    "        if spp.count(' ')>0:\n",
    "            auth=' '.join(spp.split())\n",
    "        else:\n",
    "            auth=spp'''\n",
    "    if seri.count(\" \")>0:\n",
    "        seri=\" \".join(seri.split())\n",
    "    if tit.count(' ')>0:\n",
    "        title=''.join(l for l in ' '.join(tit.split()) if l in string.printable)\n",
    "    else:\n",
    "        title=''.join(l for l in tit if l in string.printable)\n",
    "    if auth.count(\" \")>0:    \n",
    "        author=''.join(l for l in ' '.join(auth.split()) if l in string.printable)\n",
    "    else:\n",
    "        author=''.join(l for l in auth if l in string.ascii_letters+\" .\")\n",
    "    ret=[fn,f]\n",
    "    \n",
    "    if len(author.split())>0:\n",
    "        ret.append(author)\n",
    "    if len(title.split())>0:\n",
    "        ret.append(title)\n",
    "    if seri!='' and len(seri.split())>0:\n",
    "        ret.append(seri)\n",
    "    #print(len(ret))\n",
    "    if len(ret)>2:\n",
    "        return ret"
   ]
  },
  {
   "cell_type": "code",
   "execution_count": null,
   "metadata": {
    "collapsed": true
   },
   "outputs": [],
   "source": [
    "def getATfM(f):\n",
    "    metakey='http://purl.org/dc/elements/1.1/'\n",
    "    fp,ff= os.path.split(f)\n",
    "    fnn, fext = os.path.splitext(ff)\n",
    "    fn=re.sub(\" \\(v[0-9].[0-9]\\)\",\"\",fnn)\n",
    "    fn=re.sub(\"\\(([e|m|l][p|o|i][u|b|t][b|i]?).*\\)\",\"\",fn)\n",
    "    try:\n",
    "        book=epub.read_epub(f)\n",
    "    except:\n",
    "        return getAT(f)\n",
    "    ret=[fn,f]\n",
    "    if 'creator' in book.metadata[metakey].keys() and len(book.metadata[metakey]['creator'][0])>0:\n",
    "        ret.append(book.metadata[metakey]['creator'][0][0])\n",
    "    if 'title' in book.metadata[metakey].keys() and len(book.metadata[metakey]['title'])>0 :\n",
    "        ret.append(book.metadata[metakey]['title'][0][0])\n",
    "    if len(ret)>2:\n",
    "        return ret\n",
    "    else:\n",
    "        return getAT(f)"
   ]
  }
 ],
 "metadata": {
  "kernelspec": {
   "display_name": "Python 2",
   "language": "python",
   "name": "python2"
  },
  "language_info": {
   "codemirror_mode": {
    "name": "ipython",
    "version": 2
   },
   "file_extension": ".py",
   "mimetype": "text/x-python",
   "name": "python",
   "nbconvert_exporter": "python",
   "pygments_lexer": "ipython2",
   "version": "2.7.12"
  }
 },
 "nbformat": 4,
 "nbformat_minor": 0
}
