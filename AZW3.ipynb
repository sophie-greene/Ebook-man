{
 "cells": [
  {
   "cell_type": "code",
   "execution_count": 51,
   "metadata": {
    "collapsed": true
   },
   "outputs": [],
   "source": [
    "import glob, os\n",
    "import subprocess\n",
    "from ebooklib import epub\n",
    "import string"
   ]
  },
  {
   "cell_type": "code",
   "execution_count": 67,
   "metadata": {
    "collapsed": true
   },
   "outputs": [],
   "source": [
    "! mkdir /media/some/sophie-hhd/books/azw3-cm"
   ]
  },
  {
   "cell_type": "code",
   "execution_count": 69,
   "metadata": {
    "collapsed": true
   },
   "outputs": [],
   "source": [
    "path=\"/media/some/sophie-hhd/books/azw3-cm/\"\n",
    "tpath=\"/media/some/sophie-hhd/books/epub-m/\""
   ]
  },
  {
   "cell_type": "code",
   "execution_count": 71,
   "metadata": {
    "collapsed": false
   },
   "outputs": [],
   "source": [
    "\n",
    "os.chdir(tpath)\n",
    "cnt=0\n",
    "listazw3=[]\n",
    "for f in glob.glob(\"*.epub\"):\n",
    "    ff=tpath+f\n",
    "    try:\n",
    "        book=epub.read_epub(ff)\n",
    "        title=''.join(ch for ch in book.get_metadata(\"DC\", \"title\")[0][0] if ch.isalnum())\n",
    "        author=''.join(ch for ch in book.get_metadata(\"DC\",\"creator\")[0][0] if ch.isalnum())\n",
    "        '''if len(title)>20:\n",
    "            title=title[:20]\n",
    "        if len(author)>20:\n",
    "            author=author[:20]'''\n",
    "        name=title+\"-\"+author+\".azw3\"\n",
    "        #print name\n",
    "        if not os.path.isfile(name):\n",
    "            epub.write_epub(path+name,book,{} )\n",
    "    except epub.EpubException:\n",
    "        os.remove(ff)\n",
    "        print \"removing bad \"+ff\n",
    "    #listazw3.append(meta)\n",
    "    #cnt+=1\n",
    "    #if cnt>5: break\n",
    "os.chdir(\"/home/some\")"
   ]
  },
  {
   "cell_type": "code",
   "execution_count": 20,
   "metadata": {
    "collapsed": false
   },
   "outputs": [],
   "source": [
    "book.add_author(\"Sophie Greene\")"
   ]
  },
  {
   "cell_type": "code",
   "execution_count": 48,
   "metadata": {
    "collapsed": false
   },
   "outputs": [],
   "source": [
    "epub.write_epub(\n",
    "    book.get_metadata(\"DC\", \"title\")[0][0].replace(r\" \",\"\")+\n",
    "    \"-\"+book.get_metadata(\"DC\",\"creator\")[0][0].replace(\" \",\"\")+\".epub\",book,{}    \n",
    ")"
   ]
  },
  {
   "cell_type": "code",
   "execution_count": 34,
   "metadata": {
    "collapsed": false
   },
   "outputs": [
    {
     "name": "stdout",
     "output_type": "stream",
     "text": [
      "{'http://www.w3.org/2001/XMLSchema-instance': {}, 'http://www.idpf.org/2007/opf': {'cover': [(None, {'content': 'cover', 'name': 'cover'})]}, 'http://purl.org/dc/elements/1.1/': {'language': [('en', {})], 'title': [('Kenyon, Sherrilyn - Dark Hunter - 06', {})], 'creator': [('Phantom Lover', {'{http://www.idpf.org/2007/opf}file-as': 'Unknown', '{http://www.idpf.org/2007/opf}role': 'aut'}), ('Sophie Greene', {'id': 'creator'}), ('Sophie Greene', {'id': 'creator'})], 'contributor': [('calibre (2.33.0) [http://calibre-ebook.com]', {'{http://www.idpf.org/2007/opf}role': 'bkp'})], 'date': [('2012-06-04T22:49:18+00:00', {})], 'identifier': [('e12fa06f-9ac8-4f0b-9ab0-5b85038bd55f', {'{http://www.idpf.org/2007/opf}scheme': 'MOBI-ASIN'}), ('072686c3-eedd-4f0e-9afe-e68a886fa612', {'id': 'uuid_id', '{http://www.idpf.org/2007/opf}scheme': 'uuid'})]}, 'http://purl.org/dc/terms/': {}, 'http://calibre.kovidgoyal.net/2009/metadata': {'timestamp': [(None, {'content': '2016-05-10T11:31:58.288131+00:00', 'name': 'calibre:timestamp'})]}}\n"
     ]
    }
   ],
   "source": [
    "print book.metadata\n"
   ]
  },
  {
   "cell_type": "code",
   "execution_count": null,
   "metadata": {
    "collapsed": true
   },
   "outputs": [],
   "source": []
  }
 ],
 "metadata": {
  "kernelspec": {
   "display_name": "Python 2",
   "language": "python",
   "name": "python2"
  },
  "language_info": {
   "codemirror_mode": {
    "name": "ipython",
    "version": 2
   },
   "file_extension": ".py",
   "mimetype": "text/x-python",
   "name": "python",
   "nbconvert_exporter": "python",
   "pygments_lexer": "ipython2",
   "version": "2.7.10"
  }
 },
 "nbformat": 4,
 "nbformat_minor": 0
}
