{
 "cells": [
  {
   "cell_type": "code",
   "execution_count": null,
   "metadata": {
    "collapsed": true
   },
   "outputs": [],
   "source": [
    "import glob, os\n",
    "import subprocess\n",
    "from ebooklib import epub\n",
    "import string"
   ]
  },
  {
   "cell_type": "code",
   "execution_count": null,
   "metadata": {
    "collapsed": true
   },
   "outputs": [],
   "source": [
    "! mkdir /media/some/sophie-hhd/books/azw3-cm"
   ]
  },
  {
   "cell_type": "code",
   "execution_count": null,
   "metadata": {
    "collapsed": true
   },
   "outputs": [],
   "source": [
    "path=\"/media/some/sophie-hhd/books/azw3-cm/\"\n",
    "tpath=\"/media/some/sophie-hhd/books/epub-m/\""
   ]
  },
  {
   "cell_type": "code",
   "execution_count": null,
   "metadata": {
    "collapsed": false
   },
   "outputs": [],
   "source": [
    "\n",
    "os.chdir(tpath)\n",
    "cnt=0\n",
    "listazw3=[]\n",
    "for f in glob.glob(\"*.epub\"):\n",
    "    ff=tpath+f\n",
    "    try:\n",
    "        book=epub.read_epub(ff)\n",
    "        title=''.join(ch for ch in book.get_metadata(\"DC\", \"title\")[0][0] if ch.isalnum())\n",
    "        author=''.join(ch for ch in book.get_metadata(\"DC\",\"creator\")[0][0] if ch.isalnum())\n",
    "        '''if len(title)>20:\n",
    "            title=title[:20]\n",
    "        if len(author)>20:\n",
    "            author=author[:20]'''\n",
    "        name=title+\"-\"+author+\".azw3\"\n",
    "        #print name\n",
    "        if not os.path.isfile(name):\n",
    "            epub.write_epub(path+name,book,{} )\n",
    "    except epub.EpubException:\n",
    "        os.remove(ff)\n",
    "        print \"removing bad \"+ff\n",
    "    #listazw3.append(meta)\n",
    "    #cnt+=1\n",
    "    #if cnt>5: break\n",
    "os.chdir(\"/home/some\")"
   ]
  },
  {
   "cell_type": "code",
   "execution_count": null,
   "metadata": {
    "collapsed": false
   },
   "outputs": [],
   "source": [
    "book.add_author(\"Sophie Greene\")"
   ]
  },
  {
   "cell_type": "code",
   "execution_count": null,
   "metadata": {
    "collapsed": false
   },
   "outputs": [],
   "source": [
    "epub.write_epub(\n",
    "    book.get_metadata(\"DC\", \"title\")[0][0].replace(r\" \",\"\")+\n",
    "    \"-\"+book.get_metadata(\"DC\",\"creator\")[0][0].replace(\" \",\"\")+\".epub\",book,{}    \n",
    ")"
   ]
  },
  {
   "cell_type": "code",
   "execution_count": null,
   "metadata": {
    "collapsed": false
   },
   "outputs": [],
   "source": [
    "print book.metadata\n"
   ]
  },
  {
   "cell_type": "code",
   "execution_count": null,
   "metadata": {
    "collapsed": true
   },
   "outputs": [],
   "source": []
  }
 ],
 "metadata": {
  "kernelspec": {
   "display_name": "Python 3",
   "language": "python",
   "name": "python3"
  },
  "language_info": {
   "codemirror_mode": {
    "name": "ipython",
    "version": 3
   },
   "file_extension": ".py",
   "mimetype": "text/x-python",
   "name": "python",
   "nbconvert_exporter": "python",
   "pygments_lexer": "ipython3",
   "version": "3.5.1+"
  }
 },
 "nbformat": 4,
 "nbformat_minor": 0
}
