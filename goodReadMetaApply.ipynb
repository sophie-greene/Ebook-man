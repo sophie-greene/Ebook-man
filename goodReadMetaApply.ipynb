{
 "cells": [
  {
   "cell_type": "code",
   "execution_count": 2,
   "metadata": {
    "collapsed": false
   },
   "outputs": [],
   "source": [
    "import json\n",
    "import urllib2\n",
    "import urllib\n",
    "import xmltodict\n",
    "import os\n",
    "import string\n",
    "from ebooklib import epub \n",
    "from  comFunc import *\n",
    "from multiprocessing import Pool\n",
    "import time\n",
    "import re\n",
    "import functools"
   ]
  },
  {
   "cell_type": "code",
   "execution_count": null,
   "metadata": {
    "collapsed": true
   },
   "outputs": [],
   "source": []
  },
  {
   "cell_type": "code",
   "execution_count": 3,
   "metadata": {
    "collapsed": false,
    "scrolled": true
   },
   "outputs": [],
   "source": [
    "\n",
    "def movet(titles):\n",
    "    #print titles\n",
    "    metakey='http://purl.org/dc/elements/1.1/'\n",
    "    f=titles[1][0]+\"/\"+titles[0]+\".epub\"\n",
    "    ti=titles[1][1]['Title'].encode('ascii','ignore').replace(\"&\",\" and \")\n",
    "    tmt=''.join(tt for tt in ti if tt  in string.ascii_letters+string.digits+\" &()\")\n",
    "    series=''\n",
    "    index=-1\n",
    "    if tmt.count('(')>0:\n",
    "        title=tmt[:tmt.index('(')].strip()\n",
    "        seri=tmt[tmt.index('(')+1:tmt.index(\")\")].split()\n",
    "        try:\n",
    "            index=float(seri[-1])\n",
    "            \n",
    "            series=' '.join(seri[:-1]).strip()\n",
    "        except:\n",
    "            series=' '.join(seri).strip()\n",
    "    else:\n",
    "        title=''.join(tt for tt in ti.encode('ascii','ignore') if tt  in string.ascii_letters+string.digits+\" '-&\")\n",
    "    #print index \n",
    "    au=''.join (t for t in titles[1][1]['Authors'][0].encode('ascii','ignore').strip() if t in string.ascii_letters+\" .\" )\n",
    "    if len(au.split())<2:\n",
    "        return \"A\",f\n",
    "    auth=' '.join(au.split())\n",
    "    title=title.replace (\"By \"+au,'').strip()\n",
    "    title=' '.join(m.strip() for m in title.split())\n",
    "    if title.count(':')>0:\n",
    "        title=title.split(':')[0].strip()\n",
    "    tt=\"/media/sf_lbuntu/books/\"+au.strip()+\" - \"+title.strip()+\".epub\"\n",
    "   \n",
    "    tmp=\"/tmp/\"+auth.strip()+\" - \"+title.strip()+\".epub\"\n",
    "    try:\n",
    "        book=epub.read_epub(f)\n",
    "    except:\n",
    "        return \"R\",f\n",
    "    if 'identifier' in book.metadata[metakey].keys():\n",
    "        book.metadata[metakey].pop('identifier')\n",
    "        book.set_identifier('0')\n",
    "    if 'publisher' in book.metadata[metakey].keys():\n",
    "        book.metadata[metakey].pop('publisher')\n",
    "    if 'date' in book.metadata[metakey].keys():\n",
    "            book.metadata[metakey].pop('date')\n",
    "    \n",
    "    if not os.path.isfile(tt):\n",
    "        try:\n",
    "            epub.write_epub(tmp,book,{} )\n",
    "        except:\n",
    "            return \"W\",f,tmp\n",
    "            \n",
    "\n",
    "        if os.path.exists(tmp):\n",
    "\n",
    "            !ebook-meta \"$tmp\" --title \"$ti\" --authors \"$auth\" --language \"eng\" >>/dev/null 2>>/dev/null\n",
    "\n",
    "            if index>0 and len(series)>0: \n",
    "                !ebook-meta \"$tmp\" --series \"$series\" --index \"$index\" >>/dev/null 2>>/dev/null\n",
    "\n",
    "            !mv \"$tmp\" \"$tt\"\n",
    "            return \"S\",f\n",
    "        else:\n",
    "            return \"F\",f\n",
    "    else:\n",
    "            return \"E\",f\n",
    "#E=Exists, F=failed, S=success, W=Writing error, R=reading error, A=Author problem"
   ]
  },
  {
   "cell_type": "code",
   "execution_count": 4,
   "metadata": {
    "collapsed": false,
    "scrolled": true
   },
   "outputs": [
    {
     "ename": "NameError",
     "evalue": "name 'flist' is not defined",
     "output_type": "error",
     "traceback": [
      "\u001b[1;31m---------------------------------------------------------------------------\u001b[0m",
      "\u001b[1;31mNameError\u001b[0m                                 Traceback (most recent call last)",
      "\u001b[1;32m<ipython-input-4-84f2ab0a4d65>\u001b[0m in \u001b[0;36m<module>\u001b[1;34m()\u001b[0m\n\u001b[1;32m----> 1\u001b[1;33m \u001b[0mmovet\u001b[0m\u001b[1;33m(\u001b[0m\u001b[0mflist\u001b[0m\u001b[1;33m[\u001b[0m\u001b[1;36m1\u001b[0m\u001b[1;33m]\u001b[0m\u001b[1;33m)\u001b[0m\u001b[1;33m\u001b[0m\u001b[0m\n\u001b[0m",
      "\u001b[1;31mNameError\u001b[0m: name 'flist' is not defined"
     ]
    }
   ],
   "source": [
    "movet(flist[1])"
   ]
  },
  {
   "cell_type": "code",
   "execution_count": 5,
   "metadata": {
    "collapsed": false
   },
   "outputs": [
    {
     "ename": "NameError",
     "evalue": "name 'flist' is not defined",
     "output_type": "error",
     "traceback": [
      "\u001b[1;31m---------------------------------------------------------------------------\u001b[0m",
      "\u001b[1;31mNameError\u001b[0m                                 Traceback (most recent call last)",
      "\u001b[1;32m<ipython-input-5-85d4bc5ec16b>\u001b[0m in \u001b[0;36m<module>\u001b[1;34m()\u001b[0m\n\u001b[1;32m----> 1\u001b[1;33m \u001b[0mflist\u001b[0m\u001b[1;33m[\u001b[0m\u001b[1;36m1\u001b[0m\u001b[1;33m]\u001b[0m\u001b[1;33m\u001b[0m\u001b[0m\n\u001b[0m",
      "\u001b[1;31mNameError\u001b[0m: name 'flist' is not defined"
     ]
    }
   ],
   "source": [
    "flist[1]"
   ]
  },
  {
   "cell_type": "code",
   "execution_count": 21,
   "metadata": {
    "collapsed": false
   },
   "outputs": [
    {
     "data": {
      "text/plain": [
       "(51, 52, 0)"
      ]
     },
     "execution_count": 21,
     "metadata": {},
     "output_type": "execute_result"
    }
   ],
   "source": [
    "titles=load_obj('data/titlesISBN')#{}\n",
    "#unpacktitles\n",
    "uptit=[[k,titles[k]] for k in titles.keys()]\n",
    "prockeys=[]#load_obj('data/prockeysIm')\n",
    "flist=list(filter(lambda x: x[0] not in prockeys and type(x[1][1])==dict, uptit))\n",
    "\n",
    "len(flist),len(titles.keys()),len(prockeys)"
   ]
  },
  {
   "cell_type": "code",
   "execution_count": 22,
   "metadata": {
    "collapsed": false,
    "scrolled": true
   },
   "outputs": [
    {
     "name": "stdout",
     "output_type": "stream",
     "text": [
      "mv: cannot stat '/tmp/Aaron Allston - Star Wars Fate Of The Jedi - Outcast.epub': No such file or directory\n",
      "parallel end\n",
      "('time: ', 62.64743900299072)\n"
     ]
    }
   ],
   "source": [
    "pbooks=[]#load_obj('data/procbooksIm')\n",
    "t0 = time.time()\n",
    "try:\n",
    "    p = Pool(10)\n",
    "    books=p.map(movet, flist)\n",
    "    #p.join()\n",
    "    p.terminate()\n",
    "    p.close()\n",
    "    print \"parallel end\"\n",
    "    for b in books:\n",
    "        k=b[1][b[1].rindex('/')+1:-5]\n",
    "        pbooks[k]=b[0]\n",
    "        prockeys.append(k)\n",
    "    save_obj(prockeys,'data/prockeysIm')\n",
    "    save_obj(pbooks,'data/procbooksIm')\n",
    "except:\n",
    "    p.terminate()\n",
    "    p.close()\n",
    "t1=time.time()\n",
    "total = t1-t0\n",
    "print('time: ',total)"
   ]
  },
  {
   "cell_type": "code",
   "execution_count": 66,
   "metadata": {
    "collapsed": false,
    "scrolled": false
   },
   "outputs": [
    {
     "name": "stdout",
     "output_type": "stream",
     "text": [
      "5 0\n"
     ]
    }
   ],
   "source": [
    "print len(books),len(prockeys)"
   ]
  },
  {
   "cell_type": "code",
   "execution_count": 67,
   "metadata": {
    "collapsed": false
   },
   "outputs": [
    {
     "name": "stdout",
     "output_type": "stream",
     "text": [
      "R:  0\n",
      "W:  0\n",
      "S:  4\n",
      "F:  0\n",
      "E:  1\n",
      "A:  0\n"
     ]
    }
   ],
   "source": [
    "print \"R: \",len(list (filter(lambda x:x[0]  ==\"R\",books)))\n",
    "print \"W: \",len(list (filter(lambda x:x[0]  ==\"W\",books)))\n",
    "print \"S: \",len(list (filter(lambda x:x[0]  ==\"S\",books)))\n",
    "print \"F: \",len(list (filter(lambda x:x[0]  ==\"F\",books)))\n",
    "print \"E: \",len(list (filter(lambda x:x[0]  ==\"E\",books)))\n",
    "print \"A: \",len(list (filter(lambda x:x[0]  ==\"A\",books)))"
   ]
  },
  {
   "cell_type": "code",
   "execution_count": 8,
   "metadata": {
    "collapsed": false
   },
   "outputs": [
    {
     "data": {
      "text/plain": [
       "['Han Solo Book 1 - The Paradise  - A. C. Crispin',\n",
       " 'Han Solo Book 3 - Rebel Dawn - A. C. Crispin',\n",
       " 'Angels and Insects - A. S. Byatt',\n",
       " 'Possession - A. S. Byatt',\n",
       " 'Slan - A. E. Van Vogt',\n",
       " 'The Long War 01 - The Black Gua - A. J. Smith',\n",
       " 'Babel Tower - A. S. Byatt',\n",
       " 'The World of Null-A - A. E. Van Vogt',\n",
       " \"The Children's Book - A. S. Byatt\",\n",
       " 'A Whistling Woman - A. S. Byatt',\n",
       " 'N',\n",
       " 'Skin Game_ A Novel of the Dresd - Jim Butcher',\n",
       " \"Djinn in the Nightingale's Eye - A. S. Byatt\",\n",
       " \"The Biographer's Tale - A. S. Byatt\",\n",
       " 'Ragnarok_ The End of the Gods - A. S. Byatt',\n",
       " 'Elementals - A. S. Byatt',\n",
       " 'Han Solo Book 2 - The Hutt Gamb - A. C. Crispin']"
      ]
     },
     "execution_count": 8,
     "metadata": {},
     "output_type": "execute_result"
    }
   ],
   "source": [
    "titles.keys()"
   ]
  },
  {
   "cell_type": "code",
   "execution_count": null,
   "metadata": {
    "collapsed": true
   },
   "outputs": [],
   "source": []
  }
 ],
 "metadata": {
  "kernelspec": {
   "display_name": "Python 2",
   "language": "python",
   "name": "python2"
  },
  "language_info": {
   "codemirror_mode": {
    "name": "ipython",
    "version": 2
   },
   "file_extension": ".py",
   "mimetype": "text/x-python",
   "name": "python",
   "nbconvert_exporter": "python",
   "pygments_lexer": "ipython2",
   "version": "2.7.11+"
  }
 },
 "nbformat": 4,
 "nbformat_minor": 0
}
