{
 "cells": [
  {
   "cell_type": "code",
   "execution_count": 40,
   "metadata": {
    "collapsed": false,
    "scrolled": true
   },
   "outputs": [],
   "source": [
    "import glob, os\n",
    "import subprocess\n",
    "from ebooklib import epub\n",
    "import ebooklib\n",
    "import string\n",
    "import comFunc\n",
    "import sqlite3\n",
    "import numpy as np\n",
    "import nltk\n",
    "from nltk import pos_tag"
   ]
  },
  {
   "cell_type": "code",
   "execution_count": 41,
   "metadata": {
    "collapsed": false
   },
   "outputs": [
    {
     "data": {
      "text/plain": [
       "'SELECT DISTINCT author_sort FROM books GROUP BY author_sort'"
      ]
     },
     "execution_count": 41,
     "metadata": {},
     "output_type": "execute_result"
    }
   ],
   "source": [
    "q='select * from books where INSTR(\" \",author_sort) == 0'\n",
    "a='SELECT DISTINCT * FROM books NATURAL JOIN (SELECT '\n",
    "b='title FROM books GROUP BY '\n",
    "c='title HAVING   COUNT(*) > 1) AS t'\n",
    "#q=a+b+c\n",
    "q='SELECT DISTINCT * FROM books WHERE author_sort LIKE \"% the %\" GROUP BY author_sort'\n",
    "#q='SELECT DISTINCT * FROM books WHERE title LIKE \"The%\" GROUP BY title'\n",
    "#q='SELECT DISTINCT * FROM books WHERE LENGTH(author_sort)>8 AND author_sort LIKE \"% % % %\" AND author_sort NOT LIKE \"%&%\" AND author_sort NOT LIKE \"%. %\" GROUP BY author_sort'\n",
    "q='SELECT DISTINCT * FROM books WHERE LENGTH(author_sort)>8 AND author_sort LIKE \"% with %\" GROUP BY author_sort'\n",
    "q='SELECT DISTINCT author_sort FROM books GROUP BY author_sort'\n",
    "\n",
    "db = '/media/sf_lbuntu/calibre/metadata.db'\n",
    "!cp $db ./metadata.db\n",
    "connection = sqlite3.connect('metadata.db')\n",
    "cursor = connection.execute(q) \n",
    "m=cursor.fetchall()\n",
    "q"
   ]
  },
  {
   "cell_type": "code",
   "execution_count": 42,
   "metadata": {
    "collapsed": false
   },
   "outputs": [],
   "source": [
    "from nltk.tag.stanford import StanfordNERTagger\n",
    "st = StanfordNERTagger('stanford/stanford-ner-2015-12-09/classifiers/english.all.3class.distsim.crf.ser.gz',\n",
    "               'stanford/stanford-ner-2015-12-09/stanford-ner.jar') "
   ]
  },
  {
   "cell_type": "code",
   "execution_count": null,
   "metadata": {
    "collapsed": false,
    "scrolled": false
   },
   "outputs": [
    {
     "name": "stdout",
     "output_type": "stream",
     "text": [
      "0048 -       True Andre, Bella & Freethy, Barbar      --->        Bella Andre Barbara Freethy He\n",
      "0049 -      False                 Andrews, April      --->                         April Andrews\n",
      "  49                False                           [('April', 'O'), ('Andrews', 'O')]\n",
      "0050 -       True                  Andrews, Beth      --->                          Beth Andrews\n",
      "0051 -       True                 Andrews, Ilona      --->                         Ilona Andrews\n",
      "0052 -       True              Andrews, Mary Kay      --->                      Mary Kay Andrews\n",
      "0053 -       True                 Andrews, V. C.      --->                         V. C. Andrews\n",
      "0054 -       True                  Andria, Alexx      --->                          Alexx Andria\n",
      "0055 -       True                 Andriacco, Dan      --->                         Dan Andriacco\n",
      "0056 -      False                   Angel, April      --->                           April Angel\n",
      "  56                False                             [('April', 'O'), ('Angel', 'O')]\n"
     ]
    }
   ],
   "source": [
    "def isName(lst):\n",
    "    cnt=0\n",
    "    for m in lst:\n",
    "        if m[1]!='O':\n",
    "            cnt+=1\n",
    "    if cnt >= len(lst)/2.0:   \n",
    "        return True\n",
    "    else:\n",
    "        return False\n",
    "cnt=48\n",
    "\n",
    "for mm in m[48:]:\n",
    "    authors=' '.join(' '.join(' '.join(reversed(ss.split(','))) for ss in mm[0].split('&')).replace(',','').split())\n",
    "    r=st.tag(authors.split())\n",
    "    print(\"%.4d - %10.10s %30.30s      --->        %30.30s\"%(cnt,isName(r),mm[0],authors))\n",
    "    if not isName(r):\n",
    "        print ('%4d %20s %60s'%(cnt,isName(r), r))\n",
    "    cnt+=1"
   ]
  },
  {
   "cell_type": "code",
   "execution_count": null,
   "metadata": {
    "collapsed": false
   },
   "outputs": [],
   "source": [
    "names = list(map(lambda x: x[0], cursor.description))\n",
    "names"
   ]
  },
  {
   "cell_type": "code",
   "execution_count": 7,
   "metadata": {
    "collapsed": false
   },
   "outputs": [
    {
     "data": {
      "text/plain": [
       "[('Mary', 'PERSON'), ('Wine', 'PERSON')]"
      ]
     },
     "execution_count": 7,
     "metadata": {},
     "output_type": "execute_result"
    }
   ],
   "source": [
    "st.tag('Mary Wine'.split())"
   ]
  },
  {
   "cell_type": "code",
   "execution_count": 21,
   "metadata": {
    "collapsed": false
   },
   "outputs": [],
   "source": [
    " authors=' '.join(' '.join(reversed(ss.split())) for ss in m[0].split('&')).replace(',','')"
   ]
  },
  {
   "cell_type": "code",
   "execution_count": 14,
   "metadata": {
    "collapsed": false
   },
   "outputs": [],
   "source": [
    "s='wine, mary & peters andy'.split('&')"
   ]
  },
  {
   "cell_type": "code",
   "execution_count": 31,
   "metadata": {
    "collapsed": false
   },
   "outputs": [
    {
     "data": {
      "text/plain": [
       "' Robin Lee Hatcher'"
      ]
     },
     "execution_count": 31,
     "metadata": {},
     "output_type": "execute_result"
    }
   ],
   "source": [
    "' '.join(' '.join(reversed(ss.split(','))) for ss in 'Hatcher, Robin Lee'.split('&')).replace(',','')"
   ]
  },
  {
   "cell_type": "code",
   "execution_count": null,
   "metadata": {
    "collapsed": true
   },
   "outputs": [],
   "source": []
  }
 ],
 "metadata": {
  "kernelspec": {
   "display_name": "Python 3",
   "language": "python",
   "name": "python3"
  },
  "language_info": {
   "codemirror_mode": {
    "name": "ipython",
    "version": 3
   },
   "file_extension": ".py",
   "mimetype": "text/x-python",
   "name": "python",
   "nbconvert_exporter": "python",
   "pygments_lexer": "ipython3",
   "version": "3.5.1+"
  }
 },
 "nbformat": 4,
 "nbformat_minor": 0
}
