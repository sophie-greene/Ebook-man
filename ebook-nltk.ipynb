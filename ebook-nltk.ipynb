{
 "cells": [
  {
   "cell_type": "code",
   "execution_count": 1,
   "metadata": {
    "collapsed": false,
    "scrolled": true
   },
   "outputs": [],
   "source": [
    "import glob, os\n",
    "import subprocess\n",
    "from ebooklib import epub\n",
    "import ebooklib\n",
    "import string\n",
    "import comFunc\n",
    "import sqlite3\n",
    "import numpy as np\n",
    "import nltk\n",
    "from nltk import pos_tag"
   ]
  },
  {
   "cell_type": "code",
   "execution_count": 3,
   "metadata": {
    "collapsed": false
   },
   "outputs": [
    {
     "data": {
      "text/plain": [
       "'SELECT DISTINCT author_sort FROM books GROUP BY author_sort'"
      ]
     },
     "execution_count": 3,
     "metadata": {},
     "output_type": "execute_result"
    }
   ],
   "source": [
    "q='select * from books where INSTR(\" \",author_sort) == 0'\n",
    "a='SELECT DISTINCT * FROM books NATURAL JOIN (SELECT '\n",
    "b='title FROM books GROUP BY '\n",
    "c='title HAVING   COUNT(*) > 1) AS t'\n",
    "#q=a+b+c\n",
    "q='SELECT DISTINCT * FROM books WHERE author_sort LIKE \"% the %\" GROUP BY author_sort'\n",
    "#q='SELECT DISTINCT * FROM books WHERE title LIKE \"The%\" GROUP BY title'\n",
    "#q='SELECT DISTINCT * FROM books WHERE LENGTH(author_sort)>8 AND author_sort LIKE \"% % % %\" AND author_sort NOT LIKE \"%&%\" AND author_sort NOT LIKE \"%. %\" GROUP BY author_sort'\n",
    "q='SELECT DISTINCT * FROM books WHERE LENGTH(author_sort)>8 AND author_sort LIKE \"% with %\" GROUP BY author_sort'\n",
    "q='SELECT DISTINCT author_sort FROM books GROUP BY author_sort'\n",
    "\n",
    "db = '/media/sf_lbuntu/calibre/metadata.db'\n",
    "!cp $db ./metadata.db\n",
    "connection = sqlite3.connect('metadata.db')\n",
    "cursor = connection.execute(q) \n",
    "m=cursor.fetchall()\n",
    "q"
   ]
  },
  {
   "cell_type": "code",
   "execution_count": 4,
   "metadata": {
    "collapsed": false
   },
   "outputs": [],
   "source": [
    "from nltk.tag.stanford import StanfordNERTagger\n",
    "st = StanfordNERTagger('stanford/stanford-ner-2015-12-09/classifiers/english.all.3class.distsim.crf.ser.gz',\n",
    "               'stanford/stanford-ner-2015-12-09/stanford-ner.jar') "
   ]
  },
  {
   "cell_type": "code",
   "execution_count": null,
   "metadata": {
    "collapsed": false,
    "scrolled": true
   },
   "outputs": [
    {
     "name": "stdout",
     "output_type": "stream",
     "text": [
      "0779 -       True      Hartford, Devon      --->              Devon Hartford\n",
      "0780 -       True       Hartman, Ellen      --->               Ellen Hartman\n",
      "0781 -       True   Hartnady, Charlene      --->           Charlene Hartnady\n",
      "0782 -       True        Hastings, Max      --->                Max Hastings\n",
      "0783 -       True   Hatcher, Robin Lee      --->           Robin Lee Hatcher\n",
      "0784 -       True        Hauck, Rachel      --->                Rachel Hauck\n",
      "0785 -       True       Haug, Anton J.      --->               Anton J. Haug\n",
      "0786 -       True      Hawkeye, Lauren      --->              Lauren Hawkeye\n",
      "0787 -       True     Hawking, Stephen      --->             Stephen Hawking\n",
      "0788 -       True       Hawkins, Karen      --->               Karen Hawkins\n"
     ]
    }
   ],
   "source": [
    "def isName(lst):\n",
    "    cnt=0\n",
    "    for m in lst:\n",
    "        if m[1]!='O':\n",
    "            cnt+=1\n",
    "    if cnt >= len(lst)/2.0:   \n",
    "        return True\n",
    "    else:\n",
    "        return False\n",
    "cnt=779\n",
    "\n",
    "for mm in m[779:]:\n",
    "    authors=' '.join(' '.join(reversed(ss.split(','))) for ss in mm[0].split('&')).replace(',','')\n",
    "    r=st.tag(authors.split())\n",
    "    print(\"%.4d - %10.10s %20.20s      --->        %20.20s\"%(cnt,isName(r),mm[0],authors))\n",
    "    if not isName(r):\n",
    "        println (isName(r),cnt, r)\n",
    "    cnt+=1"
   ]
  },
  {
   "cell_type": "code",
   "execution_count": null,
   "metadata": {
    "collapsed": false
   },
   "outputs": [],
   "source": [
    "names = list(map(lambda x: x[0], cursor.description))\n",
    "names"
   ]
  },
  {
   "cell_type": "code",
   "execution_count": 7,
   "metadata": {
    "collapsed": false
   },
   "outputs": [
    {
     "data": {
      "text/plain": [
       "[('Mary', 'PERSON'), ('Wine', 'PERSON')]"
      ]
     },
     "execution_count": 7,
     "metadata": {},
     "output_type": "execute_result"
    }
   ],
   "source": [
    "st.tag('Mary Wine'.split())"
   ]
  },
  {
   "cell_type": "code",
   "execution_count": 21,
   "metadata": {
    "collapsed": false
   },
   "outputs": [],
   "source": [
    " authors=' '.join(' '.join(reversed(ss.split())) for ss in m[0].split('&')).replace(',','')"
   ]
  },
  {
   "cell_type": "code",
   "execution_count": 14,
   "metadata": {
    "collapsed": false
   },
   "outputs": [],
   "source": [
    "s='wine, mary & peters andy'.split('&')"
   ]
  },
  {
   "cell_type": "code",
   "execution_count": 31,
   "metadata": {
    "collapsed": false
   },
   "outputs": [
    {
     "data": {
      "text/plain": [
       "' Robin Lee Hatcher'"
      ]
     },
     "execution_count": 31,
     "metadata": {},
     "output_type": "execute_result"
    }
   ],
   "source": [
    "' '.join(' '.join(reversed(ss.split(','))) for ss in 'Hatcher, Robin Lee'.split('&')).replace(',','')"
   ]
  },
  {
   "cell_type": "code",
   "execution_count": null,
   "metadata": {
    "collapsed": true
   },
   "outputs": [],
   "source": []
  }
 ],
 "metadata": {
  "kernelspec": {
   "display_name": "Python 3",
   "language": "python",
   "name": "python3"
  },
  "language_info": {
   "codemirror_mode": {
    "name": "ipython",
    "version": 3
   },
   "file_extension": ".py",
   "mimetype": "text/x-python",
   "name": "python",
   "nbconvert_exporter": "python",
   "pygments_lexer": "ipython3",
   "version": "3.5.1+"
  }
 },
 "nbformat": 4,
 "nbformat_minor": 0
}
