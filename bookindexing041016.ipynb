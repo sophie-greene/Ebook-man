{
 "cells": [
  {
   "cell_type": "code",
   "execution_count": 1,
   "metadata": {
    "collapsed": true
   },
   "outputs": [],
   "source": [
    "import os\n",
    "import comFuncs\n",
    "from comFuncs import *\n",
    "import string\n",
    "import rarfile\n",
    "import re"
   ]
  },
  {
   "cell_type": "code",
   "execution_count": 9,
   "metadata": {
    "collapsed": true
   },
   "outputs": [],
   "source": [
    "ind=load_obj('datas/indexdB')"
   ]
  },
  {
   "cell_type": "code",
   "execution_count": 8,
   "metadata": {
    "collapsed": false
   },
   "outputs": [
    {
     "data": {
      "text/plain": [
       "571894"
      ]
     },
     "execution_count": 8,
     "metadata": {},
     "output_type": "execute_result"
    }
   ],
   "source": [
    "try:\n",
    "    ind=load_obj('datas/indexdB')\n",
    "except:\n",
    "    names=!find /media/some/sam/dall -type f -iname \"index*2016*\"\n",
    "    names=names+[\"/media/some/sam/dall/New ebook packs for August 2016/New ebook packs INDEX 2003-2015.txt\"]\n",
    "    lst=[list(reversed(os.path.split(f))) for f in names]\n",
    "    result = {}\n",
    "    for item in lst:\n",
    "        if not item[0] in result.keys():\n",
    "            result[item[0]]=[]  \n",
    "        result[item[0]]=result[item[0]]+ [item[1]]\n",
    "\n",
    "    ind=[]\n",
    "    for k in result.keys():\n",
    "        rd=open(result[k][0]+\"/\"+k).readlines()\n",
    "        ind=ind+ zip(rd,[result[k][0]]*len(rd),[k]*len(rd))\n",
    "    save_obj(ind, 'datas/indexdB')  \n",
    "len(ind)"
   ]
  },
  {
   "cell_type": "code",
   "execution_count": 10,
   "metadata": {
    "collapsed": true
   },
   "outputs": [],
   "source": [
    "def removeLTdash(strg,charr):\n",
    "    if len (strg)>3:\n",
    "        strgg=strg.strip()\n",
    "        if strgg[0]==charr:\n",
    "            strgg=strgg[1:].strip()\n",
    "        if strgg[-1]==charr:\n",
    "            strgg=strgg[:-1].strip()\n",
    "        return strgg\n",
    "    return strg"
   ]
  },
  {
   "cell_type": "code",
   "execution_count": 11,
   "metadata": {
    "collapsed": true
   },
   "outputs": [],
   "source": [
    "def extractSeries(strg):\n",
    "    series=re.findall('.+-(\\s*\\[.+\\]\\s*-).+.rar',strg)\n",
    "    if len(series)>0:\n",
    "        series=removeLTdash(series[0],'-')\n",
    "        series=removeLTdash(series,'[')\n",
    "        series=removeLTdash(series,']')\n",
    "        return series\n",
    "    return \"\""
   ]
  },
  {
   "cell_type": "code",
   "execution_count": 12,
   "metadata": {
    "collapsed": true
   },
   "outputs": [],
   "source": [
    "def extractAuthor(strg):\n",
    "    author=re.findall('(.+?\\s*-)',strg)\n",
    "    if len(author)>0:\n",
    "        return removeLTdash(author[0],'-')\n",
    "    return \"\""
   ]
  },
  {
   "cell_type": "code",
   "execution_count": 13,
   "metadata": {
    "collapsed": false
   },
   "outputs": [],
   "source": [
    "def extractAdd(title):\n",
    "    add=[]\n",
    "    if title.count(')')>0 and title.count('(')>0:\n",
    "      \n",
    "        while min([title.count('('),title.count(')')])>0:\n",
    "        \n",
    "            add.append(re.findall('.*\\((.+?)\\)',title)[0] .strip())\n",
    "        \n",
    "            if title.count(add[-1])>1:\n",
    "                continue\n",
    "            title=title.replace(add[-1],\"\")\n",
    "            while title.count('()')>0:\n",
    "                title=title.replace(\"()\",\"\").strip()\n",
    "                \n",
    "            while title.count('( )'):\n",
    "                title=title.replace(\"( )\",\"\").strip()\n",
    "            \n",
    "    return title,add"
   ]
  },
  {
   "cell_type": "code",
   "execution_count": 14,
   "metadata": {
    "collapsed": false
   },
   "outputs": [],
   "source": [
    "def extractTitle(strg):\n",
    "    title=re.findall('.+(\\s*-.+)\\(.*',strg)\n",
    "    if len(title)>0:\n",
    "        title=removeLTdash(title[0],'-')\n",
    "        return title\n",
    "    return \"\""
   ]
  },
  {
   "cell_type": "code",
   "execution_count": 15,
   "metadata": {
    "collapsed": true
   },
   "outputs": [],
   "source": [
    "def extractExt(strg):\n",
    "    ext=re.findall('.+(\\s\\(.+\\)\\s*).rar',strg)\n",
    "    if len(ext)>0:\n",
    "        return  ''.join(c for c in ext[0] if c in string.letters+string.digits+\" \").strip()\n",
    "    return \"\""
   ]
  },
  {
   "cell_type": "code",
   "execution_count": null,
   "metadata": {
    "collapsed": false,
    "scrolled": true
   },
   "outputs": [],
   "source": [
    "try:\n",
    "    dbb=load_obj('datas/dBB')\n",
    "except:\n",
    "    dbb=[]\n",
    "    for inn in ind:\n",
    "        #print inn[0].strip()\n",
    "        tmp = inn[0].strip().split('\\\\')\n",
    "        if len(tmp)>1:\n",
    "            series = extractSeries(tmp[1])\n",
    "            author = extractAuthor(tmp[1])\n",
    "            title, add = extractAdd(extractTitle(tmp[1]))\n",
    "            exten = extractExt(tmp[1])\n",
    "            #print 'series: ', series\n",
    "            #print \"author: \", author\n",
    "            #print 'title: ', title\n",
    "            #print \"exten: \",exten\n",
    "            #print \"add: \",' '.join(add)\n",
    "            lst=[author,series,title,\".rar\"]+add+[exten]\n",
    "            strg=tmp[1]\n",
    "            for l in lst:\n",
    "                strg=strg.replace(l,'')\n",
    "            strg=''.join(st for st in strg if st in string.letters+\" '\")\n",
    "            strg=' '.join(strg.split())\n",
    "            #print 'remaining: ',strg\n",
    "            if len(strg)>0:\n",
    "                lst=[strg]+lst\n",
    "            lst=[tmp[0]]+lst\n",
    "            lst.pop(lst.index('.rar'))\n",
    "            dbb.append(lst)\n",
    "    save_obj(dbb, 'datas/dBB') \n",
    "len(dbb)"
   ]
  },
  {
   "cell_type": "code",
   "execution_count": null,
   "metadata": {
    "collapsed": true
   },
   "outputs": [],
   "source": [
    "save_obj(dbb, 'datas/dBB') "
   ]
  },
  {
   "cell_type": "code",
   "execution_count": null,
   "metadata": {
    "collapsed": false
   },
   "outputs": [],
   "source": [
    "print tmp[1]\n",
    "strg=tmp[1]\n",
    "title=re.findall('.+(\\s*-.+)\\(.*',strg)\n",
    "if len(title)>0:\n",
    "    title=removeLTdash(title[0],'-')\n",
    "title\n",
    "add=[]\n",
    "if title.count(')')>0 and title.count('(')>0:\n",
    "   \n",
    "    while min([title.count('('),title.count(')')])>0:\n",
    "        \n",
    "        add.append(re.findall('.*\\((.+?)\\)',title)[0] .strip())\n",
    "        \n",
    "        while title.count(add[-1])>1:\n",
    "            continue\n",
    "        title=title.replace(add[-1],\"\")\n",
    "        while title.count('()')>0:\n",
    "            title=title.replace(\"()\",\"\").strip()\n",
    "            print title\n",
    "        while title.count('( )'):\n",
    "            title=title.replace(\"( )\",\"\").strip()\n",
    "        \n",
    "print title,add"
   ]
  },
  {
   "cell_type": "code",
   "execution_count": null,
   "metadata": {
    "collapsed": false
   },
   "outputs": [],
   "source": [
    "try:\n",
    "    db=load_obj('datas/dB')\n",
    "except:\n",
    "    db=[]\n",
    "    for i in ind:\n",
    "        f=i[0]\n",
    "        if f.count(\"\\\\\")>0:\n",
    "            fn=f[0:f.index(\"\\\\\")]+\".rar\".strip()\n",
    "            ifn=f[f.index('\\\\'):-2].strip()\n",
    "            if ifn.count('-')>0:\n",
    "                author=ifn[1:ifn.index(\"-\")-1].strip()\n",
    "                tm=ifn[ifn.rindex(\"-\"):]\n",
    "                if tm.count(\"(\")>0:\n",
    "                    title=tm[2:tm.index(\"(\")-1].strip()\n",
    "                elif tm.count('.')>0:\n",
    "                    title=tm[2:tm.index(\".\")-1].strip()\n",
    "                else:\n",
    "                    title=tm[2:].strip()\n",
    "                if title.count(\"[\")>0:\n",
    "                    title=title[:title.index('[')-1].strip()\n",
    "                if ifn.count(\"[\")>0 and ifn.count(\"]\")>0:\n",
    "                    series=ifn[ifn.index('[')+1:ifn.index(\"]\")].strip()\n",
    "                else:\n",
    "                    series=\"\"\n",
    "                res=[author,title,series,fn,f[f.index('\\\\')+1:-2],i[1],i[2]]\n",
    "                db.append(res)\n",
    "    save_obj(db, 'datas/dB')  \n",
    "len(db)"
   ]
  },
  {
   "cell_type": "code",
   "execution_count": null,
   "metadata": {
    "collapsed": false
   },
   "outputs": [],
   "source": [
    "db[1]\n"
   ]
  },
  {
   "cell_type": "code",
   "execution_count": null,
   "metadata": {
    "collapsed": false
   },
   "outputs": [],
   "source": [
    "def search(key,dbb):\n",
    "    \n",
    "    search=key.split()\n",
    "    res=[]\n",
    "    for it in dbb:\n",
    "        if all(it[0].lower().count(se.lower()+\"\")>0 for se in search if len(se)>1)or all(it[1].lower().count(se.lower()+\"\")>0 for se in search if len(se)>1) or all(it[2].lower().count(se.lower()+\"\")>0 for se in search if len(se)>1):\n",
    "            #if it[3].count(\" Part \")>0:\n",
    "            #    fol=it[3].replace('__','').strip().replace(' Part ','_Part_')\n",
    "            \n",
    "            fol=''.join(i for i in it[3] if i in string.digits+\"- \").strip()\n",
    "            #print fol\n",
    "            fil=it[4]\n",
    "            t=[fol,fil]\n",
    "            res.append(t)\n",
    "            #return res\n",
    "\n",
    "    return  res"
   ]
  },
  {
   "cell_type": "code",
   "execution_count": null,
   "metadata": {
    "collapsed": false
   },
   "outputs": [],
   "source": [
    "#db[-90000:-89000]"
   ]
  },
  {
   "cell_type": "code",
   "execution_count": null,
   "metadata": {
    "collapsed": false
   },
   "outputs": [],
   "source": [
    "result=search(\"tayler\",db)\n",
    "print len(result)\n",
    "result"
   ]
  },
  {
   "cell_type": "code",
   "execution_count": null,
   "metadata": {
    "collapsed": true
   },
   "outputs": [],
   "source": [
    "def findr(name, path):\n",
    "    #print name,path\n",
    "    res=!find $path -type f -iname $name\n",
    "    return res"
   ]
  },
  {
   "cell_type": "code",
   "execution_count": null,
   "metadata": {
    "collapsed": false
   },
   "outputs": [],
   "source": [
    "result[3][0].replace(\" \",\"*\"),findr(\"*\"+result[0][0].replace(\" \",\"*\")+\"*.rar*\",'/media/some/sam/dall/')"
   ]
  },
  {
   "cell_type": "code",
   "execution_count": null,
   "metadata": {
    "collapsed": false,
    "scrolled": true
   },
   "outputs": [],
   "source": [
    "foo=\"/home/some/erica/\"\n",
    "!mkdir \"$foo\"\n",
    "cnt=0\n",
    "for r in result:\n",
    " \n",
    "        found=r[0]\n",
    "        \n",
    "        found=\"*\"+r[0].replace(\"  \",\" \").replace(\" \",\"*\")+\"*.rar\"\n",
    "        fls=findr(found,'/media/some/sam/dall/')\n",
    "        #print found\n",
    "        if len(fls)>0:\n",
    "            for flss in fls:\n",
    "                rf = rarfile.RarFile(flss)\n",
    "                booFound=False\n",
    "                for f in rf.infolist():\n",
    "                    #print f.filename, f.file_size\n",
    "                    if f.filename.count(r[1])>0:\n",
    "                        cnt+=1\n",
    "                        booFound=True\n",
    "                        print cnt,\"- \",f.filename\n",
    "                        try:\n",
    "                            rf.extract(f,foo)\n",
    "                        except:\n",
    "                            print \"reading problem\",r[1],\"\"\n",
    "                        ft=foo+f.filename.split('\\\\')[1]\n",
    "                        fo=foo+f.filename.split('\\\\')[0]\n",
    "                        fn=fo+\"/\"+f.filename.split('\\\\')[1]\n",
    "                        os.rename(fn,ft) \n",
    "                        os.rmdir(fo)\n",
    "                if not booFound:\n",
    "                    print \"*couldnt find file\",r[0],r[1]\n",
    "                    \n",
    "    \n",
    "        else:\n",
    "            print \"couldnt find file  \",found\n",
    "    "
   ]
  },
  {
   "cell_type": "code",
   "execution_count": null,
   "metadata": {
    "collapsed": false
   },
   "outputs": [],
   "source": [
    "foo=\"/media/some/sam/download-ep\"\n",
    "try:\n",
    "    flst=load_obj('datas/alst')\n",
    "except:\n",
    "    flst=!find \"$foo\" -type f -iname \"*.*\"\n",
    "    save_obj(flst, 'datas/alst')\n",
    "len(flst)"
   ]
  },
  {
   "cell_type": "code",
   "execution_count": null,
   "metadata": {
    "collapsed": false
   },
   "outputs": [],
   "source": [
    "for fl in list(reversed(flst)):\n",
    "#fl=flst[0]\n",
    "    if os.path.exists(fl):\n",
    "        #flc=fl.replace(foo,'')\n",
    "        fp,fn=os.path.split(fl)\n",
    "        flc=fn\n",
    "\n",
    "        flc=''.join(s   if s in string.printable[10:62]+\" \" else \" \" for s in flc )\n",
    "        relst=[\"mobi\",\"pdf\",\"retail\",\"epub\",\"lit\",\"azw3\",' doc',' docx','rtf','done',\"txt\",' the ',' by ','htm','lrf','novel','volume',\"book\",'flac']\n",
    "        for w in relst:\n",
    "            flc=flc.replace(w,\" \")\n",
    "\n",
    "        found=search(flc,ind)\n",
    "        #print \"search=\",flc,\" found=\",found\n",
    "        if len(found)>0:\n",
    "            if os.path.exists(fl):\n",
    "                os.remove(fl)"
   ]
  },
  {
   "cell_type": "code",
   "execution_count": null,
   "metadata": {
    "collapsed": false
   },
   "outputs": [],
   "source": [
    "flc"
   ]
  },
  {
   "cell_type": "code",
   "execution_count": null,
   "metadata": {
    "collapsed": true
   },
   "outputs": [],
   "source": []
  }
 ],
 "metadata": {
  "kernelspec": {
   "display_name": "Python 2",
   "language": "python",
   "name": "python2"
  },
  "language_info": {
   "codemirror_mode": {
    "name": "ipython",
    "version": 2
   },
   "file_extension": ".py",
   "mimetype": "text/x-python",
   "name": "python",
   "nbconvert_exporter": "python",
   "pygments_lexer": "ipython2",
   "version": "2.7.12"
  }
 },
 "nbformat": 4,
 "nbformat_minor": 0
}
