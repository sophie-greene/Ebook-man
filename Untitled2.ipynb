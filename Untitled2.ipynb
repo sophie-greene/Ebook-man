{
 "cells": [
  {
   "cell_type": "code",
   "execution_count": 1,
   "metadata": {
    "collapsed": true
   },
   "outputs": [],
   "source": [
    "from ebooklib import epub\n",
    "import os\n",
    "from multiprocessing import Pool\n",
    "import time\n",
    "#from bs4 import BeautifulSoup\n",
    "#import urllib2\n",
    "import string"
   ]
  },
  {
   "cell_type": "code",
   "execution_count": 6,
   "metadata": {
    "collapsed": false
   },
   "outputs": [
    {
     "data": {
      "text/plain": [
       "24"
      ]
     },
     "execution_count": 6,
     "metadata": {},
     "output_type": "execute_result"
    }
   ],
   "source": [
    "d=\"/home/some/ziprar/\"\n",
    "files=!find $d -type f -iname \"*.zip\" #\"*.mobi\"  -o -iname \"*.chm\" -o -iname \"*.lit\" -o -iname \"*.azw3\"\n",
    "len(files)"
   ]
  },
  {
   "cell_type": "code",
   "execution_count": 3,
   "metadata": {
    "collapsed": false
   },
   "outputs": [],
   "source": [
    "!cd /home/some/repo/"
   ]
  },
  {
   "cell_type": "code",
   "execution_count": 10,
   "metadata": {
    "collapsed": false,
    "scrolled": true
   },
   "outputs": [
    {
     "name": "stdout",
     "output_type": "stream",
     "text": [
      "/home/some/ziprar/amanda mcnabe-shy duchess.zip\n",
      "['/tmp/amandamcnabe-shyduchess']\n",
      "/home/some/ziprar/Patricia Frances Rowell - An Impetuous Abduction.zip\n",
      "['/tmp/PatriciaFrancesRowell-AnImpetuousAbduction']\n",
      "/home/some/ziprar/Sarah Mallory - More Than a Governess.zip\n",
      "['/tmp/SarahMallory-MoreThanaGoverness']\n",
      "/home/some/ziprar/Susan Stephens - The Prince's Arranged Bride (html).zip\n",
      "[\"/tmp/SusanStephens-ThePrince'sArrangedBride(html)\"]\n",
      "/home/some/ziprar/Debra Lee Brown - Ice Maiden.zip\n",
      "['/tmp/DebraLeeBrown-IceMaiden']\n",
      "/home/some/ziprar/Grey_ India - The Society Wife.zip\n",
      "['/tmp/Grey_India-TheSocietyWife']\n",
      "/home/some/ziprar/Ally Blake - Nights of Passion - A Night with the Society Playboy (html).zip\n",
      "['/tmp/AllyBlake-NightsofPassion-ANightwiththeSocietyPlayboy(html)']\n",
      "/home/some/ziprar/Paula Marshall - Jack Compton's Luck.zip\n",
      "[\"/tmp/PaulaMarshall-JackCompton'sLuck\"]\n",
      "Traceback (most recent call last):\n",
      "  File \"/usr/bin/ebook-convert\", line 20, in <module>\n",
      "    sys.exit(main())\n",
      "  File \"/usr/lib/calibre/calibre/ebooks/conversion/cli.py\", line 380, in main\n",
      "    plumber.run()\n",
      "  File \"/usr/lib/calibre/calibre/ebooks/conversion/plumber.py\", line 1057, in run\n",
      "    accelerators, tdir)\n",
      "  File \"/usr/lib/calibre/calibre/customize/conversion.py\", line 241, in __call__\n",
      "    log, accelerators)\n",
      "  File \"/usr/lib/calibre/calibre/ebooks/conversion/plugins/html_input.py\", line 83, in convert\n",
      "    encoding=opts.input_encoding)\n",
      "  File \"/usr/lib/calibre/calibre/ebooks/conversion/plumber.py\", line 1255, in create_oebbook\n",
      "    reader()(oeb, path_or_stream)\n",
      "  File \"/usr/lib/calibre/calibre/ebooks/oeb/reader.py\", line 71, in __call__\n",
      "    self._all_from_opf(opf)\n",
      "  File \"/usr/lib/calibre/calibre/ebooks/oeb/reader.py\", line 696, in _all_from_opf\n",
      "    self._spine_from_opf(opf)\n",
      "  File \"/usr/lib/calibre/calibre/ebooks/oeb/reader.py\", line 343, in _spine_from_opf\n",
      "    raise OEBError(\"Spine is empty\")\n",
      "calibre.ebooks.oeb.base.OEBError: Spine is empty\n",
      "/home/some/ziprar/Master of Bella Terra by Christina Hollis.zip\n",
      "['/tmp/MasterofBellaTerrabyChristinaHollis']\n",
      "/home/some/ziprar/Sara Craven - Bride of Desire.zip\n",
      "['/tmp/SaraCraven-BrideofDesire']\n",
      "/home/some/ziprar/Anne Herries - The Lords Forced Bride.zip\n",
      "['/tmp/AnneHerries-TheLordsForcedBride']\n",
      "/home/some/ziprar/Cheryl St. John - Her Montana Man.zip\n",
      "['/tmp/CherylSt.John-HerMontanaMan']\n",
      "/home/some/ziprar/Sandra Marton - Sheikh Tycoons 2 - The Sheikh's Wayward Wife (html).zip\n",
      "[\"/tmp/SandraMarton-SheikhTycoons2-TheSheikh'sWaywardWife(html)\"]\n",
      "/home/some/ziprar/Susan Stephans - Housekeeper at His Beck and Call (html).zip\n",
      "['/tmp/SusanStephans-HousekeeperatHisBeckandCall(html)']\n",
      "Traceback (most recent call last):\n",
      "  File \"/usr/bin/ebook-convert\", line 20, in <module>\n",
      "    sys.exit(main())\n",
      "  File \"/usr/lib/calibre/calibre/ebooks/conversion/cli.py\", line 380, in main\n",
      "    plumber.run()\n",
      "  File \"/usr/lib/calibre/calibre/ebooks/conversion/plumber.py\", line 1057, in run\n",
      "    accelerators, tdir)\n",
      "  File \"/usr/lib/calibre/calibre/customize/conversion.py\", line 241, in __call__\n",
      "    log, accelerators)\n",
      "  File \"/usr/lib/calibre/calibre/ebooks/conversion/plugins/html_input.py\", line 83, in convert\n",
      "    encoding=opts.input_encoding)\n",
      "  File \"/usr/lib/calibre/calibre/ebooks/conversion/plumber.py\", line 1255, in create_oebbook\n",
      "    reader()(oeb, path_or_stream)\n",
      "  File \"/usr/lib/calibre/calibre/ebooks/oeb/reader.py\", line 71, in __call__\n",
      "    self._all_from_opf(opf)\n",
      "  File \"/usr/lib/calibre/calibre/ebooks/oeb/reader.py\", line 696, in _all_from_opf\n",
      "    self._spine_from_opf(opf)\n",
      "  File \"/usr/lib/calibre/calibre/ebooks/oeb/reader.py\", line 343, in _spine_from_opf\n",
      "    raise OEBError(\"Spine is empty\")\n",
      "calibre.ebooks.oeb.base.OEBError: Spine is empty\n",
      "/home/some/ziprar/Elizabeth Beacon - An Innocent Courtesan.zip\n",
      "['/tmp/ElizabethBeacon-AnInnocentCourtesan']\n",
      "/home/some/ziprar/Blythe Gifford - Innocence Unveiled.zip\n",
      "['/tmp/BlytheGifford-InnocenceUnveiled']\n",
      "/home/some/ziprar/Robyn Donald - The Rich Man´s Blackmailed Mistress.zip\n",
      "['/tmp/RobynDonald-TheRichMan\\xc2\\xb4sBlackmailedMistress']\n",
      "/home/some/ziprar/Meriel Fuller - Conquest Bride.zip\n",
      "['/tmp/MerielFuller-ConquestBride']\n",
      "/home/some/ziprar/LGram - AStoGreekMage.zip\n",
      "['/tmp/LGram-AStoGreekMage']\n",
      "/home/some/ziprar/Deborah Simmons - The Marchants 01 - Dark Viscount.zip\n",
      "['/tmp/DeborahSimmons-TheMarchants01-DarkViscount']\n",
      "Traceback (most recent call last):\n",
      "  File \"/usr/bin/ebook-convert\", line 20, in <module>\n",
      "    sys.exit(main())\n",
      "  File \"/usr/lib/calibre/calibre/ebooks/conversion/cli.py\", line 380, in main\n",
      "    plumber.run()\n",
      "  File \"/usr/lib/calibre/calibre/ebooks/conversion/plumber.py\", line 1057, in run\n",
      "    accelerators, tdir)\n",
      "  File \"/usr/lib/calibre/calibre/customize/conversion.py\", line 241, in __call__\n",
      "    log, accelerators)\n",
      "  File \"/usr/lib/calibre/calibre/ebooks/conversion/plugins/html_input.py\", line 83, in convert\n",
      "    encoding=opts.input_encoding)\n",
      "  File \"/usr/lib/calibre/calibre/ebooks/conversion/plumber.py\", line 1255, in create_oebbook\n",
      "    reader()(oeb, path_or_stream)\n",
      "  File \"/usr/lib/calibre/calibre/ebooks/oeb/reader.py\", line 71, in __call__\n",
      "    self._all_from_opf(opf)\n",
      "  File \"/usr/lib/calibre/calibre/ebooks/oeb/reader.py\", line 696, in _all_from_opf\n",
      "    self._spine_from_opf(opf)\n",
      "  File \"/usr/lib/calibre/calibre/ebooks/oeb/reader.py\", line 343, in _spine_from_opf\n",
      "    raise OEBError(\"Spine is empty\")\n",
      "calibre.ebooks.oeb.base.OEBError: Spine is empty\n",
      "/home/some/ziprar/Julia Byrne - Scandal and Miss Smith.zip\n",
      "['/tmp/JuliaByrne-ScandalandMissSmith']\n",
      "/home/some/ziprar/Sophia James - The Border Lord.zip\n",
      "['/tmp/SophiaJames-TheBorderLord']\n",
      "Traceback (most recent call last):\n",
      "  File \"/usr/bin/ebook-convert\", line 20, in <module>\n",
      "    sys.exit(main())\n",
      "  File \"/usr/lib/calibre/calibre/ebooks/conversion/cli.py\", line 380, in main\n",
      "    plumber.run()\n",
      "  File \"/usr/lib/calibre/calibre/ebooks/conversion/plumber.py\", line 1057, in run\n",
      "    accelerators, tdir)\n",
      "  File \"/usr/lib/calibre/calibre/customize/conversion.py\", line 241, in __call__\n",
      "    log, accelerators)\n",
      "  File \"/usr/lib/calibre/calibre/ebooks/conversion/plugins/html_input.py\", line 83, in convert\n",
      "    encoding=opts.input_encoding)\n",
      "  File \"/usr/lib/calibre/calibre/ebooks/conversion/plumber.py\", line 1255, in create_oebbook\n",
      "    reader()(oeb, path_or_stream)\n",
      "  File \"/usr/lib/calibre/calibre/ebooks/oeb/reader.py\", line 71, in __call__\n",
      "    self._all_from_opf(opf)\n",
      "  File \"/usr/lib/calibre/calibre/ebooks/oeb/reader.py\", line 696, in _all_from_opf\n",
      "    self._spine_from_opf(opf)\n",
      "  File \"/usr/lib/calibre/calibre/ebooks/oeb/reader.py\", line 343, in _spine_from_opf\n",
      "    raise OEBError(\"Spine is empty\")\n",
      "calibre.ebooks.oeb.base.OEBError: Spine is empty\n",
      "/home/some/ziprar/Sarah Morgan - Sicilian Doctor's Mistress (html).zip\n",
      "[\"/tmp/SarahMorgan-SicilianDoctor'sMistress(html)\"]\n",
      "/home/some/ziprar/Carole Morinelli - Spanish Doctor Pregnant Nurse (html).zip\n",
      "['/tmp/CaroleMorinelli-SpanishDoctorPregnantNurse(html)']\n"
     ]
    }
   ],
   "source": [
    "for f in files:\n",
    "    print(f)\n",
    "    convertrar(f)"
   ]
  },
  {
   "cell_type": "code",
   "execution_count": 9,
   "metadata": {
    "collapsed": false,
    "scrolled": true
   },
   "outputs": [],
   "source": [
    "def convertrar(f):\n",
    "    fp,fn=os.path.split(f)\n",
    "    n, ext = os.path.splitext(fn)\n",
    "    t=fp+\"/\"+n+\".epub\"\n",
    "    tmp=\"/tmp/\"+''.join(n.split())\n",
    "    !mkdir \"$tmp\"\n",
    "    cdir=!pwd\n",
    "    os.chdir (tmp)\n",
    "    cur=!pwd\n",
    "    print(cur)\n",
    "    !unzip  \"$f\" >>/dev/null\n",
    "    opf=!find \"$tmp\" -type f -iname \"*.opf\"\n",
    "    if len(opf)>0:\n",
    "        for o in opf:\n",
    "            !ebook-convert \"$o\" \"$t\">>/dev/null\n",
    "    else:\n",
    "        htm=!find -type f -iname \"*.htm\" -o -iname \"*.html\"\n",
    "        if len(htm)==1:\n",
    "            h=htm[0]\n",
    "            !ebook-convert \"$h\" \"$t\" >>/dev/null\n",
    "        else:\n",
    "            mobis=!find \"$tmp\" -type f -iname \"*.mobi\" -o -iname \"*.prc\"  -o -iname \"*.chm\" -o -iname \"*.lit\" -o -iname \"*.azw3\"\n",
    "            if len(mobis)==1:\n",
    "                mb=mobis[0]\n",
    "                !ebook-convert \"$mb\" \"$t\" >>/dev/null\n",
    "\n",
    "\n",
    "\n",
    "    os.chdir(cdir[0])\n",
    "    #!rm -r \"$tmp\"\n",
    "    "
   ]
  },
  {
   "cell_type": "code",
   "execution_count": null,
   "metadata": {
    "collapsed": false
   },
   "outputs": [],
   "source": [
    "fp+\"/\"+n+\".epub\""
   ]
  },
  {
   "cell_type": "code",
   "execution_count": null,
   "metadata": {
    "collapsed": false
   },
   "outputs": [],
   "source": [
    "tmp\n"
   ]
  },
  {
   "cell_type": "code",
   "execution_count": 21,
   "metadata": {
    "collapsed": false
   },
   "outputs": [
    {
     "data": {
      "text/plain": [
       "0"
      ]
     },
     "execution_count": 21,
     "metadata": {},
     "output_type": "execute_result"
    }
   ],
   "source": [
    "tmp=\"/media/some/sophie-hhd/books/thrill/\"\n",
    "mobis=!find \"$tmp\" -type f -iname \"*.mobi\" -o -iname \"*.prc\"  -o -iname \"*.chm\" -o -iname \"*.lit\" -o -iname \"*.azw3\"\n",
    "len(mobis)  \n"
   ]
  },
  {
   "cell_type": "code",
   "execution_count": 32,
   "metadata": {
    "collapsed": false
   },
   "outputs": [
    {
     "data": {
      "text/plain": [
       "30"
      ]
     },
     "execution_count": 32,
     "metadata": {},
     "output_type": "execute_result"
    }
   ],
   "source": [
    "mobis=!find \"$tmp\" -type f  -iname \"*.htm\"\n",
    "len(mobis)  \n"
   ]
  },
  {
   "cell_type": "code",
   "execution_count": 33,
   "metadata": {
    "collapsed": false,
    "scrolled": true
   },
   "outputs": [
    {
     "name": "stdout",
     "output_type": "stream",
     "text": [
      "/media/some/sophie-hhd/books/thrill/Stephanie Bond - Voodoo 2 - Finding Your Mojo.htm   /media/some/sophie-hhd/books/thrill/Stephanie Bond - Voodoo 2 - Finding Your Mojo.epub\n",
      "/media/some/sophie-hhd/books/thrill/Stephanie Bond - Body Movers 2 - 2 Bodies for the Price of O.htm   /media/some/sophie-hhd/books/thrill/Stephanie Bond - Body Movers 2 - 2 Bodies for the Price of O.epub\n",
      "/media/some/sophie-hhd/books/thrill/Kate Hoffmann  - [The Mighty Quinns 07] - Sean.htm   /media/some/sophie-hhd/books/thrill/Kate Hoffmann  - [The Mighty Quinns 07] - Sean.epub\n",
      "/media/some/sophie-hhd/books/thrill/Cara Elliott - To Surrender to a Rogue.htm   /media/some/sophie-hhd/books/thrill/Cara Elliott - To Surrender to a Rogue.epub\n",
      "/media/some/sophie-hhd/books/thrill/Victoria Dahl - A Little Bit Wild.htm   /media/some/sophie-hhd/books/thrill/Victoria Dahl - A Little Bit Wild.epub\n",
      "/media/some/sophie-hhd/books/thrill/Darlene Marshell - The Bride and the Buccaneer.htm   /media/some/sophie-hhd/books/thrill/Darlene Marshell - The Bride and the Buccaneer.epub\n",
      "/media/some/sophie-hhd/books/thrill/Judith James - Libertine's Kiss.htm   /media/some/sophie-hhd/books/thrill/Judith James - Libertine's Kiss.epub\n",
      "/media/some/sophie-hhd/books/thrill/Catherine Mann -  Printable Book List.htm   /media/some/sophie-hhd/books/thrill/Catherine Mann -  Printable Book List.epub\n",
      "/media/some/sophie-hhd/books/thrill/Sydney Croft - ACRO 03 - Seduced by the Storm.htm   /media/some/sophie-hhd/books/thrill/Sydney Croft - ACRO 03 - Seduced by the Storm.epub\n",
      "/media/some/sophie-hhd/books/thrill/Sydney Croft - ACRO 01 - Riding the Storm.htm   /media/some/sophie-hhd/books/thrill/Sydney Croft - ACRO 01 - Riding the Storm.epub\n",
      "/media/some/sophie-hhd/books/thrill/Sydney Croft - ACRO 02 - Unleashing the Storm.htm   /media/some/sophie-hhd/books/thrill/Sydney Croft - ACRO 02 - Unleashing the Storm.epub\n",
      "/media/some/sophie-hhd/books/thrill/Sydney Croft - ACRO 04 - Taming the Fire.htm   /media/some/sophie-hhd/books/thrill/Sydney Croft - ACRO 04 - Taming the Fire.epub\n",
      "/media/some/sophie-hhd/books/thrill/Jill Shalvis - Single Novels  - Get a Clue.htm   /media/some/sophie-hhd/books/thrill/Jill Shalvis - Single Novels  - Get a Clue.epub\n",
      "/media/some/sophie-hhd/books/thrill/Alison Kent - Bound to Happen.htm   /media/some/sophie-hhd/books/thrill/Alison Kent - Bound to Happen.epub\n",
      "/media/some/sophie-hhd/books/thrill/PennyJordan-CaptiveAttheSicilianBillionairesCommand.htm   /media/some/sophie-hhd/books/thrill/PennyJordan-CaptiveAttheSicilianBillionairesCommand.epub\n",
      "/media/some/sophie-hhd/books/thrill/Taken Beyond Temptation - Cara Summers.htm   /media/some/sophie-hhd/books/thrill/Taken Beyond Temptation - Cara Summers.epub\n",
      "/media/some/sophie-hhd/books/thrill/Indiscretions - Lori Borrill.htm   /media/some/sophie-hhd/books/thrill/Indiscretions - Lori Borrill.epub\n",
      "/media/some/sophie-hhd/books/thrill/Seductions and a Wedding - Julie Leto.htm   /media/some/sophie-hhd/books/thrill/Seductions and a Wedding - Julie Leto.epub\n",
      "/media/some/sophie-hhd/books/thrill/Wanted! - Vicki Lewis Thompson.htm   /media/some/sophie-hhd/books/thrill/Wanted! - Vicki Lewis Thompson.epub\n",
      "/media/some/sophie-hhd/books/thrill/The Ranger - Rhonda Nelson.htm   /media/some/sophie-hhd/books/thrill/The Ranger - Rhonda Nelson.epub\n",
      "/media/some/sophie-hhd/books/thrill/The Sexy Devil - Kate Hoffmann.htm   /media/some/sophie-hhd/books/thrill/The Sexy Devil - Kate Hoffmann.epub\n",
      "/media/some/sophie-hhd/books/thrill/KateHardy-PlayboyBossPregnancyofPassion.htm   /media/some/sophie-hhd/books/thrill/KateHardy-PlayboyBossPregnancyofPassion.epub\n",
      "/media/some/sophie-hhd/books/thrill/RobynDonald-InnocentMistressRoyalWife.htm   /media/some/sophie-hhd/books/thrill/RobynDonald-InnocentMistressRoyalWife.epub\n",
      "/media/some/sophie-hhd/books/thrill/The Count of Castelfino.htm   /media/some/sophie-hhd/books/thrill/The Count of Castelfino.epub\n",
      "/media/some/sophie-hhd/books/thrill/Hired for the Boss's Bedroom.htm   /media/some/sophie-hhd/books/thrill/Hired for the Boss's Bedroom.epub\n",
      "/media/some/sophie-hhd/books/thrill/Scandal His Majesty's Love-Child.htm   /media/some/sophie-hhd/books/thrill/Scandal His Majesty's Love-Child.epub\n",
      "/media/some/sophie-hhd/books/thrill/Ruling Sheikh, Unruly Mistress.htm   /media/some/sophie-hhd/books/thrill/Ruling Sheikh, Unruly Mistress.epub\n",
      "/media/some/sophie-hhd/books/thrill/The Virgin's Secret.htm   /media/some/sophie-hhd/books/thrill/The Virgin's Secret.epub\n",
      "/media/some/sophie-hhd/books/thrill/The Shy Bride.htm   /media/some/sophie-hhd/books/thrill/The Shy Bride.epub\n",
      "/media/some/sophie-hhd/books/thrill/Mistress; At What Price.htm   /media/some/sophie-hhd/books/thrill/Mistress; At What Price.epub\n"
     ]
    }
   ],
   "source": [
    "for m in mobis:\n",
    "    fp,fn=os.path.split(m)\n",
    "    n, ext = os.path.splitext(fn)\n",
    "    nm=fp+\"/\"+n+\".epub\"\n",
    "    print m,\" \",nm\n",
    "    if os.path.exists(nm):\n",
    "        os.remove(m)\n",
    "    else:\n",
    "        !ebook-convert \"$m\" \"$nm\" >>/dev/null 2>>/dev/null\n",
    "        os.remove(m)"
   ]
  },
  {
   "cell_type": "code",
   "execution_count": null,
   "metadata": {
    "collapsed": true
   },
   "outputs": [],
   "source": []
  }
 ],
 "metadata": {
  "kernelspec": {
   "display_name": "Python 2",
   "language": "python",
   "name": "python2"
  },
  "language_info": {
   "codemirror_mode": {
    "name": "ipython",
    "version": 2
   },
   "file_extension": ".py",
   "mimetype": "text/x-python",
   "name": "python",
   "nbconvert_exporter": "python",
   "pygments_lexer": "ipython2",
   "version": "2.7.11+"
  }
 },
 "nbformat": 4,
 "nbformat_minor": 0
}
